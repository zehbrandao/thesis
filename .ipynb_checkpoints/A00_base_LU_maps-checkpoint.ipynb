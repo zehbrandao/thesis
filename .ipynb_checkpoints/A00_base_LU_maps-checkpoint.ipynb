{
 "cells": [
  {
   "cell_type": "markdown",
   "id": "c0efbef3-7344-4990-9d68-25d026579dc7",
   "metadata": {},
   "source": [
    "This script takes land use data for the municipality of Belo Horizonte and regroups the original categories into simpler, more aggregate categories. The level of disaggregation present in the original data not only is unnecessary, for the purposes of the Thesis, but it would add up to a higher level of complications and noise, not the mention the more elevated computational costs.\n",
    "\n",
    "Then, land use geometries are parsed into a grid of Uber's H3 Hexagons of resolution that is akin to the area of the median parcel in belo Horizonte municipality. These hexagons also contain populational counts and income as per the 2010 Census.\n",
    "\n",
    "The script has at first been written with the 2017 land use map, which was readily available online. Afterwards, the years 2011, 2018, and 2020 maps are parsed into hexagons using the same functions but with some minor tunings."
   ]
  },
  {
   "cell_type": "markdown",
   "id": "2745d30b-de97-45f4-82f7-0be39ffd4d61",
   "metadata": {},
   "source": [
    "# Land Use Maps for 2017"
   ]
  },
  {
   "cell_type": "code",
   "execution_count": null,
   "id": "c330d0f5-6b0b-4f49-adcf-c1078103a55a",
   "metadata": {},
   "outputs": [],
   "source": [
    "import os\n",
    "import pathlib\n",
    "import re\n",
    "\n",
    "import numpy as np\n",
    "import pandas as pd\n",
    "import geopandas as gpd\n",
    "import matplotlib.pyplot as plt\n",
    "import seaborn as sns\n",
    "\n",
    "from geobr import read_municipality\n",
    "from h3census.assemble import get_hexagons_with_census_data\n",
    "from matplotlib.patches import Patch\n",
    "\n",
    "%matplotlib inline\n",
    "%config InlineBackend.figure_format='retina'"
   ]
  },
  {
   "cell_type": "markdown",
   "id": "50483185-c4bb-4257-840d-475852fffcc1",
   "metadata": {},
   "source": [
    "## Preliminaries"
   ]
  },
  {
   "cell_type": "markdown",
   "id": "a49e8f4e-6126-4e48-bf5c-11e1f3a47c7a",
   "metadata": {},
   "source": [
    "### Parent Folders"
   ]
  },
  {
   "cell_type": "markdown",
   "id": "63579773-4de9-433d-99df-1cfbf43c829f",
   "metadata": {},
   "source": [
    "These should of course be adjusted to reflect the appropriate locations in your disk or wherever"
   ]
  },
  {
   "cell_type": "code",
   "execution_count": null,
   "id": "1cb91dce-f60f-454e-aa80-6790194e97e4",
   "metadata": {},
   "outputs": [],
   "source": [
    "out_folder = os.environ.get('OUT_FOLDER')\n",
    "out_folder = pathlib.Path(out_folder)\n",
    "out_folder = out_folder / 'A'\n",
    "\n",
    "db_folder = os.environ.get('DB_FOLDER')\n",
    "db_folder = pathlib.Path(db_folder)"
   ]
  },
  {
   "cell_type": "markdown",
   "id": "71e96243-5f8a-4152-a2dc-b4f62c4ed302",
   "metadata": {},
   "source": [
    "### General Purpose"
   ]
  },
  {
   "cell_type": "code",
   "execution_count": null,
   "id": "1a3b86fa-a10b-43e6-b63b-fc9588857d74",
   "metadata": {},
   "outputs": [],
   "source": [
    "def _get_zipped_path_for_gpd(path):\n",
    "    \"\"\"This gets a full path for a zipped shp file and parses it\n",
    "    into a structure that gpd.read_file() understands.\n",
    "    \"\"\"\n",
    "    prefix = r'zip://'\n",
    "    \n",
    "    try:\n",
    "        path = prefix + path.as_posix()\n",
    "    except:\n",
    "        path = pathlib.PureWindowsPath(path)\n",
    "        path = prefix + path.as_posix()\n",
    "        \n",
    "    return path"
   ]
  },
  {
   "cell_type": "markdown",
   "id": "631d0252-159e-4486-8c86-378a5768635f",
   "metadata": {},
   "source": [
    "## Getting Land Use Data"
   ]
  },
  {
   "cell_type": "markdown",
   "id": "4e43cb84-eb03-4ba7-a14f-6ec04647908c",
   "metadata": {},
   "source": [
    "data source: http://bhmap.pbh.gov.br"
   ]
  },
  {
   "cell_type": "code",
   "execution_count": null,
   "id": "9ed1d389-25eb-43e7-9a6f-abc180d893fc",
   "metadata": {},
   "outputs": [],
   "source": [
    "def get_geodata(path, is_zipped=True):\n",
    "    \"\"\"Takes either a full raw string path os a pathlib's pure windows\n",
    "    path and uses it to return a shapefile. It also makes the necessary\n",
    "    adjustments to read shapefiles compressed into a .zip file.\n",
    "    \"\"\"    \n",
    "    if is_zipped:\n",
    "        path = _get_zipped_path_for_gpd(path)\n",
    "            \n",
    "    return gpd.read_file(path)"
   ]
  },
  {
   "cell_type": "markdown",
   "id": "a4f222cf-ed60-40b4-a892-3ace1a82be9d",
   "metadata": {},
   "source": [
    "## Initial Exploration and Preliminary Wrangling"
   ]
  },
  {
   "cell_type": "code",
   "execution_count": null,
   "id": "f75a5504-fa77-4543-8b0d-7cb3b43c73ec",
   "metadata": {},
   "outputs": [],
   "source": [
    "path = db_folder / 'beaga/tipologia_uso_ocupacao/uso_ocup_2017.zip'\n",
    "\n",
    "land_uses = get_geodata(path)\n",
    "\n",
    "# some later operations don't handle well a mix of Polygons and MultyPolygons\n",
    "land_uses = land_uses.explode()\n",
    "land_uses.reset_index(drop=True, inplace=True)"
   ]
  },
  {
   "cell_type": "code",
   "execution_count": null,
   "id": "7673d601-c9df-402d-86ea-d400ef5f5450",
   "metadata": {},
   "outputs": [],
   "source": [
    "land_uses.head(2)"
   ]
  },
  {
   "cell_type": "code",
   "execution_count": null,
   "id": "88551cf2-7bd6-4651-8efc-55abf055fef8",
   "metadata": {},
   "outputs": [],
   "source": [
    "print(land_uses.crs)"
   ]
  },
  {
   "cell_type": "code",
   "execution_count": null,
   "id": "ecb6f1f9-1253-471c-b6f7-ee8e6ff1c5cf",
   "metadata": {},
   "outputs": [],
   "source": [
    "new_names = {'TIPOLOGIA_': 'type', 'TIPOLOGIA0': 'category'}\n",
    "land_uses.rename(columns=new_names, inplace=True)\n",
    "\n",
    "to_keep = ['type', 'category', 'geometry']\n",
    "land_uses = land_uses.reindex(columns=to_keep)\n",
    "\n",
    "del new_names, to_keep"
   ]
  },
  {
   "cell_type": "code",
   "execution_count": null,
   "id": "3c23209d-dc1b-4d97-9320-fb8d27573d7b",
   "metadata": {},
   "outputs": [],
   "source": [
    "number_of_parcels = len(land_uses)\n",
    "land_uses['type'].value_counts() / number_of_parcels * 100"
   ]
  },
  {
   "cell_type": "code",
   "execution_count": null,
   "id": "95754980-0ae3-4ba6-9d8d-f3288133afb1",
   "metadata": {},
   "outputs": [],
   "source": [
    "land_uses.category.value_counts() / number_of_parcels * 100"
   ]
  },
  {
   "cell_type": "markdown",
   "id": "abe6ec31-2500-4af8-9bec-e4f7dce9b156",
   "metadata": {},
   "source": [
    "**The regrouping of land uses aims at reducing the number of categories by bringing together like things that are apart for some reason. The rationale below refers to the 2017 land use map and it might (and probably will) be at least slightly different for the other years.**\n",
    "\n",
    "- Most instances are straightforward, such as 'casa unifamiliar', for example, which clearly is residential; or such as 'edificio de uso comercial e/ou servicos' which is obviously retail/services.\n",
    "\n",
    "- There were cases in which discordant classifications were residual. Hence, the residuals have been put together along with the majority class. For example, there are 6 mixed use parcels of 'edificio' amidst a sea of 16009 residential parcels.\n",
    "\n",
    "- Mixed uses presented a difficulty as well because the classical model deals with discrete classifications only. There are models that allow for some fuzzy classification, which means that a cell can go from fully residential to completely commercial, while being able to assume any percentual balance in between those extremes. Unfortunatelly, to the best of my knowledge, such models seem still incipient and displaying some perks that I don't think are for me to solve (at least not now). Hence, I chose to create a 'mixed' category and leave it at that. After some future experimentations, I might choose to place it either under retail/services or under residential.\n",
    "\n",
    "- All parcels containing any kind of (a) club or public goods, and of (b) public facilities, amenities or infrastructures have been considered static and are all labeled as ***public***\n",
    "\n",
    "- 'edificação sem tipologia especificada' was assumed to be residential, because:\n",
    "    - For any given lot, the highest probability is that it is residential;\n",
    "    - In the brazilian context, there is plenty of illegal land ocupation due to favelas and whatnot;\n",
    "    - I assumed it is harder for commercial activity to function without registry in the tax records.\n",
    "    \n",
    "**A minor number of instances require a slightly more detailed analysis, which here means that a proper reclassification required a simultaneous analysis of 'type' and 'category' attributes. Specifically:**\n",
    "\n",
    "- There are two land use categories that are unclear in of themselves ('ocupação diversificada', 'vaga residencial ou comercial') these have been classified with the aid of _reclassify_with_scrutiny() function.\n",
    "\n",
    "- 'galpao' at first seemed obviously related to the industrial sector, but a closer look at its spatial distribution, along with a couple checks in Google maps, made it seem otherwise. It did not seem, for the most part, related to heavy industry, specially the parcels of this category that were placed within the city's core and along its major roads. Hence, for the time being, it was placed under either retail/services or mixed, until some later analysis reveals otherwise, if such a thing is revealed at all. The choice between mixed and retail/services is made within _reclassify_with_scrutiny().\n",
    "\n",
    "**Finally, the following category required a method that was a bit more thorough:**\n",
    "\n",
    "- 'sem informacao' refers to all parcels without registry at the municipal treasury. To gain better insight, I performed a quick and coarse visual inspection with the aid of (a) OpenStreetMaps, (b) Google Maps, and (c) other auxilliary data. That seemed to support the reasoning that this category could be divided thus:\n",
    "    - First, parcels are evaluated against the 2018 urban footprint: those that are not completely contained within the footprint are considered vacant land. The year 2018 was chosen because its the closest year available that was found at the time of wrting.\n",
    "    - Second, there are parcels that mostly coincide with the footprints of the subnormal agglomerates - see note below -  in the municipality, as per data retrieved both at IBGE and at Belo Horizonte City Hall. Those are to be labeled subnormal, but probably will be joined together with residential in a later step of the analysis.\n",
    "    - Third, the two above procedures still leave the data with a quite representative amount of unknowns, and if even BH city hall could not gather enough information on what happens at those places, it seems reasonable to assume, for the time being, that they simply are functional voids."
   ]
  },
  {
   "cell_type": "markdown",
   "id": "af099e05-7f4f-400f-aaaa-1e1e271a6999",
   "metadata": {},
   "source": [
    "**NOTE:**\n",
    "\n",
    "A subnormal agglomerate is a form of irregular occupation of land – either public or private - owned by a third party, for housing purposes in urban areas, usually characterized by an irregular urban pattern, with scarce essential public services and located in areas not proper or allowed for housing use.  In Brazil, those irregular settlements are known by the names of favelas, invaded areas, slums in deep valleys, slums in low-lands, communities, villages, slums in backwaters, irregular lots, shacks and stilt houses"
   ]
  },
  {
   "cell_type": "code",
   "execution_count": null,
   "id": "df90c8cb-c695-43cd-a668-bbf9d611567b",
   "metadata": {},
   "outputs": [],
   "source": [
    "regrouping_2017 = {\n",
    "    'active': {\n",
    "        'residential': ['casa unifamiliar',\n",
    "                        'edificio', \n",
    "                        'conjunto multifamiliar vertical',\n",
    "                        'conjunto multifamiliar horizontal',\n",
    "                        'edificação sem tipologia especificada',],\n",
    "        \n",
    "        'retail/services': ['loja ou conjunto de lojas',\n",
    "                            'edificio de uso comercial e/ou servicos',\n",
    "                            'loja em edificio/galeria',\n",
    "                            'shopping center',\n",
    "                            'galeria/mini shopping de bairro',\n",
    "                            'apart hotel',],\n",
    "        # TO DO: settle approach towards mixed uses\n",
    "        'mixed': ['casa/sobrado',\n",
    "                  'edificio residencial e comercio e/ou servicos',]\n",
    "                },\n",
    "\n",
    "     'passive': { \n",
    "         'vacant': ['lote vago',]\n",
    "                 },\n",
    "\n",
    "     'static': {\n",
    "         'industry': ['industria',],\n",
    "         \n",
    "         'public': ['instituicao de ensino',\n",
    "                    'equipamento de saude',\n",
    "                    'instituicao religiosa',\n",
    "                    'cemiterio',\n",
    "                    'parque',\n",
    "                    'clubes esportivos e sociais',\n",
    "                    'estadio/ginasio',\n",
    "                    'aterro sanitario',\n",
    "                    'estacao de transporte coletivo',\n",
    "                    'aeroporto',],\n",
    "               }\n",
    "}"
   ]
  },
  {
   "cell_type": "code",
   "execution_count": null,
   "id": "f9571932-fb69-469c-877c-eaa617ea4e6c",
   "metadata": {},
   "outputs": [],
   "source": [
    "def reclassify_with_scrutiny(gdf):\n",
    "    \"\"\"Deals with some perks that seem too specific for generalization.\n",
    "    Handles instances in which TIPOLOGIA0 may be more accurately placed\n",
    "    when analyzed together with TIPOLOGIA_\n",
    "    \n",
    "    NOTE: function's name is an exaggeration\n",
    "    \"\"\"\n",
    "    # 'ocupação diversificada'\n",
    "    # ----------------------\n",
    "    mask_a = gdf.category=='ocupação diversificada'\n",
    "    mask_b = gdf['type'].isin(['RESIDENCIAL', 'RESIDENCIAL+LOTE VAGO'])\n",
    "    mask_c = gdf['type'].isin(['MISTO', 'MISTO + LOTE VAGO'])\n",
    "    \n",
    "    full_mask = mask_a & mask_b\n",
    "    gdf.loc[full_mask,'category'] = 'residential'\n",
    "    \n",
    "    full_mask = mask_a & mask_c\n",
    "    gdf.loc[full_mask,'category'] = 'mixed'\n",
    "    \n",
    "    full_mask = mask_a & (~mask_b) & (~mask_c)\n",
    "    gdf.loc[full_mask,'category'] = 'retail/services'\n",
    "    \n",
    "    # 'vaga residencial ou comercial'\n",
    "    # -----------------------------\n",
    "    mask_d = gdf.category=='vaga residencial ou comercial'\n",
    "    mask_e = gdf['type']=='NAO RESIDENCIAL'\n",
    "    mask_f = gdf['type']=='RESIDENCIAL'\n",
    "    \n",
    "    full_mask = mask_d & mask_e\n",
    "    gdf.loc[full_mask,'category'] = 'retail/services'\n",
    "    \n",
    "    full_mask = mask_d & mask_f\n",
    "    gdf.loc[full_mask,'category'] = 'residential'\n",
    "    \n",
    "    full_mask = mask_d & (~mask_e) & (~mask_f)\n",
    "    gdf.loc[full_mask,'category'] = 'mixed'\n",
    "    \n",
    "    # 'galpao'\n",
    "    # ------\n",
    "    # TO DO: assert if this decision is appropriate\n",
    "    mask_g = gdf.category=='galpao'\n",
    "    \n",
    "    full_mask = mask_g & mask_c\n",
    "    gdf.loc[full_mask,'category'] = 'mixed'\n",
    "    \n",
    "    full_mask = mask_g & (~mask_c)\n",
    "    gdf.loc[full_mask,'category'] = 'retail/services'\n",
    "    \n",
    "    # 'Final adjustment'\n",
    "    # ----------------\n",
    "    cat_list = ['residential', 'retail/services', 'mixed', 'galpao']\n",
    "    gdf.loc[gdf.category.isin(cat_list), 'type'] = 'active'\n",
    "    \n",
    "\n",
    "def reclassify_land_uses(gdf, dictionary):\n",
    "    for key in dictionary.keys():\n",
    "        for umbrella_category,old_categories in dictionary[key].items():\n",
    "            mask = gdf.category.isin(old_categories)\n",
    "            gdf.loc[mask, 'type'] = key\n",
    "            \n",
    "            replacement_dict = {\n",
    "                cat: umbrella_category\n",
    "                for cat\n",
    "                in old_categories\n",
    "                                }\n",
    "            view = gdf.loc[mask,'category']\n",
    "            gdf.update(view.replace(replacement_dict))"
   ]
  },
  {
   "cell_type": "code",
   "execution_count": null,
   "id": "5de64eb9-7953-4456-9ba9-fb8ef67957d4",
   "metadata": {},
   "outputs": [],
   "source": [
    "reclassify_with_scrutiny(land_uses)\n",
    "\n",
    "\n",
    "reclassify_land_uses(land_uses,\n",
    "                     regrouping_2017,)"
   ]
  },
  {
   "cell_type": "code",
   "execution_count": null,
   "id": "c365a4f3-32fb-4d5c-98f6-cb06d6b6f87c",
   "metadata": {},
   "outputs": [],
   "source": [
    "path_to_footprint = (db_folder\n",
    "                     / 'beaga'\n",
    "                     / 'footprints'\n",
    "                     / '2018_footprint.zip')\n",
    "footprint_2018 = get_geodata(path_to_footprint)"
   ]
  },
  {
   "cell_type": "code",
   "execution_count": null,
   "id": "a55a4b29-889b-4388-93e6-9a8383b64ec5",
   "metadata": {},
   "outputs": [],
   "source": [
    "# BH city hall uses the term favelas for the subnormal agglomerates\n",
    "path_to_favelas = (db_folder\n",
    "                   / 'beaga'\n",
    "                   / 'vila_favela.zip')\n",
    "favelas = get_geodata(path_to_favelas)"
   ]
  },
  {
   "cell_type": "markdown",
   "id": "1cce252e-2308-4cf7-946e-86a947e8fab2",
   "metadata": {},
   "source": [
    "footprint and favela data:\n",
    "   - BH Maps: http://bhmap.pbh.gov.br"
   ]
  },
  {
   "cell_type": "code",
   "execution_count": null,
   "id": "326f4621-93b4-4340-8f5a-0add6fcfc20b",
   "metadata": {},
   "outputs": [],
   "source": [
    "path_to_subnormal = (db_folder\n",
    "                     / 'census'\n",
    "                     / '2010_subnormal_agglomerates'\n",
    "                     / 'SetoresXAreaDivAGSN_shp.zip') \n",
    "subnormal_agg = get_geodata(path_to_subnormal)\n",
    "\n",
    "# IBGE data provides all census tracts of Brazil and\n",
    "# specifies which are subnormal, so that we need to\n",
    "# slice the dataset.\n",
    "#\n",
    "# First we select only census tracts of BH city. To do\n",
    "# that end we take advantage of the fact the tract IDs \n",
    "# contain the city ID they belong to.\n",
    "#\n",
    "# Second, we use the appropriate column to select the\n",
    "# subnormal places.\n",
    "subnormal_agg = subnormal_agg.loc[subnormal_agg\n",
    "                                  .CD_GEOCODI\n",
    "                                  .str\n",
    "                                  .match('3106200')] # ibgeID for BH\n",
    "\n",
    "subnormal_agg = subnormal_agg.loc[subnormal_agg\n",
    "                                  .Subnormal == 'Sim']\n",
    "\n",
    "# IBGE data comes in a geographic coordinate system\n",
    "# that needd to be projected to the same CRS as\n",
    "# Belo Horizonte's data\n",
    "subnormal_agg.to_crs(epsg=31983, inplace=True)"
   ]
  },
  {
   "cell_type": "code",
   "execution_count": null,
   "id": "9bc4609c-76fe-4f2d-be5d-61b288b5ce61",
   "metadata": {},
   "outputs": [],
   "source": [
    "subnormal = gpd.overlay(subnormal_agg,\n",
    "                        favelas,\n",
    "                        how='union')"
   ]
  },
  {
   "cell_type": "markdown",
   "id": "d63d2947-31bc-4358-a1fe-d03fd5adea0f",
   "metadata": {},
   "source": [
    "data on subnormal agglomerates:\n",
    "\n",
    "- IBGE: ftp://geoftp.ibge.gov.br/recortes_para_fins_estatisticos/malha_de_aglomerados_subnormais/censo_2010/areas_de_divulgacao_da_amostra/"
   ]
  },
  {
   "cell_type": "code",
   "execution_count": null,
   "id": "a89d3e64-d0b7-4e64-a5cb-179ea35bf338",
   "metadata": {},
   "outputs": [],
   "source": [
    "def _find_vacant(parcels, footprint):\n",
    "    inner_parcels = gpd.sjoin(parcels,\n",
    "                              footprint,\n",
    "                              how='inner',\n",
    "                              op='within',)\n",
    "    inner_parcel_ids = inner_parcels.index\n",
    "    \n",
    "    vacant_land = parcels.loc[~parcels\n",
    "                              .index\n",
    "                              .isin(inner_parcel_ids)]\n",
    "    \n",
    "    \n",
    "    return vacant_land.index\n",
    "\n",
    "\n",
    "def _reclassify_vacant(parcels, vacant_land):    \n",
    "    parcels.loc[vacant_land, 'type'] = 'passive'\n",
    "    \n",
    "    mask = parcels.index.isin(vacant_land)\n",
    "    parcels.loc[mask,'category'] = 'vacant'\n",
    "\n",
    "\n",
    "def _find_subnormal(parcels, subnormal):\n",
    "    subnormal_land = gpd.sjoin(parcels,\n",
    "                               subnormal,\n",
    "                               op='within',)\n",
    "    \n",
    "    \n",
    "    return subnormal_land.index\n",
    "\n",
    "\n",
    "def _reclassify_subnormal(parcels, subnormal_land):    \n",
    "    parcels.loc[subnormal_land, 'type'] = 'active'\n",
    "    \n",
    "    mask = parcels.index.isin(subnormal_land)\n",
    "    parcels.loc[mask, 'category'] = 'subnormal'\n",
    "    \n",
    "    \n",
    "def _reclassify_leftovers(parcels, mask):\n",
    "    parcels.loc[mask, 'type'] = 'passive'\n",
    "    parcels.loc[mask, 'category'] = 'vacant'\n",
    "\n",
    "\n",
    "def reclassify_unknown_parcels(parcels, footprint,\n",
    "                               subnormal, untaxed_cat):\n",
    "    submask_a = (parcels['category'] == untaxed_cat)\n",
    "    \n",
    "    vacant_land = _find_vacant(parcels.loc[submask_a],\n",
    "                               footprint)\n",
    "    _reclassify_vacant(parcels, vacant_land)\n",
    "    \n",
    "    subnormal_land = _find_subnormal(parcels.loc[submask_a],\n",
    "                                     subnormal)\n",
    "    _reclassify_subnormal(parcels, subnormal_land)\n",
    "    \n",
    "    submask_b = (~parcels.index.isin(vacant_land))\n",
    "    submask_c = (~parcels.index.isin(subnormal_land))\n",
    "    mask = (submask_a & submask_b & submask_c)\n",
    "    _reclassify_leftovers(parcels, mask)\n",
    "    "
   ]
  },
  {
   "cell_type": "code",
   "execution_count": null,
   "id": "3c9f9665-b633-4691-be65-e81ddb560960",
   "metadata": {},
   "outputs": [],
   "source": [
    "reclassify_unknown_parcels(land_uses,\n",
    "                           footprint_2018,\n",
    "                           subnormal,\n",
    "                           'sem informacao',)"
   ]
  },
  {
   "cell_type": "code",
   "execution_count": null,
   "id": "02a68c6a-ac89-45be-9856-9efe95f7268f",
   "metadata": {},
   "outputs": [],
   "source": [
    "number_of_parcels = len(land_uses)\n",
    "land_uses['type'].value_counts() / number_of_parcels * 100"
   ]
  },
  {
   "cell_type": "code",
   "execution_count": null,
   "id": "561c4962-73b3-47e9-a6db-df72589e42c3",
   "metadata": {},
   "outputs": [],
   "source": [
    "land_uses.category.value_counts() / number_of_parcels * 100"
   ]
  },
  {
   "cell_type": "code",
   "execution_count": null,
   "id": "2ad46252-2d94-4ee3-a240-f674042670a5",
   "metadata": {},
   "outputs": [],
   "source": [
    "def get_hexagon_edge(land_uses):\n",
    "    \"\"\"Computes the edge of an hexagon with the same area as that\n",
    "    of the median parcel. Requires projected CRS.\n",
    "    \"\"\"\n",
    "    land_parcel_areas = land_uses.geometry.map(lambda x: x.area)\n",
    "    median_area = np.median(land_parcel_areas)\n",
    "    \n",
    "    \n",
    "    return np.sqrt(median_area*2/(3*np.sqrt(3)))\n",
    "\n",
    "\n",
    "mask = land_uses['type'] != 'static'\n",
    "hex_edge = get_hexagon_edge(land_uses.loc[mask])\n",
    "print(f'Hex edge should be of approximately {hex_edge:.2f} meters')"
   ]
  },
  {
   "cell_type": "markdown",
   "id": "060e884a-0170-4a7b-888f-365037bc5dde",
   "metadata": {},
   "source": [
    "That leaves either H3 resolution 11 (edge length of approx. 25m) or resolution 12 (~9.5m) — _refer to https://h3geo.org/docs/core-library/restable/ for H3 resolutions_\n",
    "\n",
    "_**Resolution 11**_ seems close enough and it's most certainly better for processing purposes. This resolution will be the basis for all subsequent analysis in the other scripts.\n",
    "\n"
   ]
  },
  {
   "cell_type": "markdown",
   "id": "c1fc28e1-8bc9-4824-b8f8-1f0289dba716",
   "metadata": {},
   "source": [
    "## Retrieving Hexagons"
   ]
  },
  {
   "cell_type": "markdown",
   "id": "e53d6535-2b0a-46c0-a960-c2147323674a",
   "metadata": {},
   "source": [
    "Those are to be the main spatial unit of analysis throughout the Thesis"
   ]
  },
  {
   "cell_type": "code",
   "execution_count": null,
   "id": "e81ef587-8366-4702-9d10-35cb8ad1a2b7",
   "metadata": {},
   "outputs": [],
   "source": [
    "state = 31 # MG ID as int\n",
    "ibgeID = '3106200' # Belo Horizonte ID as str\n",
    "                   # TO DO: allow ibgeID as int as well\n",
    "hexagon_size = 11\n",
    "\n",
    "path_to_census = (db_folder\n",
    "                  / 'census'\n",
    "                  / '2010 Universo'\n",
    "                  / '2010_aggregates_by_enumeration_area.csv')\n",
    "\n",
    "usecols = {\n",
    "    'v002': 'pop',\n",
    "    # Average income of all those who are 10 years\n",
    "    # or older and earn wages of some sort\n",
    "    'v011': 'income',\n",
    "         }\n",
    "\n",
    "# TO DO: allow for 'area_weighted_vars' and\n",
    "# 'pop_weighted_vars' not to be lists\n",
    "hexagons = get_hexagons_with_census_data(state,\n",
    "                                         ibgeID,\n",
    "                                         hexagon_size,\n",
    "                                         usecols,\n",
    "                                         area_weighted_vars=['pop'],\n",
    "                                         query_data=False,\n",
    "                                         save_query=False,\n",
    "                                         path=path_to_census,\n",
    "                                         pop_col='pop',\n",
    "                                         pop_weighted_vars=['income'],\n",
    "                                         output_epsg=31983,)"
   ]
  },
  {
   "cell_type": "code",
   "execution_count": null,
   "id": "d0f13f75-fda2-42ad-8e57-03460619848a",
   "metadata": {},
   "outputs": [],
   "source": [
    "def input_uses_into_hex(land_uses, hexagons):\n",
    "    \"\"\"This goes hexagon by hexagon, checks what land\n",
    "    uses are contained within and assigns to the entire\n",
    "    hexagon the land use that ocupies most of the area.\n",
    "    \n",
    "    TO DO: this smells of inneficiency. Think of another way later\n",
    "    \"\"\"\n",
    "    # I used reset index method in hexagons as a way to\n",
    "    # retain hexagon labels after overlay\n",
    "    overlay = gpd.overlay(land_uses,\n",
    "                          hexagons.reset_index(),\n",
    "                          how='intersection',)\n",
    "    hex_land_uses = {}\n",
    "    for hex_label,group in overlay.groupby(f'{hexagons.index.name}'):\n",
    "        gdf = group.dissolve(by='category', aggfunc='first')\n",
    "        gdf['area'] = gdf.geometry.map(lambda x: x.area)\n",
    "        # Mind that gdf is indexed by 'category' because of dissolve\n",
    "        idxmax = gdf.area.idxmax()\n",
    "        hex_land_uses[hex_label] = {'type': gdf.loc[idxmax, 'type'],\n",
    "                                    'category': idxmax,}\n",
    "    \n",
    "    \n",
    "    return pd.DataFrame.from_dict(hex_land_uses, orient='index')\n",
    "    \n",
    "    \n",
    "hex_land_uses = input_uses_into_hex(land_uses, hexagons)"
   ]
  },
  {
   "cell_type": "code",
   "execution_count": null,
   "id": "c82dec14-d1f9-4f08-8680-44753a50316b",
   "metadata": {},
   "outputs": [],
   "source": [
    "hex_ = hexagons.merge(hex_land_uses,\n",
    "                      how='inner',\n",
    "                      left_index=True,\n",
    "                      right_index=True,)"
   ]
  },
  {
   "cell_type": "code",
   "execution_count": null,
   "id": "85a343e3-de4d-4bd8-9d61-0dcd5ce8ddbd",
   "metadata": {},
   "outputs": [],
   "source": [
    "path_to_hexes = out_folder / f'BH_hex_{hexagon_size}_with_land_uses.gpkg'\n",
    "\n",
    "hex_.to_file(path_to_hexes, layer='2017', driver='GPKG')"
   ]
  },
  {
   "cell_type": "code",
   "execution_count": null,
   "id": "61911fed-808f-48a9-a8da-8a4ead63f4ac",
   "metadata": {},
   "outputs": [],
   "source": [
    "def plot_land_uses(parcels, attribute, palette, ax):\n",
    "    legend_elements = []\n",
    "    for cat, group in parcels.groupby(attribute):\n",
    "        color = palette[cat]\n",
    "\n",
    "        group.plot(ax=ax,\n",
    "                   color=color,)\n",
    "\n",
    "        patch_element = Patch(facecolor=color,\n",
    "                              edgecolor=color,\n",
    "                              label=cat,)\n",
    "\n",
    "        legend_elements.append(patch_element)\n",
    "\n",
    "    ax.legend(handles=legend_elements,\n",
    "              bbox_to_anchor=(1, 0.01),\n",
    "              loc='lower right',\n",
    "              prop={'size': 4},)\n",
    "    \n",
    "    ax.axis('off')"
   ]
  },
  {
   "cell_type": "code",
   "execution_count": null,
   "id": "9c9c56ae-6770-4215-9536-61078394661f",
   "metadata": {},
   "outputs": [],
   "source": [
    "fig,axes = plt.subplots(ncols=2, dpi=300, figsize=(5, 8))\n",
    "ax1,ax2 = axes\n",
    "\n",
    "\n",
    "type_palette = {'active': '#C97064',\n",
    "                'static': '#39487F',\n",
    "                'passive': '#527048',}\n",
    "plot_land_uses(hex_,\n",
    "               'type',\n",
    "               type_palette,\n",
    "               ax1,)\n",
    "\n",
    "\n",
    "category_palette = {'residential': '#FECEF1',\n",
    "                    'subnormal': '#B05F66',\n",
    "                    'retail/services': '#3B727C',\n",
    "                    'mixed': '#60E1E0',\n",
    "                    'public': '#B9A37E',\n",
    "                    'industry': '#64513B',\n",
    "                    'vacant': '#82A775',}\n",
    "plot_land_uses(hex_,\n",
    "               'category',\n",
    "               category_palette,\n",
    "               ax2,)"
   ]
  },
  {
   "cell_type": "markdown",
   "id": "ea57e2df-e467-4fc4-bd79-f63900ef7a61",
   "metadata": {},
   "source": [
    "# Land Use Maps for 2011"
   ]
  },
  {
   "cell_type": "markdown",
   "id": "4ebb0987-d699-47e2-8aaa-abba892aa584",
   "metadata": {},
   "source": [
    "data dource: provided by Prodabel directly"
   ]
  },
  {
   "cell_type": "markdown",
   "id": "254a5343-6c1e-4215-80ff-b0b68f445c62",
   "metadata": {},
   "source": [
    "These have been made with a methodology similar to that of 2017 data"
   ]
  },
  {
   "cell_type": "code",
   "execution_count": null,
   "id": "286223cd-2569-4495-acb5-f6f40c6c7a84",
   "metadata": {},
   "outputs": [],
   "source": [
    "path = (db_folder\n",
    "        / 'beaga'\n",
    "        / 'tipologia_uso_ocupacao'\n",
    "        / 'uso_ocup_2011.zip')\n",
    "land_uses = get_geodata(path)\n",
    "land_uses = land_uses.explode()\n",
    "land_uses.reset_index(drop=True, inplace=True)\n",
    "\n",
    "new_names = {'sigla_uso': 'type', 'descr_ocup': 'category'}\n",
    "land_uses.rename(columns=new_names, inplace=True)\n",
    "\n",
    "to_keep = ['id_lotectm', 'type', 'category', 'geometry']\n",
    "land_uses = land_uses.reindex(columns=to_keep)\n",
    "\n",
    "del new_names, to_keep"
   ]
  },
  {
   "cell_type": "code",
   "execution_count": null,
   "id": "d8eb4945-0d75-4006-997c-91a813517f4a",
   "metadata": {},
   "outputs": [],
   "source": [
    "land_uses.head(3)"
   ]
  },
  {
   "cell_type": "code",
   "execution_count": null,
   "id": "9f1d92cf-db78-4c9a-b083-e0e36810243d",
   "metadata": {},
   "outputs": [],
   "source": [
    "print(land_uses.crs)"
   ]
  },
  {
   "cell_type": "code",
   "execution_count": null,
   "id": "681cb260-5b1b-4f0d-8c19-adc3c3f0b909",
   "metadata": {},
   "outputs": [],
   "source": [
    "number_of_parcels = len(land_uses)\n",
    "\n",
    "land_uses['type'].value_counts() / number_of_parcels * 100"
   ]
  },
  {
   "cell_type": "code",
   "execution_count": null,
   "id": "d57879e2-d506-44aa-b945-ead39d5bf6b3",
   "metadata": {},
   "outputs": [],
   "source": [
    "land_uses.category.value_counts() / number_of_parcels * 100"
   ]
  },
  {
   "cell_type": "markdown",
   "id": "dc2ca8e2-4ad4-4dbd-b4ad-c7524f153df4",
   "metadata": {},
   "source": [
    "Again, it is self-evident where to put some of the land use categories. Contrarily, the folowwing require a somewhat in-depth analysis:\n",
    "\n",
    "- ***'nulo'*** seem to be a category akin to 2017's ***'sem informacao'***: they are close in number of parcels and are not given any specific category because there's no detailed information about them in the treasury's registry. Hence, 'nulo' is going to be classified in the same way as 'sem informacao' was previously. The difference being that I'll now use the 2010 urban footrpint. (TO DO: is it necessary to elaborate on the different methodologies for footprint creation?)\n",
    "\n",
    "- ***edificações em LV*** are land parcels that do not yet have a consolidated land use class because that only happens when the real estate receives a certificate of occupancy. Also obviuosly uncertain is the category ***indeterminado***. Hence, given the lack enough information that could enable a proper classification, the two categories are assumed to be residential. The rationale here being the same as the one used for ***'edificacao sem tipologia especificada'***, which is present in the 2017 data.\n",
    "\n",
    "- Similar to the approach with 2017 data, ***galpao*** is placed under retail/services.\n",
    "\n",
    "- ***ZEIS-1*** are those parcels that explicitly belong to subnormal agglomerates\n",
    "\n",
    "This time the function *_reclassify_with_scrutiny()* is useless because type attribute provides no useful information that enables a more precise category disaggregation."
   ]
  },
  {
   "cell_type": "code",
   "execution_count": null,
   "id": "a39ac7ac-534a-4752-9344-23e2354c5d0a",
   "metadata": {},
   "outputs": [],
   "source": [
    "regrouping_2011 = {\n",
    "    'active': {\n",
    "        'residential': ['casa unifamiliar',\n",
    "                        'edificações em LV', \n",
    "                        'edifício',\n",
    "                        'indeterminado',\n",
    "                        'conjunto multifamiliar vertical',\n",
    "                        'conjunto multifamiliar horizontal',],\n",
    "        \n",
    "        'subnormal': ['ZEIS-1',],\n",
    "        \n",
    "        'retail/services': ['loja ou conjunto de lojas',\n",
    "                            'galpão',\n",
    "                            'edifício de uso comercial e/ou de serviços',\n",
    "                            'loja em edifício / galeria',\n",
    "                            'galeria / mini-shopping de bairro',\n",
    "                            'shopping',\n",
    "                            'apart hotel',],\n",
    "        # TO DO: settle approach towards mixed uses\n",
    "        'mixed': ['casa / sobrado',\n",
    "                  'edifício residencial e comércio e/ou serviços',]\n",
    "                },\n",
    "\n",
    "     'passive': { \n",
    "         'vacant': ['lote vago',]\n",
    "                 },\n",
    "\n",
    "     'static': {\n",
    "         'industry': ['indústria',],\n",
    "         \n",
    "         'public': ['instituição de ensino',\n",
    "                    'instituição religiosa',\n",
    "                    'equipamento de saúde',\n",
    "                    'clubes esportivos e sociais',\n",
    "                    'parques',\n",
    "                    'cemitério',\n",
    "                    'estação de transporte coletivo',],\n",
    "               }\n",
    "}"
   ]
  },
  {
   "cell_type": "code",
   "execution_count": null,
   "id": "aabe198f-4930-4136-be33-3fcedddba8bf",
   "metadata": {},
   "outputs": [],
   "source": [
    "reclassify_land_uses(land_uses,\n",
    "                     regrouping_2011,)"
   ]
  },
  {
   "cell_type": "code",
   "execution_count": null,
   "id": "499b3e7d-416e-48b3-9c23-e79f9fe1e856",
   "metadata": {},
   "outputs": [],
   "source": [
    "# 2010 data that I found is for the whole metropolitan region\n",
    "path_to_footprint = (db_folder\n",
    "                     / 'beaga'\n",
    "                     / 'footprints'\n",
    "                     / '2010_footprint.zip')\n",
    "footprint_2010 = get_geodata(path_to_footprint)\n",
    "\n",
    "bh_contours = read_municipality(int(ibgeID))\n",
    "bh_contours.to_crs(epsg=31983, inplace=True)\n",
    "\n",
    "footprint_2010 = gpd.clip(footprint_2010,\n",
    "                          bh_contours,)"
   ]
  },
  {
   "cell_type": "markdown",
   "id": "373e957e-4ee3-499b-950d-040823eac1b1",
   "metadata": {},
   "source": [
    "footprint source: http://www.rmbh.org.br/central-cartog.php"
   ]
  },
  {
   "cell_type": "code",
   "execution_count": null,
   "id": "b7162268-d4e2-4b05-b2f9-0ba336c394b7",
   "metadata": {},
   "outputs": [],
   "source": [
    "reclassify_unknown_parcels(land_uses,\n",
    "                           footprint_2010,\n",
    "                           subnormal,\n",
    "                           'nulo',)"
   ]
  },
  {
   "cell_type": "code",
   "execution_count": null,
   "id": "214535af-d9a3-4282-9894-212eb8a95aca",
   "metadata": {},
   "outputs": [],
   "source": [
    "# The airport was classified as a warehouse in the source data,\n",
    "# hence, I'll have to fix this manually.\n",
    "mask = (land_uses.id_lotectm == 255797)\n",
    "land_uses.loc[mask, 'type'] = 'static'\n",
    "land_uses.loc[mask, 'category'] = 'public'\n",
    "\n",
    "land_uses.drop(columns='id_lotectm', inplace=True)"
   ]
  },
  {
   "cell_type": "code",
   "execution_count": null,
   "id": "515ba15e-b3f4-4911-b1e7-d2797b881eb1",
   "metadata": {},
   "outputs": [],
   "source": [
    "land_uses['type'].value_counts() / number_of_parcels * 100"
   ]
  },
  {
   "cell_type": "code",
   "execution_count": null,
   "id": "b5b09c70-b36b-4c84-ac86-e0203f693514",
   "metadata": {},
   "outputs": [],
   "source": [
    "land_uses.category.value_counts() / number_of_parcels * 100"
   ]
  },
  {
   "cell_type": "code",
   "execution_count": null,
   "id": "798ad9af-9e91-4fd4-bded-f1dc115ff9d7",
   "metadata": {},
   "outputs": [],
   "source": [
    "hex_land_uses = input_uses_into_hex(land_uses, hexagons)\n",
    "\n",
    "hex_ = hexagons.merge(hex_land_uses,\n",
    "                      how='inner',\n",
    "                      left_index=True,\n",
    "                      right_index=True,)\n",
    "\n",
    "hex_.to_file(path_to_hexes, layer='2011', driver='GPKG')"
   ]
  },
  {
   "cell_type": "code",
   "execution_count": null,
   "id": "d6f459f7-9362-49f0-a63f-7bac8cb66b71",
   "metadata": {},
   "outputs": [],
   "source": [
    "fig,axes = plt.subplots(ncols=2, dpi=300, figsize=(5, 8))\n",
    "ax1,ax2 = axes\n",
    "\n",
    "plot_land_uses(hex_,\n",
    "               'type',\n",
    "               type_palette,\n",
    "               ax1,)\n",
    "\n",
    "plot_land_uses(hex_,\n",
    "               'category',\n",
    "               category_palette,\n",
    "               ax2,)"
   ]
  },
  {
   "cell_type": "markdown",
   "id": "1e21c66a-d149-4aa7-be59-116141a1aaac",
   "metadata": {},
   "source": [
    "# Land Use Maps for 2018"
   ]
  },
  {
   "cell_type": "markdown",
   "id": "3298350a-29ec-43ff-b928-bc926c8e2af7",
   "metadata": {},
   "source": [
    "data dource: provided by Prodabel directly"
   ]
  },
  {
   "cell_type": "code",
   "execution_count": null,
   "id": "51047ccf-e685-4f4d-a57e-eed8ae6eb6e0",
   "metadata": {},
   "outputs": [],
   "source": [
    "path = (db_folder\n",
    "        / 'beaga'\n",
    "        / 'tipologia_uso_ocupacao'\n",
    "        / 'uso_ocup_2018.zip')\n",
    "land_uses = get_geodata(path)\n",
    "\n",
    "# Some land uses are not georeferenced and, even though they\n",
    "# have an existing parcel ID, that ID is not present at the\n",
    "# parcel geodata provided by BH city hall. Those features\n",
    "# amount to about 0.4% and it seeems reasonable to discard them.\n",
    "land_uses = land_uses.loc[land_uses\n",
    "                      .geometry\n",
    "                      .notnull()]\n",
    "\n",
    "land_uses = land_uses.explode()\n",
    "land_uses.reset_index(drop=True, inplace=True)\n",
    "\n",
    "land_uses = land_uses.reindex(columns=['D_USO_REV', # Revised land use (broad) categories\n",
    "                                       'USO_AT_REV',  # Revised spatial transcription of land use\n",
    "                                       'ATIV', # Activity list per parcel \n",
    "                                       'geometry'])\n",
    "\n",
    "land_uses.rename(columns={'D_USO_REV': 'type',\n",
    "                          'USO_AT_REV': 'category',\n",
    "                          'ATIV': 'activities'},\n",
    "                 inplace=True,)"
   ]
  },
  {
   "cell_type": "code",
   "execution_count": null,
   "id": "9643b700-1315-42d4-b2f2-0adef1264671",
   "metadata": {},
   "outputs": [],
   "source": [
    "regrouping_2018 = {\n",
    "    'active': {\n",
    "        'residential': ['CASA/SOBRADO RESIDENCIAL',\n",
    "                        'EDIFICIO RESIDENCIAL',],\n",
    "        \n",
    "        'retail/services': ['EDIFICIO NAO RESIDENCIAL',\n",
    "                            'CASA DE SHOW',\n",
    "                            'INSTITUICAO FINANCEIRA',\n",
    "                            'HOTEIS, MOTEIS E SIMILARES',\n",
    "                            'ESTACIONAMENTO',\n",
    "                            'CASA/SOBRADO NAO RESIDENCIAL',\n",
    "                            'SUPERMERCADO/HIPERMERCADO',\n",
    "                            'SHOPPING CENTER',\n",
    "                            'GALPAO COMERCIAL',],\n",
    "        # TO DO: settle approach towards mixed uses\n",
    "        'mixed': ['CASA/SOBRADO DE USO MISTO',\n",
    "                  'EDIFICIO DE USO MISTO',],\n",
    "                },\n",
    "\n",
    "     'passive': { \n",
    "         'vacant': ['LOTE VAGO',]\n",
    "                 },\n",
    "\n",
    "     'static': {\n",
    "         'industry': ['GALPAO INDUSTRIAL',],\n",
    "         \n",
    "         'public': ['INSTITUICAO DE ENSINO',\n",
    "                    'HOSPITAL/SERVICO DE SAUDE',\n",
    "                    'SERVICOS PUBLICOS',\n",
    "                    'TERMINAL RODOVIARIO/FERROVIARIO',\n",
    "                    'CLUBE ESPORTIVO/SOCIAL',\n",
    "                    'CENTRO DE CONVENCOES/EXPOSICOES',\n",
    "                    'INSTITUICAO CULTURAL',\n",
    "                    'ESTADIO/GINASIO',\n",
    "                    'INSTITUICAO RELIGIOSA',\n",
    "                    'PARQUE',\n",
    "                    'AEROPORTO',\n",
    "                    'CEMITERIO',\n",
    "                    'ATERRO SANITARIO',],\n",
    "               }\n",
    "}"
   ]
  },
  {
   "cell_type": "code",
   "execution_count": null,
   "id": "0c9f336e-afcb-4926-aad3-50633c54bbdc",
   "metadata": {},
   "outputs": [],
   "source": [
    "def reclassify_with_scrutiny(gdf):\n",
    "    \"\"\"Deals with some perks that seem too specific for generalization.\n",
    "    Handles instances in which TIPOLOGIA0 may be more accurately placed\n",
    "    when analyzed together with TIPOLOGIA_\n",
    "    \n",
    "    NOTE: function's name is an exaggeration\n",
    "    \"\"\"\n",
    "    # 'SEM INFORMACAO'\n",
    "    # ----------------------\n",
    "    mask_a = (\n",
    "        (gdf.category=='SEM INFORMACAO') & (gdf['type']=='RESIDENCIAL'))\n",
    "    \n",
    "    mask_b = (\n",
    "        (gdf.category=='SEM INFORMACAO') & (gdf['type']=='NAO RESIDENCIAL'))\n",
    "    \n",
    "    gdf.loc[mask_a,'category'] = 'residential'\n",
    "        \n",
    "    gdf.loc[mask_b,'category'] = 'retail/services'\n",
    "    \n",
    "    \n",
    "    # Final adjustments\n",
    "    # ----------------\n",
    "    cat_list = ['residential', 'retail/services']\n",
    "    gdf.loc[gdf.category.isin(cat_list), 'type'] = 'active'"
   ]
  },
  {
   "cell_type": "code",
   "execution_count": null,
   "id": "841ec7a1-8dbe-4c5c-b864-3171a775101c",
   "metadata": {},
   "outputs": [],
   "source": [
    "reclassify_with_scrutiny(land_uses)"
   ]
  },
  {
   "cell_type": "code",
   "execution_count": null,
   "id": "7e55e8bb-d660-4665-bdf4-a8425d9ac622",
   "metadata": {},
   "outputs": [],
   "source": [
    "reclassify_land_uses(land_uses,\n",
    "                     regrouping_2018,)"
   ]
  },
  {
   "cell_type": "code",
   "execution_count": null,
   "id": "c3f0039b-373a-443d-9424-907c854ffefe",
   "metadata": {},
   "outputs": [],
   "source": [
    "# Some parcels without information had a number of activities \n",
    "# listed as taking place within them. Of those activities,\n",
    "# a quick inspection suggested they were mostly associated with\n",
    "# retail/services. Hence, I simply categorized all of them as such.\n",
    "# These are weak assumptions as in reality there's not really enough\n",
    "# information for a proper classification.So much so that staff at city\n",
    "# hall categorized the field as \"no info\".\n",
    "mask = (land_uses.activities.notnull()) & (land_uses.category=='SEM INFORMACAO')\n",
    "land_uses.loc[mask, 'type'] = 'active'\n",
    "land_uses.loc[mask, 'category'] = 'retail/services'\n",
    "land_uses.drop(columns='activities', inplace=True)\n",
    "\n",
    "reclassify_unknown_parcels(land_uses,\n",
    "                           footprint_2018,\n",
    "                           subnormal,\n",
    "                           'SEM INFORMACAO',)"
   ]
  },
  {
   "cell_type": "code",
   "execution_count": null,
   "id": "f65966f2-6df4-4fe1-8eb7-0ac2a74c2d99",
   "metadata": {},
   "outputs": [],
   "source": [
    "land_uses['type'].value_counts() / number_of_parcels * 100"
   ]
  },
  {
   "cell_type": "code",
   "execution_count": null,
   "id": "400731a9-9918-443b-9d82-9bcebb64d220",
   "metadata": {},
   "outputs": [],
   "source": [
    "land_uses.category.value_counts() / number_of_parcels * 100"
   ]
  },
  {
   "cell_type": "code",
   "execution_count": null,
   "id": "e5659010-603a-44a4-8622-69184a040180",
   "metadata": {},
   "outputs": [],
   "source": [
    "hex_land_uses = input_uses_into_hex(land_uses, hexagons)\n",
    "\n",
    "hex_ = hexagons.merge(hex_land_uses,\n",
    "                      how='inner',\n",
    "                      left_index=True,\n",
    "                      right_index=True,)\n",
    "\n",
    "hex_.to_file(path_to_hexes, layer='2018', driver='GPKG')"
   ]
  },
  {
   "cell_type": "code",
   "execution_count": null,
   "id": "0f6f4a57-fada-467f-aa56-3e7159bec6b5",
   "metadata": {},
   "outputs": [],
   "source": [
    "fig,axes = plt.subplots(ncols=2, dpi=300, figsize=(5, 8))\n",
    "ax1,ax2 = axes\n",
    "\n",
    "plot_land_uses(hex_,\n",
    "               'type',\n",
    "               type_palette,\n",
    "               ax1,)\n",
    "\n",
    "plot_land_uses(hex_,\n",
    "               'category',\n",
    "               category_palette,\n",
    "               ax2,)"
   ]
  },
  {
   "cell_type": "markdown",
   "id": "5acd2d97-2150-4cf9-8e56-875a0b1bfb1c",
   "metadata": {},
   "source": [
    "# Land Use Maps for 2020"
   ]
  },
  {
   "cell_type": "markdown",
   "id": "6892f21b-456a-4a2c-bfcf-c4744c7dc385",
   "metadata": {},
   "source": [
    "data dource: provided by Prodabel directly"
   ]
  },
  {
   "cell_type": "code",
   "execution_count": null,
   "id": "e8bf21cd-5b24-4158-acbf-b141a1b03704",
   "metadata": {},
   "outputs": [],
   "source": [
    "path = (db_folder\n",
    "        / 'beaga'\n",
    "        / 'tipologia_uso_ocupacao'\n",
    "        / 'uso_ocup_2020.zip')\n",
    "land_uses = get_geodata(path)\n",
    "\n",
    "land_uses = land_uses.explode()\n",
    "land_uses.reset_index(drop=True, inplace=True)\n",
    "\n",
    "land_uses = land_uses.rename(columns={'uso_do_s_1': 'type',\n",
    "                                      'agreg_ativ': 'activities',\n",
    "                                      'uso_ativ_1': 'category'})\n",
    "\n",
    "land_uses = land_uses.reindex(columns=['type', 'category', 'activities', 'geometry'])\n",
    "\n",
    "land_uses.head(2)"
   ]
  },
  {
   "cell_type": "code",
   "execution_count": null,
   "id": "c0aec6b6-6671-4b5d-a70d-96b3c493bd77",
   "metadata": {},
   "outputs": [],
   "source": [
    "# Land use categories and types are between curly bracket\n",
    "# by whatever reason... Apart from that, those are the same\n",
    "# categories as in the 2018 data, hence, if I simply remove\n",
    "# the curly brackets, the same script for 2018 should work\n",
    "regex = r'(\\{?)(.+\\w)(\\})?'\n",
    "\n",
    "for each in ['type', 'category']:\n",
    "    land_uses[each] = land_uses[each].str.extract(regex)[1]\n",
    "\n",
    "# I know this now seems unnecessary, but might avoid \n",
    "# confusion when revisiting the code\n",
    "regrouping_2020 = regrouping_2018\n",
    "\n",
    "# There's just one category named slightly different. That is adjusted now.\n",
    "regrouping_2020['active']['retail/services'][3] = 'HOTEIS/MOTEIS E SIMILARES'"
   ]
  },
  {
   "cell_type": "code",
   "execution_count": null,
   "id": "e69f34e9-8b69-4091-a8dd-58f625426ec2",
   "metadata": {},
   "outputs": [],
   "source": [
    "reclassify_with_scrutiny(land_uses)"
   ]
  },
  {
   "cell_type": "code",
   "execution_count": null,
   "id": "ea0b8c45-a783-4068-a40e-82518bf1d5db",
   "metadata": {},
   "outputs": [],
   "source": [
    "reclassify_land_uses(land_uses,\n",
    "                     regrouping_2020,)"
   ]
  },
  {
   "cell_type": "code",
   "execution_count": null,
   "id": "43821b2f-c117-4b5a-b7d3-9c00f565537d",
   "metadata": {},
   "outputs": [],
   "source": [
    "# The following block exists because of the same reason\n",
    "# it figured in the 2018 data.\n",
    "mask = (land_uses.activities.notnull()) & (land_uses.category=='SEM INFORMACAO')\n",
    "land_uses.loc[mask, 'type'] = 'active'\n",
    "land_uses.loc[mask, 'category'] = 'retail/services'\n",
    "land_uses.drop(columns='activities', inplace=True)\n",
    "\n",
    "reclassify_unknown_parcels(land_uses,\n",
    "                           footprint_2018, # Couldn't find a closer one\n",
    "                           subnormal,\n",
    "                           'SEM INFORMACAO',)"
   ]
  },
  {
   "cell_type": "code",
   "execution_count": null,
   "id": "b22529c8-6012-484b-9c28-072788a887ed",
   "metadata": {},
   "outputs": [],
   "source": [
    "land_uses['type'].value_counts() / number_of_parcels * 100"
   ]
  },
  {
   "cell_type": "code",
   "execution_count": null,
   "id": "dc2ede89-ba4b-4044-9050-c83e60142a72",
   "metadata": {},
   "outputs": [],
   "source": [
    "land_uses.category.value_counts() / number_of_parcels * 100"
   ]
  },
  {
   "cell_type": "code",
   "execution_count": null,
   "id": "63272dc0-fbfe-4439-8eec-81bde3b7cb98",
   "metadata": {},
   "outputs": [],
   "source": [
    "hex_land_uses = input_uses_into_hex(land_uses, hexagons)\n",
    "\n",
    "hex_ = hexagons.merge(hex_land_uses,\n",
    "                      how='inner',\n",
    "                      left_index=True,\n",
    "                      right_index=True,)\n",
    "\n",
    "hex_.to_file(path_to_hexes, layer='2020', driver='GPKG')"
   ]
  },
  {
   "cell_type": "code",
   "execution_count": null,
   "id": "9486233d-afb7-4284-8963-f32bd29ab9f4",
   "metadata": {},
   "outputs": [],
   "source": [
    "fig,axes = plt.subplots(ncols=2, dpi=300, figsize=(5, 8))\n",
    "ax1,ax2 = axes\n",
    "\n",
    "plot_land_uses(hex_,\n",
    "               'type',\n",
    "               type_palette,\n",
    "               ax1,)\n",
    "\n",
    "plot_land_uses(hex_,\n",
    "               'category',\n",
    "               category_palette,\n",
    "               ax2,)"
   ]
  },
  {
   "cell_type": "code",
   "execution_count": null,
   "id": "6270a2b4-df66-4bae-a44a-0f493afa02a5",
   "metadata": {},
   "outputs": [],
   "source": []
  }
 ],
 "metadata": {
  "kernelspec": {
   "display_name": "Python 3",
   "language": "python",
   "name": "python3"
  },
  "language_info": {
   "codemirror_mode": {
    "name": "ipython",
    "version": 3
   },
   "file_extension": ".py",
   "mimetype": "text/x-python",
   "name": "python",
   "nbconvert_exporter": "python",
   "pygments_lexer": "ipython3",
   "version": "3.8.10"
  }
 },
 "nbformat": 4,
 "nbformat_minor": 5
}
