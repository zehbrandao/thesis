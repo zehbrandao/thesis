{
 "cells": [
  {
   "cell_type": "markdown",
   "id": "aa570acb-45c9-48ce-9a36-7c7606a34e44",
   "metadata": {},
   "source": [
    "This script takes land use data by parcel for the municipality of Belo Horizonte's City Hall and performs an initial wrangling.\n",
    "\n",
    "First, land uses are excessively disaggregated for the intended model. Hence, land use types will be aggregated into umbrella categories, which is also helpful to maintain compatibility throughout the time series.\n",
    "\n",
    "Next, land uses will be inputted into a H3 hexagonal grid.\n",
    "\n",
    "Finally, some relevant uses of the area will be superimposed in the data. That was necessary because it fixes some inconsistencies found in the original data for some of the years (in 2011, e.g., the airport was classified as a warehouse, and the landfill was marked as vacant). This is also interesting because it fixates the location of the infrastructures and marks the places where the subnormal agglomerates are.\n",
    "\n",
    "The final sequence of steps, which is shown below, is the result of a trial and error analysis that had to devise solutions to practical issues specific to the data at hand. During this process, a number of intermediate steps are required, all of which are commented and reflected upon just before implementation."
   ]
  },
  {
   "cell_type": "markdown",
   "id": "d272bddd-17de-4538-a833-220df30fae88",
   "metadata": {},
   "source": [
    "2017 data source: http://bhmap.pbh.gov.br\n",
    "\n",
    "Data for 2011 and 2020 have been kindly provided by PRODABEL --- https://prefeitura.pbh.gov.br/prodabel"
   ]
  },
  {
   "cell_type": "markdown",
   "id": "e6e5f63c-6e3f-4a77-a0fa-d69ec70ac906",
   "metadata": {},
   "source": [
    "# Preliminaries"
   ]
  },
  {
   "cell_type": "code",
   "execution_count": null,
   "id": "c330d0f5-6b0b-4f49-adcf-c1078103a55a",
   "metadata": {},
   "outputs": [],
   "source": [
    "import os\n",
    "import pathlib\n",
    "import re\n",
    "import warnings\n",
    "\n",
    "import contextily as cx\n",
    "import h3\n",
    "import numpy as np\n",
    "import pandas as pd\n",
    "import geopandas as gpd\n",
    "import matplotlib.pyplot as plt\n",
    "import osmnx as ox\n",
    "import pygeos as pg\n",
    "import seaborn as sns\n",
    "\n",
    "from geobr import read_municipality\n",
    "from h3census.assemble import get_hexagons_with_census_data\n",
    "from matplotlib.patches import Patch\n",
    "from shapely.geometry import Point\n",
    "\n",
    "%matplotlib inline\n",
    "%config InlineBackend.figure_format='retina'"
   ]
  },
  {
   "cell_type": "markdown",
   "id": "8e896ccd-c19c-41a2-8fe5-754dca4f094d",
   "metadata": {},
   "source": [
    "## Parent Folders"
   ]
  },
  {
   "cell_type": "markdown",
   "id": "78acb64e-3b4c-4e72-980a-2e83943cce3d",
   "metadata": {},
   "source": [
    "These should of course be adjusted to reflect the appropriate locations in your disk or wherever"
   ]
  },
  {
   "cell_type": "code",
   "execution_count": null,
   "id": "702991d4-e2df-4fcb-b8eb-2aefd8388275",
   "metadata": {},
   "outputs": [],
   "source": [
    "out_folder = os.environ.get('OUT_FOLDER')\n",
    "out_folder = pathlib.Path(out_folder)\n",
    "out_folder = out_folder / 'A'\n",
    "\n",
    "db_folder = os.environ.get('DB_FOLDER')\n",
    "db_folder = pathlib.Path(db_folder)"
   ]
  },
  {
   "cell_type": "markdown",
   "id": "95d24c3c-40e6-4789-a47d-50e3559e6911",
   "metadata": {},
   "source": [
    "## General Purpose"
   ]
  },
  {
   "cell_type": "code",
   "execution_count": null,
   "id": "8c2881b3-2976-40c9-bb1a-b7b3e525b2af",
   "metadata": {},
   "outputs": [],
   "source": [
    "def _get_zipped_path_for_gpd(path):\n",
    "    \"\"\"This gets a full path for a zipped shp file and parses it\n",
    "    into a structure that gpd.read_file() understands.\n",
    "    \"\"\"\n",
    "    prefix = r'zip://'\n",
    "    \n",
    "    try:\n",
    "        path = prefix + path.as_posix()\n",
    "    except:\n",
    "        path = pathlib.PureWindowsPath(path)\n",
    "        path = prefix + path.as_posix()\n",
    "        \n",
    "        \n",
    "    return path\n",
    "\n",
    "\n",
    "def _get_geodata(path, is_zipped=True):\n",
    "    \"\"\"Takes either a full raw string path os a pathlib's pure windows\n",
    "    path and uses it to return a shapefile. It also makes the necessary\n",
    "    adjustments to read shapefiles compressed into a .zip file.\n",
    "    \"\"\"    \n",
    "    if is_zipped:\n",
    "        path = _get_zipped_path_for_gpd(path)\n",
    "            \n",
    "            \n",
    "    return gpd.read_file(path)\n",
    "\n",
    "\n",
    "def get_land_use_data(year):\n",
    "    path = (db_folder\n",
    "            / 'beaga'\n",
    "            / 'tipologia_uso_ocupacao'\n",
    "            / f'uso_ocup_{year}.zip')\n",
    "    land_uses = _get_geodata(path)\n",
    "\n",
    "    # A few instances are not georeferenced and, even though\n",
    "    # they have an existing parcel ID, that ID is also not \n",
    "    # present at the parcel geodata provided by BH city hall.\n",
    "    # This happened with 2018 data and amounted to about 0.4%,\n",
    "    # which makes it seem reasoble to just drop these records.\n",
    "    #\n",
    "    # 2018 data will not be used anymore, but I left the code anyway.\n",
    "    land_uses = land_uses.loc[land_uses\n",
    "                              .geometry\n",
    "                              .notnull()]\n",
    "    \n",
    "    # some later operations don't handle well a mix\n",
    "    # of Polygons and MultyPolygons.\n",
    "    land_uses = land_uses.explode()\n",
    "    land_uses['area_m2'] = land_uses.area\n",
    "    \n",
    "    land_uses.fillna('null', inplace=True)    \n",
    "    \n",
    "    \n",
    "    return land_uses.reset_index(drop=True)\n"
   ]
  },
  {
   "cell_type": "markdown",
   "id": "2745d30b-de97-45f4-82f7-0be39ffd4d61",
   "metadata": {},
   "source": [
    "# Land Uses in 2017"
   ]
  },
  {
   "cell_type": "code",
   "execution_count": null,
   "id": "fb31dc27-3ca9-436e-ae9e-ca31b8c5b4df",
   "metadata": {},
   "outputs": [],
   "source": [
    "land_uses = get_land_use_data(2017)\n",
    "\n",
    "land_uses.rename(columns={'TIPOLOGIA_': 'category',\n",
    "                              'TIPOLOGIA0': 'use'},\n",
    "                      inplace=True,)\n",
    "\n",
    "land_uses = land_uses.reindex(columns=['category',\n",
    "                                       'use',\n",
    "                                       'area_m2',\n",
    "                                       'geometry',])\n"
   ]
  },
  {
   "cell_type": "markdown",
   "id": "2dae3dfc-426d-4646-aa37-c1f42d31d557",
   "metadata": {
    "tags": []
   },
   "source": [
    "## Land Use Regrouping"
   ]
  },
  {
   "cell_type": "markdown",
   "id": "b6d98b3e-b20d-47a5-80fe-44ffbd3ebf2f",
   "metadata": {},
   "source": [
    "**The regrouping of land uses aims at reducing the number of categories by bringing together similar land use typologies, as the data is highly disaggregated. Not doing so would reflect into a higher number of parameters to tune, higher computational costs and into a higher number of confounding factors. Also, a high number of classes means that an even higher number of transitions happens in the model, even if some of those take place only rarely, thus it would be more difficult to distinguish meaningful patterns.**\n",
    "\n",
    "Land uses are categorized in two ways: broad groups (relabelled above as category) and disaggregated typologies (relabelled above as use).\n",
    "\n",
    "During this regrouping and the subsequent reclassification, I'll put the land use types uder the column 'use', while their classification into active, passive or static uses will be under 'category'."
   ]
  },
  {
   "cell_type": "code",
   "execution_count": null,
   "id": "556923f5-429b-446c-b214-7fa8dfd3e0db",
   "metadata": {},
   "outputs": [],
   "source": [
    "land_uses.category.value_counts()"
   ]
  },
  {
   "cell_type": "code",
   "execution_count": null,
   "id": "ccec68fe-522c-412f-989a-6d2643d56d2c",
   "metadata": {},
   "outputs": [],
   "source": [
    "land_uses.use.value_counts()"
   ]
  },
  {
   "cell_type": "markdown",
   "id": "ffc8250a-abaf-4a06-bec2-608c36cf01fd",
   "metadata": {},
   "source": [
    "### Straightforward Regroupings"
   ]
  },
  {
   "cell_type": "markdown",
   "id": "11e6722d-e029-4674-8132-a8da42b3e2cf",
   "metadata": {},
   "source": [
    "First of all, whenever there is combination of any active category with vacant, the whole parcel will be assumed as if belonging to he active category. Hence, a category such as \"RESIDENCIAL+LOTE VAGO\" will taken as if completely RESIDENCIAL. That seems reasonable enough, as it most likely only refers to parcels that have not been fully occupied. Although the unnocupied area could further develop and it would be interesting to put that into a model, there is no pratical way to figure out which portion of the parcel is vacant, exactly."
   ]
  },
  {
   "cell_type": "code",
   "execution_count": null,
   "id": "3867da53-a7f5-442a-ba4a-e3e7057e5c5b",
   "metadata": {},
   "outputs": [],
   "source": [
    "cat_swap = {\n",
    "    'category': {'RESIDENCIAL+LOTE VAGO': 'RESIDENCIAL', \n",
    "                 'NAO RESIDENCIAL+LOTE VAGO': 'NAO RESIDENCIAL',\n",
    "                 'MISTO + LOTE VAGO': 'MISTO'}\n",
    "}\n",
    "land_uses = land_uses.replace(cat_swap)"
   ]
  },
  {
   "cell_type": "markdown",
   "id": "7171c7c7-32a4-4888-ad54-47a43988a8dc",
   "metadata": {},
   "source": [
    "Next, come the uses that can be relabelled in a more straightforward fashion based on their use.\n",
    "\n",
    "- Most instances are straightforward, such as 'casa unifamiliar', for example, which clearly is residential; or such as 'edificio de uso comercial e/ou servicos' which is obviously retail/services.\n",
    "\n",
    "- There were cases in which discordant classifications were residual. Hence, the residuals have been put together along with the majority class. For example, there are 6 mixed use parcels of 'edificio' amidst a sea of 16009 residential parcels.\n",
    "\n",
    "- Mixed uses presented a difficulty as well because the classical model deals with discrete classifications only. There are models that allow for some fuzzy classification, which means that a cell can go from fully residential to completely commercial, while being able to assume any percentual balance in between those extremes. Unfortunatelly, to the best of my knowledge, such models seem still incipient and displaying some perks that I don't think are for me to solve (at least not now). Hence, I chose to create a 'mixed' category and leave it at that. After some future experimentations, I might choose to place it either under retail/services or under residential.\n",
    "\n",
    "- All parcels containing any kind of (a) club or public goods, and of (b) public facilities, amenities or infrastructures have been considered static and are all labeled as either:\n",
    "    - amenities,\n",
    "    - infrastructure, or\n",
    "    - public services."
   ]
  },
  {
   "cell_type": "code",
   "execution_count": null,
   "id": "cffb24e5-a9b4-4e8b-aa02-97bfaa314656",
   "metadata": {},
   "outputs": [],
   "source": [
    "regrouping = {\n",
    "    'active': {\n",
    "        'residential': ['casa unifamiliar',\n",
    "                        'edificio', \n",
    "                        'conjunto multifamiliar vertical',\n",
    "                        'conjunto multifamiliar horizontal',],\n",
    "        \n",
    "        'retail/services': ['loja ou conjunto de lojas',\n",
    "                            'edificio de uso comercial e/ou servicos',\n",
    "                            'loja em edificio/galeria',\n",
    "                            'shopping center',\n",
    "                            'galeria/mini shopping de bairro',\n",
    "                            'apart hotel',],\n",
    "        # TO DO: settle approach towards mixed uses\n",
    "        'mixed': ['casa/sobrado',\n",
    "                  'edificio residencial e comercio e/ou servicos',]\n",
    "                },\n",
    "\n",
    "     'passive': { \n",
    "         'vacant': ['lote vago',]\n",
    "                 },\n",
    "\n",
    "     'static': {\n",
    "         'industry': ['industria',],\n",
    "         \n",
    "         'public services': ['instituicao de ensino',\n",
    "                             'equipamento de saude',],\n",
    "         \n",
    "         'infrastructure': ['estacao de transporte coletivo',\n",
    "                            'aeroporto',\n",
    "                            'aterro sanitario',],\n",
    "         \n",
    "         'amenities': ['instituicao religiosa',\n",
    "                       'cemiterio', # bit weird to put it here, but I couldn't find anywhere else\n",
    "                       'parque',\n",
    "                       'clubes esportivos e sociais',\n",
    "                       'estadio/ginasio',],\n",
    "               }\n",
    "}"
   ]
  },
  {
   "cell_type": "code",
   "execution_count": null,
   "id": "7bd2c361-9b54-4f8e-b418-7e4447cba5e3",
   "metadata": {},
   "outputs": [],
   "source": [
    "def regroup_land_uses(gdf, dictionary):\n",
    "    for new_cat, use_corresp in dictionary.items():\n",
    "        for new_use, old_uses in use_corresp.items():\n",
    "            mask = gdf.use.isin(old_uses)\n",
    "            gdf.loc[mask, 'category'] = new_cat\n",
    "            \n",
    "            replacements = {\n",
    "                'use': {old_use: new_use\n",
    "                        for old_use\n",
    "                        in old_uses} \n",
    "            }\n",
    "            \n",
    "            gdf.update(gdf.replace(replacements))\n",
    "            "
   ]
  },
  {
   "cell_type": "code",
   "execution_count": null,
   "id": "44a2e6a3-733b-459f-a00f-81e8cec12388",
   "metadata": {},
   "outputs": [],
   "source": [
    "regroup_land_uses(land_uses,\n",
    "                  regrouping,)"
   ]
  },
  {
   "cell_type": "markdown",
   "id": "3a51f4b2-0a2d-4425-b801-990f25f5a755",
   "metadata": {},
   "source": [
    "### Creative Regroupings"
   ]
  },
  {
   "cell_type": "markdown",
   "id": "a42a9419-04c6-4bbd-9b1b-22e3df43f1cd",
   "metadata": {},
   "source": [
    "**The following parcels required a more in-depth analysis and some ingenuity to be regrouped in way that most likely resembles reality. These involved, for example, inspection of aerial or satellite photographs. The following goes through some specifics:**\n",
    "\n",
    "- Even though 'edificação sem tipologia especificada' (buildings without specified typology) is within LOTE VAGO (vacant parcel), a minute inspection showed that doing so would result in errors: although there are vacant regions indeeed, there are a number of parcels that coincide with favela ocupied areas. To put it another way, I found that there are a majority of plots whose areas are abot the same as the usual urban block, and a minority of extensive parcels in peripheral areas, which seem to overlap green areas in aerial imagery. Therefore, the first classification step involved distinguishing them both based on area. Next, there is the matter of which urban land use is present in the smalller parcels. These were assumed to be residential. In short:\n",
    "\n",
    "    - Parcels are first distinguished by area: parcels whose area is lager than Q3 + 1.5IQ (where Q3 is the third quartile and IQ is the interquartile range) of 'edificação sem tipologia especificada' are taken as vacant, while the remaining ones are assumed residential.\n",
    "    - The residential use was assumed for the smaller ones because for any given lot in Belo Horizonte, the use that occupies it, with the highest probability is residential. Also, in the brazilian context, there is plenty of illegal land ocupation due to favelas and whatnot. Lastly, I assumed it is harder for commercial activity to function without registry in the tax records.\n",
    "    \n",
    "- 'sem informacao' will be classified just as 'edificação sem tipologia especificada'.\n",
    "    \n",
    " - There are two land use categories that are unclear in of themselves ('ocupação diversificada', 'vaga residencial ou comercial') these have been classified with the use of the broad category they belong to, as either residential, mixed or retail/services.\n",
    "\n",
    "- 'galpao' (warehouses) seemed more obviously related to the industrial sector. But according to the methodological notes, the warehouses that comport industries had already been relabelled as industry. Additionally, their spatial distribution, scattered across the inner city further supports the reasoning that they are not industry, strictly speaking. Hence, for the time being, that use was placed under either retail/services or mixed, and the choice for one or the other was made based on the broad category that parcel belongs to.\n"
   ]
  },
  {
   "cell_type": "code",
   "execution_count": null,
   "id": "a1d8a592-3c44-4083-b14c-417288b25798",
   "metadata": {},
   "outputs": [],
   "source": [
    "def boxplot_parcel_areas(data, uses_to_plot):\n",
    "    no_plots = len(uses_to_plot)\n",
    "    x_length = 5 * no_plots\n",
    "    f, axes = plt.subplots(ncols=no_plots,\n",
    "                           figsize=(x_length, 5),\n",
    "                           sharey=True)\n",
    "    try:\n",
    "        axes = axes.flatten()\n",
    "    except:\n",
    "        axes = [axes]\n",
    "    \n",
    "    for i, use in enumerate(uses_to_plot):\n",
    "        view = data.loc[(data.use==use)]\n",
    "        sns.boxplot(data=view, y='area_m2', ax=axes[i])\n",
    "        axes[i].set_xlabel(use)\n",
    "        \n",
    "        percentile_75 = view.area.quantile(.75)\n",
    "        axes[i].annotate(f'75th percentile - {percentile_75: .2f} m2',\n",
    "                         xy=(0.01, 0.99),\n",
    "                         xycoords=axes[i].transAxes,\n",
    "                         verticalalignment='top',\n",
    "                         horizontalalignment='left')\n",
    "        axes[i].set_yscale('log')\n",
    "        \n",
    "        \n",
    "    f.tight_layout()\n",
    "        \n",
    "        \n",
    "boxplot_parcel_areas(land_uses,\n",
    "                     uses_to_plot=['sem informacao',\n",
    "                                   'edificação sem tipologia especificada'])"
   ]
  },
  {
   "cell_type": "code",
   "execution_count": null,
   "id": "d2d87eef-6803-4364-a637-af27176a1461",
   "metadata": {},
   "outputs": [],
   "source": [
    "def area_based_regrouping(data, uses):\n",
    "    for use in uses:\n",
    "        mask = data.use==use\n",
    "        view = data.loc[mask]\n",
    "        \n",
    "        q_25 = view.area.quantile(.25)\n",
    "        q_75 = view.area.quantile(.75)\n",
    "        area_threshold = q_75 + 1.5 * (q_75 - q_25)\n",
    "        \n",
    "        residential_mask = mask & (data.area<=area_threshold)\n",
    "        data.loc[residential_mask, 'category'] = 'active'\n",
    "        data.loc[residential_mask, 'use'] = 'residential'\n",
    "        \n",
    "        vacant_mask = mask & (data.area>area_threshold)\n",
    "        data.loc[vacant_mask, 'category'] = 'passive'\n",
    "        data.loc[vacant_mask, 'use'] = 'vacant'\n",
    "        "
   ]
  },
  {
   "cell_type": "code",
   "execution_count": null,
   "id": "5139095e-62c9-414e-bdda-b4dc7949b0a0",
   "metadata": {},
   "outputs": [],
   "source": [
    "area_based_regrouping(land_uses,\n",
    "                      uses= ['sem informacao',\n",
    "                             'edificação sem tipologia especificada'])"
   ]
  },
  {
   "cell_type": "code",
   "execution_count": null,
   "id": "92e9cddf-76f6-4ba3-8927-27419f6d7b8c",
   "metadata": {},
   "outputs": [],
   "source": [
    "land_uses.loc[land_uses.category=='RESIDENCIAL'].use.value_counts()"
   ]
  },
  {
   "cell_type": "code",
   "execution_count": null,
   "id": "5a9c37e0-836b-4cbe-80c5-0329d02aac2c",
   "metadata": {},
   "outputs": [],
   "source": [
    "land_uses.loc[land_uses.category=='NAO RESIDENCIAL'].use.value_counts()"
   ]
  },
  {
   "cell_type": "code",
   "execution_count": null,
   "id": "a64e91f9-302d-4199-bcd5-7748f3649efc",
   "metadata": {},
   "outputs": [],
   "source": [
    "land_uses.loc[land_uses.category == 'MISTO'].use.value_counts()"
   ]
  },
  {
   "cell_type": "code",
   "execution_count": null,
   "id": "496c5deb-e9d3-472d-b275-91ba0f862ca7",
   "metadata": {},
   "outputs": [],
   "source": [
    "land_uses.loc[land_uses.category=='RESIDENCIAL', 'use'] = 'residential'\n",
    "land_uses.loc[land_uses.category=='NAO RESIDENCIAL', 'use'] = 'retail/services'\n",
    "land_uses.loc[land_uses.category=='MISTO', 'use'] = 'mixed'\n",
    "\n",
    "replacements = {\n",
    "    'category': {'RESIDENCIAL': 'active',\n",
    "                 'NAO RESIDENCIAL': 'active',\n",
    "                 'MISTO': 'active',}\n",
    "}\n",
    "land_uses = land_uses.replace(replacements)   "
   ]
  },
  {
   "cell_type": "code",
   "execution_count": null,
   "id": "0d0ab093-4e62-4a46-824f-fcd9e31d4ed5",
   "metadata": {},
   "outputs": [],
   "source": [
    "lu_2017 = land_uses.copy()"
   ]
  },
  {
   "cell_type": "markdown",
   "id": "8aeef679-ae99-469c-b99d-0e8f91d85780",
   "metadata": {},
   "source": [
    "# Land Uses in 2011"
   ]
  },
  {
   "cell_type": "code",
   "execution_count": null,
   "id": "59951cd7-a427-4968-9cda-d983813e040e",
   "metadata": {},
   "outputs": [],
   "source": [
    "land_uses = get_land_use_data(2011)\n",
    "\n",
    "land_uses.rename(columns={'descr_uso': 'category',\n",
    "                          'descr_ocup': 'use'},\n",
    "                 inplace=True,)\n",
    "\n",
    "land_uses = land_uses.reindex(columns=['category',\n",
    "                                       'use',\n",
    "                                       'area_m2',\n",
    "                                       'geometry',])"
   ]
  },
  {
   "cell_type": "markdown",
   "id": "b0e96180-f40e-4a0e-a7ce-7a7637950e3e",
   "metadata": {
    "tags": []
   },
   "source": [
    "## Land Use Regrouping"
   ]
  },
  {
   "cell_type": "markdown",
   "id": "b60d6097-d58c-4912-931a-2b9f4b6655bd",
   "metadata": {},
   "source": [
    "The steps taken here are nearly the same as the ones taken in 2017. The following exceptions are worth comment, though:\n",
    "\n",
    "- Vacant parcels are not mixed with any other category such as in 2017 - e.g., RESIDENCIAL+LOTE VAGO (residential + vacant) does not exist.\n",
    "\n",
    "- All instances of 'galpão' (warehouse) are under 'não residencial' (non residential) use, while in 2017 there was a considerable portion within mixed use.\n",
    "\n",
    "- In 2011 there is the land use ZEIS-1, which corresponds to special Zones of Social Interest. These are an instrument of urban and housing policy, created in 1980, whose goal is to improve the infrastructure and secure land tenure to residents of areas of spontaneous urbanization (roughly said, favelas, which are mostly residential)\n",
    "\n",
    "- 'indeterminado', 'nulo', and 'edificações em LV' seem to have the same behavior as the one verified for 'sem informacao' and 'edificação sem tipologia especificada' in 2017."
   ]
  },
  {
   "cell_type": "code",
   "execution_count": null,
   "id": "324073d1-6f45-4884-9f39-617e9f9416ad",
   "metadata": {},
   "outputs": [],
   "source": [
    "regrouping = {\n",
    "    'active': {\n",
    "        'residential': ['casa unifamiliar',\n",
    "                        'edifício', \n",
    "                        'conjunto multifamiliar vertical',\n",
    "                        'conjunto multifamiliar horizontal',\n",
    "                        'ZEIS-1',],\n",
    "        \n",
    "        'retail/services': ['loja ou conjunto de lojas',\n",
    "                            'edifício de uso comercial e/ou de serviços',\n",
    "                            'loja em edifício / galeria',\n",
    "                            'shopping',\n",
    "                            'galeria / mini-shopping de bairro',\n",
    "                            'apart hotel',\n",
    "                            'galpão',],\n",
    "        # TO DO: settle approach towards mixed uses\n",
    "        'mixed': ['casa / sobrado',\n",
    "                  'edifício residencial e comércio e/ou serviços',]\n",
    "                },\n",
    "\n",
    "     'passive': { \n",
    "         'vacant': ['lote vago',]\n",
    "                 },\n",
    "\n",
    "     'static': {\n",
    "         'industry': ['indústria',],\n",
    "         \n",
    "         'public services': ['instituição de ensino',\n",
    "                             'equipamento de saúde',],\n",
    "         \n",
    "         'infrastructure': ['estação de transporte coletivo',\n",
    "                            'aeroporto',\n",
    "                            'aterro sanitario',],\n",
    "         \n",
    "         'amenities': ['instituição religiosa',\n",
    "                       'cemitério', # bit weird to put it here, but I couldn't find anywhere else\n",
    "                       'parques',\n",
    "                       'clubes esportivos e sociais',\n",
    "                       'estadio/ginasio',],\n",
    "               }\n",
    "}"
   ]
  },
  {
   "cell_type": "code",
   "execution_count": null,
   "id": "e0eb83db-c1bb-4fcd-9677-1984667f3b5e",
   "metadata": {},
   "outputs": [],
   "source": [
    "regroup_land_uses(land_uses,\n",
    "                  regrouping,)"
   ]
  },
  {
   "cell_type": "code",
   "execution_count": null,
   "id": "39868b8e-1085-4953-a6f3-bbe7383aad87",
   "metadata": {},
   "outputs": [],
   "source": [
    "boxplot_parcel_areas(land_uses,\n",
    "                     uses_to_plot=['indeterminado',\n",
    "                                   'nulo',\n",
    "                                   'edificações em LV',])"
   ]
  },
  {
   "cell_type": "code",
   "execution_count": null,
   "id": "fe605072-a81f-4028-9c33-22588ee964dd",
   "metadata": {},
   "outputs": [],
   "source": [
    "area_based_regrouping(land_uses,\n",
    "                      uses=['indeterminado',\n",
    "                            'nulo',\n",
    "                            'edificações em LV',])"
   ]
  },
  {
   "cell_type": "code",
   "execution_count": null,
   "id": "ba1f3f77-06e7-40bd-bd0f-8ae4620760ce",
   "metadata": {},
   "outputs": [],
   "source": [
    "lu_2011 = land_uses.copy()"
   ]
  },
  {
   "cell_type": "markdown",
   "id": "5acd2d97-2150-4cf9-8e56-875a0b1bfb1c",
   "metadata": {
    "tags": []
   },
   "source": [
    "# Land Use Maps for 2020"
   ]
  },
  {
   "cell_type": "code",
   "execution_count": null,
   "id": "e8bf21cd-5b24-4158-acbf-b141a1b03704",
   "metadata": {},
   "outputs": [],
   "source": [
    "land_uses = get_land_use_data(2020)\n",
    "\n",
    "\n",
    "land_uses = land_uses.rename(columns={'uso_do_s_1': 'category',\n",
    "                                      'uso_ativ_1': 'use',\n",
    "                                      'agreg_ativ': 'activities'})\n",
    "\n",
    "land_uses = land_uses.reindex(columns=['category',\n",
    "                                       'use',\n",
    "                                       'activities',\n",
    "                                       'area_m2',\n",
    "                                       'geometry'])\n"
   ]
  },
  {
   "cell_type": "code",
   "execution_count": null,
   "id": "c0aec6b6-6671-4b5d-a70d-96b3c493bd77",
   "metadata": {},
   "outputs": [],
   "source": [
    "# Land use categories and types are between curly brackets\n",
    "# by whatever reason...\n",
    "regex = r'(\\{?)(.+\\w)(\\})?'\n",
    "\n",
    "for each in ['category', 'use']:\n",
    "    land_uses[each] = land_uses[each].str.extract(regex)[1]"
   ]
  },
  {
   "cell_type": "code",
   "execution_count": null,
   "id": "e9b7569a-c72c-488e-9ade-705d40409c00",
   "metadata": {},
   "outputs": [],
   "source": [
    "regrouping = {\n",
    "    'active': {\n",
    "        'residential': ['CASA/SOBRADO RESIDENCIAL',\n",
    "                        'EDIFICIO RESIDENCIAL',],\n",
    "        \n",
    "        'retail/services': ['EDIFICIO NAO RESIDENCIAL',\n",
    "                            'CASA DE SHOW',\n",
    "                            'INSTITUICAO FINANCEIRA',\n",
    "                            'HOTEIS/MOTEIS E SIMILARES',\n",
    "                            'ESTACIONAMENTO',\n",
    "                            'CASA/SOBRADO NAO RESIDENCIAL',\n",
    "                            'SUPERMERCADO/HIPERMERCADO',\n",
    "                            'SHOPPING CENTER',\n",
    "                            'GALPAO COMERCIAL',],\n",
    "        # TO DO: settle approach towards mixed uses\n",
    "        'mixed': ['CASA/SOBRADO DE USO MISTO',\n",
    "                  'EDIFICIO DE USO MISTO',],\n",
    "                },\n",
    "\n",
    "     'passive': { \n",
    "         'vacant': ['LOTE VAGO',]\n",
    "                 },\n",
    "\n",
    "     'static': {\n",
    "         'industry': ['GALPAO INDUSTRIAL',],\n",
    "         \n",
    "         'public services': ['INSTITUICAO DE ENSINO',\n",
    "                             'HOSPITAL/SERVICO DE SAUDE',\n",
    "                             'SERVICOS PUBLICOS',],\n",
    "         \n",
    "         'infrastructure' : ['TERMINAL RODOVIARIO/FERROVIARIO',\n",
    "                             'AEROPORTO',\n",
    "                             'CEMITERIO',\n",
    "                             'ATERRO SANITARIO',],\n",
    "         \n",
    "         'amenities' : ['CLUBE ESPORTIVO/SOCIAL',\n",
    "                        'CENTRO DE CONVENCOES/EXPOSICOES',\n",
    "                        'INSTITUICAO CULTURAL',\n",
    "                        'ESTADIO/GINASIO',\n",
    "                        'INSTITUICAO RELIGIOSA',\n",
    "                        'PARQUE',],\n",
    "               }\n",
    "}"
   ]
  },
  {
   "cell_type": "code",
   "execution_count": null,
   "id": "ea0b8c45-a783-4068-a40e-82518bf1d5db",
   "metadata": {},
   "outputs": [],
   "source": [
    "regroup_land_uses(land_uses,\n",
    "                  regrouping,)"
   ]
  },
  {
   "cell_type": "markdown",
   "id": "33ffdab3-465c-4709-9a68-653da322af91",
   "metadata": {},
   "source": [
    "Using the same classification scheme for for parcels labeled as SEM INFORMACAO (no information), as it was done in 2011 and 2017, results in a considerable number of parcels in the urban fabric would be classified as vacant, transitioning from residential or from retail/services, for example. This could suggest that the city shrank to some extent, which is a priori plausible, given the severe economic crisis Brazil has been facing in the last few years. \n",
    "\n",
    "But an ad hoc inspection on Google maps of some the suposedly vacant places shows them to be actually occupied. Indeed, a closer look into the 2020 land use data shows that some of parcels labeled as 'no information' are actually given a broad classification in the column 'category'. Furthermore, the attribute 'activities' contains, for a non negligible number of parcels, a list of economic activities contained therein.\n",
    "\n",
    "Consequently, the area based classification procedure will only be applied once we have exhausted the sources of information above."
   ]
  },
  {
   "cell_type": "markdown",
   "id": "8031a4b3-b23c-45ac-8a88-ccc78fefe31a",
   "metadata": {},
   "source": [
    "First, whenever the broad category is RESIDENCIAL or MISTO, land uses will be turned to residential or mixed, respectively"
   ]
  },
  {
   "cell_type": "code",
   "execution_count": null,
   "id": "6a278734-685f-42a8-b697-b283d03c8e3c",
   "metadata": {},
   "outputs": [],
   "source": [
    "land_uses.loc[land_uses.category=='RESIDENCIAL', 'use'] = 'residential'\n",
    "land_uses.loc[land_uses.category=='MISTO', 'use'] = 'mixed'\n",
    "\n",
    "land_uses.loc[land_uses.category=='RESIDENCIAL', 'category'] = 'active'\n",
    "land_uses.loc[land_uses.category=='MISTO', 'category'] = 'active'"
   ]
  },
  {
   "cell_type": "markdown",
   "id": "69303396-ff54-4ccc-be5d-7b58831b9121",
   "metadata": {},
   "source": [
    "Next, the classification will be based in the activities contained within the parcel, when that information is available.\n",
    "\n",
    "Activities are labeled according to a three letter code. Any given parcel may contain more than one activity, and can contain the same activity more than once. In effect, for each activity there is a three letter code. We are specifically interested in the following.\n",
    "\n",
    "- **COM**: commerce\n",
    "- **CSH**: nightclubs and the like\n",
    "- **EST**: parking lots\n",
    "- **HMS**: hotels, motels, lodgings etc.\n",
    "- **IFI**: finantial institutions\n",
    "- **IND**: industry\n",
    "- **OSE**: other services\n",
    "- **PCO**: gas station\n",
    "- **SHI**: grocery stores\n",
    "\n",
    "Whenever any one of these is within a parcel, it will be assumed to be the dominant use.\n",
    "\n",
    "Finally, it should be underscored that IND will be treated as retail/services because I assume that large industries, have already been labeled as such. Hence, IND should refer to craftsmanship and manual labor developed in small facilities (even households)."
   ]
  },
  {
   "cell_type": "code",
   "execution_count": null,
   "id": "3536f611-832c-4c9b-8edd-ad269d331ea5",
   "metadata": {},
   "outputs": [],
   "source": [
    "def classify_with_activities(row):\n",
    "    activity_list = ['COM', 'CSH', 'EST',\n",
    "                     'HSM', 'IFI', 'IND',\n",
    "                     'OSE', 'PCO', 'SHI']\n",
    "    \n",
    "    if row.use == 'SEM INFORMACAO':\n",
    "        regex = r'(\\w{3})'\n",
    "        matches = re.findall(regex, row.activities)\n",
    "\n",
    "        unique = np.unique(matches)\n",
    "\n",
    "        if np.isin(unique, activity_list).any():\n",
    "            row.category = 'active'\n",
    "            row.use = 'retail/services'\n",
    "        \n",
    "        \n",
    "    return row\n"
   ]
  },
  {
   "cell_type": "code",
   "execution_count": null,
   "id": "2778368a-17da-4559-b700-ad989530834e",
   "metadata": {},
   "outputs": [],
   "source": [
    "land_uses = land_uses.apply(lambda x: classify_with_activities(x),\n",
    "                            axis=1)"
   ]
  },
  {
   "cell_type": "code",
   "execution_count": null,
   "id": "f1efd8f6-f883-413c-8660-687a1932ebed",
   "metadata": {},
   "outputs": [],
   "source": [
    "land_uses.loc[land_uses.use == 'SEM INFORMACAO', 'activities'].value_counts()"
   ]
  },
  {
   "cell_type": "markdown",
   "id": "534620e7-29c8-4978-9b81-96bcc88a62d4",
   "metadata": {},
   "source": [
    "What remains are residual parcels which will be treated along with that which is by far the largest remaining category: null. These latter parcels cannot be classified without the aid of auxilliary information. Hence, all that is left is to classify them based on their area.\n",
    "\n",
    "Once land uses are inputted within the hexagons, there is a recategorization process that might find what are their specficic uses."
   ]
  },
  {
   "cell_type": "code",
   "execution_count": null,
   "id": "0df0e54d-2da8-4769-b82d-b8c6eb911a3c",
   "metadata": {},
   "outputs": [],
   "source": [
    "boxplot_parcel_areas(land_uses,\n",
    "                     uses_to_plot=['SEM INFORMACAO',])"
   ]
  },
  {
   "cell_type": "code",
   "execution_count": null,
   "id": "6c17e1fd-e217-49c1-be69-29643dd41162",
   "metadata": {},
   "outputs": [],
   "source": [
    "area_based_regrouping(land_uses,\n",
    "                      uses=['SEM INFORMACAO',])"
   ]
  },
  {
   "cell_type": "code",
   "execution_count": null,
   "id": "03789368-e708-40c2-a640-262640a8ccbf",
   "metadata": {},
   "outputs": [],
   "source": [
    "lu_2020 = land_uses.drop(columns='activities')"
   ]
  },
  {
   "cell_type": "markdown",
   "id": "d6b53cda-ea82-4315-883a-569b9c9cfabf",
   "metadata": {
    "tags": []
   },
   "source": [
    "# Study Area Tesselation"
   ]
  },
  {
   "cell_type": "markdown",
   "id": "42b56076-198f-4911-ae6d-022013818b8f",
   "metadata": {},
   "source": [
    "The study area shall be restricted to the municipality of Belo Horizonte. That seemed the most reasonable approach, since there's not near enough data on the neighboring municipalities. That is a clear limitation of the model, since Belo Horizonte is the core of a conurbated metropolitan area. Nevertheless, as the object of the thesis is not sprawl, but rather the transformations of the intra-urban space, that may not be that critical, after all. In fact, Stanilov & Batty (2011) showed how a cellular automata might be suitable for modeling a single portion of a city.\n",
    "\n",
    "In that light, I will fill the municipalities administrative borders with a hexagonal grid of Uber's H3 cells."
   ]
  },
  {
   "cell_type": "markdown",
   "id": "f3374983-fe1f-42b1-94f4-98a8e19c09c3",
   "metadata": {},
   "source": [
    "## Retrieving H3 Hexagons"
   ]
  },
  {
   "cell_type": "markdown",
   "id": "318e2940-8fda-44d1-9721-694ad22bfb4d",
   "metadata": {},
   "source": [
    "The resolution of the hexagons is defined in a way that its area is close to the median area of a land parcel in Belo Horizonte."
   ]
  },
  {
   "cell_type": "code",
   "execution_count": null,
   "id": "b48e3cda-c1ff-4ad2-8b5f-b1ec5ab7db2b",
   "metadata": {},
   "outputs": [],
   "source": [
    "def get_hexagon_edge_length(land_uses):\n",
    "    \"\"\"Computes the edge of an hexagon with the same area as that\n",
    "    of the median parcel. It considers only active uses because\n",
    "    both passive and static include may include quite large areas.\n",
    "    \n",
    "    Requires projected CRS.\n",
    "    \"\"\"\n",
    "    view = land_uses.loc[land_uses.category=='active']\n",
    "    median_area = np.median(view.area_m2)\n",
    "    edge_length = np.sqrt(median_area * 2 / (3 * np.sqrt(3)))\n",
    "    \n",
    "    print(f'Hex edge should be of approximately {edge_length:.2f} meters') \n",
    "\n",
    "# land_uses contains 2020 data, now,\n",
    "# but median parcel sizes should not\n",
    "# change much through the years\n",
    "get_hexagon_edge_length(land_uses)"
   ]
  },
  {
   "cell_type": "markdown",
   "id": "19bc56e8-481c-402f-8ea0-0376aa33b905",
   "metadata": {},
   "source": [
    "That leaves either H3 resolution 11 (edge length of approx. 25m) or resolution 12 (~9.5m) — _refer to https://h3geo.org/docs/core-library/restable/ for H3 resolutions_\n",
    "\n",
    "I'll adopt ***Resolution 12*** for the time being, but might go up to resolution 11 if I run into processing time issues."
   ]
  },
  {
   "cell_type": "code",
   "execution_count": null,
   "id": "9c137ecc-5905-478b-b0fd-5b0d983b9365",
   "metadata": {},
   "outputs": [],
   "source": [
    "state = 31 # MG ibgeID as int\n",
    "ibgeID = '3106200' # Belo Horizonte ibgeID as str\n",
    "                   # TO DO: allow ibgeID as int as well\n",
    "hexagon_size = 12\n",
    "\n",
    "path_to_census = (db_folder\n",
    "                  / 'census'\n",
    "                  / '2010 Universo'\n",
    "                  / '2010_aggregates_by_enumeration_area.csv')\n",
    "\n",
    "usecols = {\n",
    "    'v002': 'pop',\n",
    "    # Average income of all those who are 10 years\n",
    "    # or older and earn wages of some sort\n",
    "    'v011': 'income',\n",
    "         }\n",
    "\n",
    "# TO DO: allow for 'area_weighted_vars' and\n",
    "# 'pop_weighted_vars' not to be lists\n",
    "hexagons = get_hexagons_with_census_data(state,\n",
    "                                         ibgeID,\n",
    "                                         hexagon_size,\n",
    "                                         usecols,\n",
    "                                         area_weighted_vars=['pop'],\n",
    "                                         query_data=False,\n",
    "                                         save_query=False,\n",
    "                                         path=path_to_census,\n",
    "                                         pop_col='pop',\n",
    "                                         pop_weighted_vars=['income'],\n",
    "                                         output_epsg=31983,)"
   ]
  },
  {
   "cell_type": "markdown",
   "id": "1bece2a6-07f8-458e-a905-dfa07f546a14",
   "metadata": {},
   "source": [
    "## Land Use Imputation"
   ]
  },
  {
   "cell_type": "markdown",
   "id": "cb2f8a80-1f82-436c-93d2-c2b938842948",
   "metadata": {},
   "source": [
    "The above is based on answers to this issue: https://github.com/geopandas/geopandas/issues/1724#issuecomment-740062943"
   ]
  },
  {
   "cell_type": "code",
   "execution_count": null,
   "id": "f5c5a86c-e759-49b2-a5c9-bc71dd856a52",
   "metadata": {},
   "outputs": [],
   "source": [
    "def _get_uses_in_hex(land_uses, hexagons, apperture,\n",
    "                     hex_idx=True, hex_col=None):\n",
    "    if hex_idx:\n",
    "        hex_labels = f'hex_{apperture}'\n",
    "        hexagons.index.name = hex_labels\n",
    "        hexes = hexagons.reset_index()\n",
    "    else:\n",
    "        hex_labels = hex_col\n",
    "    \n",
    "    overlay = gpd.overlay(land_uses,\n",
    "                          hexes)\n",
    "    overlay['intersect_area'] = overlay.area\n",
    "    \n",
    "    \n",
    "    return (overlay.groupby([hex_labels, 'category', 'use'],\n",
    "                            as_index=False)\n",
    "                   .intersect_area\n",
    "                   .sum())\n",
    "\n",
    "\n",
    "def _find_dominant_use(group, hex_area):    \n",
    "    if hex_area/3 > group.intersect_area.sum():\n",
    "        category, use = np.nan, np.nan\n",
    "    else:\n",
    "        data = group.set_index(['category', 'use'])\n",
    "        category, use = data.intersect_area.idxmax()\n",
    "        \n",
    "    \n",
    "    return pd.Series(data=[category, use],\n",
    "                     index=['category', 'use'])\n",
    "\n",
    "\n",
    "def input_uses(land_uses, hexagons, apperture,\n",
    "               hex_idx=True, hex_col=None):\n",
    "    \"\"\"Uses overlay operations to input uses into cells.\n",
    "    Cell will have the use that occupies most of its area.\n",
    "    If land use polygons do not cover at least half of the\n",
    "    cell's area, said cell will have nan in its land use.\n",
    "    \n",
    "    Assumes that both land uses and hexagons are\n",
    "    in the same projected CRS.\n",
    "    \"\"\"\n",
    "    \n",
    "    uses_by_hex = _get_uses_in_hex(land_uses,\n",
    "                                   hexagons,\n",
    "                                   apperture,\n",
    "                                   hex_idx,\n",
    "                                   hex_col)\n",
    "    \n",
    "    hex_area = h3.hex_area(apperture, unit='m^2')\n",
    "    hex_col = f'hex_{apperture}'\n",
    "    dom_use = (uses_by_hex.groupby(hex_col)\n",
    "                          .apply(_find_dominant_use, hex_area)\n",
    "              )\n",
    "    \n",
    "    \n",
    "    return (hexagons.merge(dom_use,\n",
    "                           left_index=True,\n",
    "                           right_on=hex_col,\n",
    "                           how='left',)\n",
    "                    .set_index(hex_col))"
   ]
  },
  {
   "cell_type": "code",
   "execution_count": null,
   "id": "7be2ffa6-6105-47ce-9677-52c49ec0951e",
   "metadata": {},
   "outputs": [],
   "source": [
    "hex_2011 = input_uses(lu_2011,\n",
    "                      hexagons,\n",
    "                      hexagon_size)"
   ]
  },
  {
   "cell_type": "code",
   "execution_count": null,
   "id": "1a007071-e25e-4cbc-86c2-32bd87921277",
   "metadata": {},
   "outputs": [],
   "source": [
    "hex_2017 = input_uses(lu_2017,\n",
    "                      hexagons,\n",
    "                      hexagon_size)"
   ]
  },
  {
   "cell_type": "code",
   "execution_count": null,
   "id": "ea2b1fc1-c8ca-46e0-b83a-c454e3a4e0de",
   "metadata": {},
   "outputs": [],
   "source": [
    "hex_2020 = input_uses(lu_2020,\n",
    "                      hexagons,\n",
    "                      hexagon_size)"
   ]
  },
  {
   "cell_type": "markdown",
   "id": "0ffdaf4a-0710-40a8-88e1-4072291c9f3f",
   "metadata": {
    "tags": []
   },
   "source": [
    "# Category Revision"
   ]
  },
  {
   "cell_type": "markdown",
   "id": "cd49dfdd-4816-425d-9c09-e70bd5c742be",
   "metadata": {},
   "source": [
    "This section concerns some more specific land use (re)classifications that have to be made manually.\n",
    "- First, whatever hexagons intersect with the road network will be labeled as infrastructure and are then fixed as a static land use. The superimpositon of the land use data shows that the empty spaces between parcels remain mostly constant thrpughout the years, which implies that no major changes happened to the street grid layout. Hence, I'll use the current street topology as retrieved from OpenStreetMaps by osmnx.\n",
    "- Second, some major local landmarks are enforced. That is done especially because of the 2011 data, which missclassified some old and established local landmarks or infrastructures. For example, the local airport was marked as a warehouse, and both some parks and the landfill were marked as vacant. Another example is that of Lake Pampulha, which is understandably not represented by polygons of any kind - somewhere that is not land could not be represented by a land use polygon after all. Nevertheless, I chose to retain that region in the hexgonal grid of the municipality, which are then maked as amenity.\n",
    "- Third, there are parcels that mostly coincide with the footprints of the subnormal agglomerates in the municipality - see note below. Those are to be labeled subnormal. It remains to be seen whether its worth keeping them separated.\n",
    "\n",
    "***It should be noted that some vacant plots are preservation areas and cannot be occupied during simulation. Such constrainsts are to be enforced when zoning restrictions are imposed in the model.***\n"
   ]
  },
  {
   "cell_type": "markdown",
   "id": "af099e05-7f4f-400f-aaaa-1e1e271a6999",
   "metadata": {},
   "source": [
    "***Note:***\n",
    "\n",
    "A subnormal agglomerate is a form of irregular occupation of land – either public or private - owned by a third party, for housing purposes in urban areas, usually characterized by an irregular urban pattern, with scarce essential public services and located in areas not proper or allowed for housing use.  In Brazil, those irregular settlements are known by the names of favelas, invaded areas, slums in deep valleys, slums in low-lands, communities, villages, slums in backwaters, irregular lots, shacks and stilt houses"
   ]
  },
  {
   "cell_type": "markdown",
   "id": "f7adb892-3da9-4c5f-8ede-32b2b2444651",
   "metadata": {
    "tags": []
   },
   "source": [
    "## Auxilliary Datasets"
   ]
  },
  {
   "cell_type": "code",
   "execution_count": null,
   "id": "a55a4b29-889b-4388-93e6-9a8383b64ec5",
   "metadata": {},
   "outputs": [],
   "source": [
    "# BH city hall uses the term favelas for the subnormal agglomerates\n",
    "path_to_favelas = (db_folder\n",
    "                   / 'beaga'\n",
    "                   / 'footprints'\n",
    "                   / 'vila_favela.zip')\n",
    "favelas = _get_geodata(path_to_favelas)"
   ]
  },
  {
   "cell_type": "markdown",
   "id": "1cce252e-2308-4cf7-946e-86a947e8fab2",
   "metadata": {},
   "source": [
    "favela data:\n",
    "   - BH Maps: http://bhmap.pbh.gov.br\n",
    "   \n",
    "It should be noted that the temporality of the favela geodata is not clear. The metadata (https://bit.ly/BH_favela_metadata) suggests that the file is updated whenever the public administration deems necessary, which implies that the location of the subnormal communities should be up to date with the time with which this script was written (2021). Thus, on first thought, it follows that the data should reflect, with reasonable accuracy, the location of such communities for the 2017, 2018 and 2020 maps, as there's no evidence to suppose that a major favela growth happened in the last couple of years.\n",
    "\n",
    "A later analysis reinforced this reasoning because the footprint of the favelas remarkably fits some data voids in the land use data for 2011 as well. Notheless, the data will be joined with IBGE's data as it fills some minor gaps present in BH's data."
   ]
  },
  {
   "cell_type": "code",
   "execution_count": null,
   "id": "326f4621-93b4-4340-8f5a-0add6fcfc20b",
   "metadata": {
    "tags": []
   },
   "outputs": [],
   "source": [
    "path_to_subnormal = (db_folder\n",
    "                     / 'census'\n",
    "                     / '2010_subnormal_agglomerates'\n",
    "                     / 'SetoresXAreaDivAGSN_shp.zip') \n",
    "subnormal_agg = _get_geodata(path_to_subnormal)\n",
    "\n",
    "# IBGE data provides all census tracts of Brazil and\n",
    "# specifies which are subnormal, so that we need to\n",
    "# slice the dataset.\n",
    "#\n",
    "# First we select only census tracts of BH city. To do\n",
    "# that end we take advantage of the fact the tract IDs \n",
    "# contain the city ID they belong to.\n",
    "#\n",
    "# Second, we use the appropriate column to select the\n",
    "# subnormal places.\n",
    "subnormal_agg = subnormal_agg.loc[subnormal_agg\n",
    "                                  .CD_GEOCODI\n",
    "                                  .str\n",
    "                                  .match('3106200')] # ibgeID for BH\n",
    "\n",
    "subnormal_agg = subnormal_agg.loc[subnormal_agg\n",
    "                                  .Subnormal == 'Sim']\n",
    "\n",
    "# IBGE data comes in a geographic coordinate system\n",
    "# that needd to be projected to the same CRS as\n",
    "# Belo Horizonte's data\n",
    "subnormal_agg.to_crs(epsg=31983, inplace=True)"
   ]
  },
  {
   "cell_type": "markdown",
   "id": "a837203a-0b9f-48cb-93f9-9d9321e168b5",
   "metadata": {},
   "source": [
    "data on subnormal agglomerates:\n",
    "\n",
    "- IBGE: ftp://geoftp.ibge.gov.br/recortes_para_fins_estatisticos/malha_de_aglomerados_subnormais/censo_2010/areas_de_divulgacao_da_amostra/"
   ]
  },
  {
   "cell_type": "code",
   "execution_count": null,
   "id": "377e17c9-2a8e-479c-a558-6b33b7930314",
   "metadata": {},
   "outputs": [],
   "source": [
    "def get_slums_footprint(favelas, subnormal_agg):\n",
    "    slums = gpd.overlay(favelas,\n",
    "                        subnormal_agg,\n",
    "                        how='union',)\n",
    "    slums['subnormal'] = 1\n",
    "    \n",
    "    \n",
    "    return (slums.reindex(columns=['geometry', 'subnormal'])\n",
    "                 .explode()\n",
    "                 .reset_index(drop=True))\n"
   ]
  },
  {
   "cell_type": "code",
   "execution_count": null,
   "id": "fefab06d-3fb0-44cc-a78d-2adc2a92db6f",
   "metadata": {},
   "outputs": [],
   "source": [
    "slums = get_slums_footprint(favelas, subnormal_agg)"
   ]
  },
  {
   "cell_type": "code",
   "execution_count": null,
   "id": "5ee3b55e-6e6c-4863-bfac-0d497b698195",
   "metadata": {},
   "outputs": [],
   "source": [
    "def _polys_from_osm(osm_tags):\n",
    "    # osmnx code presents the deprecation explained in the link below.\n",
    "    # It should not impact performance in any way. I filtered it though\n",
    "    # merely because I find there are too many annoying warnings\n",
    "    with warnings.catch_warnings():\n",
    "        warnings.filterwarnings('ignore',\n",
    "                                category=DeprecationWarning)\n",
    "        gdf = ox.geometries_from_place('Belo Horizonte, MG, Brazil',\n",
    "                                        tags=osm_tags,)\n",
    "    \n",
    "    mask = gdf.type.isin(['Polygon', 'MultiPolygon'])\n",
    "    \n",
    "    \n",
    "    return (gdf.loc[mask]\n",
    "               .reindex(columns=['geometry'])\n",
    "               .reset_index()\n",
    "               .to_crs(epsg=31983)) #TO DO: unhardcode this?\n",
    "\n",
    "\n",
    "def _get_greenery():\n",
    "    osm_tags = {'name': 'Parque das Mangabeiras',\n",
    "\n",
    "                'leisure': [\n",
    "                           'park',\n",
    "                           'nature_reserve',\n",
    "                           ],\n",
    "\n",
    "                'boundary': [\n",
    "                            'national_park',\n",
    "                            'protected_area',\n",
    "                            ],\n",
    "                \n",
    "                'natural': [\n",
    "                           'wood', 'tree_row', 'tree','scrub',\n",
    "                           'heath', 'moor','grassland', 'fell',\n",
    "                           'bare_rock', 'scree', 'shingle', 'sand', 'mud',\n",
    "                           ]\n",
    "               }\n",
    "        \n",
    "    \n",
    "    return _polys_from_osm(osm_tags)\n",
    "    \n",
    "\n",
    "def _get_amenities():    \n",
    "    osm_tags = {'tourism': 'zoo',\n",
    "                \n",
    "                # This does not seem necessary, really...\n",
    "                #'name': 'Lagoa da Pampulha',\n",
    "\n",
    "                'leisure': [\n",
    "                           'stadium',\n",
    "                           'sports_centre',\n",
    "                           ],\n",
    "               }\n",
    "    \n",
    "    \n",
    "    return _polys_from_osm(osm_tags)\n",
    "    \n",
    "    \n",
    "def _get_infrastructures():\n",
    "    osm_tags = {'name': [\n",
    "                        'Aeroporto',\n",
    "                        'ETE Onça',\n",
    "                        ],\n",
    "            \n",
    "                'landuse': 'landfill'}\n",
    "    \n",
    "    \n",
    "    return _polys_from_osm(osm_tags)\n",
    "    \n",
    "\n",
    "def _classify_landmarks(hexes):\n",
    "    \n",
    "    landmarks = {('passive', 'vacant'): _get_greenery(),\n",
    "                 ('static', 'amenities'): _get_amenities(),\n",
    "                 ('static', 'infrastructure'): _get_infrastructures()}\n",
    "    \n",
    "    gdf = hexes.copy()\n",
    "    gdf['center'] = [Point(x, y) for x, y in zip(gdf.x_epsg31983, gdf.y_epsg31983)]\n",
    "    \n",
    "    \n",
    "    for keys, polys in landmarks.items():\n",
    "        gdf = gpd.sjoin(hexes,\n",
    "                        polys,\n",
    "                        how='union')\n",
    "        \n",
    "        gdf.loc[gdf.osmid.notnull(), 'category'] = keys[0]\n",
    "        gdf.loc[gdf.osmid.notnull(), 'use'] = keys[1]\n",
    "        \n",
    "        gdf.drop(columns=['element_type', 'osmid'], inplace=True)\n",
    "    \n",
    "    \n",
    "    return gdf\n",
    "            "
   ]
  },
  {
   "cell_type": "code",
   "execution_count": null,
   "id": "dd9d0a0f-b7ed-4f7c-9a5e-ff502979f24d",
   "metadata": {},
   "outputs": [],
   "source": [
    "def _reclassify_subnormal(gdf, slums):\n",
    "    \n",
    "    gdf = gpd.overlay(gdf,\n",
    "                      slums,\n",
    "                      how='union')\n",
    "    \n",
    "    # The main goal is to find where subnormal residences are, by\n",
    "    # recategorizing (a) residential uses, (b) vacant land or, mostly,\n",
    "    # (c) cells with otherwise no data on them. If the categories below\n",
    "    # are not fixed, I'd loose the (possible) richness in activity\n",
    "    # diversity within the slums.\n",
    "    consolidated_categories = ['retail/services', 'mixed',\n",
    "                               'industry', 'infrastructure',\n",
    "                               'amenities', 'public services',]\n",
    "    \n",
    "    mask = (\n",
    "        ~gdf.use.isin(consolidated_categories) & (gdf.subnormal == 1)\n",
    "    )\n",
    "    gdf.loc[mask, 'category'] = 'active'\n",
    "    gdf.loc[mask, 'use'] = 'subnormal'\n",
    "    \n",
    "    \n",
    "    return gdf.drop(columns='subnormal')\n",
    "    "
   ]
  },
  {
   "cell_type": "markdown",
   "id": "0a7fd616-2188-4bb6-b32d-d6f600038d12",
   "metadata": {
    "tags": []
   },
   "source": [
    "## Reclassifying"
   ]
  },
  {
   "cell_type": "markdown",
   "id": "c072334d-d877-472d-9a5c-e1f3ea5a7873",
   "metadata": {},
   "source": [
    "***Note***: reassining to infrastructure all cells that touch infrastructure does not work for larger cells sizes. That happens because if greater than a given size, the hexagon will be larger than city blocks and will thus intersect with a street somewhere. Hence, if the problem is to be scalable, this must be handled."
   ]
  },
  {
   "cell_type": "code",
   "execution_count": null,
   "id": "dda2d575-c082-4c4d-88bc-72181934944b",
   "metadata": {},
   "outputs": [],
   "source": [
    "def reclassify_land_uses(gdf, slums):\n",
    "    gdf = _classify_landmarks(gdf)\n",
    "    \n",
    "    gdf = _reclassify_subnormal(gdf,\n",
    "                                slums)\n",
    "    \n",
    "    \n",
    "    return gdf\n",
    "    "
   ]
  },
  {
   "cell_type": "code",
   "execution_count": null,
   "id": "29ea9021-5209-4258-bdd9-a5e4cde530a0",
   "metadata": {},
   "outputs": [],
   "source": [
    "lu_2011 = reclassify_land_uses(lu_2011,\n",
    "                               favelas,\n",
    "                               subnormal_agg)\n",
    "\n",
    "lu_2011.plot(column='use', legend=True, figsize=(15,30), linewidth=0)"
   ]
  },
  {
   "cell_type": "code",
   "execution_count": null,
   "id": "661c9d71-8d76-4a86-aa4c-f485a6e39df6",
   "metadata": {},
   "outputs": [],
   "source": [
    "lu_2017 = reclassify_land_uses(lu_2017,\n",
    "                               favelas,\n",
    "                               subnormal_agg)\n",
    "\n",
    "lu_2017.plot(column='use', legend=True, figsize=(15,30), linewidth=0)"
   ]
  },
  {
   "cell_type": "code",
   "execution_count": null,
   "id": "4e98b7a0-f80c-4be0-88de-ae2ec8465324",
   "metadata": {},
   "outputs": [],
   "source": [
    "lu_2020 = reclassify_land_uses(lu_2020,\n",
    "                               favelas,\n",
    "                               subnormal_agg)\n",
    "\n",
    "lu_2020.plot(column='use', legend=True, figsize=(15,30), linewidth=0)"
   ]
  },
  {
   "cell_type": "code",
   "execution_count": null,
   "id": "85a343e3-de4d-4bd8-9d61-0dcd5ce8ddbd",
   "metadata": {},
   "outputs": [],
   "source": [
    "path_to_hexes = (out_folder\n",
    "                 / f'BH_hex_{hexagon_size}_with_land_uses.gpkg')\n",
    "\n",
    "hex_2011.to_file(path_to_hexes,\n",
    "                 layer='2011',\n",
    "                 driver='GPKG',)\n",
    "\n",
    "hex_2017.to_file(path_to_hexes,\n",
    "                 layer='2017',\n",
    "                 driver='GPKG',)\n",
    "\n",
    "hex_2020.to_file(path_to_hexes,\n",
    "                 layer='2020',\n",
    "                 driver='GPKG',)"
   ]
  },
  {
   "cell_type": "markdown",
   "id": "dce0645f-96b3-4f63-b89b-447d9199afc1",
   "metadata": {},
   "source": [
    "For the years 2011 and 2020 The imputation resulted in dataframes with duplicated hex labels. Investigating those in QGIS revealed the problem to be overlapping land use geometries, which caused for a hexagon centroid to be assigned once to each of the overlapping features.\n",
    "\n",
    "In 2011, most duplicates concerned areas of vacant land, while a minor number of instances were residential and retail/services. While the number of duplicates in 2020 was quite small, given the size of the hexagon dataframe (989,884 cells). Therefore, duplicates were simply dropped."
   ]
  },
  {
   "cell_type": "code",
   "execution_count": null,
   "id": "26af5544-2054-4853-8fd2-1a1088522255",
   "metadata": {},
   "outputs": [],
   "source": [
    "#hex_2011.loc[hex_2011.index.duplicated(keep=False)].use.value_counts()"
   ]
  },
  {
   "cell_type": "code",
   "execution_count": null,
   "id": "6a23c422-adff-40dd-ada5-d1c97a1f0ad5",
   "metadata": {},
   "outputs": [],
   "source": [
    "#hex_2020.loc[hex_2020.index.duplicated(keep=False)].use.value_counts()"
   ]
  },
  {
   "cell_type": "code",
   "execution_count": null,
   "id": "f6b13162-c0ad-4ce3-a0a2-d376d7eb0810",
   "metadata": {},
   "outputs": [],
   "source": [
    "#hex_2011 = hex_2011.loc[~hex_2011.index.duplicated()]\n",
    "\n",
    "#hex_2020 = hex_2020.loc[~hex_2020.index.duplicated()]"
   ]
  },
  {
   "cell_type": "markdown",
   "id": "bba2ca37-cb2c-422c-815b-329a6ad9be28",
   "metadata": {},
   "source": [
    "# Plotting"
   ]
  },
  {
   "cell_type": "code",
   "execution_count": null,
   "id": "61911fed-808f-48a9-a8da-8a4ead63f4ac",
   "metadata": {},
   "outputs": [],
   "source": [
    "def _subplot(parcels, attribute, palette, ax):\n",
    "    legend_elements = []\n",
    "    for cat, group in parcels.groupby(attribute):\n",
    "        color = palette[cat]\n",
    "\n",
    "        group.plot(ax=ax,\n",
    "                   color=color,)\n",
    "\n",
    "        patch_element = Patch(facecolor=color,\n",
    "                              edgecolor=color,\n",
    "                              label=cat,)\n",
    "\n",
    "        legend_elements.append(patch_element)\n",
    "\n",
    "    ax.legend(handles=legend_elements,\n",
    "              bbox_to_anchor=(1, 0.01),\n",
    "              loc='lower right',\n",
    "              prop={'size': 3},)\n",
    "    \n",
    "    ax.axis('off')\n",
    "    \n",
    "    # Web map tiles are typically provided in Web Mercator\n",
    "    # (EPSG 3857) and that's contextily default. Hence, CRS\n",
    "    # needs to be adjusted to match geodata.\n",
    "    cx.add_basemap(ax,\n",
    "                   crs=parcels.crs.to_string(),\n",
    "                   source=cx.providers.CartoDB.PositronNoLabels,\n",
    "                   attribution_size=2,)\n",
    "    \n",
    "    \n",
    "def plot_land_uses(hexagons, year, category_palette, use_palette):\n",
    "    f, axes = plt.subplots(ncols=2, dpi=300, figsize=(5, 8))\n",
    "    ax1,ax2 = axes\n",
    "    \n",
    "    _subplot(hexagons,\n",
    "             'category',\n",
    "             category_palette,\n",
    "             ax1,)\n",
    "\n",
    "    _subplot(hexagons,\n",
    "             'use',\n",
    "             use_palette,\n",
    "             ax2,)\n",
    "    \n",
    "    f.tight_layout()\n",
    "\n",
    "    plt.savefig(out_folder / f'land_use_map_{year}.png',\n",
    "                dpi=300,)\n",
    "    plt.show()\n",
    "    \n",
    "    "
   ]
  },
  {
   "cell_type": "code",
   "execution_count": null,
   "id": "2a9af62f-6092-435b-a3c0-4b7ed4d4dc50",
   "metadata": {},
   "outputs": [],
   "source": [
    "category_palette = {'active': '#C97064',\n",
    "                    'static': '#39487F',\n",
    "                    'passive': '#527048',}\n",
    "\n",
    "use_palette = {'residential': '#FECEF1',\n",
    "               'subnormal': '#B05F66',\n",
    "               'retail/services': '#3B727C',\n",
    "               'mixed': '#60E1E0',\n",
    "               'vacant': '#82A775',\n",
    "               'industry': '#291A10',\n",
    "               'infrastructure': '#FFFBDB',\n",
    "               'public services': '#A85118',\n",
    "               'amenities': '#7D573C',}"
   ]
  },
  {
   "cell_type": "markdown",
   "id": "38940c2f-6c3d-4ccc-89cf-a32fb51e1292",
   "metadata": {},
   "source": [
    "## Map for 2011"
   ]
  },
  {
   "cell_type": "code",
   "execution_count": null,
   "id": "9c9c56ae-6770-4215-9536-61078394661f",
   "metadata": {},
   "outputs": [],
   "source": [
    "plot_land_uses(hex_2011, 2011, category_palette, use_palette)"
   ]
  },
  {
   "cell_type": "markdown",
   "id": "9fe74280-9c16-4f05-a7b1-f96a67fa1f10",
   "metadata": {},
   "source": [
    "## Map for 2017"
   ]
  },
  {
   "cell_type": "code",
   "execution_count": null,
   "id": "e613f844-34a2-4d11-8f67-ea4176a63cb4",
   "metadata": {},
   "outputs": [],
   "source": [
    "plot_land_uses(hex_2017, 2017, category_palette, use_palette)"
   ]
  },
  {
   "cell_type": "markdown",
   "id": "8f24e8b3-1c02-4d11-a515-0390e85c84d6",
   "metadata": {},
   "source": [
    "## Map for 2020"
   ]
  },
  {
   "cell_type": "code",
   "execution_count": null,
   "id": "561c4962-73b3-47e9-a6db-df72589e42c3",
   "metadata": {},
   "outputs": [],
   "source": [
    "plot_land_uses(hex_2020, 2020, category_palette, use_palette)"
   ]
  },
  {
   "cell_type": "code",
   "execution_count": null,
   "id": "251e9793-2c71-4f17-acb2-f8ff6a0b56ee",
   "metadata": {},
   "outputs": [],
   "source": []
  }
 ],
 "metadata": {
  "kernelspec": {
   "display_name": "Python 3 (ipykernel)",
   "language": "python",
   "name": "python3"
  },
  "language_info": {
   "codemirror_mode": {
    "name": "ipython",
    "version": 3
   },
   "file_extension": ".py",
   "mimetype": "text/x-python",
   "name": "python",
   "nbconvert_exporter": "python",
   "pygments_lexer": "ipython3",
   "version": "3.8.10"
  },
  "toc-autonumbering": true
 },
 "nbformat": 4,
 "nbformat_minor": 5
}
