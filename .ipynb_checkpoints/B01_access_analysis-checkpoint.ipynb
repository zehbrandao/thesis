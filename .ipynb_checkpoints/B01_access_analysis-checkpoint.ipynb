{
 "cells": [
  {
   "cell_type": "code",
   "execution_count": 1,
   "metadata": {},
   "outputs": [],
   "source": [
    "import datetime\n",
    "import fiona\n",
    "import os\n",
    "import pathlib\n",
    "import re\n",
    "import warnings\n",
    "\n",
    "import geopandas as gpd\n",
    "import gtfstools as gtfs\n",
    "import matplotlib.pyplot as plt\n",
    "import networkx as nx\n",
    "import numpy as np\n",
    "import osmnx as ox\n",
    "import pandana as pdna\n",
    "import pandas as pd\n",
    "import seaborn as sns\n",
    "\n",
    "\n",
    "%matplotlib inline\n",
    "%config InlineBackend.figure_format='retina'\n",
    "\n",
    "pd.options.display.float_format = '{:,.2f}'.format"
   ]
  },
  {
   "cell_type": "markdown",
   "metadata": {
    "tags": []
   },
   "source": [
    "# USER INPUTS"
   ]
  },
  {
   "cell_type": "code",
   "execution_count": 2,
   "metadata": {
    "tags": []
   },
   "outputs": [],
   "source": [
    "out_folder = os.environ.get('OUT_FOLDER')\n",
    "out_folder = pathlib.Path(out_folder)\n",
    "\n",
    "db_folder = os.environ.get('DB_FOLDER')\n",
    "db_folder = pathlib.Path(db_folder)"
   ]
  },
  {
   "cell_type": "markdown",
   "metadata": {},
   "source": [
    "# Read Data"
   ]
  },
  {
   "cell_type": "markdown",
   "metadata": {},
   "source": [
    "## Hexagons with  Land Uses"
   ]
  },
  {
   "cell_type": "code",
   "execution_count": 3,
   "metadata": {},
   "outputs": [],
   "source": [
    "def _get_path_to_gpkg(res):\n",
    "    # TO DO: allow for more flexibility in the naming of the file?\n",
    "    re_path = r'(BH_)(hex_\\d{1,2})(_with_land_uses\\.gpkg)'\n",
    "\n",
    "    for file in (out_folder / 'A').iterdir():\n",
    "        match = re.search(re_path, file.name)\n",
    "        # If there's no search result, match is None\n",
    "        if match:\n",
    "            # The gdf in each layer was indexed by a H3 label,\n",
    "            # and the index name corresponded to the hex resolution.\n",
    "            # When saving to geopackage, the index name is lost.\n",
    "            # This parameter takes the info on resolution from the\n",
    "            # file to later insert it back to the data\n",
    "            hex_res = match.group(2) # .group() is one-indexed\n",
    "            \n",
    "            if hex_res == f'hex_{res}':\n",
    "                return file, hex_res\n",
    "\n",
    "\n",
    "def _get_hexagons_with_uses(path, layername, hex_resolution):\n",
    "    # The following is just because Fiona is emmiting an annoying\n",
    "    # warning message that is most likely useless (see link for\n",
    "    # this issue below)\n",
    "    with warnings.catch_warnings():\n",
    "        warnings.filterwarnings('ignore',\n",
    "                                category=RuntimeWarning,)\n",
    "        hex_ = gpd.read_file(path, layer=layername)\n",
    "        \n",
    "    hex_['year'] = layername\n",
    "    \n",
    "    \n",
    "    return hex_.rename(columns={'index': hex_resolution})\n",
    "\n",
    "\n",
    "def _drop_nulls(gdf, hex_res):\n",
    "    nulls = gdf.loc[gdf.use.isnull(), hex_res].unique()\n",
    "    \n",
    "    \n",
    "    return gdf.loc[~gdf[hex_res].isin(nulls)]\n",
    "    \n",
    "\n",
    "\n",
    "def _enforce_preferred_order(data):\n",
    "    categoricals = {\n",
    "        'category': ['active', 'passive', 'static'],\n",
    "        \n",
    "        'use': ['residential', 'subnormal', 'retail/services',\n",
    "                'mixed', 'vacant', 'amenities', 'public services',\n",
    "                'industry', 'infrastructure']\n",
    "                   }\n",
    "    \n",
    "    for each in ['category', 'use']:\n",
    "        data[each] = pd.Categorical(data[each],\n",
    "                                    categories=categoricals[each],\n",
    "                                    ordered=True,)\n",
    "        \n",
    "        \n",
    "    return data.sort_values(['category', 'use'])\n",
    "\n",
    "\n",
    "def get_land_use_maps(res):\n",
    "    \"\"\"Reads geopackage containing land use maps for \n",
    "    each study year. It assumes one year per layer and\n",
    "    that each year has the same structure.\n",
    "    \"\"\"\n",
    "    path, hex_res =  _get_path_to_gpkg(res)\n",
    "    \n",
    "    hex_series = []\n",
    "    for layername in fiona.listlayers(path):\n",
    "        hex_series.append(_get_hexagons_with_uses(path, layername, hex_res))\n",
    "        \n",
    "    hexes = pd.concat(hex_series, ignore_index=True)\n",
    "    hexes = _enforce_preferred_order(hexes)\n",
    "    hexes = _drop_nulls(hexes, hex_res)\n",
    "    hexes.set_index(hex_res, inplace=True)\n",
    "    hexes.index.name = hex_res\n",
    "    \n",
    "    return hexes"
   ]
  },
  {
   "cell_type": "code",
   "execution_count": 4,
   "metadata": {},
   "outputs": [
    {
     "data": {
      "text/html": [
       "<div>\n",
       "<style scoped>\n",
       "    .dataframe tbody tr th:only-of-type {\n",
       "        vertical-align: middle;\n",
       "    }\n",
       "\n",
       "    .dataframe tbody tr th {\n",
       "        vertical-align: top;\n",
       "    }\n",
       "\n",
       "    .dataframe thead th {\n",
       "        text-align: right;\n",
       "    }\n",
       "</style>\n",
       "<table border=\"1\" class=\"dataframe\">\n",
       "  <thead>\n",
       "    <tr style=\"text-align: right;\">\n",
       "      <th></th>\n",
       "      <th>pop</th>\n",
       "      <th>income</th>\n",
       "      <th>x_epsg31983</th>\n",
       "      <th>y_epsg31983</th>\n",
       "      <th>category</th>\n",
       "      <th>use</th>\n",
       "      <th>geometry</th>\n",
       "      <th>year</th>\n",
       "    </tr>\n",
       "    <tr>\n",
       "      <th>hex_11</th>\n",
       "      <th></th>\n",
       "      <th></th>\n",
       "      <th></th>\n",
       "      <th></th>\n",
       "      <th></th>\n",
       "      <th></th>\n",
       "      <th></th>\n",
       "      <th></th>\n",
       "    </tr>\n",
       "  </thead>\n",
       "  <tbody>\n",
       "    <tr>\n",
       "      <th>8ba881ac9332fff</th>\n",
       "      <td>24.55</td>\n",
       "      <td>1,729.86</td>\n",
       "      <td>614,971.55</td>\n",
       "      <td>7,797,884.29</td>\n",
       "      <td>active</td>\n",
       "      <td>residential</td>\n",
       "      <td>POLYGON ((614986.036 7797858.452, 615002.006 7...</td>\n",
       "      <td>2011</td>\n",
       "    </tr>\n",
       "    <tr>\n",
       "      <th>8ba88cd842dcfff</th>\n",
       "      <td>30.17</td>\n",
       "      <td>1,013.36</td>\n",
       "      <td>605,947.19</td>\n",
       "      <td>7,799,072.04</td>\n",
       "      <td>active</td>\n",
       "      <td>residential</td>\n",
       "      <td>POLYGON ((605965.637 7799044.839, 605981.596 7...</td>\n",
       "      <td>2011</td>\n",
       "    </tr>\n",
       "    <tr>\n",
       "      <th>8ba88cdb244cfff</th>\n",
       "      <td>24.63</td>\n",
       "      <td>2,177.40</td>\n",
       "      <td>613,752.44</td>\n",
       "      <td>7,796,813.93</td>\n",
       "      <td>active</td>\n",
       "      <td>residential</td>\n",
       "      <td>POLYGON ((613765.667 7796788.587, 613781.634 7...</td>\n",
       "      <td>2011</td>\n",
       "    </tr>\n",
       "  </tbody>\n",
       "</table>\n",
       "</div>"
      ],
      "text/plain": [
       "                  pop   income  x_epsg31983  y_epsg31983 category  \\\n",
       "hex_11                                                              \n",
       "8ba881ac9332fff 24.55 1,729.86   614,971.55 7,797,884.29   active   \n",
       "8ba88cd842dcfff 30.17 1,013.36   605,947.19 7,799,072.04   active   \n",
       "8ba88cdb244cfff 24.63 2,177.40   613,752.44 7,796,813.93   active   \n",
       "\n",
       "                         use  \\\n",
       "hex_11                         \n",
       "8ba881ac9332fff  residential   \n",
       "8ba88cd842dcfff  residential   \n",
       "8ba88cdb244cfff  residential   \n",
       "\n",
       "                                                          geometry  year  \n",
       "hex_11                                                                    \n",
       "8ba881ac9332fff  POLYGON ((614986.036 7797858.452, 615002.006 7...  2011  \n",
       "8ba88cd842dcfff  POLYGON ((605965.637 7799044.839, 605981.596 7...  2011  \n",
       "8ba88cdb244cfff  POLYGON ((613765.667 7796788.587, 613781.634 7...  2011  "
      ]
     },
     "execution_count": 4,
     "metadata": {},
     "output_type": "execute_result"
    }
   ],
   "source": [
    "hexes = get_land_use_maps(11)\n",
    "\n",
    "hexes.head(3)"
   ]
  },
  {
   "cell_type": "markdown",
   "metadata": {},
   "source": [
    "## Street Network"
   ]
  },
  {
   "cell_type": "code",
   "execution_count": 5,
   "metadata": {},
   "outputs": [],
   "source": [
    "with warnings.catch_warnings():\n",
    "    warnings.filterwarnings('ignore',\n",
    "                            message='Iteration over multi-part')\n",
    "\n",
    "    bh = ox.graph_from_place('Belo Horizonte, MG, Brazil',\n",
    "                             network_type='drive',\n",
    "                             simplify=False,)\n",
    "    \n",
    "bh = ox.project_graph(bh, to_crs='EPSG:31983')"
   ]
  },
  {
   "cell_type": "markdown",
   "metadata": {},
   "source": [
    "## OD Matrix and Traffic Zones"
   ]
  },
  {
   "cell_type": "code",
   "execution_count": 6,
   "metadata": {},
   "outputs": [],
   "source": [
    "bh_trip_folder = (db_folder\n",
    "                  / 'beaga'\n",
    "                  / 'origin_destination_survey'\n",
    "                  / '2012')\n",
    "\n",
    "path_to_tzs = bh_trip_folder / 'malha_areas_homogeneas.zip'\n",
    "path_to_od = bh_trip_folder / 'internal_trips_RMBH.csv'"
   ]
  },
  {
   "cell_type": "code",
   "execution_count": 7,
   "metadata": {},
   "outputs": [],
   "source": [
    "def _get_traffic_zones(path, output_epsg):\n",
    "    if path.suffix == '.zip':\n",
    "        path = ('zip://'\n",
    "                + path.as_posix())\n",
    "    \n",
    "    # Shapefile's CRS was neither in the data not it was clear:\n",
    "    # EPSG:4674 (GCS SIRGAS 2000) is my best guess\n",
    "    geometries = gpd.read_file(str(path),\n",
    "                               crs=f'EPSG:4674',\n",
    "                               geometry='geometry',\n",
    "                              )\n",
    "    geometries.to_crs(epsg=output_epsg, inplace=True)\n",
    "    \n",
    "    geometries.rename(columns={'AH2011': 'tz'},\n",
    "                      inplace=True,\n",
    "                     )\n",
    "    \n",
    "    # TO DO: unhardcode this and allow for better handling of string labels\n",
    "    geometries = geometries.astype({'tz': int})\n",
    "    geometries = geometries.astype({'tz': str})\n",
    "    \n",
    "    geometries.set_index('tz', inplace=True)\n",
    "    \n",
    "    \n",
    "    return geometries\n"
   ]
  },
  {
   "cell_type": "code",
   "execution_count": 8,
   "metadata": {},
   "outputs": [],
   "source": [
    "def _get_part_of_interest(od):\n",
    "    to_keep = {'DS_SH_MOTIVO_ORIGEM': 'purp_origin',\n",
    "               'Município origem': 'muni_origin',\n",
    "               'AH origem': 'tz_origin',\n",
    "               'start_time': 'start_time',\n",
    "               'travel_time': 'travel_time',\n",
    "               'end_time': 'end_time',\n",
    "               'AH destino': 'tz_dest',\n",
    "               'Município destino': 'muni_dest',\n",
    "               'DS_SH_MOTIVO_DESTINO': 'purp_dest',\n",
    "               'Modos agrupados': 'travel_mode',\n",
    "               'Fator expansão': 'expansion'}\n",
    "\n",
    "    od = od.reindex(columns=to_keep.keys())\n",
    "    od.rename(columns=to_keep, inplace=True)\n",
    "    \n",
    "    od = od.loc[od.muni_origin == od.muni_dest]\n",
    "    \n",
    "    \n",
    "    return od.drop(columns=['muni_origin', 'muni_dest'])\n",
    "\n",
    "\n",
    "def _get_od_centers(od, tz, trip_end, output_epsg):\n",
    "    od = tz.merge(od,\n",
    "                  left_index=True,\n",
    "                  right_on=f'tz_{trip_end}')\n",
    "    \n",
    "    od = gpd.GeoDataFrame(od,\n",
    "                          geometry='geometry',\n",
    "                          crs='EPSG:31983')\n",
    "    \n",
    "    od[f'x_{trip_end}'] = od.centroid.x\n",
    "    od[f'y_{trip_end}'] = od.centroid.y\n",
    "    \n",
    "    \n",
    "    return od.drop(columns='geometry')\n",
    "\n",
    "\n",
    "def get_od(od_path, tz_path, output_epsg=31983,\n",
    "           sep=';', encoding='utf-8', decimal=','):\n",
    "    od = pd.read_csv(od_path,\n",
    "                     sep=sep,\n",
    "                     encoding=encoding,\n",
    "                     decimal=decimal,\n",
    "                     dtype={'AH origem': str,\n",
    "                            'AH destino': str},\n",
    "                     parse_dates={'start_time': ['Hora início'],\n",
    "                                  'travel_time': ['TEMPO DE DESLOCAMENTO'],\n",
    "                                  'end_time': ['Hora fim']})\n",
    "    \n",
    "    od = _get_part_of_interest(od)\n",
    "    \n",
    "    tz = _get_traffic_zones(tz_path, output_epsg)\n",
    "    od = _get_od_centers(od, tz, 'origin', output_epsg)\n",
    "    od = _get_od_centers(od, tz, 'dest', output_epsg)\n",
    "    \n",
    "    \n",
    "    return od"
   ]
  },
  {
   "cell_type": "code",
   "execution_count": 9,
   "metadata": {},
   "outputs": [],
   "source": [
    "od = get_od(path_to_od, path_to_tzs)"
   ]
  },
  {
   "cell_type": "code",
   "execution_count": 10,
   "metadata": {},
   "outputs": [],
   "source": [
    "def project_tz_in_graph(G, od):\n",
    "    # This should have been done with the traffic\n",
    "    # zones shapefile. Doing this here incurs\n",
    "    # into redundant computations\n",
    "    origin_node, o_dists = ox.nearest_nodes(G,\n",
    "                                            od.x_origin,\n",
    "                                            od.y_origin,\n",
    "                                            return_dist=True)\n",
    "    od['origin_node'] = origin_node\n",
    "    od['origin_proj_dist'] = o_dists\n",
    "\n",
    "    dest_nodes, d_dists = ox.nearest_nodes(G,\n",
    "                                           od.x_origin,\n",
    "                                           od.y_origin,\n",
    "                                           return_dist=True)\n",
    "    od['dest_node'] = origin_node\n",
    "    od['dest_proj_dist'] = o_dists\n",
    "    "
   ]
  },
  {
   "cell_type": "code",
   "execution_count": 11,
   "metadata": {},
   "outputs": [],
   "source": [
    "project_tz_in_graph(bh, od)"
   ]
  },
  {
   "cell_type": "code",
   "execution_count": 12,
   "metadata": {},
   "outputs": [
    {
     "data": {
      "text/html": [
       "<div>\n",
       "<style scoped>\n",
       "    .dataframe tbody tr th:only-of-type {\n",
       "        vertical-align: middle;\n",
       "    }\n",
       "\n",
       "    .dataframe tbody tr th {\n",
       "        vertical-align: top;\n",
       "    }\n",
       "\n",
       "    .dataframe thead th {\n",
       "        text-align: right;\n",
       "    }\n",
       "</style>\n",
       "<table border=\"1\" class=\"dataframe\">\n",
       "  <thead>\n",
       "    <tr style=\"text-align: right;\">\n",
       "      <th></th>\n",
       "      <th>expansion</th>\n",
       "      <th>x_origin</th>\n",
       "      <th>y_origin</th>\n",
       "      <th>x_dest</th>\n",
       "      <th>y_dest</th>\n",
       "      <th>origin_node</th>\n",
       "      <th>origin_proj_dist</th>\n",
       "      <th>dest_node</th>\n",
       "      <th>dest_proj_dist</th>\n",
       "    </tr>\n",
       "  </thead>\n",
       "  <tbody>\n",
       "    <tr>\n",
       "      <th>count</th>\n",
       "      <td>117,418.00</td>\n",
       "      <td>117,418.00</td>\n",
       "      <td>117,418.00</td>\n",
       "      <td>117,418.00</td>\n",
       "      <td>117,418.00</td>\n",
       "      <td>117,418.00</td>\n",
       "      <td>117,418.00</td>\n",
       "      <td>117,418.00</td>\n",
       "      <td>117,418.00</td>\n",
       "    </tr>\n",
       "    <tr>\n",
       "      <th>mean</th>\n",
       "      <td>92.94</td>\n",
       "      <td>604,611.37</td>\n",
       "      <td>7,800,683.61</td>\n",
       "      <td>604,614.59</td>\n",
       "      <td>7,800,678.10</td>\n",
       "      <td>2,327,809,734.92</td>\n",
       "      <td>6,050.86</td>\n",
       "      <td>2,327,809,734.92</td>\n",
       "      <td>6,050.86</td>\n",
       "    </tr>\n",
       "    <tr>\n",
       "      <th>std</th>\n",
       "      <td>109.10</td>\n",
       "      <td>13,606.67</td>\n",
       "      <td>12,770.32</td>\n",
       "      <td>13,604.73</td>\n",
       "      <td>12,766.55</td>\n",
       "      <td>3,013,822,154.95</td>\n",
       "      <td>10,176.55</td>\n",
       "      <td>3,013,822,154.95</td>\n",
       "      <td>10,176.55</td>\n",
       "    </tr>\n",
       "    <tr>\n",
       "      <th>min</th>\n",
       "      <td>0.00</td>\n",
       "      <td>548,738.89</td>\n",
       "      <td>7,744,686.57</td>\n",
       "      <td>548,738.89</td>\n",
       "      <td>7,744,686.57</td>\n",
       "      <td>27,563,811.00</td>\n",
       "      <td>0.15</td>\n",
       "      <td>27,563,811.00</td>\n",
       "      <td>0.15</td>\n",
       "    </tr>\n",
       "    <tr>\n",
       "      <th>25%</th>\n",
       "      <td>50.31</td>\n",
       "      <td>600,089.03</td>\n",
       "      <td>7,794,037.58</td>\n",
       "      <td>599,960.68</td>\n",
       "      <td>7,794,037.58</td>\n",
       "      <td>316,762,409.00</td>\n",
       "      <td>36.36</td>\n",
       "      <td>316,762,409.00</td>\n",
       "      <td>36.36</td>\n",
       "    </tr>\n",
       "    <tr>\n",
       "      <th>50%</th>\n",
       "      <td>96.17</td>\n",
       "      <td>607,460.76</td>\n",
       "      <td>7,798,010.14</td>\n",
       "      <td>607,474.09</td>\n",
       "      <td>7,797,985.58</td>\n",
       "      <td>320,880,631.00</td>\n",
       "      <td>88.50</td>\n",
       "      <td>320,880,631.00</td>\n",
       "      <td>88.50</td>\n",
       "    </tr>\n",
       "    <tr>\n",
       "      <th>75%</th>\n",
       "      <td>119.86</td>\n",
       "      <td>611,763.01</td>\n",
       "      <td>7,806,401.82</td>\n",
       "      <td>611,763.01</td>\n",
       "      <td>7,806,365.20</td>\n",
       "      <td>3,821,271,630.00</td>\n",
       "      <td>8,629.17</td>\n",
       "      <td>3,821,271,630.00</td>\n",
       "      <td>8,629.17</td>\n",
       "    </tr>\n",
       "    <tr>\n",
       "      <th>max</th>\n",
       "      <td>5,742.49</td>\n",
       "      <td>650,691.99</td>\n",
       "      <td>7,875,912.17</td>\n",
       "      <td>650,691.99</td>\n",
       "      <td>7,875,912.17</td>\n",
       "      <td>9,048,339,266.00</td>\n",
       "      <td>64,727.55</td>\n",
       "      <td>9,048,339,266.00</td>\n",
       "      <td>64,727.55</td>\n",
       "    </tr>\n",
       "  </tbody>\n",
       "</table>\n",
       "</div>"
      ],
      "text/plain": [
       "       expansion   x_origin     y_origin     x_dest       y_dest  \\\n",
       "count 117,418.00 117,418.00   117,418.00 117,418.00   117,418.00   \n",
       "mean       92.94 604,611.37 7,800,683.61 604,614.59 7,800,678.10   \n",
       "std       109.10  13,606.67    12,770.32  13,604.73    12,766.55   \n",
       "min         0.00 548,738.89 7,744,686.57 548,738.89 7,744,686.57   \n",
       "25%        50.31 600,089.03 7,794,037.58 599,960.68 7,794,037.58   \n",
       "50%        96.17 607,460.76 7,798,010.14 607,474.09 7,797,985.58   \n",
       "75%       119.86 611,763.01 7,806,401.82 611,763.01 7,806,365.20   \n",
       "max     5,742.49 650,691.99 7,875,912.17 650,691.99 7,875,912.17   \n",
       "\n",
       "           origin_node  origin_proj_dist        dest_node  dest_proj_dist  \n",
       "count       117,418.00        117,418.00       117,418.00      117,418.00  \n",
       "mean  2,327,809,734.92          6,050.86 2,327,809,734.92        6,050.86  \n",
       "std   3,013,822,154.95         10,176.55 3,013,822,154.95       10,176.55  \n",
       "min      27,563,811.00              0.15    27,563,811.00            0.15  \n",
       "25%     316,762,409.00             36.36   316,762,409.00           36.36  \n",
       "50%     320,880,631.00             88.50   320,880,631.00           88.50  \n",
       "75%   3,821,271,630.00          8,629.17 3,821,271,630.00        8,629.17  \n",
       "max   9,048,339,266.00         64,727.55 9,048,339,266.00       64,727.55  "
      ]
     },
     "execution_count": 12,
     "metadata": {},
     "output_type": "execute_result"
    }
   ],
   "source": [
    "od.describe()"
   ]
  },
  {
   "cell_type": "code",
   "execution_count": 24,
   "metadata": {},
   "outputs": [
    {
     "data": {
      "text/plain": [
       "<AxesSubplot:xlabel='travel_time_sec', ylabel='Count'>"
      ]
     },
     "execution_count": 24,
     "metadata": {},
     "output_type": "execute_result"
    },
    {
     "data": {
      "image/png": "[encoded data removed]",
      "text/plain": [
       "<Figure size 1440x504 with 1 Axes>"
      ]
     },
     "metadata": {
      "image/png": {
       "height": 425,
       "width": 1176
      },
      "needs_background": "light"
     },
     "output_type": "display_data"
    }
   ],
   "source": [
    "df = od.loc[od.travel_mode == 'coletivo']\n",
    "\n",
    "q1 = df.travel_time_sec.quantile(.25)\n",
    "q3 = df.travel_time_sec.quantile(.75)\n",
    "iq_range = q3 - q1\n",
    "\n",
    "threshold = q3 + (1.5 * iq_range)\n",
    "\n",
    "df = df.loc[(df.travel_time_sec > 0)\n",
    "            & (df.travel_time_sec <= threshold)]\n",
    "\n",
    "f, ax = plt.subplots(figsize=(20, 7))\n",
    "\n",
    "sns.histplot(data=df,\n",
    "            ax=ax,\n",
    "            x='travel_time_sec')"
   ]
  },
  {
   "cell_type": "code",
   "execution_count": 13,
   "metadata": {},
   "outputs": [
    {
     "data": {
      "text/html": [
       "<div>\n",
       "<style scoped>\n",
       "    .dataframe tbody tr th:only-of-type {\n",
       "        vertical-align: middle;\n",
       "    }\n",
       "\n",
       "    .dataframe tbody tr th {\n",
       "        vertical-align: top;\n",
       "    }\n",
       "\n",
       "    .dataframe thead th {\n",
       "        text-align: right;\n",
       "    }\n",
       "</style>\n",
       "<table border=\"1\" class=\"dataframe\">\n",
       "  <thead>\n",
       "    <tr style=\"text-align: right;\">\n",
       "      <th></th>\n",
       "      <th>purp_origin</th>\n",
       "      <th>tz_origin</th>\n",
       "      <th>start_time</th>\n",
       "      <th>travel_time</th>\n",
       "      <th>end_time</th>\n",
       "      <th>tz_dest</th>\n",
       "      <th>purp_dest</th>\n",
       "      <th>travel_mode</th>\n",
       "      <th>expansion</th>\n",
       "      <th>x_origin</th>\n",
       "      <th>y_origin</th>\n",
       "      <th>x_dest</th>\n",
       "      <th>y_dest</th>\n",
       "      <th>travel_time_sec</th>\n",
       "    </tr>\n",
       "  </thead>\n",
       "  <tbody>\n",
       "    <tr>\n",
       "      <th>5383</th>\n",
       "      <td>Compras</td>\n",
       "      <td>1001</td>\n",
       "      <td>1899-12-30 10:50:00</td>\n",
       "      <td>1899-12-30 00:10:00</td>\n",
       "      <td>1899-12-30 11:00:00</td>\n",
       "      <td>1001</td>\n",
       "      <td>Residência</td>\n",
       "      <td>Não motorizado</td>\n",
       "      <td>124.94</td>\n",
       "      <td>611,402.59</td>\n",
       "      <td>7,796,287.99</td>\n",
       "      <td>611,402.59</td>\n",
       "      <td>7,796,287.99</td>\n",
       "      <td>600</td>\n",
       "    </tr>\n",
       "    <tr>\n",
       "      <th>5406</th>\n",
       "      <td>Residência</td>\n",
       "      <td>1001</td>\n",
       "      <td>1899-12-30 21:00:00</td>\n",
       "      <td>1899-12-30 00:05:00</td>\n",
       "      <td>1899-12-30 21:05:00</td>\n",
       "      <td>1001</td>\n",
       "      <td>Compras</td>\n",
       "      <td>Não motorizado</td>\n",
       "      <td>124.94</td>\n",
       "      <td>611,402.59</td>\n",
       "      <td>7,796,287.99</td>\n",
       "      <td>611,402.59</td>\n",
       "      <td>7,796,287.99</td>\n",
       "      <td>300</td>\n",
       "    </tr>\n",
       "    <tr>\n",
       "      <th>5407</th>\n",
       "      <td>Compras</td>\n",
       "      <td>1001</td>\n",
       "      <td>1899-12-30 21:30:00</td>\n",
       "      <td>1899-12-30 00:05:00</td>\n",
       "      <td>1899-12-30 21:35:00</td>\n",
       "      <td>1001</td>\n",
       "      <td>Residência</td>\n",
       "      <td>Não motorizado</td>\n",
       "      <td>124.94</td>\n",
       "      <td>611,402.59</td>\n",
       "      <td>7,796,287.99</td>\n",
       "      <td>611,402.59</td>\n",
       "      <td>7,796,287.99</td>\n",
       "      <td>300</td>\n",
       "    </tr>\n",
       "    <tr>\n",
       "      <th>5414</th>\n",
       "      <td>Residência</td>\n",
       "      <td>1001</td>\n",
       "      <td>1899-12-30 21:00:00</td>\n",
       "      <td>1899-12-30 00:05:00</td>\n",
       "      <td>1899-12-30 21:05:00</td>\n",
       "      <td>1001</td>\n",
       "      <td>Compras</td>\n",
       "      <td>Não motorizado</td>\n",
       "      <td>124.94</td>\n",
       "      <td>611,402.59</td>\n",
       "      <td>7,796,287.99</td>\n",
       "      <td>611,402.59</td>\n",
       "      <td>7,796,287.99</td>\n",
       "      <td>300</td>\n",
       "    </tr>\n",
       "    <tr>\n",
       "      <th>5415</th>\n",
       "      <td>Compras</td>\n",
       "      <td>1001</td>\n",
       "      <td>1899-12-30 21:30:00</td>\n",
       "      <td>1899-12-30 00:05:00</td>\n",
       "      <td>1899-12-30 21:35:00</td>\n",
       "      <td>1001</td>\n",
       "      <td>Residência</td>\n",
       "      <td>Não motorizado</td>\n",
       "      <td>124.94</td>\n",
       "      <td>611,402.59</td>\n",
       "      <td>7,796,287.99</td>\n",
       "      <td>611,402.59</td>\n",
       "      <td>7,796,287.99</td>\n",
       "      <td>300</td>\n",
       "    </tr>\n",
       "    <tr>\n",
       "      <th>...</th>\n",
       "      <td>...</td>\n",
       "      <td>...</td>\n",
       "      <td>...</td>\n",
       "      <td>...</td>\n",
       "      <td>...</td>\n",
       "      <td>...</td>\n",
       "      <td>...</td>\n",
       "      <td>...</td>\n",
       "      <td>...</td>\n",
       "      <td>...</td>\n",
       "      <td>...</td>\n",
       "      <td>...</td>\n",
       "      <td>...</td>\n",
       "      <td>...</td>\n",
       "    </tr>\n",
       "    <tr>\n",
       "      <th>91777</th>\n",
       "      <td>Residência</td>\n",
       "      <td>58102</td>\n",
       "      <td>1899-12-30 06:55:00</td>\n",
       "      <td>1899-12-30 00:35:00</td>\n",
       "      <td>1899-12-30 07:30:00</td>\n",
       "      <td>58102</td>\n",
       "      <td>Trabalho</td>\n",
       "      <td>Não motorizado</td>\n",
       "      <td>113.77</td>\n",
       "      <td>560,397.82</td>\n",
       "      <td>7,761,654.23</td>\n",
       "      <td>560,397.82</td>\n",
       "      <td>7,761,654.23</td>\n",
       "      <td>2100</td>\n",
       "    </tr>\n",
       "    <tr>\n",
       "      <th>91778</th>\n",
       "      <td>Trabalho</td>\n",
       "      <td>58102</td>\n",
       "      <td>1899-12-30 15:00:00</td>\n",
       "      <td>1899-12-30 00:30:00</td>\n",
       "      <td>1899-12-30 15:30:00</td>\n",
       "      <td>58102</td>\n",
       "      <td>Residência</td>\n",
       "      <td>Não motorizado</td>\n",
       "      <td>113.77</td>\n",
       "      <td>560,397.82</td>\n",
       "      <td>7,761,654.23</td>\n",
       "      <td>560,397.82</td>\n",
       "      <td>7,761,654.23</td>\n",
       "      <td>1800</td>\n",
       "    </tr>\n",
       "    <tr>\n",
       "      <th>91779</th>\n",
       "      <td>Residência</td>\n",
       "      <td>58102</td>\n",
       "      <td>1899-12-30 22:30:00</td>\n",
       "      <td>1899-12-30 00:53:00</td>\n",
       "      <td>1899-12-30 23:23:00</td>\n",
       "      <td>58102</td>\n",
       "      <td>Trabalho</td>\n",
       "      <td>coletivo</td>\n",
       "      <td>113.98</td>\n",
       "      <td>560,397.82</td>\n",
       "      <td>7,761,654.23</td>\n",
       "      <td>560,397.82</td>\n",
       "      <td>7,761,654.23</td>\n",
       "      <td>3180</td>\n",
       "    </tr>\n",
       "    <tr>\n",
       "      <th>91780</th>\n",
       "      <td>Residência</td>\n",
       "      <td>58102</td>\n",
       "      <td>1899-12-30 06:10:00</td>\n",
       "      <td>1899-12-30 00:50:00</td>\n",
       "      <td>1899-12-30 07:00:00</td>\n",
       "      <td>58102</td>\n",
       "      <td>Trabalho</td>\n",
       "      <td>coletivo</td>\n",
       "      <td>113.98</td>\n",
       "      <td>560,397.82</td>\n",
       "      <td>7,761,654.23</td>\n",
       "      <td>560,397.82</td>\n",
       "      <td>7,761,654.23</td>\n",
       "      <td>3000</td>\n",
       "    </tr>\n",
       "    <tr>\n",
       "      <th>91781</th>\n",
       "      <td>Trabalho</td>\n",
       "      <td>58102</td>\n",
       "      <td>1899-12-30 15:00:00</td>\n",
       "      <td>1899-12-30 00:45:00</td>\n",
       "      <td>1899-12-30 15:45:00</td>\n",
       "      <td>58102</td>\n",
       "      <td>Residência</td>\n",
       "      <td>coletivo</td>\n",
       "      <td>113.98</td>\n",
       "      <td>560,397.82</td>\n",
       "      <td>7,761,654.23</td>\n",
       "      <td>560,397.82</td>\n",
       "      <td>7,761,654.23</td>\n",
       "      <td>2700</td>\n",
       "    </tr>\n",
       "  </tbody>\n",
       "</table>\n",
       "<p>117418 rows × 14 columns</p>\n",
       "</div>"
      ],
      "text/plain": [
       "      purp_origin tz_origin          start_time         travel_time  \\\n",
       "5383      Compras      1001 1899-12-30 10:50:00 1899-12-30 00:10:00   \n",
       "5406   Residência      1001 1899-12-30 21:00:00 1899-12-30 00:05:00   \n",
       "5407      Compras      1001 1899-12-30 21:30:00 1899-12-30 00:05:00   \n",
       "5414   Residência      1001 1899-12-30 21:00:00 1899-12-30 00:05:00   \n",
       "5415      Compras      1001 1899-12-30 21:30:00 1899-12-30 00:05:00   \n",
       "...           ...       ...                 ...                 ...   \n",
       "91777  Residência     58102 1899-12-30 06:55:00 1899-12-30 00:35:00   \n",
       "91778    Trabalho     58102 1899-12-30 15:00:00 1899-12-30 00:30:00   \n",
       "91779  Residência     58102 1899-12-30 22:30:00 1899-12-30 00:53:00   \n",
       "91780  Residência     58102 1899-12-30 06:10:00 1899-12-30 00:50:00   \n",
       "91781    Trabalho     58102 1899-12-30 15:00:00 1899-12-30 00:45:00   \n",
       "\n",
       "                 end_time tz_dest   purp_dest     travel_mode  expansion  \\\n",
       "5383  1899-12-30 11:00:00    1001  Residência  Não motorizado     124.94   \n",
       "5406  1899-12-30 21:05:00    1001     Compras  Não motorizado     124.94   \n",
       "5407  1899-12-30 21:35:00    1001  Residência  Não motorizado     124.94   \n",
       "5414  1899-12-30 21:05:00    1001     Compras  Não motorizado     124.94   \n",
       "5415  1899-12-30 21:35:00    1001  Residência  Não motorizado     124.94   \n",
       "...                   ...     ...         ...             ...        ...   \n",
       "91777 1899-12-30 07:30:00   58102    Trabalho  Não motorizado     113.77   \n",
       "91778 1899-12-30 15:30:00   58102  Residência  Não motorizado     113.77   \n",
       "91779 1899-12-30 23:23:00   58102    Trabalho        coletivo     113.98   \n",
       "91780 1899-12-30 07:00:00   58102    Trabalho        coletivo     113.98   \n",
       "91781 1899-12-30 15:45:00   58102  Residência        coletivo     113.98   \n",
       "\n",
       "        x_origin     y_origin     x_dest       y_dest  travel_time_sec  \n",
       "5383  611,402.59 7,796,287.99 611,402.59 7,796,287.99              600  \n",
       "5406  611,402.59 7,796,287.99 611,402.59 7,796,287.99              300  \n",
       "5407  611,402.59 7,796,287.99 611,402.59 7,796,287.99              300  \n",
       "5414  611,402.59 7,796,287.99 611,402.59 7,796,287.99              300  \n",
       "5415  611,402.59 7,796,287.99 611,402.59 7,796,287.99              300  \n",
       "...          ...          ...        ...          ...              ...  \n",
       "91777 560,397.82 7,761,654.23 560,397.82 7,761,654.23             2100  \n",
       "91778 560,397.82 7,761,654.23 560,397.82 7,761,654.23             1800  \n",
       "91779 560,397.82 7,761,654.23 560,397.82 7,761,654.23             3180  \n",
       "91780 560,397.82 7,761,654.23 560,397.82 7,761,654.23             3000  \n",
       "91781 560,397.82 7,761,654.23 560,397.82 7,761,654.23             2700  \n",
       "\n",
       "[117418 rows x 14 columns]"
      ]
     },
     "execution_count": 13,
     "metadata": {},
     "output_type": "execute_result"
    }
   ],
   "source": [
    "od"
   ]
  },
  {
   "cell_type": "code",
   "execution_count": null,
   "metadata": {},
   "outputs": [],
   "source": []
  },
  {
   "cell_type": "markdown",
   "metadata": {},
   "source": [
    "# Car Acessibility"
   ]
  },
  {
   "cell_type": "markdown",
   "metadata": {},
   "source": [
    "In order to evaluate car accessibility there needs to be a reasonable estimation of the travel times through street links.\n",
    "OpenStreetMap data counts with a maximum speed "
   ]
  },
  {
   "cell_type": "code",
   "execution_count": 13,
   "metadata": {},
   "outputs": [
    {
     "data": {
      "text/html": [
       "<div>\n",
       "<style scoped>\n",
       "    .dataframe tbody tr th:only-of-type {\n",
       "        vertical-align: middle;\n",
       "    }\n",
       "\n",
       "    .dataframe tbody tr th {\n",
       "        vertical-align: top;\n",
       "    }\n",
       "\n",
       "    .dataframe thead th {\n",
       "        text-align: right;\n",
       "    }\n",
       "</style>\n",
       "<table border=\"1\" class=\"dataframe\">\n",
       "  <thead>\n",
       "    <tr style=\"text-align: right;\">\n",
       "      <th></th>\n",
       "      <th>tz_origin</th>\n",
       "      <th>tz_dest</th>\n",
       "      <th>travel_time_sec</th>\n",
       "      <th>origin_nodedest_node</th>\n",
       "    </tr>\n",
       "  </thead>\n",
       "  <tbody>\n",
       "    <tr>\n",
       "      <th>0</th>\n",
       "      <td>10001</td>\n",
       "      <td>10003</td>\n",
       "      <td>300.00</td>\n",
       "      <td>NaN</td>\n",
       "    </tr>\n",
       "    <tr>\n",
       "      <th>1</th>\n",
       "      <td>10001</td>\n",
       "      <td>10007</td>\n",
       "      <td>900.00</td>\n",
       "      <td>NaN</td>\n",
       "    </tr>\n",
       "    <tr>\n",
       "      <th>2</th>\n",
       "      <td>10002</td>\n",
       "      <td>10001</td>\n",
       "      <td>300.00</td>\n",
       "      <td>NaN</td>\n",
       "    </tr>\n",
       "  </tbody>\n",
       "</table>\n",
       "</div>"
      ],
      "text/plain": [
       "  tz_origin tz_dest  travel_time_sec  origin_nodedest_node\n",
       "0     10001   10003           300.00                   NaN\n",
       "1     10001   10007           900.00                   NaN\n",
       "2     10002   10001           300.00                   NaN"
      ]
     },
     "execution_count": 13,
     "metadata": {},
     "output_type": "execute_result"
    }
   ],
   "source": [
    "with pd.option_context('mode.chained_assignment', None):\n",
    "    car_od = od.loc[od.travel_mode == 'individual', :]\n",
    "    car_od['travel_time_sec'] = (car_od.travel_time.dt.hour * 3600\n",
    "                                 + car_od.travel_time.dt.minute * 60)\n",
    "    \n",
    "    # Estimating travel times for morning peak hours\n",
    "    car_od = (car_od.set_index('start_time')\n",
    "                    .between_time('06:00', '08:00')\n",
    "                    .reset_index())\n",
    "    \n",
    "    # Trips internal to traffic zones are useless here,\n",
    "    # as they allow no routing on the network, since\n",
    "    # origin point is the same as the destination one\n",
    "    car_od = car_od.loc[car_od.tz_dest != car_od.tz_origin]\n",
    "    \n",
    "    car_od = car_od.reindex(columns=['tz_origin', 'travel_time_sec',\n",
    "                                     'tz_dest', 'origin_node'\n",
    "                                     'dest_node'])\n",
    "    \n",
    "    car_od = car_od.groupby(['tz_origin', 'tz_dest'], as_index=False).median()\n",
    "    \n",
    "car_od.head(3)"
   ]
  },
  {
   "cell_type": "code",
   "execution_count": 14,
   "metadata": {},
   "outputs": [
    {
     "data": {
      "text/html": [
       "<div>\n",
       "<style scoped>\n",
       "    .dataframe tbody tr th:only-of-type {\n",
       "        vertical-align: middle;\n",
       "    }\n",
       "\n",
       "    .dataframe tbody tr th {\n",
       "        vertical-align: top;\n",
       "    }\n",
       "\n",
       "    .dataframe thead th {\n",
       "        text-align: right;\n",
       "    }\n",
       "</style>\n",
       "<table border=\"1\" class=\"dataframe\">\n",
       "  <thead>\n",
       "    <tr style=\"text-align: right;\">\n",
       "      <th></th>\n",
       "      <th>travel_time_sec</th>\n",
       "      <th>origin_nodedest_node</th>\n",
       "    </tr>\n",
       "  </thead>\n",
       "  <tbody>\n",
       "    <tr>\n",
       "      <th>count</th>\n",
       "      <td>5,755.00</td>\n",
       "      <td>0.00</td>\n",
       "    </tr>\n",
       "    <tr>\n",
       "      <th>mean</th>\n",
       "      <td>1,830.68</td>\n",
       "      <td>NaN</td>\n",
       "    </tr>\n",
       "    <tr>\n",
       "      <th>std</th>\n",
       "      <td>2,023.21</td>\n",
       "      <td>NaN</td>\n",
       "    </tr>\n",
       "    <tr>\n",
       "      <th>min</th>\n",
       "      <td>0.00</td>\n",
       "      <td>NaN</td>\n",
       "    </tr>\n",
       "    <tr>\n",
       "      <th>25%</th>\n",
       "      <td>900.00</td>\n",
       "      <td>NaN</td>\n",
       "    </tr>\n",
       "    <tr>\n",
       "      <th>50%</th>\n",
       "      <td>1,500.00</td>\n",
       "      <td>NaN</td>\n",
       "    </tr>\n",
       "    <tr>\n",
       "      <th>75%</th>\n",
       "      <td>2,400.00</td>\n",
       "      <td>NaN</td>\n",
       "    </tr>\n",
       "    <tr>\n",
       "      <th>max</th>\n",
       "      <td>83,640.00</td>\n",
       "      <td>NaN</td>\n",
       "    </tr>\n",
       "  </tbody>\n",
       "</table>\n",
       "</div>"
      ],
      "text/plain": [
       "       travel_time_sec  origin_nodedest_node\n",
       "count         5,755.00                  0.00\n",
       "mean          1,830.68                   NaN\n",
       "std           2,023.21                   NaN\n",
       "min               0.00                   NaN\n",
       "25%             900.00                   NaN\n",
       "50%           1,500.00                   NaN\n",
       "75%           2,400.00                   NaN\n",
       "max          83,640.00                   NaN"
      ]
     },
     "execution_count": 14,
     "metadata": {},
     "output_type": "execute_result"
    }
   ],
   "source": [
    "car_od.describe()"
   ]
  },
  {
   "cell_type": "markdown",
   "metadata": {},
   "source": [
    "A more in depth analysis is required, since 83,640 seconds in impossibly long time, on the one hand, ans a travel time of zero seconds is impossible."
   ]
  },
  {
   "cell_type": "code",
   "execution_count": 15,
   "metadata": {},
   "outputs": [
    {
     "data": {
      "image/png": "[encoded data removed]",
      "text/plain": [
       "<Figure size 1440x504 with 1 Axes>"
      ]
     },
     "metadata": {
      "image/png": {
       "height": 399,
       "width": 1169
      },
      "needs_background": "light"
     },
     "output_type": "display_data"
    }
   ],
   "source": [
    "f, ax = plt.subplots(figsize=(20, 7))\n",
    "\n",
    "sns.boxplot(ax=ax,\n",
    "            data=car_od,\n",
    "            y='travel_time_sec',)\n",
    "ax.set_yscale('log')"
   ]
  },
  {
   "cell_type": "code",
   "execution_count": 16,
   "metadata": {},
   "outputs": [],
   "source": [
    "q1 = car_od.travel_time_sec.quantile(.25)\n",
    "q3 = car_od.travel_time_sec.quantile(.75)\n",
    "iq_range = q3 - q1\n",
    "\n",
    "threshold = q3 + (1.5 * iq_range)\n",
    "\n",
    "car_od = car_od.loc[(car_od.travel_time_sec > 0)\n",
    "                    & (car_od.travel_time_sec <= threshold)]"
   ]
  },
  {
   "cell_type": "code",
   "execution_count": 17,
   "metadata": {},
   "outputs": [
    {
     "data": {
      "text/html": [
       "<div>\n",
       "<style scoped>\n",
       "    .dataframe tbody tr th:only-of-type {\n",
       "        vertical-align: middle;\n",
       "    }\n",
       "\n",
       "    .dataframe tbody tr th {\n",
       "        vertical-align: top;\n",
       "    }\n",
       "\n",
       "    .dataframe thead th {\n",
       "        text-align: right;\n",
       "    }\n",
       "</style>\n",
       "<table border=\"1\" class=\"dataframe\">\n",
       "  <thead>\n",
       "    <tr style=\"text-align: right;\">\n",
       "      <th></th>\n",
       "      <th>travel_time_sec</th>\n",
       "    </tr>\n",
       "  </thead>\n",
       "  <tbody>\n",
       "    <tr>\n",
       "      <th>count</th>\n",
       "      <td>92.85</td>\n",
       "    </tr>\n",
       "    <tr>\n",
       "      <th>mean</th>\n",
       "      <td>27.58</td>\n",
       "    </tr>\n",
       "    <tr>\n",
       "      <th>std</th>\n",
       "      <td>16.59</td>\n",
       "    </tr>\n",
       "    <tr>\n",
       "      <th>min</th>\n",
       "      <td>2.00</td>\n",
       "    </tr>\n",
       "    <tr>\n",
       "      <th>25%</th>\n",
       "      <td>15.00</td>\n",
       "    </tr>\n",
       "    <tr>\n",
       "      <th>50%</th>\n",
       "      <td>25.00</td>\n",
       "    </tr>\n",
       "    <tr>\n",
       "      <th>75%</th>\n",
       "      <td>40.00</td>\n",
       "    </tr>\n",
       "    <tr>\n",
       "      <th>max</th>\n",
       "      <td>75.00</td>\n",
       "    </tr>\n",
       "  </tbody>\n",
       "</table>\n",
       "</div>"
      ],
      "text/plain": [
       "       travel_time_sec\n",
       "count            92.85\n",
       "mean             27.58\n",
       "std              16.59\n",
       "min               2.00\n",
       "25%              15.00\n",
       "50%              25.00\n",
       "75%              40.00\n",
       "max              75.00"
      ]
     },
     "execution_count": 17,
     "metadata": {},
     "output_type": "execute_result"
    }
   ],
   "source": [
    "car_od.describe()[['travel_time_sec']] / 60"
   ]
  },
  {
   "cell_type": "markdown",
   "metadata": {},
   "source": [
    "That is very much more plausible than the previous travel times"
   ]
  },
  {
   "cell_type": "code",
   "execution_count": null,
   "metadata": {},
   "outputs": [],
   "source": [
    "ox.nearest_nodes(bh, car_od.x_origin, car_od.y_origin, return_dist=True)"
   ]
  },
  {
   "cell_type": "code",
   "execution_count": null,
   "metadata": {},
   "outputs": [],
   "source": []
  },
  {
   "cell_type": "code",
   "execution_count": null,
   "metadata": {},
   "outputs": [],
   "source": []
  },
  {
   "cell_type": "code",
   "execution_count": null,
   "metadata": {},
   "outputs": [],
   "source": [
    "bh = ox.add_edge_speeds(bh)\n",
    "bh = ox.add_edge_travel_times(bh)"
   ]
  },
  {
   "cell_type": "code",
   "execution_count": null,
   "metadata": {},
   "outputs": [],
   "source": [
    "def _convert_nodes_df(nodes):\n",
    "    return nodes.reindex(columns=['x', 'y'])\n",
    "\n",
    "def _convert_edges_df(edges, use_travel_time=True):\n",
    "    edges.reset_index(inplace=True)\n",
    "    \n",
    "    to_keep = {'u': 'from',\n",
    "               'v': 'to',\n",
    "               'travel_time': 'weight',}\n",
    "    \n",
    "    if not use_travel_time:\n",
    "        to_keep.pop('travel_time')\n",
    "        to_keep['length'] = 'weight'\n",
    "        \n",
    "    edges = edges.reindex(columns=list(edges.keys()))\n",
    "    edges.rename(columns=to_keep, inplace=True)\n",
    "    \n",
    "    \n",
    "    return edges.set_index(['from', 'to'], drop=False)\n",
    "\n",
    "\n",
    "def osmnx_to_pandana_net(net, use_travel_time=True):\n",
    "    nodes, edges = ox.graph_to_gdfs(net)\n",
    "    \n",
    "    # TO DO: verify if pandana allows variations:\n",
    "    # i.e. different names, different indexes etc\n",
    "    edges = _convert_edges_df(edges, use_travel_time)\n",
    "    nodes = _convert_nodes_df(nodes)\n",
    "    \n",
    "    return pdna.Network(nodes['x'],\n",
    "                        nodes['y'],\n",
    "                        edges['from'],\n",
    "                        edges['to'],\n",
    "                        edges[['weight']])\n"
   ]
  },
  {
   "cell_type": "code",
   "execution_count": null,
   "metadata": {},
   "outputs": [],
   "source": [
    "bh_net = osmnx_to_pandana_net(bh)"
   ]
  },
  {
   "cell_type": "code",
   "execution_count": null,
   "metadata": {},
   "outputs": [],
   "source": [
    "hex_2011 = hexes.loc[hexes.year == '2011']"
   ]
  },
  {
   "cell_type": "code",
   "execution_count": null,
   "metadata": {},
   "outputs": [],
   "source": [
    "commercial_uses = hex_2011.loc[hex_2011.use.isin(['retail/services', 'mixed'])]\n",
    "\n",
    "retail_nodes = bh_net.get_node_ids(commercial_uses.x_epsg31983,\n",
    "                                   commercial_uses.y_epsg31983)\n",
    "\n",
    "bh_net.set(retail_nodes, name='retail')"
   ]
  },
  {
   "cell_type": "code",
   "execution_count": null,
   "metadata": {},
   "outputs": [],
   "source": [
    "access = bh_net.aggregate(distance=15*60, # seconds\n",
    "                          type='count',\n",
    "                          name='retail')\n",
    "\n",
    "access.name = 'cum_access'"
   ]
  },
  {
   "cell_type": "code",
   "execution_count": null,
   "metadata": {},
   "outputs": [],
   "source": [
    "bh_net.plot(access, \n",
    "            fig_kwargs={'figsize': [10, 11]},\n",
    "            plot_kwargs={'cmap': 'BrBG', 's': 8, 'edgecolor': 'none'})"
   ]
  },
  {
   "cell_type": "code",
   "execution_count": null,
   "metadata": {},
   "outputs": [],
   "source": [
    "nodes, edges = ox.graph_to_gdfs(bh)"
   ]
  },
  {
   "cell_type": "code",
   "execution_count": null,
   "metadata": {},
   "outputs": [],
   "source": [
    "edges.speed_kph.describe()"
   ]
  },
  {
   "cell_type": "markdown",
   "metadata": {},
   "source": [
    "# Transit Access"
   ]
  },
  {
   "cell_type": "code",
   "execution_count": null,
   "metadata": {},
   "outputs": [],
   "source": [
    "path_to_gtfs = (db_folder\n",
    "                / 'beaga'\n",
    "                / 'GTFS'\n",
    "                / '2017'\n",
    "                / 'GTFS_BH_2017.01.05.zip')"
   ]
  },
  {
   "cell_type": "code",
   "execution_count": null,
   "metadata": {
    "tags": []
   },
   "outputs": [],
   "source": [
    "state = 31\n",
    "cities = 3106200\n",
    "\n",
    "cutoffs = [0,5,9,12,14,17,19,24]"
   ]
  },
  {
   "cell_type": "markdown",
   "metadata": {
    "tags": []
   },
   "source": [
    "# PROCESSING"
   ]
  },
  {
   "cell_type": "code",
   "execution_count": null,
   "metadata": {},
   "outputs": [],
   "source": [
    "feed = gtfs.load_feed(path_to_gtfs)"
   ]
  },
  {
   "cell_type": "code",
   "execution_count": null,
   "metadata": {},
   "outputs": [],
   "source": [
    "feed.shapes.iloc[0].geometry.coords[:2]"
   ]
  },
  {
   "cell_type": "code",
   "execution_count": null,
   "metadata": {},
   "outputs": [],
   "source": [
    "feed.trips.iloc[0].route_id"
   ]
  },
  {
   "cell_type": "code",
   "execution_count": null,
   "metadata": {},
   "outputs": [],
   "source": [
    "raise Exception(\n",
    "            \"There's only one (apparently) valid transit stop in \"\\\n",
    "            f\"route {route_id}, which doesn't really make sense.\"\\\n",
    "                       )"
   ]
  },
  {
   "cell_type": "code",
   "execution_count": null,
   "metadata": {},
   "outputs": [],
   "source": []
  },
  {
   "cell_type": "code",
   "execution_count": null,
   "metadata": {},
   "outputs": [],
   "source": [
    "with warnings.catch_warnings():\n",
    "        warnings.filterwarnings('ignore', category=FutureWarning)\n",
    "        \n",
    "        routes = feed.routes\n",
    "        trips = feed.trips\n",
    "        stop_times = feed.stop_times\n",
    "        stops = feed.stops\n",
    "        shapes = feed.shapes\n",
    "        \n",
    "if shapes.empty:\n",
    "    print('Feed data does not contain route shapes')\n",
    "\n",
    "trips = (trips.merge(routes, how='left')\n",
    "              .reindex(columns=['trip_id',\n",
    "                                'route_id',\n",
    "                                'service_id',\n",
    "                                'direction_id',\n",
    "                                'shape_id'])\n",
    "        )\n",
    "\n",
    "stop_times = (stop_times.merge(trips, how='left')\n",
    "                        .merge(stops, how='left'))"
   ]
  },
  {
   "cell_type": "code",
   "execution_count": null,
   "metadata": {},
   "outputs": [],
   "source": [
    "stop_times"
   ]
  },
  {
   "cell_type": "code",
   "execution_count": null,
   "metadata": {},
   "outputs": [],
   "source": [
    "stop_seq = (stop_times.drop_duplicates(subset=['stop_id','stop_name',\n",
    "                                                  'stop_sequence', 'shape_id'])\n",
    "                          .reindex(columns=['route_id','direction_id',\n",
    "                                            'stop_id','stop_name',\n",
    "                                            'stop_sequence', 'shape_id'])\n",
    "               )"
   ]
  },
  {
   "cell_type": "code",
   "execution_count": null,
   "metadata": {},
   "outputs": [],
   "source": [
    "(stop_seq.pivot_table('stop_id',\n",
    "                                         index=['route_id',\n",
    "                                                'direction_id',\n",
    "                                                'shape_id'],\n",
    "                                         aggfunc='count')\n",
    "                            .reset_index()\n",
    "                   )"
   ]
  },
  {
   "cell_type": "code",
   "execution_count": null,
   "metadata": {},
   "outputs": [],
   "source": []
  },
  {
   "cell_type": "code",
   "execution_count": null,
   "metadata": {},
   "outputs": [],
   "source": []
  },
  {
   "cell_type": "code",
   "execution_count": null,
   "metadata": {},
   "outputs": [],
   "source": [
    "feed.trips.loc[feed.trips.shape_id.notnull()]"
   ]
  },
  {
   "cell_type": "code",
   "execution_count": null,
   "metadata": {},
   "outputs": [],
   "source": [
    "bh.nodes"
   ]
  },
  {
   "cell_type": "code",
   "execution_count": null,
   "metadata": {},
   "outputs": [],
   "source": [
    "ox.shortest_path(bh, orig=[8795213893, 7694712699], dest=[8795214055, 8795213762], weight='length')"
   ]
  },
  {
   "cell_type": "code",
   "execution_count": null,
   "metadata": {},
   "outputs": [],
   "source": [
    "bh.nodes[8795213893]"
   ]
  },
  {
   "cell_type": "code",
   "execution_count": null,
   "metadata": {},
   "outputs": [],
   "source": []
  },
  {
   "cell_type": "code",
   "execution_count": null,
   "metadata": {},
   "outputs": [],
   "source": [
    "feed.trips.what"
   ]
  },
  {
   "cell_type": "code",
   "execution_count": null,
   "metadata": {},
   "outputs": [],
   "source": [
    "len(feed.stop_times)"
   ]
  },
  {
   "cell_type": "code",
   "execution_count": null,
   "metadata": {},
   "outputs": [],
   "source": [
    "subset = ['stop_id', 'stop_name', 'stop_sequence', 'shape_id']\n",
    "\n",
    "col_order = ['route_id', 'direction_id', 'shape_id', 'stop_id',\n",
    "             'stop_name', 'stop_sequence', 'geometry']\n",
    "\n",
    "sort_on = ['route_id', 'direction_id', 'shape_id', 'stop_sequence']\n",
    "\n",
    "stop_sequence = (operations\n",
    "                 .drop_duplicates(subset=subset)\n",
    "                 .reindex(columns=col_order)\n",
    "                 .pipe(gpd.GeoDataFrame,\n",
    "                       crs='EPSG:4326',\n",
    "                       geometry='geometry')\n",
    "                 .sort_values(sort_on)\n",
    "                 .to_crs(epsg=5641)\n",
    "                )"
   ]
  },
  {
   "cell_type": "code",
   "execution_count": null,
   "metadata": {
    "tags": []
   },
   "outputs": [],
   "source": [
    "feed.trips"
   ]
  },
  {
   "cell_type": "code",
   "execution_count": null,
   "metadata": {
    "tags": []
   },
   "outputs": [],
   "source": [
    "west, south, east, north  = feed.stops.to_crs(epsg=4326).total_bounds\n",
    "roads = ox.graph_from_bbox(north,\n",
    "                           south,\n",
    "                           east,\n",
    "                           west,\n",
    "                           network_type='drive',)"
   ]
  },
  {
   "cell_type": "code",
   "execution_count": null,
   "metadata": {
    "tags": []
   },
   "outputs": [],
   "source": [
    "nodes, edges = ox.graph_to_gdfs(roads)"
   ]
  },
  {
   "cell_type": "code",
   "execution_count": null,
   "metadata": {},
   "outputs": [],
   "source": [
    "list(edges.iloc[0].geometry.coords)"
   ]
  },
  {
   "cell_type": "code",
   "execution_count": null,
   "metadata": {},
   "outputs": [],
   "source": [
    "edges.loc[edges.index==edges.index[0]].reset_index()"
   ]
  },
  {
   "cell_type": "code",
   "execution_count": null,
   "metadata": {},
   "outputs": [],
   "source": [
    "cu[['osmid', 'oneway']] = [np.nan, np.nan]\n"
   ]
  },
  {
   "cell_type": "code",
   "execution_count": null,
   "metadata": {
    "tags": []
   },
   "outputs": [],
   "source": [
    "roads[27461710][28384475][0]"
   ]
  },
  {
   "cell_type": "code",
   "execution_count": null,
   "metadata": {},
   "outputs": [],
   "source": [
    "mapping = {old: new\n",
    "           for old, new\n",
    "           in zip(list(roads.nodes), range(1, len(roads)))}\n",
    "\n",
    "cu = nx.relabel_nodes(roads, mapping)\n",
    "           "
   ]
  },
  {
   "cell_type": "code",
   "execution_count": null,
   "metadata": {},
   "outputs": [],
   "source": [
    "nodes, edges = ox.graph_to_gdfs(cu)"
   ]
  },
  {
   "cell_type": "code",
   "execution_count": null,
   "metadata": {},
   "outputs": [],
   "source": [
    "nodes.index"
   ]
  },
  {
   "cell_type": "code",
   "execution_count": null,
   "metadata": {},
   "outputs": [],
   "source": [
    "stops.plot()"
   ]
  },
  {
   "cell_type": "code",
   "execution_count": null,
   "metadata": {
    "tags": []
   },
   "outputs": [],
   "source": [
    "cut_routes_df, anomalies = gtfs.cut_routes(stop_times=stop_times,\n",
    "                                           route_shapes=shapes,\n",
    "                                           flag_outliers=True,\n",
    "                                           threshold=2.5,)"
   ]
  },
  {
   "cell_type": "markdown",
   "metadata": {},
   "source": [
    "Route shapefiles cannot be properly built because gtfs data is incomplete. I'll have to make do with data from other sources"
   ]
  },
  {
   "cell_type": "code",
   "execution_count": null,
   "metadata": {},
   "outputs": [],
   "source": [
    "map_ = plot_gtfs_data(gtfs_data=[route_summary, stop_times, shapes],\n",
    "                      variable='trips',\n",
    "                      window='05:00 - 09:00',\n",
    "                      direction=None,\n",
    "                      method='NaturalBreaks',\n",
    "                      k=5,\n",
    "                      cmap='magma',\n",
    "                      linear=False,\n",
    "                      tiles='cartodbpositron',)\n",
    "\n",
    "map_"
   ]
  },
  {
   "cell_type": "code",
   "execution_count": null,
   "metadata": {},
   "outputs": [],
   "source": []
  },
  {
   "cell_type": "code",
   "execution_count": null,
   "metadata": {},
   "outputs": [],
   "source": []
  },
  {
   "cell_type": "code",
   "execution_count": null,
   "metadata": {},
   "outputs": [],
   "source": []
  },
  {
   "cell_type": "code",
   "execution_count": null,
   "metadata": {},
   "outputs": [],
   "source": [
    "import os\n",
    "import pathlib\n",
    "import re\n",
    "import warnings\n",
    "\n",
    "import geopandas as gpd\n",
    "import numpy as np\n",
    "import pandas as pd\n",
    "import matplotlib.pyplot as plt\n",
    "import seaborn as sns\n",
    "\n",
    "import gtfstools as gtfs\n",
    "\n",
    "\n",
    "%matplotlib inline\n",
    "%config InlineBackend.figure_format='retina'"
   ]
  },
  {
   "cell_type": "code",
   "execution_count": null,
   "metadata": {
    "tags": []
   },
   "outputs": [],
   "source": [
    "out_folder = os.environ.get('OUT_FOLDER')\n",
    "out_folder = pathlib.Path(out_folder)\n",
    "out_folder = out_folder / 'B'\n",
    "\n",
    "db_folder = os.environ.get('DB_FOLDER')\n",
    "db_folder = pathlib.Path(db_folder)"
   ]
  },
  {
   "cell_type": "code",
   "execution_count": null,
   "metadata": {},
   "outputs": [],
   "source": [
    "path = (db_folder\n",
    "        / 'beaga'\n",
    "        / 'GTFS'\n",
    "        / '2021'\n",
    "        / 'GTFS_BH_convencional_2021.01.11.zip')"
   ]
  },
  {
   "cell_type": "code",
   "execution_count": null,
   "metadata": {},
   "outputs": [],
   "source": [
    "path = 'GTFS_2017.zip'"
   ]
  },
  {
   "cell_type": "code",
   "execution_count": null,
   "metadata": {},
   "outputs": [],
   "source": [
    "feed = gtfs.load_feed(path)"
   ]
  },
  {
   "cell_type": "code",
   "execution_count": null,
   "metadata": {},
   "outputs": [],
   "source": [
    "summary = gtfs.summarize_trips(feed, summ_by='route_id', cutoffs=[0, 6, 9, 12, 14, 17, 19, 24])"
   ]
  },
  {
   "cell_type": "code",
   "execution_count": null,
   "metadata": {},
   "outputs": [],
   "source": [
    "f, ax = plt.subplots(figsize=(15,7.5))\n",
    "\n",
    "data = summary.loc[summary.headway_minutes<300]\n",
    "\n",
    "sns.boxplot(data=data, y='headway_minutes', x='window', ax=ax)"
   ]
  },
  {
   "cell_type": "code",
   "execution_count": null,
   "metadata": {},
   "outputs": [],
   "source": [
    "summary.loc[summary.stop_sequence==1, 'route_id'].value_counts()"
   ]
  },
  {
   "cell_type": "code",
   "execution_count": null,
   "metadata": {},
   "outputs": [],
   "source": [
    "stop_times"
   ]
  },
  {
   "cell_type": "code",
   "execution_count": null,
   "metadata": {},
   "outputs": [],
   "source": [
    "feed.frequencies.sort_values(['trip_id', 'start_time'])"
   ]
  },
  {
   "cell_type": "code",
   "execution_count": null,
   "metadata": {},
   "outputs": [],
   "source": [
    "3540/3600"
   ]
  },
  {
   "cell_type": "code",
   "execution_count": null,
   "metadata": {},
   "outputs": [],
   "source": [
    "feed.stop_times"
   ]
  },
  {
   "cell_type": "code",
   "execution_count": null,
   "metadata": {},
   "outputs": [],
   "source": []
  }
 ],
 "metadata": {
  "kernelspec": {
   "display_name": "Python 3 (ipykernel)",
   "language": "python",
   "name": "python3"
  },
  "language_info": {
   "codemirror_mode": {
    "name": "ipython",
    "version": 3
   },
   "file_extension": ".py",
   "mimetype": "text/x-python",
   "name": "python",
   "nbconvert_exporter": "python",
   "pygments_lexer": "ipython3",
   "version": "3.8.10"
  },
  "toc-autonumbering": true,
  "toc-showmarkdowntxt": false,
  "toc-showtags": false
 },
 "nbformat": 4,
 "nbformat_minor": 4
}
