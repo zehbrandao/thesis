{
 "cells": [
  {
   "cell_type": "markdown",
   "id": "f4497ae5-1070-4d80-be52-84ea839a1f6c",
   "metadata": {},
   "source": [
    "# Distribuições Territoriais"
   ]
  },
  {
   "cell_type": "markdown",
   "id": "80eb4e52-0708-43f4-b079-46fbaeefebb4",
   "metadata": {},
   "source": [
    "Esta seção constrói mapas básicos das áreas de estudo: as cidades de Belo Horizonte, Rio de Janeiro e São Paulo. Especificamente, serão consolidadas e apresentadas as distribuições territoriais de variáveis demográficas e socioeconômicas de interesse. Adicionalmente, há o complemento de atributos territoriais que entende-se que são, também, variáveis explicativas. Especificamente, o foco estará, preliminarmente, nas seguintes variáveis, as quais serão elaboradas em maior profundidade mais à frente.\n",
    "\n",
    "- Contagens populacionais\n",
    "- Rendimentos médios\n",
    "- Contagens de postos de trabalho\n",
    "- Índice de bem estar urbano\n",
    "- Medidas geométricas e topológicas da malha de vias caminháveis\n",
    "\n",
    "Os itens que seguem tratam de detalhar os passos metodológicos utilizados, o embasamento teórico-conceitual (ou empírico) que é subjacente a esses passos, bem como as fontes de dados. Ainda, logo de início estão listadas as bibliotecas em Python que dão suporte a todo o processo. Maiores detalhes a respeito do funcionamento dessas bibliotecas são dados na medida do necessário. \n",
    "\n",
    "Os dados consolidados serão apresentados em formato de mapas (estáticos) e salvos para uso nas etapas posteriores do artigo. Análises espaciais e estat;isticas mais aprofundadas serão conteúdo de scripts mais à frente. De particular interesse será verificar a articulação entre as porções do território de cada cidade, uma vez que esses fluxos sejam confrontados com os fluxos e as infraestruturas de transporte motorizado."
   ]
  },
  {
   "cell_type": "markdown",
   "id": "d4dcce14-11df-4b6b-93c3-13a4716226a1",
   "metadata": {},
   "source": [
    "# Procedimentos Preliminares"
   ]
  },
  {
   "cell_type": "markdown",
   "id": "38f0a81e-9ce3-4c6e-a73b-b2fefc56b77c",
   "metadata": {},
   "source": [
    "## Bibliotecas"
   ]
  },
  {
   "cell_type": "code",
   "execution_count": 1,
   "id": "7e0dd925-51d8-4db8-8e90-5f7326842b0d",
   "metadata": {
    "execution": {
     "iopub.execute_input": "2025-03-11T23:31:02.936278Z",
     "iopub.status.busy": "2025-03-11T23:31:02.936278Z",
     "iopub.status.idle": "2025-03-11T23:31:03.932385Z",
     "shell.execute_reply": "2025-03-11T23:31:03.926871Z",
     "shell.execute_reply.started": "2025-03-11T23:31:02.936278Z"
    }
   },
   "outputs": [
    {
     "ename": "ModuleNotFoundError",
     "evalue": "No module named 'basedosdados'",
     "output_type": "error",
     "traceback": [
      "\u001b[1;31m---------------------------------------------------------------------------\u001b[0m",
      "\u001b[1;31mModuleNotFoundError\u001b[0m                       Traceback (most recent call last)",
      "Cell \u001b[1;32mIn[1], line 11\u001b[0m\n\u001b[0;32m      7\u001b[0m \u001b[38;5;28;01mfrom\u001b[39;00m \u001b[38;5;21;01mrequests\u001b[39;00m\u001b[38;5;21;01m.\u001b[39;00m\u001b[38;5;21;01mexceptions\u001b[39;00m \u001b[38;5;28;01mimport\u001b[39;00m ConnectTimeout\n\u001b[0;32m      9\u001b[0m \u001b[38;5;66;03m#import googlemaps\u001b[39;00m\n\u001b[0;32m     10\u001b[0m \u001b[38;5;66;03m#import h3\u001b[39;00m\n\u001b[1;32m---> 11\u001b[0m \u001b[38;5;28;01mimport\u001b[39;00m \u001b[38;5;21;01mbasedosdados\u001b[39;00m \u001b[38;5;28;01mas\u001b[39;00m \u001b[38;5;21;01mbd\u001b[39;00m\n\u001b[0;32m     12\u001b[0m \u001b[38;5;28;01mimport\u001b[39;00m \u001b[38;5;21;01mgeopandas\u001b[39;00m \u001b[38;5;28;01mas\u001b[39;00m \u001b[38;5;21;01mgpd\u001b[39;00m\n\u001b[0;32m     13\u001b[0m \u001b[38;5;28;01mimport\u001b[39;00m \u001b[38;5;21;01mIPython\u001b[39;00m\u001b[38;5;21;01m.\u001b[39;00m\u001b[38;5;21;01mdisplay\u001b[39;00m \u001b[38;5;28;01mas\u001b[39;00m \u001b[38;5;21;01mdisplay\u001b[39;00m\n",
      "\u001b[1;31mModuleNotFoundError\u001b[0m: No module named 'basedosdados'"
     ]
    }
   ],
   "source": [
    "import os\n",
    "import pathlib\n",
    "import re\n",
    "import requests\n",
    "import subprocess\n",
    "from string import ascii_uppercase\n",
    "from requests.exceptions import ConnectTimeout\n",
    "\n",
    "#import googlemaps\n",
    "#import h3\n",
    "import basedosdados as bd\n",
    "import geopandas as gpd\n",
    "import IPython.display as display\n",
    "import matplotlib.pyplot as plt\n",
    "import numpy as np\n",
    "import pandas as pd\n",
    "import seaborn as sns\n",
    "from geobr import read_metro_area, read_municipality, read_census_tract, lookup_muni\n",
    "from getpass import getpass\n",
    "from shapely.geometry import Point, LineString, box\n",
    "from tobler.area_weighted import area_interpolate\n",
    "from tobler.util import h3fy"
   ]
  },
  {
   "cell_type": "markdown",
   "id": "3f6dbcef-2f5f-46e1-b8ee-4b0f4e59187b",
   "metadata": {},
   "source": [
    "## Parâmetros de Base"
   ]
  },
  {
   "cell_type": "code",
   "execution_count": null,
   "id": "ce35a2d7-b36b-427c-89fa-328bc3fdb71e",
   "metadata": {
    "execution": {
     "iopub.status.busy": "2025-03-11T23:31:03.934891Z",
     "iopub.status.idle": "2025-03-11T23:31:03.934891Z",
     "shell.execute_reply": "2025-03-11T23:31:03.934891Z",
     "shell.execute_reply.started": "2025-03-11T23:31:03.934891Z"
    }
   },
   "outputs": [],
   "source": [
    "%matplotlib inline\n",
    "%config InlineBackend.figure_format = 'retina'\n",
    "plt.style.use('Solarize_Light2')"
   ]
  },
  {
   "cell_type": "code",
   "execution_count": null,
   "id": "6e17d517-34b8-4c7e-98ea-a65e69b18ef1",
   "metadata": {
    "execution": {
     "iopub.status.busy": "2025-03-11T23:31:03.935899Z",
     "iopub.status.idle": "2025-03-11T23:31:03.936905Z",
     "shell.execute_reply": "2025-03-11T23:31:03.936905Z",
     "shell.execute_reply.started": "2025-03-11T23:31:03.936905Z"
    }
   },
   "outputs": [],
   "source": [
    "pd.options.display.float_format = '{:,.2f}'.format"
   ]
  },
  {
   "cell_type": "code",
   "execution_count": null,
   "id": "b05bf35f-e1ca-49f9-b980-dc3cfaae99d3",
   "metadata": {
    "execution": {
     "iopub.status.busy": "2025-03-11T23:31:03.937904Z",
     "iopub.status.idle": "2025-03-11T23:31:03.937904Z",
     "shell.execute_reply": "2025-03-11T23:31:03.937904Z",
     "shell.execute_reply.started": "2025-03-11T23:31:03.937904Z"
    }
   },
   "outputs": [],
   "source": [
    "db = pathlib.Path(\n",
    "    os.environ.get('DB_FOLDER')\n",
    "    )\n",
    "\n",
    "out_folder = os.environ.get('OUT_FOLDER')\n",
    "out_folder = pathlib.Path(out_folder)\n",
    "out_folder = out_folder / 'A'"
   ]
  },
  {
   "cell_type": "code",
   "execution_count": null,
   "id": "a52b271a-4ade-4276-a085-f75b7693e638",
   "metadata": {
    "execution": {
     "iopub.status.busy": "2025-03-11T23:31:03.938904Z",
     "iopub.status.idle": "2025-03-11T23:31:03.938904Z",
     "shell.execute_reply": "2025-03-11T23:31:03.938904Z",
     "shell.execute_reply.started": "2025-03-11T23:31:03.938904Z"
    }
   },
   "outputs": [],
   "source": [
    "gcloud_id = getpass('Google Cloud Services billing ID:')"
   ]
  },
  {
   "cell_type": "code",
   "execution_count": null,
   "id": "96b7b4d7-7e4f-4b26-bb14-118ff3063c75",
   "metadata": {
    "execution": {
     "iopub.status.busy": "2025-03-11T23:31:03.939904Z",
     "iopub.status.idle": "2025-03-11T23:31:03.939904Z",
     "shell.execute_reply": "2025-03-11T23:31:03.939904Z",
     "shell.execute_reply.started": "2025-03-11T23:31:03.939904Z"
    }
   },
   "outputs": [],
   "source": [
    "# SIRGAS 2000 / zona UTM 23S\n",
    "EPSG = 31983\n",
    "\n",
    "# IBGE codes for selected municipalities⨥\n",
    "GEOCODE = {\n",
    "    'belo_horizonte': 3106200,\n",
    "    }"
   ]
  },
  {
   "cell_type": "code",
   "execution_count": null,
   "id": "70080692-5b3e-4ea7-af03-c8966b4d274e",
   "metadata": {
    "execution": {
     "iopub.status.busy": "2025-03-11T23:31:03.941908Z",
     "iopub.status.idle": "2025-03-11T23:31:03.941908Z",
     "shell.execute_reply": "2025-03-11T23:31:03.941908Z",
     "shell.execute_reply.started": "2025-03-11T23:31:03.941908Z"
    },
    "tags": []
   },
   "outputs": [],
   "source": [
    "muni_dict = {str(v): k.replace('_', ' ').title() for k, v in GEOCODE.items() }"
   ]
  },
  {
   "cell_type": "markdown",
   "id": "0faba214-ff1e-4d6f-99de-a465b170394c",
   "metadata": {},
   "source": [
    "⨥ ver https://www.ibge.gov.br/explica/codigos-dos-municipios.php para a Tabela de Códigos de Municípios do IBGE"
   ]
  },
  {
   "cell_type": "markdown",
   "id": "015191d6-fa78-4454-a545-771c80ac756b",
   "metadata": {},
   "source": [
    "# Das Malhas Territorias"
   ]
  },
  {
   "cell_type": "markdown",
   "id": "caaedc7e-dd05-4b18-bf16-8ec3cfd71255",
   "metadata": {},
   "source": [
    "A malha hexagonal H3 será utilizada como recorte espacial principal ao longo das análises†. Recortes hexagonais apresentam vantagens importantes frente a outras geometrias, sobretudo, eles podem reduzir vieses amostrais derivados de efeitos de borda e, adicionalmente, são mais mais adequados do que malhas retangulares para analisar fenômenos em que relações de vizinhança e conectividade são importantes (Birch, Oom, & Beecham, 2007). Essas vantagens da malha hexagonal serão mais imporantes quando estiverem sendo executadas as análises de acessibilidade, mas, até lá, também foi mostrado por Birch et al. (2007) que hexágonos favorecem a visualização de padrões e mitigam, em alguma medida, efeitos de borda.\n",
    "\n",
    "Esses efeitos de borda, simplificadamente, dizem respeito a erros de representação na variação local dos dados. Isto é, outras geometrias — malhas quadriculadas, p. ex. — são mais propensas a apresentar variações bruscas e artificiais entre vizinhos — uma quadrícula com valores muito altos ladeada por quadrículas com valores muito baixos. Isso prejudica a análise e a visualização, assim favorecendo erros de interpretação.\n",
    "\n",
    "Dados socioeconômicos e demográficos, por sua vez, serão imputados em cada hexágono a partir do enso demográfico de 2010. Esses dados censitários serão requisitados ao datalake público da Base dos Dados‡, enquanto que as malhas desses setores serão obtidas junto à biblioteca geobr⨥. Assim, de posse das malhas do IBGE e dos respectivos dados, procedimentos de interpolação espacial⁙ farão a transferência dos dados do censo para os hexágonos.\n",
    "\n",
    "Complementarmente, para além das informações dos setores censitários, a grade estatística⁜ também será utilizada como insumo, a qual apresenta contagens populacionais com uma resolução maior que a dos agregados por setor: há uma malha com resolução de 200x200 m em áreas urbanas e de 1x1 km em áreas rurais. A grade é importante porque remove as áreas inabitadas — a Floresta d Tijuca, no Rio de Janeiro, p. ex. — e porque permitem localizar o centroide dos hexágonos de maneira mais precisa: seguindo recomendação de Stępniak and Jacobs-Crisioni (2017), o centro de cada geometria deve ser ponderado pela distribuição populacional nela contida, a fim de que haja uma representação mais precisa dos tempos de viagem entre geometrias.\n",
    "\n",
    "Resta definir qual a resolução dessas malha. Conforme demonstrado, por exemplo, em Pereira et al. (2019), é importante avaliar distintos tamanhos de geometria, a fim de verificar se os resultados obtidos são realmente robustos ou se não passam de artefatos computacionais. Mas, quais resoluções⁕? A menor escala na qual ainda há dados disponíveis é a grade estatística, de maneira que hexágonos menores que ela não agregariam nenhum valor à análise, ao mesmo tempo em que elevariam, desnecessariamente, o tempo de processamento computacional. Com efeito, a menor resolução utilizada é a 9, com área relativamente próxima a um quadrado de lado 200m. No outro extremo, resta definir a maior resolução utilizada. A maior delas será a 7, com área de aproximadamente 5 km2. Tamahos maiores agregariam grandes regiões muito distintas entre si, contribuindo em demasiado para uma ilusão de homogeneidade a qual não existe — p. ex., a resolução 6 já conta com área de cercade 35km2. Portanto, serão avaliadas as resoluções 7, 8 e 9.\n",
    "\n",
    "    Birch, C. P., Oom, S. P., & Beecham, J. A. (2007). Rectangular and hexagonal grids used for observation, experiment and simulation in ecology. Ecological modelling, 206(3-4), 347-359.\n",
    "    \n",
    "    Pereira, R. H., Banister, D., Schwanen, T., & Wessel, N. (2019). Distributional effects of transport policies on inequalities in access to opportunities in Rio de Janeiro. Journal of Transport and Land Use, 12(1), 741-764.\n",
    "    \n",
    "    Stępniak, M., & Jacobs-Crisioni, C. (2017). Reducing the uncertainty induced by spatial aggregation in accessibility and spatial interaction applications. Journal of Transport Geography, 61, 17-29.\n",
    "\n",
    "    † Especificamente, será feito uso das bibliotecas em Python implementadas pela Uber (https://h3geo.org/), baseadas no sistema proposto em:\n",
    "\n",
    "        Sahr, K., White, D., & Kimerling, A. J. (2003). Geodesic discrete global grid systems. Cartography and Geographic Information Science, 30(2), 121-134.\n",
    "        \n",
    "    ‡ ver https://basedosdados.org/\n",
    "\n",
    "    ⨥ ver https://github.com/ipeaGIT/geobr\n",
    "    \n",
    "    ⁙ https://github.com/pysal/tobler\n",
    "\n",
    "    ⁜ obtida diretamente do site do IBGE em https://censo2010.ibge.gov.br/component/saladeimprensa/?busca=1&id=3&idnoticia=3123&t=grade-estatistica-permite-obter-dados-censo-2010-diversos-recortes-espaciais&view=noticia\n",
    "    \n",
    "    ⁕ ver https://h3geo.org/docs/core-library/restable para uma lista de resoluções e as respectivas dimensões"
   ]
  },
  {
   "cell_type": "markdown",
   "id": "96752388-3350-4904-bc93-9de0a8584101",
   "metadata": {},
   "source": [
    "## Malhas Censitárias"
   ]
  },
  {
   "cell_type": "code",
   "execution_count": null,
   "id": "7ac4197f-72e3-4781-983a-d8c38a8048be",
   "metadata": {
    "execution": {
     "iopub.status.busy": "2025-03-11T23:31:03.942904Z",
     "iopub.status.idle": "2025-03-11T23:31:03.943903Z",
     "shell.execute_reply": "2025-03-11T23:31:03.943903Z",
     "shell.execute_reply.started": "2025-03-11T23:31:03.942904Z"
    },
    "jupyter": {
     "source_hidden": true
    }
   },
   "outputs": [],
   "source": [
    "def _get_city_tracts(ibgeID, out_crs):\n",
    "    return (\n",
    "        read_census_tract(ibgeID, year=2010).to_crs(epsg=out_crs)\n",
    "                                            .astype({\n",
    "                                                'code_muni': int,\n",
    "                                                })\n",
    "                                            .drop(columns=[\n",
    "                                                'code_neighborhood',\n",
    "                                                'code_subdistrict',\n",
    "                                                'code_district',\n",
    "                                                'code_state',\n",
    "                                                ])\n",
    "        )\n",
    "\n",
    "\n",
    "def get_tracts(geocodes, out_crs=31983):\n",
    "    tracts = [\n",
    "        _get_city_tracts(ibgeID, out_crs)\n",
    "        for ibgeID\n",
    "        in geocodes.values()\n",
    "        ]\n",
    "    \n",
    "    return pd.concat(tracts, ignore_index=True)\n",
    "        "
   ]
  },
  {
   "cell_type": "code",
   "execution_count": null,
   "id": "f67f3a24-54f8-461c-9a80-bfe4d8e89e52",
   "metadata": {
    "execution": {
     "iopub.status.busy": "2025-03-11T23:31:03.944910Z",
     "iopub.status.idle": "2025-03-11T23:31:03.945414Z",
     "shell.execute_reply": "2025-03-11T23:31:03.944910Z",
     "shell.execute_reply.started": "2025-03-11T23:31:03.944910Z"
    }
   },
   "outputs": [],
   "source": [
    "tracts = get_tracts(GEOCODE)"
   ]
  },
  {
   "cell_type": "markdown",
   "id": "f4349ee1-98ac-4e05-bf7e-368585f5ef50",
   "metadata": {},
   "source": [
    "## Hexágonos H3"
   ]
  },
  {
   "cell_type": "code",
   "execution_count": null,
   "id": "10a12960-3c3b-4667-86f0-232f58f5c861",
   "metadata": {
    "execution": {
     "iopub.status.busy": "2025-03-11T23:31:03.946426Z",
     "iopub.status.idle": "2025-03-11T23:31:03.946426Z",
     "shell.execute_reply": "2025-03-11T23:31:03.946426Z",
     "shell.execute_reply.started": "2025-03-11T23:31:03.946426Z"
    },
    "jupyter": {
     "source_hidden": true
    }
   },
   "outputs": [],
   "source": [
    "def _get_hexagons(muni_tracts, r, out_crs):\n",
    "    hexes = h3fy(muni_tracts.buffer(0), resolution=r).to_crs(epsg=out_crs)\n",
    "    hexes['aperture'] = r\n",
    "    \n",
    "    return hexes\n",
    "\n",
    "\n",
    "def _hexagons_by_resolution(muni_tracts, out_crs):\n",
    "    hexes = pd.concat([\n",
    "        _get_hexagons(muni_tracts, r, out_crs)\n",
    "        for r\n",
    "        in [9, 10, 11, 12]\n",
    "        ])\n",
    "    \n",
    "    hexes['name_muni'] = muni_tracts.name_muni.iloc[0]\n",
    "    hexes['code_muni'] = muni_tracts.code_muni.iloc[0].astype(int)\n",
    "    \n",
    "    return (\n",
    "        hexes.reset_index()\n",
    "             .set_index([\n",
    "                 'name_muni',\n",
    "                 'code_muni',\n",
    "                 'aperture',\n",
    "                 'hex_id',\n",
    "                 ])\n",
    "        )\n",
    "\n",
    "\n",
    "def _get_border(name):\n",
    "    code = lookup_muni(name).code_muni.squeeze()\n",
    "    return read_municipality(code).to_crs(31983)\n",
    "\n",
    "\n",
    "def hexagons_by_municipality(tracts, out_crs=31983):\n",
    "    return pd.concat([\n",
    "        _hexagons_by_resolution(_get_border(name_muni), out_crs)\n",
    "        for name_muni, _\n",
    "        in tracts.groupby('name_muni')\n",
    "        ])"
   ]
  },
  {
   "cell_type": "code",
   "execution_count": null,
   "id": "fdae8161-4816-4645-9a07-8baea43ff725",
   "metadata": {
    "execution": {
     "iopub.status.busy": "2025-03-11T23:31:03.947426Z",
     "iopub.status.idle": "2025-03-11T23:31:03.947426Z",
     "shell.execute_reply": "2025-03-11T23:31:03.947426Z",
     "shell.execute_reply.started": "2025-03-11T23:31:03.947426Z"
    }
   },
   "outputs": [],
   "source": [
    "hexes = hexagons_by_municipality(tracts)"
   ]
  },
  {
   "cell_type": "markdown",
   "id": "b2734d04-0b35-4411-9b8c-4f781337a7c8",
   "metadata": {},
   "source": [
    "## Grades Estatísticas"
   ]
  },
  {
   "cell_type": "markdown",
   "id": "a264c03c-df51-4ce7-817f-85c4ccb00450",
   "metadata": {},
   "source": [
    "As grades estatísticas dependem de procedimento particular. Devido à sua alta resolução, elas são compartimentadas em setores pelo IBGE, a fim de otimizar o uso e gerenciamento do espaço computacional,conforme mapa abaixo. Desse mapa é possível verificar que Belo Horizonte pertence ao ID_36:\n",
    "\n",
    "Cabe, por fim, reforçar algo que já evidente no mapa: os setores contém muito mais do qu as cidades analisadas. Com efeito, após importá-los todos, serão descartadas as partes que não fazem interseção com os territórios municipais."
   ]
  },
  {
   "cell_type": "code",
   "execution_count": null,
   "id": "e1dfe9ec-c77b-4530-ab8b-06c4e3a837dd",
   "metadata": {
    "execution": {
     "iopub.status.busy": "2025-03-11T23:31:03.948424Z",
     "iopub.status.idle": "2025-03-11T23:31:03.948424Z",
     "shell.execute_reply": "2025-03-11T23:31:03.948424Z",
     "shell.execute_reply.started": "2025-03-11T23:31:03.948424Z"
    }
   },
   "outputs": [],
   "source": [
    "display.Image('https://wiki.openstreetmap.org/w/images/7/74/Articulacao.jpg')"
   ]
  },
  {
   "cell_type": "code",
   "execution_count": null,
   "id": "f5d8e632-1599-4d85-811f-6c0b4f597e02",
   "metadata": {
    "execution": {
     "iopub.status.busy": "2025-03-11T23:31:03.949426Z",
     "iopub.status.idle": "2025-03-11T23:31:03.949426Z",
     "shell.execute_reply": "2025-03-11T23:31:03.949426Z",
     "shell.execute_reply.started": "2025-03-11T23:31:03.949426Z"
    },
    "jupyter": {
     "source_hidden": true
    }
   },
   "outputs": [],
   "source": [
    "# Helper functions to read and parse statistical grid\n",
    "\n",
    "def _fix_zipped_path_to_shapes(inpath):\n",
    "    try:\n",
    "        return 'zip://' + inpath.as_posix()\n",
    "    except AttributeError:\n",
    "        return 'zip://' + inpath\n",
    "\n",
    "\n",
    "def _reindex_grid(grid):\n",
    "    d = {\n",
    "        'ID_UNICO': 'cell_id',\n",
    "        'POP': 'pop_total',\n",
    "        'geometry': 'geometry'\n",
    "        }\n",
    "    return (\n",
    "        grid.reindex(columns=d)\n",
    "            .rename(columns=d)\n",
    "            .set_index('cell_id')\n",
    "        )\n",
    "\n",
    "\n",
    "def _get_municipality_grid(path,\n",
    "                           muni_name,\n",
    "                           out_crs,\n",
    "                           is_zipped):\n",
    "    if is_zipped:\n",
    "        inpath = _fix_zipped_path_to_shapes(path)\n",
    "    \n",
    "    gdf = (\n",
    "        gpd.read_file(path)\n",
    "           .to_crs(epsg=out_crs)\n",
    "           .pipe(_reindex_grid)\n",
    "        )\n",
    "    \n",
    "    gdf['name_muni'] = muni_name\n",
    "    \n",
    "    return gdf\n",
    "\n",
    "\n",
    "def grid_by_municipality(inpaths,\n",
    "                         out_crs,\n",
    "                         is_zipped=True):\n",
    "    return pd.concat([\n",
    "        _get_municipality_grid(path,\n",
    "                               muni_name,\n",
    "                               out_crs,\n",
    "                               is_zipped)\n",
    "        for muni_name, path\n",
    "        in inpaths.items()\n",
    "        ])\n",
    "    "
   ]
  },
  {
   "cell_type": "code",
   "execution_count": null,
   "id": "6c8b6aaf-272d-4e34-9cc3-c26430336bbe",
   "metadata": {
    "execution": {
     "iopub.status.busy": "2025-03-11T23:31:03.950425Z",
     "iopub.status.idle": "2025-03-11T23:31:03.950425Z",
     "shell.execute_reply": "2025-03-11T23:31:03.950425Z",
     "shell.execute_reply.started": "2025-03-11T23:31:03.950425Z"
    },
    "jupyter": {
     "source_hidden": true
    }
   },
   "outputs": [],
   "source": [
    "# Reads statistical grid\n",
    "\n",
    "grid_files = {\n",
    "    'belo_horizonte': 'grade_estatistica_id36.zip',\n",
    "    }\n",
    "inpaths = {\n",
    "    k: db / 'census' / 'grade_estatistica' / v\n",
    "    for k, v\n",
    "    in grid_files.items()\n",
    "    }\n",
    "grid = grid_by_municipality(inpaths,\n",
    "                            EPSG,\n",
    "                           )"
   ]
  },
  {
   "cell_type": "code",
   "execution_count": null,
   "id": "9df0615f-eaf4-497b-90e2-d86cf29ca794",
   "metadata": {
    "execution": {
     "iopub.status.busy": "2025-03-11T23:31:03.952423Z",
     "iopub.status.idle": "2025-03-11T23:31:03.952423Z",
     "shell.execute_reply": "2025-03-11T23:31:03.952423Z",
     "shell.execute_reply.started": "2025-03-11T23:31:03.952423Z"
    },
    "jupyter": {
     "source_hidden": true
    }
   },
   "outputs": [],
   "source": [
    "def filter_study_areas(grid, mask):\n",
    "    return (\n",
    "        grid.pipe(\n",
    "                gpd.sjoin,\n",
    "                mask.reset_index(),\n",
    "                predicate='intersects',\n",
    "                )\n",
    "            .reset_index()\n",
    "            .drop_duplicates(subset='cell_id')\n",
    "            .drop(columns='index_right')\n",
    "            .set_index('cell_id')\n",
    "        \n",
    "        )"
   ]
  },
  {
   "cell_type": "code",
   "execution_count": null,
   "id": "cac470cc-3470-468a-858b-4f97680b42d8",
   "metadata": {
    "execution": {
     "iopub.status.busy": "2025-03-11T23:31:03.953424Z",
     "iopub.status.idle": "2025-03-11T23:31:03.953424Z",
     "shell.execute_reply": "2025-03-11T23:31:03.953424Z",
     "shell.execute_reply.started": "2025-03-11T23:31:03.953424Z"
    },
    "jupyter": {
     "source_hidden": true
    }
   },
   "outputs": [],
   "source": [
    "grid = filter_study_areas(\n",
    "    grid,\n",
    "    hexes.xs(key=10, level='aperture')\n",
    "    )"
   ]
  },
  {
   "cell_type": "markdown",
   "id": "3a172e01-5a52-42bf-8533-8c64cda1ca74",
   "metadata": {},
   "source": [
    "# A Leitura dos Atributos Territoriais"
   ]
  },
  {
   "cell_type": "markdown",
   "id": "4390be35-ce91-4bdc-a936-209486decc7c",
   "metadata": {},
   "source": [
    "Resgatando o que foi dito no preâmbulo deste script, estamos interessados nas seguintes variáveis:\n",
    "1. Contagens populacionais\n",
    "2. Contagem de domicílios\n",
    "3. Rendimentos médios\n",
    "4. Contagens de postos de trabalho\n",
    "5. Índice de bem estar urbano\n",
    "\n",
    "A ideia, portanto, é fazer a leitura e o ajuste dessas variáveis para que possam ser imptuadas nas malhas hexagonais H3."
   ]
  },
  {
   "cell_type": "markdown",
   "id": "24f2328e-8f8c-4ea4-9a04-c3a02c9d74ce",
   "metadata": {},
   "source": [
    "## Rendimentos Médios"
   ]
  },
  {
   "cell_type": "markdown",
   "id": "068023bd-7dbe-483e-a2e3-dcc72bdd7212",
   "metadata": {},
   "source": [
    "Os rendimentos serão obtidos a partir da API da Base dos Dados. Especificamente, utiliza-se a seguinte variável da tabela básica do Censo de 2010:\n",
    "\n",
    "- v009: Valor do rendimento nominal médio mensal das pessoas de 10 anos ou mais de idade (com e sem rendimento)"
   ]
  },
  {
   "cell_type": "code",
   "execution_count": null,
   "id": "f77151c0-cc4c-48b0-976f-24957a024988",
   "metadata": {
    "execution": {
     "iopub.status.busy": "2025-03-11T23:31:03.953424Z",
     "iopub.status.idle": "2025-03-11T23:31:03.954931Z",
     "shell.execute_reply": "2025-03-11T23:31:03.953424Z",
     "shell.execute_reply.started": "2025-03-11T23:31:03.953424Z"
    },
    "jupyter": {
     "source_hidden": true
    },
    "tags": []
   },
   "outputs": [],
   "source": [
    "def _sql_style_list(sequence):\n",
    "    single_quoted_elements = [f\"'{c}'\" for c in sequence]\n",
    "    return ', '.join(single_quoted_elements)"
   ]
  },
  {
   "cell_type": "code",
   "execution_count": null,
   "id": "386293d9-23f7-4866-80a1-ef5bc23bf0e8",
   "metadata": {
    "execution": {
     "iopub.status.busy": "2025-03-11T23:31:03.955941Z",
     "iopub.status.idle": "2025-03-11T23:31:03.955941Z",
     "shell.execute_reply": "2025-03-11T23:31:03.955941Z",
     "shell.execute_reply.started": "2025-03-11T23:31:03.955941Z"
    },
    "jupyter": {
     "source_hidden": true
    },
    "tags": []
   },
   "outputs": [],
   "source": [
    "def read_census_data(query, gcloud_id):\n",
    "    data = bd.read_sql(query,\n",
    "                       billing_project_id=gcloud_id)\n",
    "    \n",
    "    return (\n",
    "        data.astype({'id_setor_censitario': np.int64})\n",
    "            .astype({'id_setor_censitario': str})\n",
    "            .rename(\n",
    "                columns={\n",
    "                    'v009': 'rendimento_medio',\n",
    "                    'v002': 'habitantes',\n",
    "                    'v001': 'domicilios',\n",
    "                    }\n",
    "                )\n",
    "        )"
   ]
  },
  {
   "cell_type": "code",
   "execution_count": null,
   "id": "42ae9c81-a2b9-472a-82fa-7b8fa2840351",
   "metadata": {
    "execution": {
     "iopub.status.busy": "2025-03-11T23:31:03.956941Z",
     "iopub.status.idle": "2025-03-11T23:31:03.957945Z",
     "shell.execute_reply": "2025-03-11T23:31:03.957945Z",
     "shell.execute_reply.started": "2025-03-11T23:31:03.957945Z"
    },
    "jupyter": {
     "source_hidden": true
    }
   },
   "outputs": [],
   "source": [
    "query = (\n",
    "    'SELECT id_setor_censitario, v009, v002, v001 '\n",
    "    'FROM basedosdados.br_ibge_censo_demografico.setor_censitario_basico_2010 '\n",
    "    f\"WHERE id_setor_censitario IN ({_sql_style_list(tracts.code_tract.unique())})\"\n",
    "    )\n",
    "tract_data = read_census_data(query, gcloud_id)"
   ]
  },
  {
   "cell_type": "code",
   "execution_count": null,
   "id": "d0c62c13-e809-42ea-afaf-10b41de384df",
   "metadata": {
    "execution": {
     "iopub.status.busy": "2025-03-11T23:31:03.958954Z",
     "iopub.status.idle": "2025-03-11T23:31:03.959954Z",
     "shell.execute_reply": "2025-03-11T23:31:03.958954Z",
     "shell.execute_reply.started": "2025-03-11T23:31:03.958954Z"
    }
   },
   "outputs": [],
   "source": [
    "tract_data.head(3)"
   ]
  },
  {
   "cell_type": "markdown",
   "id": "7369b9b7-0e49-4403-a25d-f3cfa8cb40c0",
   "metadata": {
    "tags": []
   },
   "source": [
    "## Índice de Bem-Estar Urbano"
   ]
  },
  {
   "cell_type": "markdown",
   "id": "24884cf4-f43d-4c0e-8a99-c4793d5b5007",
   "metadata": {},
   "source": [
    "Esse é um indicador desenvolvido pelo INCT Observatório das Metrópoles. A métrica \n",
    "\n",
    "    procura avaliar a dimensão urbana do bem-estar usufruído pelos cidadãos brasileiros promovido pelo mercado, via o consumo mercantil, e pelos serviços sociais prestados pelo Estado. Tal dimensão está relacionada com as condições coletivas de vida promovidas pelo ambiente construído da cidade, nas escalas da habitação e da sua vizinhança próxima, e pelos equipamentos e serviços urbanos. (Ribeiro & Ribeiro, 2016).\n",
    "\n",
    "Há cinco dimensões: Mobilidade Urbana, Condições Ambientais Urbanas, Condições Habitacionais Urbanas, Atendimento de Serviços Coletivos Urbanos e Infraestrutura Urbana. Maior detalhamento a respeito das de como é calculada cada uma dessas dimensões podem ser encontrados diretamente em Ribeiro e Ribeiro (2016). Aqui, a exposição se limita a explicar quais dessas dimensões serão utilizadas e por quê.\n",
    "\n",
    "A dimensão da mobilidade não será utilizada. Essa dimensão tem como principal pilar o tempo de viagem casa-trabalho, tal como capturado pelo Censo de 2010. A variável foca apenas no tempo e, para análise à qual este artigo se propõe, seria necessário um conhecimento mais profundo que envolve, dentre outras, variáveis tais quais (a) pares de origem e destino, (b) modos de viagem — se coletivos ou individuais, p. ex. — e (c) gradientes de acessibilidade ao longo do território. Portanto, essa análise mais minuciosa precisa ser desenvolvida de outra forma, o que será feito em scripts posteriores a partir de pesquisas de origem e destino, dados de GTFS etc.\n",
    "\n",
    "Outra dimensão que não será utilizada é a de condições habitacionais, pois diz respeito à qualidade física dos domicílios de cada setor e à densidade ocupacional no interior de cada residência. É razoável supor que isso faça pouca diferença para o estabelecimento de empresas ou serviços. Por um lado, locais com baixa condição habitacional podem ser menos atrativos porque tendem a estar em áreas mais periféricas e de menor qualidade urbanística em geral. Por outro, há outras dimensões do IBEU que tratam diretamente da qualidade do espaço público e da qualidade das infraestruturas urbanas existentes. Deve-se ter em mente o seguinte: a hipótese central do artigo é que o estabelecimento de centros comerciais depende do acesso à massa salarial local, acesso esse mediado pelo sistema de transportes. Nesse sentido, pouco importa o que acontece \"intramuros\", importa o mercado ao qual se tem acesso. Ao cabo, essa variável pode ser vista por dois ângulos: ou como redundante ou como irrelevante.\n",
    "\n",
    "As demais dimensões serão utilizadas pois elas são entendidas como essenciais à análise em questão. Rememorando, são elas as dimensões (a) de serviços coletivos urbanos, (b) de condições ambientais urbanas e (c) de infraestrutura urbana. A essa altura, já é evidente que o que aqui será produzido é uma versão parcial do IBEU, cujo foco está na forma urbana construída.\n",
    "\n",
    "Em certa medida,é possível afirmar que também haveria uma correlação importante entre a qualidade do ambiente urbano e os rendimentos do entorno. O que, por um lado, pode levantar suspeitas a respeito da redundância dessa variável. Contudo, entende-se que esse pode ser um critério de desempate interessante, em casos de locais com acesso semelhante. A pertinência dessa variável será demonstrada — ou não — com as análises do modelo.\n",
    "\n",
    "A respeito da dimensão de serviços coletivos urbanos, Ribeiro e Ribeiro (2016, p. 4) alegam que \"esses são indicadores que expressam os serviços públicos essenciais para garantia de bem-estar urbano, independentemente de ser _ofertado por empresas públicas ou por empresas privadas através de concessão pública_ [ênfase adicionada]\". Disso, subentende-se que um atendimento adequado estaria refletido pelas seguintes variáveis extraídas da tabela de características gerais dos domicílios:\n",
    "\n",
    "- v002 : Domicílios particulares e domicílios coletivos\n",
    "\n",
    "- IBEU Serviços Coletivos Urbanos\n",
    "    - v012 : Domicílios particulares permanentes com abastecimento de água da rede geral\n",
    "    - v017 : Domicílios particulares permanentes com banheiro de uso exclusivo dos moradores ou sanitário e esgotamento sanitário via rede geral de esgoto ou pluvial\n",
    "    - v035 : Domicílios particulares permanentes com lixo coletado\n",
    "    - v044 : Domicílios particulares permanentes com energia elétrica de companhia distribuidora\n",
    "\n",
    "As outras duas dimensões são obtidas a partir da tabela com informações a respeito do entorno das quadras dos setores censitários. As variáveis são as seguintes:\n",
    "\n",
    "- v001 : Domicílios particulares permanentes\n",
    "\n",
    "- IBEU Infraestrutura Urbana\n",
    "    - v002 : Domicílios particulares permanentes próprios – Existe identificação do logradouro\n",
    "    - v004 : Domicílios particulares permanentes alugados – Existe identificação do logradouro\n",
    "    - v006 : Domicílios particulares permanentes cedidos – Existe identificação do logradouro\n",
    "    - v008 : Domicílios particulares permanentes próprios – Existe iluminação pública\n",
    "    - v010 : Domicílios particulares permanentes alugados – Existe iluminação pública\n",
    "    - v012 : Domicílios particulares permanentes cedidos – Existe iluminação pública\n",
    "    - v014 : Domicílios particulares permanentes próprios – Existe pavimentação\n",
    "    - v016 : Domicílios particulares permanentes alugados – Existe pavimentação\n",
    "    - v018 : Domicílios particulares permanentes cedidos – Existe pavimentação\n",
    "    - v020 : Domicílios particulares permanentes próprios – Existe calçada\n",
    "    - v022 : Domicílios particulares permanentes alugados – Existe calçada\n",
    "    - v024 : Domicílios particulares permanentes cedidos – Existe calçada\n",
    "    - v026 : Domicílios particulares permanentes próprios – Existe meio-fio/guia\n",
    "    - v028 : Domicílios particulares permanentes alugados – Existe meio-fio/guia\n",
    "    - v030 : Domicílios particulares permanentes cedidos – Existe meio-fio/guia\n",
    "    - v032 : Domicílios particulares permanentes próprios – Existe bueiro/boca-de-lobo\n",
    "    - v034 : Domicílios particulares permanentes alugados – Existe bueiro/boca-de-lobo\n",
    "    - v036 : Domicílios particulares permanentes cedidos – Existe bueiro/boca-de-lobo\n",
    "    - v038 : Domicílios particulares permanentes próprios – Existe rampa para cadeirante\n",
    "    - v040 : Domicílios particulares permanentes alugados – Existe rampa para cadeirante\n",
    "    - v042 : Domicílios particulares permanentes cedidos – Existe rampa para cadeirante\n",
    "        \n",
    "\n",
    "- IBEU Condições Ambientais Urbanas\n",
    "    - v044 : Domicílios particulares permanentes próprios – Existe arborização\n",
    "    - v046 : Domicílios particulares permanentes alugados – Existe arborização\n",
    "    - v048 : Domicílios particulares permanentes cedidos – Existe arborização\n",
    "    - v051 : Domicílios particulares permanentes próprios – Não existe esgoto a céu aberto\n",
    "    - v053 : Domicílios particulares permanentes alugados – Não existe esgoto a céu aberto\n",
    "    - v055 : Domicílios particulares permanentes cedidos – Não existe esgoto a céu aberto\n",
    "    - v057 : Domicílios particulares permanentes próprios – Não existe lixo acumulado nos logradouros\n",
    "    - v059 : Domicílios particulares permanentes alugados – Não existe lixo acumulado nos logradouros\n",
    "    - v061 : Domicílios particulares permanentes cedidos – Não existe lixo acumulado nos logradouros\n",
    "\n",
    "Listadas todas as variáveis necessárias, restam algumas notas metodológicas. A cada variável está associado um indicador que diz respeito à proporção de domicílios de cada setor censitário que tem o atributo sendo medido. Por exemplo, se o indicador referente à arborização tiver valor de 0.72, isso significa que 72% dos domicílios daquele setor possuem arborização em seu entorno. Em seguida, o restantante das contas envolve médias aritméticas simples: cada dimensão é representada pela média de seus indicadores constituintes, enquanto  que o IBEU é a média de cada dimensão. Cabe ressaltar outra diferença em relação ao IBEU original: aqui utilizamos como base de cálculo as proporções de domicílios, em vez da proporção de _pessoas_.\n",
    "\n",
    "    \n",
    "        Ribeiro, L. C. Q., Ribeiro, M. G. (2016). IBEU-Municipal: Índice de Bem-Estar Urbano dos Municípios Brasileiros. Letra Capital. https://www.observatoriodasmetropoles.net.br/wp-content/uploads/2020/08/ibeumunicipal_2016.pdf"
   ]
  },
  {
   "cell_type": "markdown",
   "id": "2dfa76fb-1d39-4f5f-b122-8357cddc0365",
   "metadata": {},
   "source": [
    "### IBEU Serviços Coletivos Urbanos"
   ]
  },
  {
   "cell_type": "code",
   "execution_count": null,
   "id": "e7f6a725-ed21-479f-ba05-4752c49a382d",
   "metadata": {
    "execution": {
     "iopub.status.busy": "2025-03-11T23:31:03.961951Z",
     "iopub.status.idle": "2025-03-11T23:31:03.961951Z",
     "shell.execute_reply": "2025-03-11T23:31:03.961951Z",
     "shell.execute_reply.started": "2025-03-11T23:31:03.961951Z"
    },
    "jupyter": {
     "source_hidden": true
    }
   },
   "outputs": [],
   "source": [
    "urban_services_vars = [\n",
    "    'id_setor_censitario',\n",
    "    'v002',\n",
    "    'v012', \n",
    "    'v017',\n",
    "    'v035',\n",
    "    'v044',\n",
    "    ]"
   ]
  },
  {
   "cell_type": "code",
   "execution_count": null,
   "id": "50f9eafc-6698-4631-af45-c1758425e560",
   "metadata": {
    "execution": {
     "iopub.status.busy": "2025-03-11T23:31:03.962951Z",
     "iopub.status.idle": "2025-03-11T23:31:03.963951Z",
     "shell.execute_reply": "2025-03-11T23:31:03.963951Z",
     "shell.execute_reply.started": "2025-03-11T23:31:03.963951Z"
    },
    "jupyter": {
     "source_hidden": true
    }
   },
   "outputs": [],
   "source": [
    "query = (\n",
    "    f\"SELECT {', '.join(urban_services_vars)} \"\n",
    "    \"FROM basedosdados.br_ibge_censo_demografico.setor_censitario_domicilio_caracteristicas_gerais_2010 \"\n",
    "    f\"WHERE id_setor_censitario IN ({_sql_style_list(tracts.code_tract.unique())});\"\n",
    "    )"
   ]
  },
  {
   "cell_type": "code",
   "execution_count": null,
   "id": "f8cc1ceb-c677-465e-88dc-46210beb3adb",
   "metadata": {
    "execution": {
     "iopub.status.busy": "2025-03-11T23:31:03.963951Z",
     "iopub.status.idle": "2025-03-11T23:31:03.964952Z",
     "shell.execute_reply": "2025-03-11T23:31:03.964952Z",
     "shell.execute_reply.started": "2025-03-11T23:31:03.964952Z"
    },
    "jupyter": {
     "source_hidden": true
    },
    "tags": []
   },
   "outputs": [],
   "source": [
    "services = bd.read_sql(\n",
    "    query,\n",
    "    billing_project_id=gcloud_id,\n",
    "    )"
   ]
  },
  {
   "cell_type": "code",
   "execution_count": null,
   "id": "9453f8da-cc42-4a4d-b5d9-1e489cd290db",
   "metadata": {
    "execution": {
     "iopub.status.busy": "2025-03-11T23:31:03.965466Z",
     "iopub.status.idle": "2025-03-11T23:31:03.966472Z",
     "shell.execute_reply": "2025-03-11T23:31:03.965466Z",
     "shell.execute_reply.started": "2025-03-11T23:31:03.965466Z"
    },
    "tags": []
   },
   "outputs": [],
   "source": [
    "services.head(3)"
   ]
  },
  {
   "cell_type": "markdown",
   "id": "2ba4a6a8-cdf2-494c-864b-67923f1594a3",
   "metadata": {},
   "source": [
    "### IBEU Infraestrutura Urbana | Condições Ambientais"
   ]
  },
  {
   "cell_type": "code",
   "execution_count": null,
   "id": "4e177b88-cf5e-4101-a354-e478f95b5abe",
   "metadata": {
    "execution": {
     "iopub.status.busy": "2025-03-11T23:31:03.966472Z",
     "iopub.status.idle": "2025-03-11T23:31:03.966472Z",
     "shell.execute_reply": "2025-03-11T23:31:03.966472Z",
     "shell.execute_reply.started": "2025-03-11T23:31:03.966472Z"
    },
    "jupyter": {
     "source_hidden": true
    }
   },
   "outputs": [],
   "source": [
    "surroundings_vars = (\n",
    "    ['id_setor_censitario', 'v001']\n",
    "    + [f'v{v:03}' for v in range(2, 49, 2)]\n",
    "    + [f'v{v:03}' for v in range(51, 62, 2)]\n",
    "    )"
   ]
  },
  {
   "cell_type": "code",
   "execution_count": null,
   "id": "2be1563f-cfeb-4baf-afc2-8b1bb4a976b5",
   "metadata": {
    "execution": {
     "iopub.status.busy": "2025-03-11T23:31:03.967471Z",
     "iopub.status.idle": "2025-03-11T23:31:03.968982Z",
     "shell.execute_reply": "2025-03-11T23:31:03.968982Z",
     "shell.execute_reply.started": "2025-03-11T23:31:03.968982Z"
    },
    "jupyter": {
     "source_hidden": true
    }
   },
   "outputs": [],
   "source": [
    "query = (\n",
    "    f\"SELECT {', '.join(surroundings_vars)} \"\n",
    "    \"FROM basedosdados.br_ibge_censo_demografico.setor_censitario_entorno_2010 \"\n",
    "    f\"WHERE id_setor_censitario IN ({_sql_style_list(tracts.code_tract.unique())});\"\n",
    "    )"
   ]
  },
  {
   "cell_type": "code",
   "execution_count": null,
   "id": "5441eed1-f3c6-4bb9-a65a-3de9cbb521bd",
   "metadata": {
    "execution": {
     "iopub.status.busy": "2025-03-11T23:31:03.969990Z",
     "iopub.status.idle": "2025-03-11T23:31:03.969990Z",
     "shell.execute_reply": "2025-03-11T23:31:03.969990Z",
     "shell.execute_reply.started": "2025-03-11T23:31:03.969990Z"
    },
    "jupyter": {
     "source_hidden": true
    },
    "tags": []
   },
   "outputs": [],
   "source": [
    "surroundings = bd.read_sql(\n",
    "    query,\n",
    "    billing_project_id=gcloud_id,\n",
    "    )"
   ]
  },
  {
   "cell_type": "code",
   "execution_count": null,
   "id": "103d5f79-7b30-42e5-a48d-4a0dfecf2122",
   "metadata": {
    "execution": {
     "iopub.status.busy": "2025-03-11T23:31:03.971995Z",
     "iopub.status.idle": "2025-03-11T23:31:03.971995Z",
     "shell.execute_reply": "2025-03-11T23:31:03.971995Z",
     "shell.execute_reply.started": "2025-03-11T23:31:03.971995Z"
    },
    "tags": []
   },
   "outputs": [],
   "source": [
    "surroundings.head(3)"
   ]
  },
  {
   "cell_type": "markdown",
   "id": "4797210e-f5de-4024-b704-0fe148e2e16b",
   "metadata": {},
   "source": [
    "Os dados dos atributos territoriais fazem uma desagregação por tipo de domicilio. Para o IBEU, essa subdivisão não existe: o que importaa são as residências dotadas de infraestrutura, indpendentemente de serem alugados, cedidos etc. Com efeito, eles serão agrupados, irrespectivamente da situação de posse."
   ]
  },
  {
   "cell_type": "code",
   "execution_count": null,
   "id": "5d4f3750-4cf9-4fd0-b950-b12d2b6acb00",
   "metadata": {
    "execution": {
     "iopub.status.busy": "2025-03-11T23:31:03.972995Z",
     "iopub.status.idle": "2025-03-11T23:31:03.973994Z",
     "shell.execute_reply": "2025-03-11T23:31:03.972995Z",
     "shell.execute_reply.started": "2025-03-11T23:31:03.972995Z"
    },
    "tags": []
   },
   "outputs": [],
   "source": [
    "def _grouping_windows():\n",
    "    indices = [idx for idx in range(1, surroundings.shape[1]+1, 3)]\n",
    "    return [(u, v) for u, v in zip(indices[:-1], indices[1:])]\n",
    "\n",
    "\n",
    "def _wrangle_df(df, u, v):\n",
    "    sliced_df = df.iloc[:, u:v].copy()\n",
    "    name = '-'.join(sliced_df.columns)\n",
    "    return sliced_df.sum(1).rename(name)\n",
    "\n",
    "\n",
    "def group_surroundings(surroundings):\n",
    "    windows = _grouping_windows()\n",
    "    df = surroundings.set_index('id_setor_censitario')\n",
    "    grouped_df = [\n",
    "        _wrangle_df(df, u, v)\n",
    "        for i, (u, v)\n",
    "        in enumerate(windows)\n",
    "        ]\n",
    "    return (\n",
    "        pd.concat(grouped_df, axis='columns')\n",
    "          .merge(\n",
    "              df.v001,\n",
    "              left_index=True,\n",
    "              right_index=True,\n",
    "              ) \n",
    "          .reset_index()\n",
    "        )"
   ]
  },
  {
   "cell_type": "code",
   "execution_count": null,
   "id": "4259fd7e-7216-418b-96fb-fce0fb40c888",
   "metadata": {
    "execution": {
     "iopub.status.busy": "2025-03-11T23:31:03.973994Z",
     "iopub.status.idle": "2025-03-11T23:31:03.974990Z",
     "shell.execute_reply": "2025-03-11T23:31:03.974990Z",
     "shell.execute_reply.started": "2025-03-11T23:31:03.974990Z"
    },
    "tags": []
   },
   "outputs": [],
   "source": [
    "surroundings = group_surroundings(surroundings)"
   ]
  },
  {
   "cell_type": "code",
   "execution_count": null,
   "id": "5e442079-ede5-44e0-bd8f-7f6bd2ce202f",
   "metadata": {
    "execution": {
     "iopub.status.busy": "2025-03-11T23:31:03.976511Z",
     "iopub.status.idle": "2025-03-11T23:31:03.976511Z",
     "shell.execute_reply": "2025-03-11T23:31:03.976511Z",
     "shell.execute_reply.started": "2025-03-11T23:31:03.976511Z"
    },
    "tags": []
   },
   "outputs": [],
   "source": [
    "surroundings.head()"
   ]
  },
  {
   "cell_type": "markdown",
   "id": "6b1c23e7-acee-4996-b553-9df08dda6393",
   "metadata": {},
   "source": [
    "### IBEU"
   ]
  },
  {
   "cell_type": "code",
   "execution_count": null,
   "id": "012c4523-6b17-4937-b757-ec40af6fdb36",
   "metadata": {
    "execution": {
     "iopub.status.busy": "2025-03-11T23:31:03.977513Z",
     "iopub.status.idle": "2025-03-11T23:31:03.978509Z",
     "shell.execute_reply": "2025-03-11T23:31:03.977513Z",
     "shell.execute_reply.started": "2025-03-11T23:31:03.977513Z"
    },
    "jupyter": {
     "source_hidden": true
    },
    "tags": []
   },
   "outputs": [],
   "source": [
    "# Helper functions to compute IBEU\n",
    "\n",
    "def _urban_area(df, ref_col):\n",
    "    \"\"\"Takes only the portion of the dataset\n",
    "    the is strictly subject to urban dynamics,\n",
    "    i.e. excludes census tracts of special areas\n",
    "    such as university campi or penitentiaries.\n",
    "    \n",
    "    Parameters\n",
    "    ----------\n",
    "    df : DataFrame\n",
    "        Attributes by census tract\n",
    "    ref_col : str\n",
    "        Column containing variable that is either\n",
    "        zero or null if census tract is a special area\n",
    "        \n",
    "    Returns\n",
    "    -------\n",
    "        DataFrame\n",
    "    \"\"\"\n",
    "    mask = (df[ref_col] != 0) & df[ref_col].notnull()\n",
    "    return df.loc[mask]\n",
    "\n",
    "\n",
    "def _partial_ibeu(partial_data, ref_col):\n",
    "    df = _urban_area(partial_data, ref_col)\n",
    "    return (\n",
    "        df.set_index('id_setor_censitario')\n",
    "          .pipe(\n",
    "              lambda df: df.div(df[ref_col], axis='index')\n",
    "              )\n",
    "          .drop(columns=ref_col)\n",
    "        )\n",
    "    \n",
    "\n",
    "\n",
    "def compute_ibeu(surroundings, services):\n",
    "    return (\n",
    "        pd.merge(\n",
    "            _partial_ibeu(surroundings, 'v001'),\n",
    "            _partial_ibeu(services, 'v002'),\n",
    "            left_index=True,\n",
    "            right_index=True,\n",
    "            )\n",
    "          .apply(lambda row: np.mean(row), axis='columns')\n",
    "          .rename('ibeu')\n",
    "        )\n"
   ]
  },
  {
   "cell_type": "code",
   "execution_count": null,
   "id": "78810e95-f021-4858-a593-688907ad2933",
   "metadata": {
    "execution": {
     "iopub.status.busy": "2025-03-11T23:31:03.978509Z",
     "iopub.status.idle": "2025-03-11T23:31:03.978509Z",
     "shell.execute_reply": "2025-03-11T23:31:03.978509Z",
     "shell.execute_reply.started": "2025-03-11T23:31:03.978509Z"
    },
    "tags": []
   },
   "outputs": [],
   "source": [
    "ibeu = compute_ibeu(surroundings, services)"
   ]
  },
  {
   "cell_type": "markdown",
   "id": "cb26fa53-8ade-4b0c-9690-bc6b851138ba",
   "metadata": {},
   "source": [
    "## Relação Anual de Informações Sociais (RAIS)"
   ]
  },
  {
   "cell_type": "markdown",
   "id": "7f30f55a-4c76-4ddd-95b6-2ab1974a0ecf",
   "metadata": {},
   "source": [
    "A Relação Anual de Informações Sociais (RAIS), do Ministério do Trabalho e Emprego, é uma bas de dados que contém os quantitativos de empregos por estabelecimento, os quais ainda são geolocalizados por CEP. Dessa forma, é possível evidenciar a concentração de empresas e serviços no interior de cada hexágono H3 no interior da área de estudo. Com efeito, é a partir da RAIS que será consolidada a variável dependente do modelo.\n",
    "\n",
    "Uma limitação dos dados da RAIS é que eles apenas contemplam os empregos formais, assim sub-representando a economia subterrânea, a informalidade. Contudo, essa não chega a ser uma limitação muito importante no contexto deste relatório porque estudos anteriores (Pereira, Banister, et al., 2019) detectaram, a partir da pesquisa de origem e destino de 2012, que há expressiva correlação entre a localização dos empregos formais e informais. Essa correlação foi feita para o caso do Rio de Janeiro, mas é razoável supor que também se repita em São Paulo e Belo Horizonte.\n",
    "\n",
    "Serão utilizados os anos da RAIS com maior proximidade temporal aos dados disponíveis de mobilidade e do sistema de transportes. No caso de São Paulo e Belo Horizonte, em ambos as últimas pesquisas de origem e destino são de 2012, ao mesmo tempo em que há dados de GTFS do ano de 2014 para ambos os municípios. De fato, de Belo Horizonte, há disponibilidade de uma série histórica anual de dados GTFS, coletados junto aos portais da transparência e junto à empresa de planejamento de transportes local. O Rio de Janeiro, portanto, foi o fator limitante, pois houve dificuldades na obtenção de dados abrangentes que contemplassem todos os modos de transporte municipais. A resolução veio quando a Moovit gentilmente cedeu informações respectivas ao ano de 2014, para todos os modos.\n",
    "\n",
    "Já para o caso de São Paulo, será utilizada a RAIS do ano de 2017, pois esse é o ano da pesquisa de origm e destino mais recente e, ainda, conseguimos obter dados GTFS de 2017, junto ao Serviço de Informações ao Cidadão (SIC), o qual recebe e registra pedidos de acesso à informação feitos por cidadãos e cidadãs aos órgãos da administração direta e indireta da Prefeitura Municipal de São Paulo (PMSP).\n",
    "\n"
   ]
  },
  {
   "cell_type": "markdown",
   "id": "93497675-ee5d-4078-95e4-331bff34d6c0",
   "metadata": {},
   "source": [
    "### Leitura"
   ]
  },
  {
   "cell_type": "code",
   "execution_count": null,
   "id": "1c02faa9-f52c-45a3-942f-c0582b9aa1ae",
   "metadata": {
    "execution": {
     "iopub.status.busy": "2025-03-11T23:31:03.979513Z",
     "iopub.status.idle": "2025-03-11T23:31:03.980513Z",
     "shell.execute_reply": "2025-03-11T23:31:03.980513Z",
     "shell.execute_reply.started": "2025-03-11T23:31:03.980513Z"
    }
   },
   "outputs": [],
   "source": [
    "# Preps the query for requesting in Base dos Dados\n",
    "\n",
    "job_vars = [\n",
    "    'ano',\n",
    "    'id_municipio',\n",
    "    'cep',\n",
    "    'tipo_estabelecimento',\n",
    "    'indicador_atividade_ano',\n",
    "    'quantidade_vinculos_ativos',\n",
    "    'natureza_juridica',\n",
    "    'cnae_2',\n",
    "    ]\n",
    "\n",
    "query = (\n",
    "    f\"SELECT {', '.join(job_vars)} \" \n",
    "    \"FROM basedosdados.br_me_rais.microdados_estabelecimentos \"\n",
    "    f\"WHERE id_municipio IN ({_sql_style_list(tracts.code_muni.unique())}) \"\n",
    "    \"AND ano IN (2014, 2015, 2016, 2017, 2018, 2019, 2020, 2021, 2022, 2023);\"\n",
    "    #f\"WHERE id_municipio = '3304557' AND ano = 2014;\"\n",
    "    )"
   ]
  },
  {
   "cell_type": "code",
   "execution_count": null,
   "id": "073a07f1-b250-4adf-89d9-5f05533ae20c",
   "metadata": {
    "execution": {
     "iopub.status.busy": "2025-03-11T23:31:03.981512Z",
     "iopub.status.idle": "2025-03-11T23:31:03.981512Z",
     "shell.execute_reply": "2025-03-11T23:31:03.981512Z",
     "shell.execute_reply.started": "2025-03-11T23:31:03.981512Z"
    },
    "jupyter": {
     "source_hidden": true
    }
   },
   "outputs": [],
   "source": [
    "rais = bd.read_sql(\n",
    "    query,\n",
    "    billing_project_id=gcloud_id,\n",
    "    )"
   ]
  },
  {
   "cell_type": "code",
   "execution_count": null,
   "id": "11d3799b-2de0-4326-bbbd-9ff5d0384ffd",
   "metadata": {
    "execution": {
     "iopub.status.busy": "2025-03-11T23:31:03.982511Z",
     "iopub.status.idle": "2025-03-11T23:31:03.983514Z",
     "shell.execute_reply": "2025-03-11T23:31:03.983514Z",
     "shell.execute_reply.started": "2025-03-11T23:31:03.983514Z"
    }
   },
   "outputs": [],
   "source": [
    "rais.dtypes"
   ]
  },
  {
   "cell_type": "code",
   "execution_count": null,
   "id": "f043c266-a6dd-4f2b-9945-1447df966bc8",
   "metadata": {
    "execution": {
     "iopub.status.busy": "2025-03-11T23:31:03.985024Z",
     "iopub.status.idle": "2025-03-11T23:31:03.985024Z",
     "shell.execute_reply": "2025-03-11T23:31:03.985024Z",
     "shell.execute_reply.started": "2025-03-11T23:31:03.985024Z"
    },
    "jupyter": {
     "source_hidden": true
    }
   },
   "outputs": [],
   "source": [
    "# Distinction between CNPJ and others\n",
    "rais = rais.assign(\n",
    "    tipo_estabelecimento=lambda x: np.where(x.tipo_estabelecimento == '1', 'CNPJ', 'Outros')\n",
    "    )"
   ]
  },
  {
   "cell_type": "code",
   "execution_count": null,
   "id": "ebeea109-ec3c-4080-a493-6a9dee7e5a1e",
   "metadata": {
    "execution": {
     "iopub.status.busy": "2025-03-11T23:31:03.986035Z",
     "iopub.status.idle": "2025-03-11T23:31:03.987048Z",
     "shell.execute_reply": "2025-03-11T23:31:03.987048Z",
     "shell.execute_reply.started": "2025-03-11T23:31:03.987048Z"
    },
    "tags": []
   },
   "outputs": [],
   "source": [
    "rais.head(3)"
   ]
  },
  {
   "cell_type": "code",
   "execution_count": null,
   "id": "3fc7ef77-24a4-48c0-84ac-f0379e50be82",
   "metadata": {
    "execution": {
     "iopub.status.busy": "2025-03-11T23:31:03.988047Z",
     "iopub.status.idle": "2025-03-11T23:31:03.988047Z",
     "shell.execute_reply": "2025-03-11T23:31:03.988047Z",
     "shell.execute_reply.started": "2025-03-11T23:31:03.988047Z"
    },
    "jupyter": {
     "source_hidden": true
    }
   },
   "outputs": [],
   "source": [
    "def count_jobs_and_firms(df, grouper='ano'):\n",
    "    return (\n",
    "        df\n",
    "        .groupby(grouper)\n",
    "        .agg(\n",
    "            quantidade_estabelecimento=('quantidade_vinculos_ativos', 'size'),\n",
    "            quantidade_vinculos=('quantidade_vinculos_ativos', 'sum'),\n",
    "            quantidade_negocios_individuais=('quantidade_vinculos_ativos', negocios_individuais)   \n",
    "         )\n",
    "    )\n",
    "\n",
    "\n",
    "def negocios_individuais(x):\n",
    "    return x.where(x < 1).replace({0: 1}).sum()"
   ]
  },
  {
   "cell_type": "code",
   "execution_count": null,
   "id": "c4b13022-bf3d-4736-8e2c-915e87e310f0",
   "metadata": {
    "execution": {
     "iopub.status.busy": "2025-03-11T23:31:03.989047Z",
     "iopub.status.idle": "2025-03-11T23:31:03.989047Z",
     "shell.execute_reply": "2025-03-11T23:31:03.989047Z",
     "shell.execute_reply.started": "2025-03-11T23:31:03.989047Z"
    }
   },
   "outputs": [],
   "source": [
    "count_jobs_and_firms(rais)"
   ]
  },
  {
   "cell_type": "markdown",
   "id": "310ef790-193c-4e10-8764-28346c1d9bca",
   "metadata": {},
   "source": [
    "### Limpeza"
   ]
  },
  {
   "cell_type": "markdown",
   "id": "4fd4c58b-6353-414a-b023-dc54493a01b7",
   "metadata": {},
   "source": [
    "A primeira ideia seria utilizar apenas os registros cujo indicador de atividade no ano assumisse o valor de 1, ou seja, apenas estabelecimentos/entidades que exerceras atividade durante o ano de referência. Contudo, análises preliminares (ver tabela abaixo) sugeriram que esse campo, para o ano de 2022 era problemático: 99,5% dos registros para esse ano desapareciam. De fato, esse ano foi o primeiro ano de retorno das atividades logo após a Pandemia de COVID-19, o que pode ter levado a esse resultado. Não obstante, não deixa de ser um resultado estranho, pois no final de 2022 já havia um retorno substancial às atividades. Indo ao encontro dessa situação está o fato de que em 2022 houve uma categoria adicional no indicador de atividade: em vez de apenas 0 ou 1, apareceu o digito 9, cujo significado exato não foi descoberto porque não se localizou nos [layouts de dados](https://www.gov.br/trabalho-e-emprego/pt-br/assuntos/estatisticas-trabalho/microdados-rais-e-caged) disponibilizados pelo Ministério do Trabalho e Emprego.\n",
    "\n",
    "Ou seja, houve situação atípica em 2022, dado que os valores de inatividade não são plausíveis: por mais que tenha havido um forte impacto na economia, não é razoável que mais da metade da atividade econômica do município tenha sido extinta. As explicações para isso, portanto, fazem parte de uma investigação mais profunda que não faz parte do escopo desta Tese, mas, tudo indica que há um papel importante da categoria 9 no indicador de atividade.\n",
    "\n",
    "De todo modo, esse fato, levou a uma análise mais aprofundada, com base nas tabelas abaixo. Avaliando todos os anos, com exceção de 2022, percebe-se uma relativa estabilidade no número de estabelecimentos com CNPJ e que empregam pelo menos uma pessoa, assim como uma estabilidade relativa entre os números totais de vínculos empregatícios no município. Isso sugere que há uma flutuação importante entre os totais relativos a locais vinculados a empreendedores individuais. Além da j;a mencionada pandemia, houve ainda [uma mudança metodológica](https://www.gov.br/trabalho-e-emprego/pt-br/assuntos/estatisticas-trabalho/rais/rais-2023/nota-tecnica-rais-2023_11-12-2024.pdf) na RAIS a partir de 2022 e que dificulta a comparação direta entre 2022 e 2023, de um lado, e anos anteriores, de outro.\n",
    "\n",
    "Nesse contexto, prefere-se trabalhar apenas com estabelecimentos ativos e que empregam pelo menos uma pessoa. Sobretudo, é razoável partir da premissa de que esses locais estão mais diretamente associados com usos do solo não residenciais e que estão mais diretamente ligados ao mecanismo de autômatos celulares que se pretende modelar. Não obstantes, em etapa futura, os dados da RAIS serão comparados com os dados do CNEFE, em etapa que será mais bem detalhada mais à frente."
   ]
  },
  {
   "cell_type": "code",
   "execution_count": null,
   "id": "cb7f97cd-7533-4afe-a956-1477a2ea9697",
   "metadata": {
    "execution": {
     "iopub.status.busy": "2025-03-11T23:31:03.989047Z",
     "iopub.status.idle": "2025-03-11T23:31:03.990047Z",
     "shell.execute_reply": "2025-03-11T23:31:03.989047Z",
     "shell.execute_reply.started": "2025-03-11T23:31:03.989047Z"
    }
   },
   "outputs": [],
   "source": [
    "# Totais por ano e se executou atividade, por tipo de estab.\n",
    "\n",
    "count_jobs_and_firms(rais, grouper=['ano', 'indicador_atividade_ano', 'tipo_estabelecimento']).unstack().fillna(0)"
   ]
  },
  {
   "cell_type": "code",
   "execution_count": null,
   "id": "6666b6f6-4036-403b-ad95-8647719e4a0b",
   "metadata": {
    "execution": {
     "iopub.status.busy": "2025-03-11T23:31:03.990047Z",
     "iopub.status.idle": "2025-03-11T23:31:03.990047Z",
     "shell.execute_reply": "2025-03-11T23:31:03.990047Z",
     "shell.execute_reply.started": "2025-03-11T23:31:03.990047Z"
    },
    "jupyter": {
     "source_hidden": true
    }
   },
   "outputs": [],
   "source": [
    "# Estabelecimentos com vínculos de emprego por tipo\n",
    "\n",
    "(\n",
    "    rais\n",
    "    .loc[rais.quantidade_vinculos_ativos > 0]\n",
    "    .groupby(['ano', 'indicador_atividade_ano', 'tipo_estabelecimento'])\n",
    "    .size()\n",
    "    .unstack()\n",
    "    .fillna(0)\n",
    "    )"
   ]
  },
  {
   "cell_type": "code",
   "execution_count": null,
   "id": "10ca9753-8160-4096-b73d-0edd05af7bf3",
   "metadata": {
    "execution": {
     "iopub.status.busy": "2025-03-11T23:31:03.991043Z",
     "iopub.status.idle": "2025-03-11T23:31:03.991043Z",
     "shell.execute_reply": "2025-03-11T23:31:03.991043Z",
     "shell.execute_reply.started": "2025-03-11T23:31:03.991043Z"
    },
    "jupyter": {
     "source_hidden": true
    }
   },
   "outputs": [],
   "source": [
    "# Totais de empregos por tipo de estabelecimento\n",
    "\n",
    "(\n",
    "    rais\n",
    "    .groupby(['ano', 'tipo_estabelecimento'])\n",
    "    .quantidade_vinculos_ativos\n",
    "    .sum()\n",
    "    .unstack()\n",
    "    .fillna(0)\n",
    "    )"
   ]
  },
  {
   "cell_type": "markdown",
   "id": "188ba18b-6595-4e0a-b321-15c4bfcc40d4",
   "metadata": {},
   "source": [
    "Reiterando, com base na discussão acima, extraímos apenas empresas que empregavam pelo menos 1 pessoa."
   ]
  },
  {
   "cell_type": "code",
   "execution_count": null,
   "id": "4922e294-448d-47d3-aa95-bf84daaf8010",
   "metadata": {
    "execution": {
     "iopub.status.busy": "2025-03-11T23:31:03.993047Z",
     "iopub.status.idle": "2025-03-11T23:31:03.993047Z",
     "shell.execute_reply": "2025-03-11T23:31:03.993047Z",
     "shell.execute_reply.started": "2025-03-11T23:31:03.993047Z"
    }
   },
   "outputs": [],
   "source": [
    "rais = (\n",
    "    rais\n",
    "    .loc[rais.quantidade_vinculos_ativos > 0]\n",
    ")"
   ]
  },
  {
   "cell_type": "code",
   "execution_count": null,
   "id": "e3e95a11-bc07-4379-9f74-892ed512cdb9",
   "metadata": {
    "execution": {
     "iopub.status.busy": "2025-03-11T23:31:03.994047Z",
     "iopub.status.idle": "2025-03-11T23:31:03.994047Z",
     "shell.execute_reply": "2025-03-11T23:31:03.994047Z",
     "shell.execute_reply.started": "2025-03-11T23:31:03.994047Z"
    }
   },
   "outputs": [],
   "source": [
    "count_jobs_and_firms(rais)"
   ]
  },
  {
   "cell_type": "markdown",
   "id": "994e216f-95d9-4338-be80-a6d9039c89e3",
   "metadata": {},
   "source": [
    "Em seguida, dados da RAIS precisam passar por um tratameto para corrigir algumas inconsistências. Para isso, será seguido (com adaptações) o procedimento documentado na linguagem R em https://bit.ly/git_access_op_rais_pre_processing. Esse protocolo foi baseado no raciocínio elaborado em Nadalin (2018)⁕, quem deve ser consultada em caso de maiores detalhes serem necessários.\n",
    "\n",
    "Primeiro, os empregos de natureza pública são removidos. Essa remoção toma como base os códigos da Tabela de Natureza Jurídica† da CONCLA, do IBGE. Assim, todos os empregos que começam com o dígito 1 serão deletados, bem como o código 2011, que se refere a empresas públicas.\n",
    "\n",
    "Em seguida, para os empregos das demais naturezas, é feito um tratamento dos outliers. Esse tratamento consiste em identificar setores problemáticos e, para cada um deles, avaliar a distribuição dos vínculos. Caso o estabelecimento de um setor problemático tenha mais vínculos que o percentil 95 da distribuição desse mesmo setor, o total corrigido será igual ao percentil 95 desse mesmo setor. Caso essa condição não seja atendida, o total permanece igual.\n",
    "\n",
    "Essas anomalias ocorrem porque\n",
    "\n",
    "    há na iniciativa privada atividades que levam à inconsistência na declaração do total de vínculos ativos que de fato trabalham no endereço informado. É o caso das empresas prestadoras de serviços a outras empresas. São empresas terceirizadas de limpeza, vigilância, manutenção predial, alimentação, entre outras. Há orientação para que seus empregados sejam declarados no quadro de funcionários da empresa terceirizada, mas esses empregados não trabalham na sede dessa empresa, e sim no endereço da empresa contratante dos serviços. Outros casos similares são os de empresas do setor elétrico, de saneamento, de transporte, de transporte aéreo e de limpeza urbana.\n",
    "    \n",
    "    Por outro lado, o problema existe quando o estabelecimento declara que todos os seus empregados trabalham em apenas um endereço, mesmo que trabalhem em outros Por outro lado, o problema existe quando o estabelecimento declara que todos os seus empregados trabalham em apenas um endereço, mesmo que trabalhem em outro. (Nadalin, 2018, pp. 4-5)\n",
    "\n",
    "Cabe destacar que quando excluídas as anomalias, levam-se em consideração apenas os estabelecimentos que empregaram pessoas ao longo do ano em análise. Isso porque há estabelecimentos que funcionaram sem sempregar ninguém, o que enviesaria o teto calcula pelo procedimento acima. Deve-se tem em mente, nesse contexto, que a motivação para corrigir valores inflados e excessivos de alguns setores, conforme elaborado em Nadalin (2018), assim, os valores menores não são razã de grande preocupação.\n",
    "\n",
    "    ⁕ NADALIN, V. G. Localização de empregos formais e transporte público de massa. Brasília: Ipea, 2018. (Nota Técnica, n. 13). Disponível em <https://bit.ly/2YX6K5O>\n",
    "    \n",
    "    † Disponível em <https://bit.ly/concla_nat_jur>"
   ]
  },
  {
   "cell_type": "code",
   "execution_count": null,
   "id": "b195f8e3-89b6-4189-b62e-94ee4a07d788",
   "metadata": {
    "execution": {
     "iopub.status.busy": "2025-03-11T23:31:03.995044Z",
     "iopub.status.idle": "2025-03-11T23:31:03.995044Z",
     "shell.execute_reply": "2025-03-11T23:31:03.995044Z",
     "shell.execute_reply.started": "2025-03-11T23:31:03.995044Z"
    },
    "tags": []
   },
   "outputs": [],
   "source": [
    "def flag_public_sector(rais):\n",
    "    civil_service_jobs = (\n",
    "        rais.natureza_juridica.str.startswith('1')\n",
    "        )\n",
    "    \n",
    "    state_owned_firms = (rais.natureza_juridica == '2011')\n",
    "    \n",
    "    mask = (\n",
    "        civil_service_jobs | state_owned_firms\n",
    "        )\n",
    "    \n",
    "    return rais.assign(\n",
    "                    sector=lambda x: np.where(\n",
    "                                            mask,\n",
    "                                            'Publico',\n",
    "                                            'Privado',\n",
    "                                            )\n",
    "                    )"
   ]
  },
  {
   "cell_type": "code",
   "execution_count": null,
   "id": "ce7ade26-1c40-4f40-aad6-32910f2a8312",
   "metadata": {
    "execution": {
     "iopub.status.busy": "2025-03-11T23:31:03.996098Z",
     "iopub.status.idle": "2025-03-11T23:31:03.996098Z",
     "shell.execute_reply": "2025-03-11T23:31:03.996098Z",
     "shell.execute_reply.started": "2025-03-11T23:31:03.996098Z"
    },
    "tags": []
   },
   "outputs": [],
   "source": [
    "rais = flag_public_sector(rais)"
   ]
  },
  {
   "cell_type": "code",
   "execution_count": null,
   "id": "2862d637-49ae-4f29-969d-25112096a2b3",
   "metadata": {
    "execution": {
     "iopub.status.busy": "2025-03-11T23:31:03.997096Z",
     "iopub.status.idle": "2025-03-11T23:31:03.997096Z",
     "shell.execute_reply": "2025-03-11T23:31:03.997096Z",
     "shell.execute_reply.started": "2025-03-11T23:31:03.997096Z"
    }
   },
   "outputs": [],
   "source": [
    "def remove_public_sector(rais):    \n",
    "    return rais.loc[rais.sector == 'Privado'].drop(columns='sector')"
   ]
  },
  {
   "cell_type": "code",
   "execution_count": null,
   "id": "0e0ea97a-9198-4f74-bcd4-072ac519edb1",
   "metadata": {
    "execution": {
     "iopub.status.busy": "2025-03-11T23:31:03.998097Z",
     "iopub.status.idle": "2025-03-11T23:31:03.998097Z",
     "shell.execute_reply": "2025-03-11T23:31:03.998097Z",
     "shell.execute_reply.started": "2025-03-11T23:31:03.998097Z"
    }
   },
   "outputs": [],
   "source": [
    "rais = remove_public_sector(rais)"
   ]
  },
  {
   "cell_type": "code",
   "execution_count": null,
   "id": "e3b24299-de1a-4488-beaa-326c77ee96e5",
   "metadata": {
    "execution": {
     "iopub.status.busy": "2025-03-11T23:31:03.999096Z",
     "iopub.status.idle": "2025-03-11T23:31:03.999096Z",
     "shell.execute_reply": "2025-03-11T23:31:03.999096Z",
     "shell.execute_reply.started": "2025-03-11T23:31:03.999096Z"
    }
   },
   "outputs": [],
   "source": [
    "count_jobs_and_firms(rais)"
   ]
  },
  {
   "cell_type": "code",
   "execution_count": null,
   "id": "78db7ca7-74c7-4054-8de5-7827f7429d28",
   "metadata": {
    "execution": {
     "iopub.status.busy": "2025-03-11T23:31:04.003098Z",
     "iopub.status.idle": "2025-03-11T23:31:04.004097Z",
     "shell.execute_reply": "2025-03-11T23:31:04.003098Z",
     "shell.execute_reply.started": "2025-03-11T23:31:04.003098Z"
    }
   },
   "outputs": [],
   "source": [
    "count_jobs_and_firms(rais).pct_change().mul(100)"
   ]
  },
  {
   "cell_type": "markdown",
   "id": "cbff1620-b0e3-4574-b540-ae5cfe2a328c",
   "metadata": {},
   "source": [
    "Percebe-se aqui um salto entre quando se comparam os anos pré e pós 2022, isto é, há 10% a mais de empregos de 2021 para 2022, o que é atribuído à mudança metodológica na RAIS: a nova metodologia permite maior cobertura e confiança nos registros, de forma que parte desse aumento não se refere exatamente ao mercado de trabalho, mas a uma melhor possibilidade de detecção. No entanto, corrigir para esse fator é algo complexo e que não faz parte do escopo desta tese. Trabalharemos assim com esses número, mas reconhecendo que essa é uma possível limitação. Não entendemos, contudo, que isso vai se caracterizar num problema muito crítico porque as distribuições relativas de emprego e establecimentos no território belorizontino provavelmente estão estáveis — confirmaremos isso adiante."
   ]
  },
  {
   "cell_type": "code",
   "execution_count": null,
   "id": "bb250c00-d1f3-4619-960b-30f9668c1533",
   "metadata": {
    "execution": {
     "iopub.status.busy": "2025-03-11T23:31:04.005097Z",
     "iopub.status.idle": "2025-03-11T23:31:04.005097Z",
     "shell.execute_reply": "2025-03-11T23:31:04.005097Z",
     "shell.execute_reply.started": "2025-03-11T23:31:04.005097Z"
    }
   },
   "outputs": [],
   "source": [
    "def _clean_sector(group):\n",
    "    problematic_sectors = [\n",
    "        '35', # ELETRICIDADE, GÁS E OUTRAS UTILIDADES\n",
    "        '36', # CAPTAÇÃO, TRATAMENTO E DISTRIBUIÇÃO DE ÁGUA\n",
    "        '38', # COLETA, TRATAMENTO E DISPOSIÇÃO DE RESÍDUOS; RECUPERAÇÃO DE MATERIAIS\n",
    "        '41', # CONSTRUÇÃO DE EDIFÍCIOS\n",
    "        '42', # OBRAS DE INFRA-ESTRUTURA\n",
    "        '43', # SERVIÇOS ESPECIALIZADOS PARA CONSTRUÇÃO\n",
    "        '49', # TRANSPORTE TERRESTRE\n",
    "        '51', # TRANSPORTE AÉREO\n",
    "        '562', # Catering, bufê e outros serviços de comida preparada\n",
    "        '64', # ATIVIDADES DE SERVIÇOS FINANCEIROS\n",
    "        '78', # SELEÇÃO, AGENCIAMENTO E LOCAÇÃO DE MÃO-DE-OBRA\n",
    "        '80', # ATIVIDADES DE VIGILÂNCIA, SEGURANÇA E INVESTIGAÇÃO\n",
    "        '81', # SERVIÇOS PARA EDIFÍCIOS E ATIVIDADES PAISAGÍSTICAS\n",
    "        '82', # SERVIÇOS DE ESCRITÓRIO, DE APOIO ADMINISTRATIVO E OUTROS SERVIÇOS PRESTADOS A EMPRESAS\n",
    "        '84', # ADMINISTRAÇÃO PÚBLICA, DEFESA E SEGURIDADE SOCIAL\n",
    "        ]\n",
    "    sector_mask = group.cnae_2.str.startswith(tuple(problematic_sectors))\n",
    "        \n",
    "    ceiling = (\n",
    "        group\n",
    "        .loc[sector_mask, 'quantidade_vinculos_ativos']\n",
    "        .pipe(\n",
    "            lambda x: x[x > 0]\n",
    "            )\n",
    "        .quantile(.95)\n",
    "        )\n",
    "        \n",
    "    job_mask = group.quantidade_vinculos_ativos > ceiling\n",
    "    \n",
    "    mask = sector_mask & job_mask\n",
    "    \n",
    "    group['quantidade_vinculos_ativos'] = np.where(\n",
    "                                            mask,\n",
    "                                            ceiling,\n",
    "                                            group.quantidade_vinculos_ativos,\n",
    "                                            )\n",
    "    return group\n",
    "    \n",
    "\n",
    "def clean_job_outliers(rais):\n",
    "    return (\n",
    "        rais\n",
    "        .groupby(['ano', 'cnae_2'])\n",
    "        .apply(_clean_sector)\n",
    "        .astype({'quantidade_vinculos_ativos': float})\n",
    "        .round({'quantidade_vinculos_ativos': 0})\n",
    "        .astype({'quantidade_vinculos_ativos': int})\n",
    "        )"
   ]
  },
  {
   "cell_type": "code",
   "execution_count": null,
   "id": "6d8e1770-fd7f-4788-a345-8ec503cf72d0",
   "metadata": {
    "execution": {
     "iopub.status.busy": "2025-03-11T23:31:04.005611Z",
     "iopub.status.idle": "2025-03-11T23:31:04.006619Z",
     "shell.execute_reply": "2025-03-11T23:31:04.006619Z",
     "shell.execute_reply.started": "2025-03-11T23:31:04.006619Z"
    }
   },
   "outputs": [],
   "source": [
    "rais = clean_job_outliers(rais)"
   ]
  },
  {
   "cell_type": "code",
   "execution_count": null,
   "id": "1130c871-f137-4c92-8c8c-91083a54bfcc",
   "metadata": {
    "execution": {
     "iopub.status.busy": "2025-03-11T23:31:04.007617Z",
     "iopub.status.idle": "2025-03-11T23:31:04.007617Z",
     "shell.execute_reply": "2025-03-11T23:31:04.007617Z",
     "shell.execute_reply.started": "2025-03-11T23:31:04.007617Z"
    }
   },
   "outputs": [],
   "source": [
    "rais.head(2)"
   ]
  },
  {
   "cell_type": "code",
   "execution_count": null,
   "id": "9b55f3aa-f4e2-4e75-abcb-2ed7533ae68d",
   "metadata": {
    "execution": {
     "iopub.status.busy": "2025-03-11T23:31:04.008617Z",
     "iopub.status.idle": "2025-03-11T23:31:04.008617Z",
     "shell.execute_reply": "2025-03-11T23:31:04.008617Z",
     "shell.execute_reply.started": "2025-03-11T23:31:04.008617Z"
    }
   },
   "outputs": [],
   "source": [
    "count_jobs_and_firms(rais)"
   ]
  },
  {
   "cell_type": "markdown",
   "id": "5feea5ff-89b2-42f3-a448-b1be39dd6b83",
   "metadata": {},
   "source": [
    "### Filtros: Setores de Interesse"
   ]
  },
  {
   "cell_type": "markdown",
   "id": "873cdd45-c078-4c89-a351-fb2dee1def28",
   "metadata": {},
   "source": [
    "Em seguida, são removidos os setores econômicos que se entende que não são muito afetados pelas dinâmicas urbanas que o modelo se propõe a simular. Agricultura é um deles, sobretudo porque não é algo representativo na cidade de Belo Horizonte. De forma similar, as contagens de usos industriais não serão levados em conta, eles são pouco representativos na cidade e são majoritariamente definidos por questão extra-urbanas: inserção da indústria na economia regional e, até mesmo, nacional. Esse tipo de relação é de difícil modelagem em nosso contexto, dado que a área de estudo se limia ao iterior do município de Belo Horizonte apenas. Ou seja, modelar a relocação da indústria envolve medir a acessibilidade para além do território municipal e questões logísticas, incluindo até mesmo a Região Metropolitana como um todo. Nesse contexto, opta-se por tratar a indústria como um uso estático e que irá influenciar os demais. De fato, apesar do seu notável poder estruturador, a indústria apresenta relativa independência das questões urbanas mais locais (Villaça, 2017, p. 140).\n",
    "\n",
    "Ainda, atividades de ELETRICIDADE E GÁS; ÁGUA, ESGOTO, ATIVIDADES DE GESTÃO DE RESÍDUOS E DESCONTAMINAÇÃO; e TRANSPORTE, ARMAZENAGEM E CORREIO também não serão contabilizadas. Parte-se da premissa de que elas estão mais associadas a lógicas próprias e não são exatamente comerciais, no sentido de fornecer serviço ou atendimento ao público, tal como são as demais categorias mantidas para análise. Ente-se que essas atividades estão pautadas por questões também de caráter mais logísticos, referentes às necessidades das redes e infraestruturas próprias que atendem. No caso de atividades de construção, parte-se da premissa que elas são uma espécie de atividade transitória. De fato, ela é responsável, ao cabo, por efetuar a transição entre usos do solo, mas talvez fossem mais pertinentes de serem incorporadas ao modelo se houvesse modelagem explícita a um uso do solo caracterizado como construção, o que não é o caso.\n",
    "\n",
    "Assim, são mantidas as demais categorias presentes na RAIS, que são baseadas no [CONCLA](https://cnae.ibge.gov.br/?view=estrutura)."
   ]
  },
  {
   "cell_type": "code",
   "execution_count": null,
   "id": "e222dd5c-029f-4a34-9943-43a3c6b3d33f",
   "metadata": {
    "execution": {
     "iopub.status.busy": "2025-03-11T23:31:04.010617Z",
     "iopub.status.idle": "2025-03-11T23:31:04.010617Z",
     "shell.execute_reply": "2025-03-11T23:31:04.010617Z",
     "shell.execute_reply.started": "2025-03-11T23:31:04.010617Z"
    }
   },
   "outputs": [],
   "source": [
    "cnae_sections = [\n",
    "    (0, 3),\n",
    "    (5, 9),\n",
    "    (10, 33),\n",
    "    (35, 35.1), # Apenas um artificio para gerar um intervalo\n",
    "    (36, 39),   # pois ha so uma subdivisao. Isso se repete abaixo\n",
    "    (41, 43),   # algumas vezes\n",
    "    (45, 47),\n",
    "    (49, 53),\n",
    "    (55, 56),\n",
    "    (58, 63),\n",
    "    (64, 66),\n",
    "    (68, 68.1),\n",
    "    (69, 75),\n",
    "    (77, 82),\n",
    "    (84, 84.1),\n",
    "    (85, 85.1),\n",
    "    (86, 88),\n",
    "    (90, 93),\n",
    "    (94, 96),\n",
    "    (97, 97.1),\n",
    "    (99, 99.1),\n",
    "]\n",
    "\n",
    "cnae_sections = pd.IntervalIndex.from_tuples(cnae_sections, closed='both')\n",
    "\n",
    "binned_cnae = pd.cut(\n",
    "    rais.cnae_2.str.extract(r'(\\d\\d)').astype(int).squeeze(),\n",
    "    bins=cnae_sections,\n",
    ")\n",
    "\n",
    "labeled_cnae = binned_cnae.astype(str).replace({\n",
    "    str(cat): letter\n",
    "    for cat, letter\n",
    "    in zip(\n",
    "        cnae_sections,\n",
    "        ascii_uppercase[:len(cnae_sections)]\n",
    "    )\n",
    "})\n",
    "\n",
    "rais['grupo_cnae'] = labeled_cnae"
   ]
  },
  {
   "cell_type": "code",
   "execution_count": null,
   "id": "da957022-693b-4154-9072-1ec56ff6ab49",
   "metadata": {
    "execution": {
     "iopub.status.busy": "2025-03-11T23:31:04.011617Z",
     "iopub.status.idle": "2025-03-11T23:31:04.012617Z",
     "shell.execute_reply": "2025-03-11T23:31:04.012617Z",
     "shell.execute_reply.started": "2025-03-11T23:31:04.012617Z"
    }
   },
   "outputs": [],
   "source": [
    "rais.head()"
   ]
  },
  {
   "cell_type": "markdown",
   "id": "d8aa8a8a-8ab3-4dad-9ff7-2379f27fd024",
   "metadata": {},
   "source": [
    "Antes da remoção dos setores selecionados acima, contudo, a seguir são demonstrados graficamente os totais de empregos por grupo do CNAE."
   ]
  },
  {
   "cell_type": "code",
   "execution_count": null,
   "id": "4110a905-6f6a-45fa-b9bd-433d3c3ce9f8",
   "metadata": {
    "execution": {
     "iopub.status.busy": "2025-03-11T23:31:04.013617Z",
     "iopub.status.idle": "2025-03-11T23:31:04.013617Z",
     "shell.execute_reply": "2025-03-11T23:31:04.013617Z",
     "shell.execute_reply.started": "2025-03-11T23:31:04.013617Z"
    }
   },
   "outputs": [],
   "source": [
    "sns.set_style(\"whitegrid\")\n",
    "sns.set_context(\"paper\")\n",
    "\n",
    "ax = sns.barplot(\n",
    "    data=rais.groupby(['grupo_cnae', 'ano'], as_index=False).size().astype({'ano': 'str'}),\n",
    "    x='grupo_cnae',\n",
    "    y='size',\n",
    "    hue='ano',\n",
    "    linewidth=0,\n",
    "    palette=sns.color_palette(\"crest\", n_colors=len(range(2014, 2024))),\n",
    "    )\n",
    "\n",
    "plt.setp(ax.get_legend().get_texts(), fontsize='12') # for legend text\n",
    "plt.setp(ax.get_legend().get_title(), fontsize='16') # for legend title\n",
    "\n",
    "ax.set_xlabel(\"Grupo CNAE\", fontsize=14)\n",
    "ax.set_ylabel(\"Quantidade de Estabelecimentos\", fontsize=14)\n",
    "ax.tick_params(labelsize='large')\n",
    "\n",
    "sns.despine()"
   ]
  },
  {
   "cell_type": "markdown",
   "id": "c160d1b8-a6f9-45a0-8861-f0de8a9092b1",
   "metadata": {
    "execution": {
     "iopub.execute_input": "2025-03-10T16:25:47.440710Z",
     "iopub.status.busy": "2025-03-10T16:25:47.440710Z",
     "iopub.status.idle": "2025-03-10T16:25:47.463712Z",
     "shell.execute_reply": "2025-03-10T16:25:47.462714Z",
     "shell.execute_reply.started": "2025-03-10T16:25:47.440710Z"
    }
   },
   "source": [
    "O gráfico mostra que a remoção conforme discutido acima não gera distorções muito significativas, pois os setores removidos são relativamente pouco representativos em Belo Horizonte. Construção, de fato, tem uma quantidade não desprezível, mas, pelos motivos discutidos anteriormente, será removida mesmo assim. De qualquer forma, o grupo G — COMÉRCIO; REPARAÇÃO DE VEÍCULOS AUTOMOTORES E MOTOCICLETAS — é de longe o mais representativo."
   ]
  },
  {
   "cell_type": "code",
   "execution_count": null,
   "id": "cca41883-a443-424a-8d56-e541611a725b",
   "metadata": {
    "execution": {
     "iopub.status.busy": "2025-03-11T23:31:04.013617Z",
     "iopub.status.idle": "2025-03-11T23:31:04.015127Z",
     "shell.execute_reply": "2025-03-11T23:31:04.015127Z",
     "shell.execute_reply.started": "2025-03-11T23:31:04.015127Z"
    }
   },
   "outputs": [],
   "source": [
    "cnae_filter = (\n",
    "    [f\"{c:02}\" for c in range(45)]\n",
    "    + [f\"{c:02}\" for c in range(49, 54)]\n",
    "    + ['97', '99']\n",
    ")\n",
    "\n",
    "rais = rais.loc[~rais.cnae_2.str.startswith(tuple(cnae_filter))]"
   ]
  },
  {
   "cell_type": "code",
   "execution_count": null,
   "id": "3ab0f647-6343-41ac-98f0-d00cd004f931",
   "metadata": {
    "execution": {
     "iopub.status.busy": "2025-03-11T23:31:04.016139Z",
     "iopub.status.idle": "2025-03-11T23:31:04.016139Z",
     "shell.execute_reply": "2025-03-11T23:31:04.016139Z",
     "shell.execute_reply.started": "2025-03-11T23:31:04.016139Z"
    }
   },
   "outputs": [],
   "source": [
    "count_jobs_and_firms(rais)"
   ]
  },
  {
   "cell_type": "code",
   "execution_count": null,
   "id": "5af45dd4-a32a-45f6-ad44-6d0521fc9edb",
   "metadata": {
    "execution": {
     "iopub.status.busy": "2025-03-11T23:31:04.017137Z",
     "iopub.status.idle": "2025-03-11T23:31:04.017137Z",
     "shell.execute_reply": "2025-03-11T23:31:04.017137Z",
     "shell.execute_reply.started": "2025-03-11T23:31:04.017137Z"
    }
   },
   "outputs": [],
   "source": [
    "rais.head()"
   ]
  },
  {
   "cell_type": "markdown",
   "id": "9edc227d-cd2d-4980-b31d-de27f5be7f4d",
   "metadata": {},
   "source": [
    "### Totalização"
   ]
  },
  {
   "cell_type": "markdown",
   "id": "7e20c711-fb44-4273-b25c-ad7dce972714",
   "metadata": {},
   "source": [
    "Foi cogitado separar os setores emprimário e secundário, mas como visto no artigo, ambos tem localizações muito similares e, ao que tudo indica, seus padrões espaciais são gerados por processos similares, portanto, diferentemente de Porta et al. (2012), não faremos aqui essa distinção. Além disso, agora que outliers foram tratados e foram removidos setores que não são de interesse, será feita uma totalização da quantidade de empregos por CEP e por ano."
   ]
  },
  {
   "cell_type": "markdown",
   "id": "0ac12d09-0428-4d5e-904c-c0e44834bdd7",
   "metadata": {},
   "source": [
    "Agora serão totalizados os empregos para cada CEP, mantendo as classes de emprego acima."
   ]
  },
  {
   "cell_type": "code",
   "execution_count": null,
   "id": "c3aa3659-5242-4118-ac2d-e447b7b11c15",
   "metadata": {
    "execution": {
     "iopub.status.busy": "2025-03-11T23:31:04.018140Z",
     "iopub.status.idle": "2025-03-11T23:31:04.018140Z",
     "shell.execute_reply": "2025-03-11T23:31:04.018140Z",
     "shell.execute_reply.started": "2025-03-11T23:31:04.018140Z"
    }
   },
   "outputs": [],
   "source": [
    "rais = (\n",
    "    rais.groupby(\n",
    "            ['ano', 'id_municipio', 'cep'],\n",
    "            as_index=False,\n",
    "            )\n",
    "        .agg({\n",
    "            'quantidade_vinculos_ativos': [np.sum, 'size'],\n",
    "            })\n",
    "    )\n",
    "\n",
    "rais.columns = ['_'.join(c).rstrip('_') for c in rais.columns.values]"
   ]
  },
  {
   "cell_type": "code",
   "execution_count": null,
   "id": "9e4b3f18-19cb-4c29-a4a7-5beeacb57fc7",
   "metadata": {
    "execution": {
     "iopub.status.busy": "2025-03-11T23:31:04.019135Z",
     "iopub.status.idle": "2025-03-11T23:31:04.019135Z",
     "shell.execute_reply": "2025-03-11T23:31:04.019135Z",
     "shell.execute_reply.started": "2025-03-11T23:31:04.019135Z"
    }
   },
   "outputs": [],
   "source": [
    "rais = rais.rename(\n",
    "    columns={\n",
    "        'quantidade_vinculos_ativos_sum': 'quantidade_vinculos_ativos',\n",
    "        'quantidade_vinculos_ativos_size': 'quantidade_estabelecimentos',\n",
    "    }\n",
    ")"
   ]
  },
  {
   "cell_type": "code",
   "execution_count": null,
   "id": "670fcdb4-ebb3-4bca-8fa2-6f52f6ce740d",
   "metadata": {
    "execution": {
     "iopub.status.busy": "2025-03-11T23:31:04.020139Z",
     "iopub.status.idle": "2025-03-11T23:31:04.020139Z",
     "shell.execute_reply": "2025-03-11T23:31:04.020139Z",
     "shell.execute_reply.started": "2025-03-11T23:31:04.020139Z"
    },
    "tags": []
   },
   "outputs": [],
   "source": [
    "rais.head()"
   ]
  },
  {
   "cell_type": "code",
   "execution_count": null,
   "id": "8e878f8b-699e-4a0e-ae02-4331da0c6e1b",
   "metadata": {
    "execution": {
     "iopub.status.busy": "2025-03-11T23:31:04.021137Z",
     "iopub.status.idle": "2025-03-11T23:31:04.022137Z",
     "shell.execute_reply": "2025-03-11T23:31:04.022137Z",
     "shell.execute_reply.started": "2025-03-11T23:31:04.022137Z"
    }
   },
   "outputs": [],
   "source": [
    "rais.groupby('ano').agg({'quantidade_vinculos_ativos': 'sum', 'quantidade_estabelecimentos': 'sum' })"
   ]
  },
  {
   "cell_type": "markdown",
   "id": "78311229-1d32-49d8-aac2-3dc4dcccc605",
   "metadata": {},
   "source": [
    "# Operações Espaciais"
   ]
  },
  {
   "cell_type": "markdown",
   "id": "4f1c022c-fd2d-4acf-b435-26d0b28cc403",
   "metadata": {},
   "source": [
    "Esta seção objetiva imputar os atributos territoriais trabalhados anteriormente nas malhas hexagonais com as resoluções pré-definidas no item 1.1. Com efeito, serão executados cinco grandes grupos de operações espaciais:\n",
    "1. Primeiro, geolocalizam-se os CEPs da RAIS a partir dos CEPs.\n",
    "2. Em seguida, dados de cada setor são atribuídos às respectivas geometrias e, ainda, é corrigida uma anomalia identificada na definição do polígono de um dos setores.\n",
    "3. Depois, as informações (a) de contagem populacional e (b) de rendimentos são transferidas para os hexágonos por meio de procedimentos de interpolação espacial.\n",
    "4. Logo após, junções (spatial joins) são aplicada aos hexágonos de base, de um lado, e aos postos de trabalho geolocalizados, de outro.\n",
    "5. Por fim, são encontrados os centroides de cada hexagonos, a partir de uma ponderação que deixa esse ponto mais próximo do centro de massa da população, o que em muitos casos provocará um afastamento em relação ao centro geométrico."
   ]
  },
  {
   "cell_type": "markdown",
   "id": "fc260284-45ee-468c-b3df-0ed5c8f2ed37",
   "metadata": {},
   "source": [
    "## Geolocalização da RAIS"
   ]
  },
  {
   "cell_type": "markdown",
   "id": "db30fe06-b747-46c6-81ef-b3adf51dae50",
   "metadata": {},
   "source": [
    "Os dados da RAIS não estão geolocalizados a priori: eles contêm informações a respeito do CEP de cada estabelecimento comercial, de maneira que uma correta localização no território exige associar o CEP à uma coordenada geográfica que bom o represente.\n",
    "\n",
    "De início, aproveitam-se as bases de endereços presentes nas três cidades em estudo, que permitem localizar a maiori dos CEPs. Para os casos remanescentes, utiliza-se a base de CEPs que está hospedada na Base dos Dados e, caso ainda sobre algum CEP não geolocalizado, parte-se para o uso de APIs. Há duas as quais aqui se dá destaque: o serviço de geocodificação do Google⁕ e o projeto Brasil API†. Ambas tomam o CEP como ponto de partida e retornam o nome dos logradouros e, ainda, a latitude e a longitude (no sistema de coordenadas EPSG:4326 — WGS 84).\n",
    "\n",
    "\n",
    "Enfim, é feita uma avaliação quanto à necessidade de correção há erros e anomalias particulares de cada cidade."
   ]
  },
  {
   "cell_type": "markdown",
   "id": "1ca0b8bf-904d-47e1-b247-c32941a9dcbb",
   "metadata": {},
   "source": [
    "⁕ ver https://developers.google.com/maps/documentation/javascript/geocoding?hl=pt-br\n",
    "\n",
    "† ver https://brasilapi.com.br/docs#tag/CEP-V2 ou https://github.com/BrasilAPI/BrasilAPI. Especificamente, o código fonte de interesse está em https://github.com/BrasilAPI/cep-promise"
   ]
  },
  {
   "cell_type": "markdown",
   "id": "4ed9158c-c94c-4451-b1ff-c1152eeb81e6",
   "metadata": {},
   "source": [
    "### Padronização dos CEPs"
   ]
  },
  {
   "cell_type": "code",
   "execution_count": null,
   "id": "167b09fe-bf48-45fd-a4c9-c6722003dc8e",
   "metadata": {
    "execution": {
     "iopub.status.busy": "2025-03-11T23:31:04.023140Z",
     "iopub.status.idle": "2025-03-11T23:31:04.023140Z",
     "shell.execute_reply": "2025-03-11T23:31:04.023140Z",
     "shell.execute_reply.started": "2025-03-11T23:31:04.023140Z"
    }
   },
   "outputs": [],
   "source": [
    "rais.cep.map(len).describe()"
   ]
  },
  {
   "cell_type": "markdown",
   "id": "5f4889ac-4027-4b77-8da7-b7bdce7eb002",
   "metadata": {},
   "source": [
    "Em alguns casos, os CEPs começam com um zero à esquerda, o que pode fazer com que o dígito à esquerda seja perdido nas manipulações computacionais (isso é um problema sobretudo em São Paulo). Para garantir que não haverá problemas (mesmo que a celula acima indique que nao), força-se os CEPs a sempre terem 8 dígitos: quando há 7, acrescenta-se um zero à esquerda."
   ]
  },
  {
   "cell_type": "code",
   "execution_count": null,
   "id": "754cf06d-ac74-4382-8ce5-e5bd8bad877d",
   "metadata": {
    "execution": {
     "iopub.status.busy": "2025-03-11T23:31:04.024649Z",
     "iopub.status.idle": "2025-03-11T23:31:04.025659Z",
     "shell.execute_reply": "2025-03-11T23:31:04.025659Z",
     "shell.execute_reply.started": "2025-03-11T23:31:04.025659Z"
    }
   },
   "outputs": [],
   "source": [
    "rais['cep'] = rais.cep.map('{:>08}'.format)"
   ]
  },
  {
   "cell_type": "markdown",
   "id": "53432899-1567-4783-a89f-cef3cf55c4d4",
   "metadata": {},
   "source": [
    "### Enderecos"
   ]
  },
  {
   "cell_type": "code",
   "execution_count": null,
   "id": "2368cdee-b1f5-425d-badb-410d40fd84c2",
   "metadata": {
    "execution": {
     "iopub.status.busy": "2025-03-11T23:31:04.026659Z",
     "iopub.status.idle": "2025-03-11T23:31:04.026659Z",
     "shell.execute_reply": "2025-03-11T23:31:04.026659Z",
     "shell.execute_reply.started": "2025-03-11T23:31:04.026659Z"
    },
    "jupyter": {
     "source_hidden": true
    }
   },
   "outputs": [],
   "source": [
    "# Dados de endereços e respectivos ceps\n",
    "inpath = db / 'beaga/enderecos.zip'\n",
    "\n",
    "addresses = (\n",
    "    gpd\n",
    "    .read_file(inpath)\n",
    "    .rename(\n",
    "        columns=lambda x: x.casefold()\n",
    "    ))\n",
    "\n",
    "addresses.head(3)"
   ]
  },
  {
   "cell_type": "code",
   "execution_count": null,
   "id": "4fb11017-91a8-424e-ba7e-4de27d52ac60",
   "metadata": {
    "execution": {
     "iopub.status.busy": "2025-03-11T23:31:04.027660Z",
     "iopub.status.idle": "2025-03-11T23:31:04.028658Z",
     "shell.execute_reply": "2025-03-11T23:31:04.028658Z",
     "shell.execute_reply.started": "2025-03-11T23:31:04.028658Z"
    },
    "jupyter": {
     "source_hidden": true
    }
   },
   "outputs": [],
   "source": [
    "addresses = (\n",
    "    addresses\n",
    "    .dropna(subset='cep')\n",
    "    .astype({'cep': 'int'})\n",
    "    .astype({'cep': 'str'})\n",
    "    )"
   ]
  },
  {
   "cell_type": "code",
   "execution_count": null,
   "id": "95846703-fa48-40ff-8dec-86cd8b72267a",
   "metadata": {
    "execution": {
     "iopub.status.busy": "2025-03-11T23:31:04.029659Z",
     "iopub.status.idle": "2025-03-11T23:31:04.029659Z",
     "shell.execute_reply": "2025-03-11T23:31:04.029659Z",
     "shell.execute_reply.started": "2025-03-11T23:31:04.029659Z"
    }
   },
   "outputs": [],
   "source": [
    "# Espalhando empregos pelos endereços de um mesmo cep aleatoriamente\n",
    "def _random_spread(df):\n",
    "    def distribute(total, candidates, weights=None):\n",
    "        if weights is None or weights.sum() == 0:\n",
    "            weights = np.ones(len(candidates))  # Equal distribution\n",
    "        weights = weights / weights.sum()  # Normalize weights\n",
    "        \n",
    "        allocations = np.random.multinomial(total, weights)\n",
    "        \n",
    "        return pd.Series(allocations, index=candidates)\n",
    "\n",
    "    # Distribute jobs\n",
    "    job_total = df['quantidade_vinculos_ativos'].iloc[0]\n",
    "    df['quantidade_vinculos_ativos'] = distribute(job_total, df.index)\n",
    "\n",
    "    # Distribute shops weighted by jobs\n",
    "    shop_total = df['quantidade_estabelecimentos'].iloc[0]\n",
    "    weights = df['quantidade_vinculos_ativos'].to_numpy()\n",
    "    df['quantidade_estabelecimentos'] = distribute(shop_total, df.index, weights)\n",
    "\n",
    "    return df\n",
    "\n",
    "\n",
    "def distribute_rais(rais, ceps):\n",
    "    rng = np.random.default_rng(42)\n",
    "\n",
    "    basket = []\n",
    "    for idx, data in rais.groupby('ano'):\n",
    "        assert data.cep.is_unique, \"CEPs not unique\"\n",
    "        \n",
    "        df = (\n",
    "            ceps\n",
    "            .merge(data, on='cep')\n",
    "            .pipe(lambda x: x.loc[x.geometry.notnull()])\n",
    "            .groupby('cep', group_keys=False)\n",
    "            .apply(_random_spread)\n",
    "            )\n",
    "\n",
    "        basket.append(df)\n",
    "\n",
    "    return pd.concat(basket)\n",
    "\n",
    "        "
   ]
  },
  {
   "cell_type": "code",
   "execution_count": null,
   "id": "70cacbfe-7334-495e-bb7c-9845f9953c90",
   "metadata": {
    "execution": {
     "iopub.status.busy": "2025-03-11T23:31:04.031661Z",
     "iopub.status.idle": "2025-03-11T23:31:04.031661Z",
     "shell.execute_reply": "2025-03-11T23:31:04.031661Z",
     "shell.execute_reply.started": "2025-03-11T23:31:04.031661Z"
    },
    "jupyter": {
     "source_hidden": true
    }
   },
   "outputs": [],
   "source": [
    "rais = distribute_rais(\n",
    "    rais,\n",
    "    addresses[['cep', 'geometry']],\n",
    "    )"
   ]
  },
  {
   "cell_type": "code",
   "execution_count": null,
   "id": "b27a32c7-d092-4992-aa01-57d52ad9cf28",
   "metadata": {
    "execution": {
     "iopub.status.busy": "2025-03-11T23:31:04.032661Z",
     "iopub.status.idle": "2025-03-11T23:31:04.033656Z",
     "shell.execute_reply": "2025-03-11T23:31:04.033656Z",
     "shell.execute_reply.started": "2025-03-11T23:31:04.033656Z"
    }
   },
   "outputs": [],
   "source": [
    "rais.head(3)"
   ]
  },
  {
   "cell_type": "code",
   "execution_count": null,
   "id": "1782d64a-027e-4e05-a416-d87dc325f0d6",
   "metadata": {
    "execution": {
     "iopub.status.busy": "2025-03-11T23:31:04.034662Z",
     "iopub.status.idle": "2025-03-11T23:31:04.034662Z",
     "shell.execute_reply": "2025-03-11T23:31:04.034662Z",
     "shell.execute_reply.started": "2025-03-11T23:31:04.034662Z"
    }
   },
   "outputs": [],
   "source": [
    "rais.groupby('ano').agg({'quantidade_vinculos_ativos': 'sum', 'quantidade_estabelecimentos': 'sum' })"
   ]
  },
  {
   "cell_type": "markdown",
   "id": "5ce4cc17-0235-4755-a490-4f675dc414e5",
   "metadata": {},
   "source": [
    "## Imputacao: Dados Censitários -> Malhas Censitarias"
   ]
  },
  {
   "cell_type": "markdown",
   "id": "795d6e8e-53dd-4fb4-a44b-c96f8657dabc",
   "metadata": {},
   "source": [
    "Esta parte faz a junçao dos dados dos setores censitários com as respectivas geometrias dos setores. Após esse processo, será feita a interpolação espacial dos dados para os Hexágonos H3."
   ]
  },
  {
   "cell_type": "code",
   "execution_count": null,
   "id": "73e549dc-011d-49d7-aafa-db95c655874f",
   "metadata": {
    "execution": {
     "iopub.status.busy": "2025-03-11T23:31:04.035751Z",
     "iopub.status.idle": "2025-03-11T23:31:04.036745Z",
     "shell.execute_reply": "2025-03-11T23:31:04.036745Z",
     "shell.execute_reply.started": "2025-03-11T23:31:04.036745Z"
    },
    "jupyter": {
     "source_hidden": true
    }
   },
   "outputs": [],
   "source": [
    "# União entre malha de setores e respectivos dados\n",
    "tracts_with_data = (\n",
    "    tracts\n",
    "    .merge(\n",
    "        tract_data,\n",
    "        left_on='code_tract',\n",
    "        right_on='id_setor_censitario',\n",
    "        how='left',\n",
    "    )\n",
    "    .merge(\n",
    "        ibeu,\n",
    "        left_on='id_setor_censitario',\n",
    "        right_index=True,\n",
    "        how='left',\n",
    "    )\n",
    "    .reindex(\n",
    "        columns=[\n",
    "            'id_setor_censitario',\n",
    "            'code_muni',\n",
    "            'name_muni',\n",
    "            'habitantes',\n",
    "            'domicilios',\n",
    "            'rendimento_medio',\n",
    "            'ibeu',\n",
    "            'geometry',\n",
    "        ]\n",
    "    )\n",
    ")\n",
    "\n",
    "tracts_with_data.head()"
   ]
  },
  {
   "cell_type": "markdown",
   "id": "b610548e-43f6-44ae-878d-061d366a79c5",
   "metadata": {},
   "source": [
    "## Interpolações: Setor Censitário → Hexágonos"
   ]
  },
  {
   "cell_type": "code",
   "execution_count": null,
   "id": "431fefb0-c50b-47be-acd3-02eb5526c361",
   "metadata": {
    "execution": {
     "iopub.status.busy": "2025-03-11T23:31:04.036745Z",
     "iopub.status.idle": "2025-03-11T23:31:04.037752Z",
     "shell.execute_reply": "2025-03-11T23:31:04.036745Z",
     "shell.execute_reply.started": "2025-03-11T23:31:04.036745Z"
    }
   },
   "outputs": [],
   "source": [
    "hexes.head(2)"
   ]
  },
  {
   "cell_type": "code",
   "execution_count": null,
   "id": "56fcb5a0-0166-4670-9026-138a46ba9d8c",
   "metadata": {
    "execution": {
     "iopub.status.busy": "2025-03-11T23:31:04.038746Z",
     "iopub.status.idle": "2025-03-11T23:31:04.038746Z",
     "shell.execute_reply": "2025-03-11T23:31:04.038746Z",
     "shell.execute_reply.started": "2025-03-11T23:31:04.038746Z"
    }
   },
   "outputs": [],
   "source": [
    "basket = []\n",
    "for aperture, data in hexes.groupby(level='aperture'):\n",
    "    hex_with_data = (\n",
    "        area_interpolate(\n",
    "            source_df=tracts_with_data.assign(\n",
    "                geometry=lambda x: x.buffer(0)\n",
    "                ),\n",
    "            target_df=data,\n",
    "            extensive_variables=['habitantes', 'domicilios'],\n",
    "            intensive_variables=['rendimento_medio', 'ibeu']\n",
    "            )\n",
    "        .drop(columns='geometry')\n",
    "        .set_index(data.index)\n",
    "        .pipe(\n",
    "            lambda df: pd.merge(\n",
    "                hexes,\n",
    "                df,\n",
    "                left_index=True,\n",
    "                right_index=True,\n",
    "                )\n",
    "            )\n",
    "        )\n",
    "\n",
    "    basket.append(hex_with_data)\n",
    "\n",
    "hex_with_data = pd.concat(basket)"
   ]
  },
  {
   "cell_type": "code",
   "execution_count": null,
   "id": "085c35a9-164e-445d-afd7-624a0a2cb991",
   "metadata": {
    "execution": {
     "iopub.status.busy": "2025-03-11T23:31:04.039751Z",
     "iopub.status.idle": "2025-03-11T23:31:04.039751Z",
     "shell.execute_reply": "2025-03-11T23:31:04.039751Z",
     "shell.execute_reply.started": "2025-03-11T23:31:04.039751Z"
    }
   },
   "outputs": [],
   "source": [
    "hex_with_data.head(2)"
   ]
  },
  {
   "cell_type": "code",
   "execution_count": null,
   "id": "8e4677d3-db4b-4f22-a5c1-eb91ceef60d5",
   "metadata": {
    "execution": {
     "iopub.status.busy": "2025-03-11T23:31:04.040752Z",
     "iopub.status.idle": "2025-03-11T23:31:04.040752Z",
     "shell.execute_reply": "2025-03-11T23:31:04.040752Z",
     "shell.execute_reply.started": "2025-03-11T23:31:04.040752Z"
    }
   },
   "outputs": [],
   "source": [
    "hex_with_data.filter(like='hab').groupby(level=['name_muni', 'aperture']).sum()"
   ]
  },
  {
   "cell_type": "code",
   "execution_count": null,
   "id": "e9717c78-b7aa-478f-8659-0433623ccbb0",
   "metadata": {
    "execution": {
     "iopub.status.busy": "2025-03-11T23:31:04.041751Z",
     "iopub.status.idle": "2025-03-11T23:31:04.041751Z",
     "shell.execute_reply": "2025-03-11T23:31:04.041751Z",
     "shell.execute_reply.started": "2025-03-11T23:31:04.041751Z"
    }
   },
   "outputs": [],
   "source": [
    "hex_with_data.reset_index().hex_id.is_unique"
   ]
  },
  {
   "cell_type": "markdown",
   "id": "a5e3a75c-555c-433f-bd0a-a8eb12cd6756",
   "metadata": {},
   "source": [
    "## Junções Espaciais: Rais → H3"
   ]
  },
  {
   "cell_type": "code",
   "execution_count": null,
   "id": "b03c6859-fc94-45ff-b8b6-6930bcf4d26a",
   "metadata": {
    "execution": {
     "iopub.status.busy": "2025-03-11T23:31:04.044751Z",
     "iopub.status.idle": "2025-03-11T23:31:04.045265Z",
     "shell.execute_reply": "2025-03-11T23:31:04.044751Z",
     "shell.execute_reply.started": "2025-03-11T23:31:04.044751Z"
    }
   },
   "outputs": [],
   "source": [
    "hexes = (\n",
    "    hexes\n",
    "    .reset_index()\n",
    "    .sjoin(\n",
    "        rais.loc[rais.filter(like='quant').sum(1) > 0],\n",
    "        how='left',\n",
    "    )\n",
    "    .drop(columns=['index_right'])\n",
    "    .dissolve(\n",
    "        by=['name_muni', 'code_muni', 'aperture', 'hex_id', 'ano'],\n",
    "        aggfunc='sum',\n",
    "        )\n",
    "    .sort_index()\n",
    ")"
   ]
  },
  {
   "cell_type": "code",
   "execution_count": null,
   "id": "080b0563-03e8-49b7-9ff9-7ea3f63a81fb",
   "metadata": {
    "execution": {
     "iopub.status.busy": "2025-03-11T23:31:04.045265Z",
     "iopub.status.idle": "2025-03-11T23:31:04.046266Z",
     "shell.execute_reply": "2025-03-11T23:31:04.046266Z",
     "shell.execute_reply.started": "2025-03-11T23:31:04.045265Z"
    }
   },
   "outputs": [],
   "source": [
    "hexes.head(3)"
   ]
  },
  {
   "cell_type": "code",
   "execution_count": null,
   "id": "4528adfd-001c-48e1-9f9c-ba22def4ccce",
   "metadata": {
    "execution": {
     "iopub.status.busy": "2025-03-11T23:31:04.047266Z",
     "iopub.status.idle": "2025-03-11T23:31:04.047266Z",
     "shell.execute_reply": "2025-03-11T23:31:04.047266Z",
     "shell.execute_reply.started": "2025-03-11T23:31:04.047266Z"
    }
   },
   "outputs": [],
   "source": [
    "hexes.groupby(['ano', 'aperture']).agg({'quantidade_vinculos_ativos': 'sum', 'quantidade_estabelecimentos': 'sum'})"
   ]
  },
  {
   "cell_type": "code",
   "execution_count": null,
   "id": "0d64550c-f7e3-465b-9ba0-b8179e5db288",
   "metadata": {
    "execution": {
     "iopub.status.busy": "2025-03-11T23:31:04.049278Z",
     "iopub.status.idle": "2025-03-11T23:31:04.049278Z",
     "shell.execute_reply": "2025-03-11T23:31:04.049278Z",
     "shell.execute_reply.started": "2025-03-11T23:31:04.049278Z"
    }
   },
   "outputs": [],
   "source": [
    "basket = []\n",
    "\n",
    "for (year, res), data in hexes.groupby(['ano', 'aperture']):\n",
    "    df = (\n",
    "        hex_with_data\n",
    "        .xs(level='aperture', key=res)\n",
    "        .reset_index()\n",
    "        .merge(\n",
    "            data.reset_index().drop(columns=['geometry', 'name_muni', 'code_muni']),\n",
    "            on='hex_id',\n",
    "            how='left'\n",
    "            )\n",
    "        .assign(\n",
    "            aperture=res,\n",
    "            ano=year,\n",
    "            )\n",
    "        .set_index(data.index.names)\n",
    "        )\n",
    "    basket.append(df)\n",
    "        \n",
    "\n",
    "hexes = pd.concat(basket)"
   ]
  },
  {
   "cell_type": "code",
   "execution_count": null,
   "id": "5be1828f-4ccc-494b-9eb3-95ebdbbeaaa0",
   "metadata": {
    "execution": {
     "iopub.status.busy": "2025-03-11T23:31:04.050276Z",
     "iopub.status.idle": "2025-03-11T23:31:04.050276Z",
     "shell.execute_reply": "2025-03-11T23:31:04.050276Z",
     "shell.execute_reply.started": "2025-03-11T23:31:04.050276Z"
    }
   },
   "outputs": [],
   "source": [
    "(\n",
    "    hexes\n",
    "    .groupby(['ano', 'aperture'])\n",
    "    .agg({\n",
    "        'quantidade_vinculos_ativos': 'sum',\n",
    "        'quantidade_estabelecimentos': 'sum',\n",
    "        'habitantes':'sum'\n",
    "        })\n",
    "    )"
   ]
  },
  {
   "cell_type": "markdown",
   "id": "e1b4aa21-5d4c-48b4-bdb4-2f945398df50",
   "metadata": {},
   "source": [
    "# Epílogo: Censo 2022"
   ]
  },
  {
   "cell_type": "markdown",
   "id": "98e48783-9e52-4c4f-94a9-0c2f6043db95",
   "metadata": {},
   "source": [
    "A base dos dados parecia estar com erro na tabela necessaria, portanto fui da forma manual com base nos dados [daqui](https://www.ibge.gov.br/estatisticas/sociais/populacao/22827-censo-demografico-2022.html?edicao=41852&t=resultados)."
   ]
  },
  {
   "cell_type": "code",
   "execution_count": null,
   "id": "61deb42a-e3fe-41cf-a969-55a41c8d42d7",
   "metadata": {
    "execution": {
     "iopub.status.busy": "2025-03-11T23:31:04.051272Z",
     "iopub.status.idle": "2025-03-11T23:31:04.051272Z",
     "shell.execute_reply": "2025-03-11T23:31:04.051272Z",
     "shell.execute_reply.started": "2025-03-11T23:31:04.051272Z"
    }
   },
   "outputs": [],
   "source": [
    "inpath = db / 'census/malha_setores_2022.gpkg'\n",
    "\n",
    "tracts = (\n",
    "    gpd\n",
    "    .read_file(inpath)\n",
    "    .pipe(\n",
    "        lambda df: df.loc[df.NM_MUN == 'Belo Horizonte']\n",
    "        )\n",
    "    .reindex(\n",
    "        columns=['CD_SETOR', 'v0001', 'v0002', 'geometry']\n",
    "        )\n",
    "    .rename(columns={'v0001': 'habitantes', 'v0002': 'domicilios'})\n",
    "    )"
   ]
  },
  {
   "cell_type": "code",
   "execution_count": null,
   "id": "3a8b993a-c185-4a74-9dce-b08717800535",
   "metadata": {
    "execution": {
     "iopub.status.busy": "2025-03-11T23:31:04.053277Z",
     "iopub.status.idle": "2025-03-11T23:31:04.054786Z",
     "shell.execute_reply": "2025-03-11T23:31:04.053277Z",
     "shell.execute_reply.started": "2025-03-11T23:31:04.053277Z"
    }
   },
   "outputs": [],
   "source": [
    "tracts.head(3)"
   ]
  },
  {
   "cell_type": "raw",
   "id": "45945f31-128b-44b7-9e65-ab74ac8c45e7",
   "metadata": {
    "execution": {
     "iopub.execute_input": "2025-03-10T21:59:47.717383Z",
     "iopub.status.busy": "2025-03-10T21:59:47.716385Z",
     "iopub.status.idle": "2025-03-10T21:59:47.834459Z",
     "shell.execute_reply": "2025-03-10T21:59:47.832463Z",
     "shell.execute_reply.started": "2025-03-10T21:59:47.717383Z"
    }
   },
   "source": [
    "#backup = hexes.copy()\n",
    "hexes = backup.copy()"
   ]
  },
  {
   "cell_type": "code",
   "execution_count": null,
   "id": "6cff16a0-2710-4af2-b4d8-8b6641d0da58",
   "metadata": {
    "execution": {
     "iopub.status.busy": "2025-03-11T23:31:04.055792Z",
     "iopub.status.idle": "2025-03-11T23:31:04.055792Z",
     "shell.execute_reply": "2025-03-11T23:31:04.055792Z",
     "shell.execute_reply.started": "2025-03-11T23:31:04.055792Z"
    }
   },
   "outputs": [],
   "source": [
    "def clear_future_years(db):\n",
    "    return (\n",
    "        db\n",
    "        .reset_index()\n",
    "        .assign(\n",
    "            habitantes=lambda x: np.where(x.ano != 2014, np.nan, x.habitantes),\n",
    "            domicilios=lambda x: np.where(x.ano != 2014, np.nan, x.domicilios),\n",
    "            )\n",
    "        .set_index(db.index.names)\n",
    "        )\n",
    "\n",
    "\n",
    "hexes = clear_future_years(hexes)"
   ]
  },
  {
   "cell_type": "code",
   "execution_count": null,
   "id": "2ae5c7bf-a0c3-433e-8b5d-3f99e5dea7b4",
   "metadata": {
    "execution": {
     "iopub.status.busy": "2025-03-11T23:31:04.056793Z",
     "iopub.status.idle": "2025-03-11T23:31:04.056793Z",
     "shell.execute_reply": "2025-03-11T23:31:04.056793Z",
     "shell.execute_reply.started": "2025-03-11T23:31:04.056793Z"
    }
   },
   "outputs": [],
   "source": [
    "basket = []\n",
    "for (aperture, year), data in hexes.groupby(level=['aperture', 'ano']):\n",
    "    if year == 2023:\n",
    "        hex_with_data = (\n",
    "            area_interpolate(\n",
    "                source_df=tracts.to_crs(31983).assign(\n",
    "                    geometry=lambda x: x.buffer(0)\n",
    "                    ),\n",
    "                target_df=data,\n",
    "                extensive_variables=['habitantes', 'domicilios'],\n",
    "                )\n",
    "            .drop(columns='geometry')\n",
    "            .set_index(data.index)\n",
    "\n",
    "            )\n",
    "        basket.append(hex_with_data)\n",
    "\n",
    "hex_with_data = pd.concat(basket)"
   ]
  },
  {
   "cell_type": "code",
   "execution_count": null,
   "id": "9b3181a5-ac6d-4d6b-8e58-b4ea0b3cda15",
   "metadata": {
    "execution": {
     "iopub.status.busy": "2025-03-11T23:31:04.057792Z",
     "iopub.status.idle": "2025-03-11T23:31:04.057792Z",
     "shell.execute_reply": "2025-03-11T23:31:04.057792Z",
     "shell.execute_reply.started": "2025-03-11T23:31:04.057792Z"
    }
   },
   "outputs": [],
   "source": [
    "hex_with_data.head()"
   ]
  },
  {
   "cell_type": "code",
   "execution_count": null,
   "id": "ebdf4960-2546-4532-be60-153b81e1bae1",
   "metadata": {
    "execution": {
     "iopub.status.busy": "2025-03-11T23:31:04.058792Z",
     "iopub.status.idle": "2025-03-11T23:31:04.059792Z",
     "shell.execute_reply": "2025-03-11T23:31:04.059792Z",
     "shell.execute_reply.started": "2025-03-11T23:31:04.059792Z"
    }
   },
   "outputs": [],
   "source": [
    "hex_with_data.groupby('aperture').agg({'habitantes': 'sum', 'domicilios': 'sum'})"
   ]
  },
  {
   "cell_type": "code",
   "execution_count": null,
   "id": "c9ee1762-cde2-45b7-8aa5-1660266247cb",
   "metadata": {
    "execution": {
     "iopub.status.busy": "2025-03-11T23:31:04.060797Z",
     "iopub.status.idle": "2025-03-11T23:31:04.060797Z",
     "shell.execute_reply": "2025-03-11T23:31:04.060797Z",
     "shell.execute_reply.started": "2025-03-11T23:31:04.060797Z"
    }
   },
   "outputs": [],
   "source": [
    "hexes.update(hex_with_data)"
   ]
  },
  {
   "cell_type": "code",
   "execution_count": null,
   "id": "d11c8a2c-b4d5-4e63-bfbb-41c107d5b3d0",
   "metadata": {
    "execution": {
     "iopub.status.busy": "2025-03-11T23:31:04.060797Z",
     "iopub.status.idle": "2025-03-11T23:31:04.061798Z",
     "shell.execute_reply": "2025-03-11T23:31:04.060797Z",
     "shell.execute_reply.started": "2025-03-11T23:31:04.060797Z"
    }
   },
   "outputs": [],
   "source": [
    "def interpolate_middle_years(db, col):\n",
    "    return (\n",
    "        db\n",
    "        .groupby('hex_id')\n",
    "        [col]\n",
    "        .transform(\n",
    "            lambda t: t.interpolate()\n",
    "            )\n",
    "        )\n",
    "\n",
    "hexes = (\n",
    "    hexes\n",
    "    .sort_values(['ano', 'hex_id'])\n",
    "    .assign(\n",
    "        habitantes=lambda db: interpolate_middle_years(db, 'habitantes'),\n",
    "        domicilios=lambda db: interpolate_middle_years(db, 'domicilios')\n",
    "        )\n",
    "    )"
   ]
  },
  {
   "cell_type": "code",
   "execution_count": null,
   "id": "0a057ff6-ce32-43a8-94cf-9094939bc0a6",
   "metadata": {
    "execution": {
     "iopub.status.busy": "2025-03-11T23:31:04.062795Z",
     "iopub.status.idle": "2025-03-11T23:31:04.062795Z",
     "shell.execute_reply": "2025-03-11T23:31:04.062795Z",
     "shell.execute_reply.started": "2025-03-11T23:31:04.062795Z"
    }
   },
   "outputs": [],
   "source": [
    "(\n",
    "    hexes\n",
    "    .groupby(['ano', 'aperture'])\n",
    "    .agg({\n",
    "        'quantidade_vinculos_ativos': 'sum',\n",
    "        'quantidade_estabelecimentos': 'sum',\n",
    "        'habitantes':'sum',\n",
    "        'domicilios': 'sum',\n",
    "        })\n",
    "    )"
   ]
  },
  {
   "cell_type": "markdown",
   "id": "40ebc0fe-6d76-487a-8d42-6465ff292e28",
   "metadata": {},
   "source": [
    "# Backup"
   ]
  },
  {
   "cell_type": "code",
   "execution_count": null,
   "id": "10fa6d05-0a9e-4159-baf1-294970792f12",
   "metadata": {
    "execution": {
     "iopub.status.busy": "2025-03-11T23:31:04.063800Z",
     "iopub.status.idle": "2025-03-11T23:31:04.064798Z",
     "shell.execute_reply": "2025-03-11T23:31:04.063800Z",
     "shell.execute_reply.started": "2025-03-11T23:31:04.063800Z"
    }
   },
   "outputs": [],
   "source": [
    "outpath = out_folder / 'hexagonos.gpkg'\n",
    "\n",
    "hexes.reset_index().to_file(outpath, layer='socioeconomico')"
   ]
  },
  {
   "cell_type": "code",
   "execution_count": null,
   "id": "dd74a1ef-5fba-422f-b827-b0b08e0c6004",
   "metadata": {},
   "outputs": [],
   "source": []
  }
 ],
 "metadata": {
  "kernelspec": {
   "display_name": "Python 3 (ipykernel)",
   "language": "python",
   "name": "python3"
  },
  "language_info": {
   "codemirror_mode": {
    "name": "ipython",
    "version": 3
   },
   "file_extension": ".py",
   "mimetype": "text/x-python",
   "name": "python",
   "nbconvert_exporter": "python",
   "pygments_lexer": "ipython3",
   "version": "3.11.10"
  },
  "toc-autonumbering": true
 },
 "nbformat": 4,
 "nbformat_minor": 5
}
