{
 "cells": [
  {
   "cell_type": "code",
   "execution_count": 1,
   "metadata": {},
   "outputs": [],
   "source": [
    "import os\n",
    "import pathlib\n",
    "\n",
    "import numpy as np\n",
    "import pandas as pd\n",
    "import geopandas as gpd\n",
    "\n",
    "from gtfstools import gtfs\n",
    "from gtfstools.plotter import plot_gtfs_data\n",
    "\n",
    "%matplotlib inline\n",
    "%config InlineBackend.figure_format='retina'"
   ]
  },
  {
   "cell_type": "markdown",
   "metadata": {
    "tags": []
   },
   "source": [
    "# USER INPUTS"
   ]
  },
  {
   "cell_type": "code",
   "execution_count": 2,
   "metadata": {
    "tags": []
   },
   "outputs": [],
   "source": [
    "out_folder = os.environ.get('OUT_FOLDER')\n",
    "out_folder = pathlib.Path(out_folder)\n",
    "out_folder = out_folder / 'B'\n",
    "\n",
    "db_folder = os.environ.get('DB_FOLDER')\n",
    "db_folder = pathlib.Path(db_folder)"
   ]
  },
  {
   "cell_type": "code",
   "execution_count": 3,
   "metadata": {},
   "outputs": [],
   "source": [
    "path_to_gtfs = (db_folder\n",
    "                / 'beaga'\n",
    "                / 'GTFS'\n",
    "                / '2017'\n",
    "                / 'GTFS_BH_2017.02.10.zip')"
   ]
  },
  {
   "cell_type": "code",
   "execution_count": 4,
   "metadata": {
    "tags": []
   },
   "outputs": [],
   "source": [
    "state = 31\n",
    "cities = 3106200\n",
    "\n",
    "cutoffs = [0,5,9,12,14,17,19,24]"
   ]
  },
  {
   "cell_type": "markdown",
   "metadata": {
    "tags": []
   },
   "source": [
    "# PROCESSING"
   ]
  },
  {
   "cell_type": "code",
   "execution_count": 5,
   "metadata": {
    "tags": []
   },
   "outputs": [
    {
     "name": "stderr",
     "output_type": "stream",
     "text": [
      "C:\\Users\\brand\\anaconda3\\envs\\pyGeo\\lib\\site-packages\\pyproj\\crs\\crs.py:53: FutureWarning: '+init=<authority>:<code>' syntax is deprecated. '<authority>:<code>' is the preferred initialization method. When making the change, be mindful of axis order changes: https://pyproj4.github.io/pyproj/stable/gotchas.html#axis-order-changes-in-proj-6\n",
      "  return _prepare_from_string(\" \".join(pjargs))\n"
     ]
    }
   ],
   "source": [
    "gtfs_feed, routes, trips, stops, stop_times, shapes = gtfs.parse_feed(path_to_gtfs)"
   ]
  },
  {
   "cell_type": "code",
   "execution_count": 6,
   "metadata": {
    "tags": []
   },
   "outputs": [
    {
     "data": {
      "text/html": [
       "<div>\n",
       "<style scoped>\n",
       "    .dataframe tbody tr th:only-of-type {\n",
       "        vertical-align: middle;\n",
       "    }\n",
       "\n",
       "    .dataframe tbody tr th {\n",
       "        vertical-align: top;\n",
       "    }\n",
       "\n",
       "    .dataframe thead th {\n",
       "        text-align: right;\n",
       "    }\n",
       "</style>\n",
       "<table border=\"1\" class=\"dataframe\">\n",
       "  <thead>\n",
       "    <tr style=\"text-align: right;\">\n",
       "      <th></th>\n",
       "      <th>route_id</th>\n",
       "      <th>direction</th>\n",
       "      <th>route_name</th>\n",
       "      <th>window</th>\n",
       "      <th>trips</th>\n",
       "      <th>headway_minutes</th>\n",
       "      <th>max_hourly_trips</th>\n",
       "      <th>min_hourly_headway</th>\n",
       "    </tr>\n",
       "  </thead>\n",
       "  <tbody>\n",
       "    <tr>\n",
       "      <th>0</th>\n",
       "      <td>101   01</td>\n",
       "      <td>Inbound</td>\n",
       "      <td>101 Aglomerado Santa Lucia (Principal)</td>\n",
       "      <td>00:00 - 05:00</td>\n",
       "      <td>0</td>\n",
       "      <td>NaN</td>\n",
       "      <td>4</td>\n",
       "      <td>15.0</td>\n",
       "    </tr>\n",
       "    <tr>\n",
       "      <th>7</th>\n",
       "      <td>101   01</td>\n",
       "      <td>Outbound</td>\n",
       "      <td>101 Aglomerado Santa Lucia (Principal)</td>\n",
       "      <td>00:00 - 05:00</td>\n",
       "      <td>0</td>\n",
       "      <td>NaN</td>\n",
       "      <td>0</td>\n",
       "      <td>NaN</td>\n",
       "    </tr>\n",
       "    <tr>\n",
       "      <th>1</th>\n",
       "      <td>101   01</td>\n",
       "      <td>Inbound</td>\n",
       "      <td>101 Aglomerado Santa Lucia (Principal)</td>\n",
       "      <td>05:00 - 09:00</td>\n",
       "      <td>4</td>\n",
       "      <td>60.0</td>\n",
       "      <td>4</td>\n",
       "      <td>15.0</td>\n",
       "    </tr>\n",
       "    <tr>\n",
       "      <th>8</th>\n",
       "      <td>101   01</td>\n",
       "      <td>Outbound</td>\n",
       "      <td>101 Aglomerado Santa Lucia (Principal)</td>\n",
       "      <td>05:00 - 09:00</td>\n",
       "      <td>0</td>\n",
       "      <td>NaN</td>\n",
       "      <td>0</td>\n",
       "      <td>NaN</td>\n",
       "    </tr>\n",
       "    <tr>\n",
       "      <th>2</th>\n",
       "      <td>101   01</td>\n",
       "      <td>Inbound</td>\n",
       "      <td>101 Aglomerado Santa Lucia (Principal)</td>\n",
       "      <td>09:00 - 12:00</td>\n",
       "      <td>0</td>\n",
       "      <td>NaN</td>\n",
       "      <td>4</td>\n",
       "      <td>15.0</td>\n",
       "    </tr>\n",
       "    <tr>\n",
       "      <th>...</th>\n",
       "      <td>...</td>\n",
       "      <td>...</td>\n",
       "      <td>...</td>\n",
       "      <td>...</td>\n",
       "      <td>...</td>\n",
       "      <td>...</td>\n",
       "      <td>...</td>\n",
       "      <td>...</td>\n",
       "    </tr>\n",
       "    <tr>\n",
       "      <th>7417</th>\n",
       "      <td>SE02  01</td>\n",
       "      <td>Outbound</td>\n",
       "      <td>SE02 Buritis/Savassi (Principal)</td>\n",
       "      <td>14:00 - 17:00</td>\n",
       "      <td>0</td>\n",
       "      <td>NaN</td>\n",
       "      <td>0</td>\n",
       "      <td>NaN</td>\n",
       "    </tr>\n",
       "    <tr>\n",
       "      <th>7411</th>\n",
       "      <td>SE02  01</td>\n",
       "      <td>Inbound</td>\n",
       "      <td>SE02 Buritis/Savassi (Principal)</td>\n",
       "      <td>17:00 - 19:00</td>\n",
       "      <td>0</td>\n",
       "      <td>NaN</td>\n",
       "      <td>4</td>\n",
       "      <td>15.0</td>\n",
       "    </tr>\n",
       "    <tr>\n",
       "      <th>7418</th>\n",
       "      <td>SE02  01</td>\n",
       "      <td>Outbound</td>\n",
       "      <td>SE02 Buritis/Savassi (Principal)</td>\n",
       "      <td>17:00 - 19:00</td>\n",
       "      <td>0</td>\n",
       "      <td>NaN</td>\n",
       "      <td>0</td>\n",
       "      <td>NaN</td>\n",
       "    </tr>\n",
       "    <tr>\n",
       "      <th>7412</th>\n",
       "      <td>SE02  01</td>\n",
       "      <td>Inbound</td>\n",
       "      <td>SE02 Buritis/Savassi (Principal)</td>\n",
       "      <td>19:00 - 24:00</td>\n",
       "      <td>0</td>\n",
       "      <td>NaN</td>\n",
       "      <td>4</td>\n",
       "      <td>15.0</td>\n",
       "    </tr>\n",
       "    <tr>\n",
       "      <th>7419</th>\n",
       "      <td>SE02  01</td>\n",
       "      <td>Outbound</td>\n",
       "      <td>SE02 Buritis/Savassi (Principal)</td>\n",
       "      <td>19:00 - 24:00</td>\n",
       "      <td>0</td>\n",
       "      <td>NaN</td>\n",
       "      <td>0</td>\n",
       "      <td>NaN</td>\n",
       "    </tr>\n",
       "  </tbody>\n",
       "</table>\n",
       "<p>7420 rows × 8 columns</p>\n",
       "</div>"
      ],
      "text/plain": [
       "      route_id direction                              route_name  \\\n",
       "0     101   01   Inbound  101 Aglomerado Santa Lucia (Principal)   \n",
       "7     101   01  Outbound  101 Aglomerado Santa Lucia (Principal)   \n",
       "1     101   01   Inbound  101 Aglomerado Santa Lucia (Principal)   \n",
       "8     101   01  Outbound  101 Aglomerado Santa Lucia (Principal)   \n",
       "2     101   01   Inbound  101 Aglomerado Santa Lucia (Principal)   \n",
       "...        ...       ...                                     ...   \n",
       "7417  SE02  01  Outbound        SE02 Buritis/Savassi (Principal)   \n",
       "7411  SE02  01   Inbound        SE02 Buritis/Savassi (Principal)   \n",
       "7418  SE02  01  Outbound        SE02 Buritis/Savassi (Principal)   \n",
       "7412  SE02  01   Inbound        SE02 Buritis/Savassi (Principal)   \n",
       "7419  SE02  01  Outbound        SE02 Buritis/Savassi (Principal)   \n",
       "\n",
       "             window  trips  headway_minutes  max_hourly_trips  \\\n",
       "0     00:00 - 05:00      0              NaN                 4   \n",
       "7     00:00 - 05:00      0              NaN                 0   \n",
       "1     05:00 - 09:00      4             60.0                 4   \n",
       "8     05:00 - 09:00      0              NaN                 0   \n",
       "2     09:00 - 12:00      0              NaN                 4   \n",
       "...             ...    ...              ...               ...   \n",
       "7417  14:00 - 17:00      0              NaN                 0   \n",
       "7411  17:00 - 19:00      0              NaN                 4   \n",
       "7418  17:00 - 19:00      0              NaN                 0   \n",
       "7412  19:00 - 24:00      0              NaN                 4   \n",
       "7419  19:00 - 24:00      0              NaN                 0   \n",
       "\n",
       "      min_hourly_headway  \n",
       "0                   15.0  \n",
       "7                    NaN  \n",
       "1                   15.0  \n",
       "8                    NaN  \n",
       "2                   15.0  \n",
       "...                  ...  \n",
       "7417                 NaN  \n",
       "7411                15.0  \n",
       "7418                 NaN  \n",
       "7412                15.0  \n",
       "7419                 NaN  \n",
       "\n",
       "[7420 rows x 8 columns]"
      ]
     },
     "execution_count": 6,
     "metadata": {},
     "output_type": "execute_result"
    }
   ],
   "source": [
    "route_summary = gtfs.summarize_trips(stop_times,\n",
    "                                     'route_id',\n",
    "                                     cutoffs,)\n",
    "route_summary"
   ]
  },
  {
   "cell_type": "code",
   "execution_count": 7,
   "metadata": {
    "tags": []
   },
   "outputs": [],
   "source": [
    "cut_routes_df, anomalies = gtfs.cut_routes(stop_times=stop_times,\n",
    "                                           route_shapes=shapes,\n",
    "                                           flag_outliers=True,\n",
    "                                           threshold=2.5,)"
   ]
  },
  {
   "cell_type": "markdown",
   "metadata": {},
   "source": [
    "Route shapefiles cannot be properly built because gtfs data is incomplete. I'll have to make do with data from other sources"
   ]
  },
  {
   "cell_type": "code",
   "execution_count": null,
   "metadata": {},
   "outputs": [],
   "source": [
    "map_ = plot_gtfs_data(gtfs_data=[route_summary, stop_times, shapes],\n",
    "                      variable='trips',\n",
    "                      window='05:00 - 09:00',\n",
    "                      direction=None,\n",
    "                      method='NaturalBreaks',\n",
    "                      k=5,\n",
    "                      cmap='magma',\n",
    "                      linear=False,\n",
    "                      tiles='cartodbpositron',)\n",
    "\n",
    "map_"
   ]
  },
  {
   "cell_type": "code",
   "execution_count": null,
   "metadata": {},
   "outputs": [],
   "source": []
  },
  {
   "cell_type": "code",
   "execution_count": null,
   "metadata": {},
   "outputs": [],
   "source": []
  },
  {
   "cell_type": "code",
   "execution_count": null,
   "metadata": {},
   "outputs": [],
   "source": []
  }
 ],
 "metadata": {
  "kernelspec": {
   "display_name": "Python 3",
   "language": "python",
   "name": "python3"
  },
  "language_info": {
   "codemirror_mode": {
    "name": "ipython",
    "version": 3
   },
   "file_extension": ".py",
   "mimetype": "text/x-python",
   "name": "python",
   "nbconvert_exporter": "python",
   "pygments_lexer": "ipython3",
   "version": "3.8.10"
  },
  "toc-autonumbering": true,
  "toc-showmarkdowntxt": false,
  "toc-showtags": false
 },
 "nbformat": 4,
 "nbformat_minor": 4
}
