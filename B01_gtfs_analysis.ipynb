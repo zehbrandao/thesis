{
 "cells": [
  {
   "cell_type": "code",
   "execution_count": 1,
   "metadata": {},
   "outputs": [],
   "source": [
    "import os\n",
    "import pathlib\n",
    "import warnings\n",
    "\n",
    "import geopandas as gpd\n",
    "import gtfstools as gtfs\n",
    "import networkx as nx\n",
    "import numpy as np\n",
    "import osmnx as ox\n",
    "\n",
    "import pandas as pd\n",
    "\n",
    "\n",
    "%matplotlib inline\n",
    "%config InlineBackend.figure_format='retina'"
   ]
  },
  {
   "cell_type": "markdown",
   "metadata": {
    "tags": []
   },
   "source": [
    "# USER INPUTS"
   ]
  },
  {
   "cell_type": "code",
   "execution_count": 2,
   "metadata": {
    "tags": []
   },
   "outputs": [],
   "source": [
    "out_folder = os.environ.get('OUT_FOLDER')\n",
    "out_folder = pathlib.Path(out_folder)\n",
    "out_folder = out_folder / 'B'\n",
    "\n",
    "db_folder = os.environ.get('DB_FOLDER')\n",
    "db_folder = pathlib.Path(db_folder)"
   ]
  },
  {
   "cell_type": "code",
   "execution_count": 3,
   "metadata": {},
   "outputs": [],
   "source": [
    "path_to_gtfs = (db_folder\n",
    "                / 'beaga'\n",
    "                / 'GTFS'\n",
    "                / '2017'\n",
    "                / 'GTFS_BH_2017.01.05.zip')"
   ]
  },
  {
   "cell_type": "code",
   "execution_count": 4,
   "metadata": {
    "tags": []
   },
   "outputs": [],
   "source": [
    "state = 31\n",
    "cities = 3106200\n",
    "\n",
    "cutoffs = [0,5,9,12,14,17,19,24]"
   ]
  },
  {
   "cell_type": "markdown",
   "metadata": {
    "tags": []
   },
   "source": [
    "# PROCESSING"
   ]
  },
  {
   "cell_type": "code",
   "execution_count": 5,
   "metadata": {},
   "outputs": [
    {
     "name": "stdout",
     "output_type": "stream",
     "text": [
      "This is a frequency-based GTFS.\n",
      "Feed contains less shapes than routes\n"
     ]
    }
   ],
   "source": [
    "feed = gtfs.load_feed(path_to_gtfs)"
   ]
  },
  {
   "cell_type": "code",
   "execution_count": 17,
   "metadata": {},
   "outputs": [
    {
     "data": {
      "text/plain": [
       "[(-44.029928, -19.938481), (-44.028, -19.940009)]"
      ]
     },
     "execution_count": 17,
     "metadata": {},
     "output_type": "execute_result"
    }
   ],
   "source": [
    "feed.shapes.iloc[0].geometry.coords[:2]"
   ]
  },
  {
   "cell_type": "code",
   "execution_count": 20,
   "metadata": {},
   "outputs": [
    {
     "data": {
      "text/plain": [
       "'101   01'"
      ]
     },
     "execution_count": 20,
     "metadata": {},
     "output_type": "execute_result"
    }
   ],
   "source": [
    "feed.trips.iloc[0].route_id"
   ]
  },
  {
   "cell_type": "code",
   "execution_count": 21,
   "metadata": {},
   "outputs": [
    {
     "name": "stdout",
     "output_type": "stream",
     "text": [
      "whatever\n"
     ]
    }
   ],
   "source": [
    "raise Exception(\n",
    "            \"There's only one (apparently) valid transit stop in \"\\\n",
    "            f\"route {route_id}, which doesn't really make sense.\"\\\n",
    "                       )"
   ]
  },
  {
   "cell_type": "code",
   "execution_count": null,
   "metadata": {},
   "outputs": [],
   "source": []
  },
  {
   "cell_type": "code",
   "execution_count": 6,
   "metadata": {},
   "outputs": [],
   "source": [
    "with warnings.catch_warnings():\n",
    "        warnings.filterwarnings('ignore', category=FutureWarning)\n",
    "        \n",
    "        routes = feed.routes\n",
    "        trips = feed.trips\n",
    "        stop_times = feed.stop_times\n",
    "        stops = feed.stops\n",
    "        shapes = feed.shapes\n",
    "        \n",
    "if shapes.empty:\n",
    "    print('Feed data does not contain route shapes')\n",
    "\n",
    "trips = (trips.merge(routes, how='left')\n",
    "              .reindex(columns=['trip_id',\n",
    "                                'route_id',\n",
    "                                'service_id',\n",
    "                                'direction_id',\n",
    "                                'shape_id'])\n",
    "        )\n",
    "\n",
    "stop_times = (stop_times.merge(trips, how='left')\n",
    "                        .merge(stops, how='left'))"
   ]
  },
  {
   "cell_type": "code",
   "execution_count": 7,
   "metadata": {},
   "outputs": [
    {
     "data": {
      "text/html": [
       "<div>\n",
       "<style scoped>\n",
       "    .dataframe tbody tr th:only-of-type {\n",
       "        vertical-align: middle;\n",
       "    }\n",
       "\n",
       "    .dataframe tbody tr th {\n",
       "        vertical-align: top;\n",
       "    }\n",
       "\n",
       "    .dataframe thead th {\n",
       "        text-align: right;\n",
       "    }\n",
       "</style>\n",
       "<table border=\"1\" class=\"dataframe\">\n",
       "  <thead>\n",
       "    <tr style=\"text-align: right;\">\n",
       "      <th></th>\n",
       "      <th>trip_id</th>\n",
       "      <th>arrival_time</th>\n",
       "      <th>departure_time</th>\n",
       "      <th>stop_id</th>\n",
       "      <th>stop_sequence</th>\n",
       "      <th>stop_headsign</th>\n",
       "      <th>pickup_type</th>\n",
       "      <th>drop_off_type</th>\n",
       "      <th>shape_dist_traveled</th>\n",
       "      <th>route_id</th>\n",
       "      <th>service_id</th>\n",
       "      <th>direction_id</th>\n",
       "      <th>shape_id</th>\n",
       "      <th>stop_name</th>\n",
       "      <th>stop_desc</th>\n",
       "      <th>location_type</th>\n",
       "      <th>parent_station</th>\n",
       "      <th>geometry</th>\n",
       "    </tr>\n",
       "  </thead>\n",
       "  <tbody>\n",
       "    <tr>\n",
       "      <th>0</th>\n",
       "      <td>METRO 0110800108</td>\n",
       "      <td>18000.0</td>\n",
       "      <td>18000.0</td>\n",
       "      <td>00110998800035</td>\n",
       "      <td>100010</td>\n",
       "      <td>NaN</td>\n",
       "      <td>0</td>\n",
       "      <td>0</td>\n",
       "      <td>NaN</td>\n",
       "      <td>METRO 01</td>\n",
       "      <td>08</td>\n",
       "      <td>1</td>\n",
       "      <td>EL2</td>\n",
       "      <td>Estação METRO Vilarinho</td>\n",
       "      <td>Ave Vilarinho em frente ao numero 35</td>\n",
       "      <td>NaN</td>\n",
       "      <td>NaN</td>\n",
       "      <td>POINT (-43.94675 -19.82149)</td>\n",
       "    </tr>\n",
       "    <tr>\n",
       "      <th>1</th>\n",
       "      <td>METRO 0110800108</td>\n",
       "      <td>18900.0</td>\n",
       "      <td>18900.0</td>\n",
       "      <td>00101865210411</td>\n",
       "      <td>200010</td>\n",
       "      <td>NaN</td>\n",
       "      <td>0</td>\n",
       "      <td>0</td>\n",
       "      <td>NaN</td>\n",
       "      <td>METRO 01</td>\n",
       "      <td>08</td>\n",
       "      <td>1</td>\n",
       "      <td>EL2</td>\n",
       "      <td>Estação METRO Floramar</td>\n",
       "      <td>Ave Cristiano Machado em frente ao numero 10411</td>\n",
       "      <td>NaN</td>\n",
       "      <td>NaN</td>\n",
       "      <td>POINT (-43.94044 -19.83390)</td>\n",
       "    </tr>\n",
       "    <tr>\n",
       "      <th>2</th>\n",
       "      <td>METRO 0110800108</td>\n",
       "      <td>19080.0</td>\n",
       "      <td>19080.0</td>\n",
       "      <td>00101865209184</td>\n",
       "      <td>300010</td>\n",
       "      <td>NaN</td>\n",
       "      <td>0</td>\n",
       "      <td>0</td>\n",
       "      <td>NaN</td>\n",
       "      <td>METRO 01</td>\n",
       "      <td>08</td>\n",
       "      <td>1</td>\n",
       "      <td>EL2</td>\n",
       "      <td>Estação METRO Waldomiro Lobo</td>\n",
       "      <td>Ave Cristiano Machado em frente ao numero 9184</td>\n",
       "      <td>NaN</td>\n",
       "      <td>NaN</td>\n",
       "      <td>POINT (-43.93273 -19.84780)</td>\n",
       "    </tr>\n",
       "    <tr>\n",
       "      <th>3</th>\n",
       "      <td>METRO 0110800108</td>\n",
       "      <td>19260.0</td>\n",
       "      <td>19260.0</td>\n",
       "      <td>00101865209040</td>\n",
       "      <td>400010</td>\n",
       "      <td>NaN</td>\n",
       "      <td>0</td>\n",
       "      <td>0</td>\n",
       "      <td>NaN</td>\n",
       "      <td>METRO 01</td>\n",
       "      <td>08</td>\n",
       "      <td>1</td>\n",
       "      <td>EL2</td>\n",
       "      <td>Estação METRO Primeiro De Maio</td>\n",
       "      <td>Ave Cristiano Machado em frente ao numero 9040</td>\n",
       "      <td>NaN</td>\n",
       "      <td>NaN</td>\n",
       "      <td>POINT (-43.93420 -19.85870)</td>\n",
       "    </tr>\n",
       "    <tr>\n",
       "      <th>4</th>\n",
       "      <td>METRO 0110800108</td>\n",
       "      <td>19440.0</td>\n",
       "      <td>19440.0</td>\n",
       "      <td>00101865205602</td>\n",
       "      <td>500010</td>\n",
       "      <td>NaN</td>\n",
       "      <td>0</td>\n",
       "      <td>0</td>\n",
       "      <td>NaN</td>\n",
       "      <td>METRO 01</td>\n",
       "      <td>08</td>\n",
       "      <td>1</td>\n",
       "      <td>EL2</td>\n",
       "      <td>Estação METRO Sao Gabriel</td>\n",
       "      <td>Ave Cristiano Machado em frente ao numero 5602</td>\n",
       "      <td>NaN</td>\n",
       "      <td>NaN</td>\n",
       "      <td>POINT (-43.92651 -19.86350)</td>\n",
       "    </tr>\n",
       "    <tr>\n",
       "      <th>...</th>\n",
       "      <td>...</td>\n",
       "      <td>...</td>\n",
       "      <td>...</td>\n",
       "      <td>...</td>\n",
       "      <td>...</td>\n",
       "      <td>...</td>\n",
       "      <td>...</td>\n",
       "      <td>...</td>\n",
       "      <td>...</td>\n",
       "      <td>...</td>\n",
       "      <td>...</td>\n",
       "      <td>...</td>\n",
       "      <td>...</td>\n",
       "      <td>...</td>\n",
       "      <td>...</td>\n",
       "      <td>...</td>\n",
       "      <td>...</td>\n",
       "      <td>...</td>\n",
       "    </tr>\n",
       "    <tr>\n",
       "      <th>142762</th>\n",
       "      <td>9850  0111400114</td>\n",
       "      <td>21349.0</td>\n",
       "      <td>21349.0</td>\n",
       "      <td>00101260201200</td>\n",
       "      <td>100032</td>\n",
       "      <td>NaN</td>\n",
       "      <td>0</td>\n",
       "      <td>0</td>\n",
       "      <td>NaN</td>\n",
       "      <td>9850  01</td>\n",
       "      <td>14</td>\n",
       "      <td>0</td>\n",
       "      <td>NaN</td>\n",
       "      <td>Ave Jose Candido Da Silveira em frente ao nume...</td>\n",
       "      <td>Serpro  -  Abg1039 (Entre Rua Alto Da Mata E R...</td>\n",
       "      <td>NaN</td>\n",
       "      <td>NaN</td>\n",
       "      <td>POINT (-43.91825 -19.88797)</td>\n",
       "    </tr>\n",
       "    <tr>\n",
       "      <th>142763</th>\n",
       "      <td>9850  0111400114</td>\n",
       "      <td>21450.0</td>\n",
       "      <td>21450.0</td>\n",
       "      <td>00101260201648</td>\n",
       "      <td>100033</td>\n",
       "      <td>NaN</td>\n",
       "      <td>0</td>\n",
       "      <td>0</td>\n",
       "      <td>NaN</td>\n",
       "      <td>9850  01</td>\n",
       "      <td>14</td>\n",
       "      <td>0</td>\n",
       "      <td>NaN</td>\n",
       "      <td>Ave Jose Candido Da Silveira em frente ao nume...</td>\n",
       "      <td>Defronte No.1647 - Sobenca (Entre Rua Alto Da ...</td>\n",
       "      <td>NaN</td>\n",
       "      <td>NaN</td>\n",
       "      <td>POINT (-43.91699 -19.88545)</td>\n",
       "    </tr>\n",
       "    <tr>\n",
       "      <th>142764</th>\n",
       "      <td>9850  0111400114</td>\n",
       "      <td>21535.0</td>\n",
       "      <td>21535.0</td>\n",
       "      <td>00101260202258</td>\n",
       "      <td>100034</td>\n",
       "      <td>NaN</td>\n",
       "      <td>0</td>\n",
       "      <td>0</td>\n",
       "      <td>NaN</td>\n",
       "      <td>9850  01</td>\n",
       "      <td>14</td>\n",
       "      <td>0</td>\n",
       "      <td>NaN</td>\n",
       "      <td>Ave Jose Candido Da Silveira em frente ao nume...</td>\n",
       "      <td>Abg1044 (Entre Rua Alto Da Mata E Rua Gustavo ...</td>\n",
       "      <td>NaN</td>\n",
       "      <td>NaN</td>\n",
       "      <td>POINT (-43.91535 -19.88344)</td>\n",
       "    </tr>\n",
       "    <tr>\n",
       "      <th>142765</th>\n",
       "      <td>9850  0111400114</td>\n",
       "      <td>21574.0</td>\n",
       "      <td>21574.0</td>\n",
       "      <td>00103261701825</td>\n",
       "      <td>100035</td>\n",
       "      <td>NaN</td>\n",
       "      <td>0</td>\n",
       "      <td>0</td>\n",
       "      <td>NaN</td>\n",
       "      <td>9850  01</td>\n",
       "      <td>14</td>\n",
       "      <td>0</td>\n",
       "      <td>NaN</td>\n",
       "      <td>Rua Gustavo Da Silveira em frente ao numero 1825</td>\n",
       "      <td>Oposto  Estacao Jose Candido Da Silveira (Entr...</td>\n",
       "      <td>NaN</td>\n",
       "      <td>NaN</td>\n",
       "      <td>POINT (-43.91344 -19.88363)</td>\n",
       "    </tr>\n",
       "    <tr>\n",
       "      <th>142766</th>\n",
       "      <td>9850  0111400114</td>\n",
       "      <td>21591.0</td>\n",
       "      <td>21591.0</td>\n",
       "      <td>00103261701820</td>\n",
       "      <td>100036</td>\n",
       "      <td>NaN</td>\n",
       "      <td>0</td>\n",
       "      <td>0</td>\n",
       "      <td>NaN</td>\n",
       "      <td>9850  01</td>\n",
       "      <td>14</td>\n",
       "      <td>0</td>\n",
       "      <td>NaN</td>\n",
       "      <td>Rua Gustavo Da Silveira em frente ao numero 1820</td>\n",
       "      <td>Estacao Jose Candido Da Silveira/Bhbus (Entre ...</td>\n",
       "      <td>NaN</td>\n",
       "      <td>NaN</td>\n",
       "      <td>POINT (-43.91289 -19.88328)</td>\n",
       "    </tr>\n",
       "  </tbody>\n",
       "</table>\n",
       "<p>142767 rows × 18 columns</p>\n",
       "</div>"
      ],
      "text/plain": [
       "                 trip_id  arrival_time  departure_time         stop_id  \\\n",
       "0       METRO 0110800108       18000.0         18000.0  00110998800035   \n",
       "1       METRO 0110800108       18900.0         18900.0  00101865210411   \n",
       "2       METRO 0110800108       19080.0         19080.0  00101865209184   \n",
       "3       METRO 0110800108       19260.0         19260.0  00101865209040   \n",
       "4       METRO 0110800108       19440.0         19440.0  00101865205602   \n",
       "...                  ...           ...             ...             ...   \n",
       "142762  9850  0111400114       21349.0         21349.0  00101260201200   \n",
       "142763  9850  0111400114       21450.0         21450.0  00101260201648   \n",
       "142764  9850  0111400114       21535.0         21535.0  00101260202258   \n",
       "142765  9850  0111400114       21574.0         21574.0  00103261701825   \n",
       "142766  9850  0111400114       21591.0         21591.0  00103261701820   \n",
       "\n",
       "        stop_sequence stop_headsign  pickup_type drop_off_type  \\\n",
       "0              100010           NaN            0             0   \n",
       "1              200010           NaN            0             0   \n",
       "2              300010           NaN            0             0   \n",
       "3              400010           NaN            0             0   \n",
       "4              500010           NaN            0             0   \n",
       "...               ...           ...          ...           ...   \n",
       "142762         100032           NaN            0             0   \n",
       "142763         100033           NaN            0             0   \n",
       "142764         100034           NaN            0             0   \n",
       "142765         100035           NaN            0             0   \n",
       "142766         100036           NaN            0             0   \n",
       "\n",
       "        shape_dist_traveled  route_id service_id  direction_id shape_id  \\\n",
       "0                       NaN  METRO 01         08             1      EL2   \n",
       "1                       NaN  METRO 01         08             1      EL2   \n",
       "2                       NaN  METRO 01         08             1      EL2   \n",
       "3                       NaN  METRO 01         08             1      EL2   \n",
       "4                       NaN  METRO 01         08             1      EL2   \n",
       "...                     ...       ...        ...           ...      ...   \n",
       "142762                  NaN  9850  01         14             0      NaN   \n",
       "142763                  NaN  9850  01         14             0      NaN   \n",
       "142764                  NaN  9850  01         14             0      NaN   \n",
       "142765                  NaN  9850  01         14             0      NaN   \n",
       "142766                  NaN  9850  01         14             0      NaN   \n",
       "\n",
       "                                                stop_name  \\\n",
       "0                                 Estação METRO Vilarinho   \n",
       "1                                  Estação METRO Floramar   \n",
       "2                            Estação METRO Waldomiro Lobo   \n",
       "3                          Estação METRO Primeiro De Maio   \n",
       "4                               Estação METRO Sao Gabriel   \n",
       "...                                                   ...   \n",
       "142762  Ave Jose Candido Da Silveira em frente ao nume...   \n",
       "142763  Ave Jose Candido Da Silveira em frente ao nume...   \n",
       "142764  Ave Jose Candido Da Silveira em frente ao nume...   \n",
       "142765   Rua Gustavo Da Silveira em frente ao numero 1825   \n",
       "142766   Rua Gustavo Da Silveira em frente ao numero 1820   \n",
       "\n",
       "                                                stop_desc  location_type  \\\n",
       "0                    Ave Vilarinho em frente ao numero 35            NaN   \n",
       "1         Ave Cristiano Machado em frente ao numero 10411            NaN   \n",
       "2          Ave Cristiano Machado em frente ao numero 9184            NaN   \n",
       "3          Ave Cristiano Machado em frente ao numero 9040            NaN   \n",
       "4          Ave Cristiano Machado em frente ao numero 5602            NaN   \n",
       "...                                                   ...            ...   \n",
       "142762  Serpro  -  Abg1039 (Entre Rua Alto Da Mata E R...            NaN   \n",
       "142763  Defronte No.1647 - Sobenca (Entre Rua Alto Da ...            NaN   \n",
       "142764  Abg1044 (Entre Rua Alto Da Mata E Rua Gustavo ...            NaN   \n",
       "142765  Oposto  Estacao Jose Candido Da Silveira (Entr...            NaN   \n",
       "142766  Estacao Jose Candido Da Silveira/Bhbus (Entre ...            NaN   \n",
       "\n",
       "       parent_station                     geometry  \n",
       "0                 NaN  POINT (-43.94675 -19.82149)  \n",
       "1                 NaN  POINT (-43.94044 -19.83390)  \n",
       "2                 NaN  POINT (-43.93273 -19.84780)  \n",
       "3                 NaN  POINT (-43.93420 -19.85870)  \n",
       "4                 NaN  POINT (-43.92651 -19.86350)  \n",
       "...               ...                          ...  \n",
       "142762            NaN  POINT (-43.91825 -19.88797)  \n",
       "142763            NaN  POINT (-43.91699 -19.88545)  \n",
       "142764            NaN  POINT (-43.91535 -19.88344)  \n",
       "142765            NaN  POINT (-43.91344 -19.88363)  \n",
       "142766            NaN  POINT (-43.91289 -19.88328)  \n",
       "\n",
       "[142767 rows x 18 columns]"
      ]
     },
     "execution_count": 7,
     "metadata": {},
     "output_type": "execute_result"
    }
   ],
   "source": [
    "stop_times"
   ]
  },
  {
   "cell_type": "code",
   "execution_count": 8,
   "metadata": {},
   "outputs": [],
   "source": [
    "stop_seq = (stop_times.drop_duplicates(subset=['stop_id','stop_name',\n",
    "                                                  'stop_sequence', 'shape_id'])\n",
    "                          .reindex(columns=['route_id','direction_id',\n",
    "                                            'stop_id','stop_name',\n",
    "                                            'stop_sequence', 'shape_id'])\n",
    "               )"
   ]
  },
  {
   "cell_type": "code",
   "execution_count": 10,
   "metadata": {},
   "outputs": [
    {
     "data": {
      "text/html": [
       "<div>\n",
       "<style scoped>\n",
       "    .dataframe tbody tr th:only-of-type {\n",
       "        vertical-align: middle;\n",
       "    }\n",
       "\n",
       "    .dataframe tbody tr th {\n",
       "        vertical-align: top;\n",
       "    }\n",
       "\n",
       "    .dataframe thead th {\n",
       "        text-align: right;\n",
       "    }\n",
       "</style>\n",
       "<table border=\"1\" class=\"dataframe\">\n",
       "  <thead>\n",
       "    <tr style=\"text-align: right;\">\n",
       "      <th></th>\n",
       "      <th>route_id</th>\n",
       "      <th>direction_id</th>\n",
       "      <th>shape_id</th>\n",
       "      <th>stop_id</th>\n",
       "    </tr>\n",
       "  </thead>\n",
       "  <tbody>\n",
       "    <tr>\n",
       "      <th>0</th>\n",
       "      <td>1030  05</td>\n",
       "      <td>0</td>\n",
       "      <td>T1030</td>\n",
       "      <td>22</td>\n",
       "    </tr>\n",
       "    <tr>\n",
       "      <th>1</th>\n",
       "      <td>614   01</td>\n",
       "      <td>0</td>\n",
       "      <td>T614</td>\n",
       "      <td>58</td>\n",
       "    </tr>\n",
       "    <tr>\n",
       "      <th>2</th>\n",
       "      <td>614   02</td>\n",
       "      <td>0</td>\n",
       "      <td>T614</td>\n",
       "      <td>55</td>\n",
       "    </tr>\n",
       "    <tr>\n",
       "      <th>3</th>\n",
       "      <td>614   03</td>\n",
       "      <td>0</td>\n",
       "      <td>T614</td>\n",
       "      <td>78</td>\n",
       "    </tr>\n",
       "    <tr>\n",
       "      <th>4</th>\n",
       "      <td>614   04</td>\n",
       "      <td>0</td>\n",
       "      <td>T614</td>\n",
       "      <td>69</td>\n",
       "    </tr>\n",
       "    <tr>\n",
       "      <th>5</th>\n",
       "      <td>METRO 01</td>\n",
       "      <td>0</td>\n",
       "      <td>EL1</td>\n",
       "      <td>19</td>\n",
       "    </tr>\n",
       "    <tr>\n",
       "      <th>6</th>\n",
       "      <td>METRO 01</td>\n",
       "      <td>1</td>\n",
       "      <td>EL2</td>\n",
       "      <td>19</td>\n",
       "    </tr>\n",
       "  </tbody>\n",
       "</table>\n",
       "</div>"
      ],
      "text/plain": [
       "   route_id  direction_id shape_id  stop_id\n",
       "0  1030  05             0    T1030       22\n",
       "1  614   01             0     T614       58\n",
       "2  614   02             0     T614       55\n",
       "3  614   03             0     T614       78\n",
       "4  614   04             0     T614       69\n",
       "5  METRO 01             0      EL1       19\n",
       "6  METRO 01             1      EL2       19"
      ]
     },
     "execution_count": 10,
     "metadata": {},
     "output_type": "execute_result"
    }
   ],
   "source": [
    "(stop_seq.pivot_table('stop_id',\n",
    "                                         index=['route_id',\n",
    "                                                'direction_id',\n",
    "                                                'shape_id'],\n",
    "                                         aggfunc='count')\n",
    "                            .reset_index()\n",
    "                   )"
   ]
  },
  {
   "cell_type": "code",
   "execution_count": null,
   "metadata": {},
   "outputs": [],
   "source": []
  },
  {
   "cell_type": "code",
   "execution_count": null,
   "metadata": {},
   "outputs": [],
   "source": []
  },
  {
   "cell_type": "code",
   "execution_count": null,
   "metadata": {},
   "outputs": [],
   "source": [
    "feed.trips.loc[feed.trips.shape_id.notnull()]"
   ]
  },
  {
   "cell_type": "code",
   "execution_count": null,
   "metadata": {},
   "outputs": [],
   "source": [
    "bh.nodes"
   ]
  },
  {
   "cell_type": "code",
   "execution_count": null,
   "metadata": {},
   "outputs": [],
   "source": [
    "ox.shortest_path(bh, orig=[8795213893, 7694712699], dest=[8795214055, 8795213762], weight='length')"
   ]
  },
  {
   "cell_type": "code",
   "execution_count": null,
   "metadata": {},
   "outputs": [],
   "source": [
    "bh.nodes[8795213893]"
   ]
  },
  {
   "cell_type": "code",
   "execution_count": null,
   "metadata": {},
   "outputs": [],
   "source": []
  },
  {
   "cell_type": "code",
   "execution_count": null,
   "metadata": {},
   "outputs": [],
   "source": [
    "feed.trips.what"
   ]
  },
  {
   "cell_type": "code",
   "execution_count": null,
   "metadata": {},
   "outputs": [],
   "source": [
    "len(feed.stop_times)"
   ]
  },
  {
   "cell_type": "code",
   "execution_count": null,
   "metadata": {},
   "outputs": [],
   "source": [
    "subset = ['stop_id', 'stop_name', 'stop_sequence', 'shape_id']\n",
    "\n",
    "col_order = ['route_id', 'direction_id', 'shape_id', 'stop_id',\n",
    "             'stop_name', 'stop_sequence', 'geometry']\n",
    "\n",
    "sort_on = ['route_id', 'direction_id', 'shape_id', 'stop_sequence']\n",
    "\n",
    "stop_sequence = (operations\n",
    "                 .drop_duplicates(subset=subset)\n",
    "                 .reindex(columns=col_order)\n",
    "                 .pipe(gpd.GeoDataFrame,\n",
    "                       crs='EPSG:4326',\n",
    "                       geometry='geometry')\n",
    "                 .sort_values(sort_on)\n",
    "                 .to_crs(epsg=5641)\n",
    "                )"
   ]
  },
  {
   "cell_type": "code",
   "execution_count": null,
   "metadata": {
    "tags": []
   },
   "outputs": [],
   "source": [
    "feed.trips"
   ]
  },
  {
   "cell_type": "code",
   "execution_count": null,
   "metadata": {
    "tags": []
   },
   "outputs": [],
   "source": [
    "west, south, east, north  = feed.stops.to_crs(epsg=4326).total_bounds\n",
    "roads = ox.graph_from_bbox(north,\n",
    "                           south,\n",
    "                           east,\n",
    "                           west,\n",
    "                           network_type='drive',)"
   ]
  },
  {
   "cell_type": "code",
   "execution_count": null,
   "metadata": {
    "tags": []
   },
   "outputs": [],
   "source": [
    "nodes, edges = ox.graph_to_gdfs(roads)"
   ]
  },
  {
   "cell_type": "code",
   "execution_count": null,
   "metadata": {},
   "outputs": [],
   "source": [
    "list(edges.iloc[0].geometry.coords)"
   ]
  },
  {
   "cell_type": "code",
   "execution_count": null,
   "metadata": {},
   "outputs": [],
   "source": [
    "edges.loc[edges.index==edges.index[0]].reset_index()"
   ]
  },
  {
   "cell_type": "code",
   "execution_count": null,
   "metadata": {},
   "outputs": [],
   "source": [
    "cu[['osmid', 'oneway']] = [np.nan, np.nan]\n"
   ]
  },
  {
   "cell_type": "code",
   "execution_count": null,
   "metadata": {
    "tags": []
   },
   "outputs": [],
   "source": [
    "roads[27461710][28384475][0]"
   ]
  },
  {
   "cell_type": "code",
   "execution_count": null,
   "metadata": {},
   "outputs": [],
   "source": [
    "mapping = {old: new\n",
    "           for old, new\n",
    "           in zip(list(roads.nodes), range(1, len(roads)))}\n",
    "\n",
    "cu = nx.relabel_nodes(roads, mapping)\n",
    "           "
   ]
  },
  {
   "cell_type": "code",
   "execution_count": null,
   "metadata": {},
   "outputs": [],
   "source": [
    "nodes, edges = ox.graph_to_gdfs(cu)"
   ]
  },
  {
   "cell_type": "code",
   "execution_count": null,
   "metadata": {},
   "outputs": [],
   "source": [
    "nodes.index"
   ]
  },
  {
   "cell_type": "code",
   "execution_count": null,
   "metadata": {},
   "outputs": [],
   "source": [
    "stops.plot()"
   ]
  },
  {
   "cell_type": "code",
   "execution_count": null,
   "metadata": {
    "tags": []
   },
   "outputs": [],
   "source": [
    "cut_routes_df, anomalies = gtfs.cut_routes(stop_times=stop_times,\n",
    "                                           route_shapes=shapes,\n",
    "                                           flag_outliers=True,\n",
    "                                           threshold=2.5,)"
   ]
  },
  {
   "cell_type": "markdown",
   "metadata": {},
   "source": [
    "Route shapefiles cannot be properly built because gtfs data is incomplete. I'll have to make do with data from other sources"
   ]
  },
  {
   "cell_type": "code",
   "execution_count": null,
   "metadata": {},
   "outputs": [],
   "source": [
    "map_ = plot_gtfs_data(gtfs_data=[route_summary, stop_times, shapes],\n",
    "                      variable='trips',\n",
    "                      window='05:00 - 09:00',\n",
    "                      direction=None,\n",
    "                      method='NaturalBreaks',\n",
    "                      k=5,\n",
    "                      cmap='magma',\n",
    "                      linear=False,\n",
    "                      tiles='cartodbpositron',)\n",
    "\n",
    "map_"
   ]
  },
  {
   "cell_type": "code",
   "execution_count": null,
   "metadata": {},
   "outputs": [],
   "source": []
  },
  {
   "cell_type": "code",
   "execution_count": null,
   "metadata": {},
   "outputs": [],
   "source": []
  },
  {
   "cell_type": "code",
   "execution_count": null,
   "metadata": {},
   "outputs": [],
   "source": []
  },
  {
   "cell_type": "code",
   "execution_count": null,
   "metadata": {},
   "outputs": [],
   "source": [
    "import os\n",
    "import pathlib\n",
    "import re\n",
    "import warnings\n",
    "\n",
    "import geopandas as gpd\n",
    "import numpy as np\n",
    "import pandas as pd\n",
    "import matplotlib.pyplot as plt\n",
    "import seaborn as sns\n",
    "\n",
    "import gtfstools as gtfs\n",
    "\n",
    "\n",
    "%matplotlib inline\n",
    "%config InlineBackend.figure_format='retina'"
   ]
  },
  {
   "cell_type": "code",
   "execution_count": null,
   "metadata": {
    "tags": []
   },
   "outputs": [],
   "source": [
    "out_folder = os.environ.get('OUT_FOLDER')\n",
    "out_folder = pathlib.Path(out_folder)\n",
    "out_folder = out_folder / 'B'\n",
    "\n",
    "db_folder = os.environ.get('DB_FOLDER')\n",
    "db_folder = pathlib.Path(db_folder)"
   ]
  },
  {
   "cell_type": "code",
   "execution_count": null,
   "metadata": {},
   "outputs": [],
   "source": [
    "path = (db_folder\n",
    "        / 'beaga'\n",
    "        / 'GTFS'\n",
    "        / '2021'\n",
    "        / 'GTFS_BH_convencional_2021.01.11.zip')"
   ]
  },
  {
   "cell_type": "code",
   "execution_count": null,
   "metadata": {},
   "outputs": [],
   "source": [
    "path = 'GTFS_2017.zip'"
   ]
  },
  {
   "cell_type": "code",
   "execution_count": null,
   "metadata": {},
   "outputs": [],
   "source": [
    "feed = gtfs.load_feed(path)"
   ]
  },
  {
   "cell_type": "code",
   "execution_count": null,
   "metadata": {},
   "outputs": [],
   "source": [
    "summary = gtfs.summarize_trips(feed, summ_by='route_id', cutoffs=[0, 6, 9, 12, 14, 17, 19, 24])"
   ]
  },
  {
   "cell_type": "code",
   "execution_count": null,
   "metadata": {},
   "outputs": [],
   "source": [
    "f, ax = plt.subplots(figsize=(15,7.5))\n",
    "\n",
    "data = summary.loc[summary.headway_minutes<300]\n",
    "\n",
    "sns.boxplot(data=data, y='headway_minutes', x='window', ax=ax)"
   ]
  },
  {
   "cell_type": "code",
   "execution_count": null,
   "metadata": {},
   "outputs": [],
   "source": [
    "summary.loc[summary.stop_sequence==1, 'route_id'].value_counts()"
   ]
  },
  {
   "cell_type": "code",
   "execution_count": null,
   "metadata": {},
   "outputs": [],
   "source": [
    "stop_times"
   ]
  },
  {
   "cell_type": "code",
   "execution_count": null,
   "metadata": {},
   "outputs": [],
   "source": [
    "feed.frequencies.sort_values(['trip_id', 'start_time'])"
   ]
  },
  {
   "cell_type": "code",
   "execution_count": null,
   "metadata": {},
   "outputs": [],
   "source": [
    "3540/3600"
   ]
  },
  {
   "cell_type": "code",
   "execution_count": null,
   "metadata": {},
   "outputs": [],
   "source": [
    "feed.stop_times"
   ]
  },
  {
   "cell_type": "code",
   "execution_count": null,
   "metadata": {},
   "outputs": [],
   "source": []
  }
 ],
 "metadata": {
  "kernelspec": {
   "display_name": "Python 3 (ipykernel)",
   "language": "python",
   "name": "python3"
  },
  "language_info": {
   "codemirror_mode": {
    "name": "ipython",
    "version": 3
   },
   "file_extension": ".py",
   "mimetype": "text/x-python",
   "name": "python",
   "nbconvert_exporter": "python",
   "pygments_lexer": "ipython3",
   "version": "3.8.10"
  },
  "toc-autonumbering": true,
  "toc-showmarkdowntxt": false,
  "toc-showtags": false
 },
 "nbformat": 4,
 "nbformat_minor": 4
}
