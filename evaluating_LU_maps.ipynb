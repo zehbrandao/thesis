{
 "cells": [
  {
   "cell_type": "code",
   "execution_count": 1,
   "id": "c330d0f5-6b0b-4f49-adcf-c1078103a55a",
   "metadata": {},
   "outputs": [],
   "source": [
    "import os\n",
    "import pathlib\n",
    "import re\n",
    "import warnings\n",
    "\n",
    "import contextily as cx \n",
    "import numpy as np\n",
    "import pandas as pd\n",
    "import geopandas as gpd\n",
    "import matplotlib.pyplot as plt\n",
    "import osmnx as ox\n",
    "import seaborn as sns\n",
    "\n",
    "from geobr import read_municipality\n",
    "from h3census.assemble import get_hexagons_with_census_data\n",
    "from matplotlib.patches import Patch\n",
    "from shapely.geometry import Point\n",
    "\n",
    "%matplotlib inline\n",
    "%config InlineBackend.figure_format='retina'"
   ]
  },
  {
   "cell_type": "code",
   "execution_count": 2,
   "id": "702991d4-e2df-4fcb-b8eb-2aefd8388275",
   "metadata": {},
   "outputs": [],
   "source": [
    "out_folder = os.environ.get('OUT_FOLDER')\n",
    "out_folder = pathlib.Path(out_folder)\n",
    "out_folder = out_folder / 'A'\n",
    "\n",
    "db_folder = os.environ.get('DB_FOLDER')\n",
    "db_folder = pathlib.Path(db_folder)"
   ]
  },
  {
   "cell_type": "code",
   "execution_count": 3,
   "id": "8c2881b3-2976-40c9-bb1a-b7b3e525b2af",
   "metadata": {},
   "outputs": [],
   "source": [
    "def _get_zipped_path_for_gpd(path):\n",
    "    \"\"\"This gets a full path for a zipped shp file and parses it\n",
    "    into a structure that gpd.read_file() understands.\n",
    "    \"\"\"\n",
    "    prefix = r'zip://'\n",
    "    \n",
    "    try:\n",
    "        path = prefix + path.as_posix()\n",
    "    except:\n",
    "        path = pathlib.PureWindowsPath(path)\n",
    "        path = prefix + path.as_posix()\n",
    "        \n",
    "        \n",
    "    return path\n",
    "\n",
    "\n",
    "def _get_geodata(path, is_zipped=True):\n",
    "    \"\"\"Takes either a full raw string path os a pathlib's pure windows\n",
    "    path and uses it to return a shapefile. It also makes the necessary\n",
    "    adjustments to read shapefiles compressed into a .zip file.\n",
    "    \"\"\"    \n",
    "    if is_zipped:\n",
    "        path = _get_zipped_path_for_gpd(path)\n",
    "            \n",
    "            \n",
    "    return gpd.read_file(path)\n",
    "\n",
    "\n",
    "def get_land_use_data(year):\n",
    "    path = (db_folder\n",
    "            / 'beaga'\n",
    "            / 'tipologia_uso_ocupacao'\n",
    "            / f'uso_ocup_{year}.zip')\n",
    "    land_uses = _get_geodata(path)\n",
    "\n",
    "    # A few instances are not georeferenced and, even though\n",
    "    # they have an existing parcel ID, that ID is also not \n",
    "    # present at the parcel geodata provided by BH city hall.\n",
    "    # This happened with 2018 data and amounted to about 0.4%,\n",
    "    # which makes it seem reasoble to just drop these records.\n",
    "    land_uses = land_uses.loc[land_uses\n",
    "                              .geometry\n",
    "                              .notnull()]\n",
    "    \n",
    "    # some later operations don't handle well a mix\n",
    "    # of Polygons and MultyPolygons.\n",
    "    land_uses = land_uses.explode()\n",
    "    \n",
    "    \n",
    "    return land_uses.reset_index(drop=True)\n",
    "\n",
    "\n",
    "lu_2017 = get_land_use_data(2017)\n"
   ]
  },
  {
   "cell_type": "code",
   "execution_count": 5,
   "id": "ecb6f1f9-1253-471c-b6f7-ee8e6ff1c5cf",
   "metadata": {},
   "outputs": [],
   "source": [
    "lu_2017.rename(columns={'TIPOLOGIA_': 'type',\n",
    "                          'TIPOLOGIA0': 'category'},\n",
    "                 inplace=True,)\n",
    "\n",
    "lu_2017 = lu_2017.reindex(columns=['type',\n",
    "                                       'category',\n",
    "                                       'geometry',])\n"
   ]
  },
  {
   "cell_type": "code",
   "execution_count": 45,
   "id": "b69b694a-9b6a-467c-99a1-87b3ed413d3f",
   "metadata": {},
   "outputs": [
    {
     "data": {
      "text/plain": [
       "type\n",
       "RESIDENCIAL                  95.511467\n",
       "LOTE VAGO                    45.957879\n",
       "NAO RESIDENCIAL              29.915041\n",
       "MISTO                        13.861005\n",
       "NAO RESIDENCIAL+LOTE VAGO     8.362966\n",
       "MISTO + LOTE VAGO             4.877592\n",
       "RESIDENCIAL+LOTE VAGO         4.382295\n",
       "Name: area_km2, dtype: float64"
      ]
     },
     "execution_count": 45,
     "metadata": {},
     "output_type": "execute_result"
    }
   ],
   "source": [
    "lu_2017.groupby(['type']).area_km2.sum().sort_values(ascending=False)"
   ]
  },
  {
   "cell_type": "code",
   "execution_count": 47,
   "id": "f9faa462-5487-4c09-99b0-1c5be8c2d5fb",
   "metadata": {},
   "outputs": [
    {
     "data": {
      "text/plain": [
       "type\n",
       "RESIDENCIAL        100.459043\n",
       "SEM INFORMACAO      53.431436\n",
       "NAO RESIDENCIAL     49.075531\n",
       "LOTE VAGO           33.108260\n",
       "MISTO               16.536411\n",
       "PARQUE              10.511451\n",
       "Name: area_km2, dtype: float64"
      ]
     },
     "execution_count": 47,
     "metadata": {},
     "output_type": "execute_result"
    }
   ],
   "source": [
    "lu_2020.groupby(['type']).area_km2.sum().sort_values(ascending=False)"
   ]
  },
  {
   "cell_type": "code",
   "execution_count": 52,
   "id": "75de069b-11bd-4411-bf62-1d9b01025fd1",
   "metadata": {},
   "outputs": [
    {
     "data": {
      "text/plain": [
       "60.58060350473666"
      ]
     },
     "execution_count": 52,
     "metadata": {},
     "output_type": "execute_result"
    }
   ],
   "source": [
    "lu_2017.loc[lu_2017['type'].isnull()].area_km2.sum()"
   ]
  },
  {
   "cell_type": "code",
   "execution_count": 13,
   "id": "6289304e-f69b-4137-b6df-6ab9f991f1ac",
   "metadata": {},
   "outputs": [],
   "source": [
    "lu_2020 = get_land_use_data(2020)\n",
    "\n",
    "\n",
    "lu_2020 = lu_2020.rename(columns={'uso_do_s_1': 'type',\n",
    "                                      'agreg_ativ': 'activities',\n",
    "                                      'uso_ativ_1': 'category'})\n",
    "\n",
    "lu_2020 = lu_2020.reindex(columns=['type',\n",
    "                                       'category',\n",
    "                                       'activities',\n",
    "                                       'geometry'])\n",
    "\n",
    "# Land use categories and types are between curly brackets\n",
    "# by whatever reason...\n",
    "regex = r'(\\{?)(.+\\w)(\\})?'\n",
    "\n",
    "for each in ['type', 'category']:\n",
    "    lu_2020[each] = lu_2020[each].str.extract(regex)[1]"
   ]
  },
  {
   "cell_type": "code",
   "execution_count": 19,
   "id": "1f502771-5314-4fc6-90eb-f2c9f8ff6bf1",
   "metadata": {},
   "outputs": [
    {
     "data": {
      "text/plain": [
       "SEM INFORMACAO    51205\n",
       "Name: category, dtype: int64"
      ]
     },
     "execution_count": 19,
     "metadata": {},
     "output_type": "execute_result"
    }
   ],
   "source": [
    "lu_2020.loc[lu_2020['type'] == 'SEM INFORMACAO'].category.value_counts()"
   ]
  },
  {
   "cell_type": "code",
   "execution_count": 22,
   "id": "ae2c5385-2656-40f7-a337-ee2abd30ba57",
   "metadata": {},
   "outputs": [
    {
     "data": {
      "text/plain": [
       "(360422, 4)"
      ]
     },
     "execution_count": 22,
     "metadata": {},
     "output_type": "execute_result"
    }
   ],
   "source": [
    "lu_2020.shape"
   ]
  },
  {
   "cell_type": "code",
   "execution_count": null,
   "id": "50a184ae-7c6f-434e-b817-27d9674e5aa6",
   "metadata": {},
   "outputs": [],
   "source": []
  },
  {
   "cell_type": "code",
   "execution_count": null,
   "id": "5a6a9152-75ec-433d-9aae-8a141a258236",
   "metadata": {},
   "outputs": [],
   "source": []
  },
  {
   "cell_type": "code",
   "execution_count": null,
   "id": "0c9c6fee-34c2-40f2-a42d-77b9294189af",
   "metadata": {},
   "outputs": [],
   "source": []
  },
  {
   "cell_type": "code",
   "execution_count": null,
   "id": "0209553c-8034-4bf7-a01b-152771e47208",
   "metadata": {},
   "outputs": [],
   "source": [
    "number_of_parcels = len(hex_with_uses)\n",
    "hex_with_uses['type'].value_counts() / number_of_parcels * 100\n",
    "hex_with_uses.category.value_counts() / number_of_parcels * 100"
   ]
  },
  {
   "cell_type": "markdown",
   "id": "abe6ec31-2500-4af8-9bec-e4f7dce9b156",
   "metadata": {},
   "source": [
    "- Most instances are straightforward, such as 'casa unifamiliar', for example, which clearly is residential; or such as 'edificio de uso comercial e/ou servicos' which is obviously retail/services.\n",
    "\n",
    "- There were cases in which discordant classifications were residual. Hence, the residuals have been put together along with the majority class. For example, there are 6 mixed use parcels of 'edificio' amidst a sea of 16009 residential parcels.\n",
    "\n",
    "- Mixed uses presented a difficulty as well because the classical model deals with discrete classifications only. There are models that allow for some fuzzy classification, which means that a cell can go from fully residential to completely commercial, while being able to assume any percentual balance in between those extremes. Unfortunatelly, to the best of my knowledge, such models seem still incipient and displaying some perks that I don't think are for me to solve (at least not now). Hence, I chose to create a 'mixed' category and leave it at that. After some future experimentations, I might choose to place it either under retail/services or under residential.\n",
    "\n",
    "- All parcels containing any kind of (a) club or public goods, and of (b) public facilities, amenities or infrastructures have been considered static and are all labeled as either:\n",
    "    - amenities,\n",
    "    - infrastructure, or\n",
    "    - public services.\n",
    "\n",
    "- 'edificação sem tipologia especificada' was assumed to be residential, because:\n",
    "    - For any given lot, the highest probability is that it is residential;\n",
    "    - In the brazilian context, there is plenty of illegal land ocupation due to favelas and whatnot;\n",
    "    - I assumed it is harder for commercial activity to function without registry in the tax records.\n",
    "    \n",
    "**A minor number of instances require a slightly more detailed analysis, which here means that a proper reclassification required a simultaneous analysis of 'type' and 'category' attributes. Specifically:**\n",
    "\n",
    "- There are two land use categories that are unclear in of themselves ('ocupação diversificada', 'vaga residencial ou comercial') these have been classified with the aid of _regroup_with_scrutiny() function.\n",
    "\n",
    "- 'galpao' at first seemed obviously related to the industrial sector, but a closer look at its spatial distribution, along with a couple checks in Google maps, made it seem otherwise. It did not seem, for the most part, related to heavy industry, specially the parcels of this category that were placed within the city's core and along its major roads. Hence, for the time being, it was placed under either retail/services or mixed, until some later analysis reveals otherwise, if such a thing is revealed at all. The choice between mixed and retail/services is made within _regroup_with_scrutiny().\n",
    "\n",
    "**Finally, parcels with no data at all are handled are to be handled in later steps**\n"
   ]
  },
  {
   "cell_type": "code",
   "execution_count": null,
   "id": "df90c8cb-c695-43cd-a668-bbf9d611567b",
   "metadata": {},
   "outputs": [],
   "source": [
    "regrouping_2017 = {\n",
    "    'active': {\n",
    "        'residential': ['casa unifamiliar',\n",
    "                        'edificio', \n",
    "                        'conjunto multifamiliar vertical',\n",
    "                        'conjunto multifamiliar horizontal',\n",
    "                        'edificação sem tipologia especificada',],\n",
    "        \n",
    "        'retail/services': ['loja ou conjunto de lojas',\n",
    "                            'edificio de uso comercial e/ou servicos',\n",
    "                            'loja em edificio/galeria',\n",
    "                            'shopping center',\n",
    "                            'galeria/mini shopping de bairro',\n",
    "                            'apart hotel',],\n",
    "        # TO DO: settle approach towards mixed uses\n",
    "        'mixed': ['casa/sobrado',\n",
    "                  'edificio residencial e comercio e/ou servicos',]\n",
    "                },\n",
    "\n",
    "     'passive': { \n",
    "         'vacant': ['lote vago',]\n",
    "                 },\n",
    "\n",
    "     'static': {\n",
    "         'industry': ['industria',],\n",
    "         \n",
    "         'public services': ['instituicao de ensino',\n",
    "                             'equipamento de saude',],\n",
    "         \n",
    "         'infrastructure': ['estacao de transporte coletivo',\n",
    "                            'aeroporto',\n",
    "                            'aterro sanitario',],\n",
    "         \n",
    "         'amenities': ['instituicao religiosa',\n",
    "                       'cemiterio', # weird to put it here, but I couldn't find anywhere else\n",
    "                       'parque',\n",
    "                       'clubes esportivos e sociais',\n",
    "                       'estadio/ginasio',],\n",
    "               }\n",
    "}"
   ]
  },
  {
   "cell_type": "code",
   "execution_count": null,
   "id": "f9571932-fb69-469c-877c-eaa617ea4e6c",
   "metadata": {},
   "outputs": [],
   "source": [
    "def regroup_with_scrutiny(gdf):\n",
    "    \"\"\"Deals with some perks that seem too specific for generalization.\n",
    "    Handles instances in which TIPOLOGIA0 may be more accurately placed\n",
    "    when analyzed together with TIPOLOGIA_\n",
    "    \n",
    "    NOTE: function's name is an exaggeration\n",
    "    \"\"\"\n",
    "    # 'ocupação diversificada'\n",
    "    # ----------------------\n",
    "    mask_a = gdf.category=='ocupação diversificada'\n",
    "    mask_b = gdf['type'].isin(['RESIDENCIAL', 'RESIDENCIAL+LOTE VAGO'])\n",
    "    mask_c = gdf['type'].isin(['MISTO', 'MISTO + LOTE VAGO'])\n",
    "    \n",
    "    full_mask = mask_a & mask_b\n",
    "    gdf.loc[full_mask,'category'] = 'residential'\n",
    "    \n",
    "    full_mask = mask_a & mask_c\n",
    "    gdf.loc[full_mask,'category'] = 'mixed'\n",
    "    \n",
    "    full_mask = mask_a & (~mask_b) & (~mask_c)\n",
    "    gdf.loc[full_mask,'category'] = 'retail/services'\n",
    "    \n",
    "    # 'vaga residencial ou comercial'\n",
    "    # -----------------------------\n",
    "    mask_d = gdf.category=='vaga residencial ou comercial'\n",
    "    mask_e = gdf['type']=='NAO RESIDENCIAL'\n",
    "    mask_f = gdf['type']=='RESIDENCIAL'\n",
    "    \n",
    "    full_mask = mask_d & mask_e\n",
    "    gdf.loc[full_mask,'category'] = 'retail/services'\n",
    "    \n",
    "    full_mask = mask_d & mask_f\n",
    "    gdf.loc[full_mask,'category'] = 'residential'\n",
    "    \n",
    "    full_mask = mask_d & (~mask_e) & (~mask_f)\n",
    "    gdf.loc[full_mask,'category'] = 'mixed'\n",
    "    \n",
    "    # 'galpao'\n",
    "    # ------\n",
    "    # TO DO: assert if this decision is appropriate\n",
    "    mask_g = gdf.category=='galpao'\n",
    "    \n",
    "    full_mask = mask_g & mask_c\n",
    "    gdf.loc[full_mask,'category'] = 'mixed'\n",
    "    \n",
    "    full_mask = mask_g & (~mask_c)\n",
    "    gdf.loc[full_mask,'category'] = 'retail/services'\n",
    "    \n",
    "    # 'Final adjustment'\n",
    "    # ----------------\n",
    "    cat_list = ['residential', 'retail/services', 'mixed', 'galpao']\n",
    "    gdf.loc[gdf.category.isin(cat_list), 'type'] = 'active'\n",
    "    \n",
    "\n",
    "def regroup_land_uses(gdf, dictionary):\n",
    "    for key in dictionary.keys():\n",
    "        for umbrella_category,old_categories in dictionary[key].items():\n",
    "            mask = gdf.category.isin(old_categories)\n",
    "            gdf.loc[mask, 'type'] = key\n",
    "            \n",
    "            replacement_dict = {\n",
    "                cat: umbrella_category\n",
    "                for cat\n",
    "                in old_categories\n",
    "                                }\n",
    "            view = gdf.loc[mask,'category']\n",
    "            gdf.update(view.replace(replacement_dict))"
   ]
  },
  {
   "cell_type": "code",
   "execution_count": null,
   "id": "5de64eb9-7953-4456-9ba9-fb8ef67957d4",
   "metadata": {},
   "outputs": [],
   "source": [
    "regroup_with_scrutiny(lu_2017)\n",
    "\n",
    "\n",
    "regroup_land_uses(lu_2017,\n",
    "                  regrouping_2017,)"
   ]
  },
  {
   "cell_type": "markdown",
   "id": "0ffdaf4a-0710-40a8-88e1-4072291c9f3f",
   "metadata": {},
   "source": [
    "### Land Use Inputation and Category Revision"
   ]
  },
  {
   "cell_type": "markdown",
   "id": "cd49dfdd-4816-425d-9c09-e70bd5c742be",
   "metadata": {},
   "source": [
    "This section concerns some more specific land use (re)classifications that have to be made manually. After messing around with some different possible approaches, it seemed better to first input the current classification into the hexagonal grid first, and do the corrections afterwards. The steps below also handle all instances of parcels with little to no land use information. That is, parcels labelled as ***'sem informacao'*** (no information) are assigned a category.\n",
    "- First, whatever hexagons intersect with the road network will be labeled as infrastructure and are hence fixed as a static land use. The superimpositon of the land use data shows that the empty spaces between parcels remain mostly constant thrpughout the years, which implies that no major changes happened to the street grid layout. Hence, I'll use the current street topology as retrieved from OpenStreetMaps by osmnx.\n",
    "- Second, some major local landmarks are enforced. That is done especially because of the 2011 data, which missclassified some old and established local landmarks or infrastructures. For example, the local airport was marked as a warehouse, and both some parks and the landfill were marked as vacant. Another example is that of Lake Pampulha, which is understandably not represented by polygons of any kind - somewhere that is not land could not be represented by a land use polygon after all. Nevertheless, I chose to retain that region in the hexgonal grid of the municipality, which are then maked as amenity.\n",
    "- Third, there are parcels that mostly coincide with the footprints of the subnormal agglomerates in the municipality - see note below. Those are to be labeled subnormal, but probably will be joined together with residential in a later step of the analysis.\n",
    "- Fourth, parcels are evaluated against the 2018 urban footprint: those that are not completely contained within the footprint are considered vacant land. The year 2018 was chosen because its the closest year available that was found at the time of writing. ***It should be noted that several vacant plots are preservation areas and cannot be occupied during simulation. Such constrainsts are to be enforced when zoning restrictions are imposed in the model.***\n",
    "- Finally, whatever places are still marked as unknown are assumed, for the time being, as reflecting urban functional voids. If even BH city hall could not gather proper information on them, and, at the same time, if the above procedures failed to provide a resonable assumption of their intended use, there's not much left to do.\n"
   ]
  },
  {
   "cell_type": "markdown",
   "id": "af099e05-7f4f-400f-aaaa-1e1e271a6999",
   "metadata": {},
   "source": [
    "***Note:***\n",
    "\n",
    "A subnormal agglomerate is a form of irregular occupation of land – either public or private - owned by a third party, for housing purposes in urban areas, usually characterized by an irregular urban pattern, with scarce essential public services and located in areas not proper or allowed for housing use.  In Brazil, those irregular settlements are known by the names of favelas, invaded areas, slums in deep valleys, slums in low-lands, communities, villages, slums in backwaters, irregular lots, shacks and stilt houses"
   ]
  },
  {
   "cell_type": "markdown",
   "id": "f7adb892-3da9-4c5f-8ede-32b2b2444651",
   "metadata": {},
   "source": [
    "#### Auxilliary Datasets"
   ]
  },
  {
   "cell_type": "code",
   "execution_count": null,
   "id": "c365a4f3-32fb-4d5c-98f6-cb06d6b6f87c",
   "metadata": {},
   "outputs": [],
   "source": [
    "path_to_footprint = (db_folder\n",
    "                     / 'beaga'\n",
    "                     / 'footprints'\n",
    "                     / '2018_footprint.zip')\n",
    "footprint_2018 = _get_geodata(path_to_footprint)"
   ]
  },
  {
   "cell_type": "code",
   "execution_count": null,
   "id": "a55a4b29-889b-4388-93e6-9a8383b64ec5",
   "metadata": {},
   "outputs": [],
   "source": [
    "# BH city hall uses the term favelas for the subnormal agglomerates\n",
    "path_to_favelas = (db_folder\n",
    "                   / 'beaga'\n",
    "                   / 'footprints'\n",
    "                   / 'vila_favela.zip')\n",
    "favelas = _get_geodata(path_to_favelas)"
   ]
  },
  {
   "cell_type": "markdown",
   "id": "1cce252e-2308-4cf7-946e-86a947e8fab2",
   "metadata": {},
   "source": [
    "footprint and favela data:\n",
    "   - BH Maps: http://bhmap.pbh.gov.br\n",
    "   \n",
    "It should be noted that the temporality of the favela geodata is not clear. The metadata (https://bit.ly/BH_favela_metadata) suggests that the file is updated whenever the public administration deems necessary, which implies that the location of the subnormal communities should be up to date with the time with which this script was written (2021). Thus, on first thought, it follows that the data should reflect, with reasonable accuracy, the location of such communities for the 2017, 2018 and 2020 maps, as there's no evidence to suppose that a major favela growth happened in the last couple of years.\n",
    "\n",
    "A later analysis reinforced this reasoning because the footprint of the favelas remarkably fits some data voids in the land use data for 2011 as well. Notheless, the data will be joined with IBGE's data as it fills some minor gaps present in BH's data."
   ]
  },
  {
   "cell_type": "code",
   "execution_count": null,
   "id": "326f4621-93b4-4340-8f5a-0add6fcfc20b",
   "metadata": {
    "tags": []
   },
   "outputs": [],
   "source": [
    "path_to_subnormal = (db_folder\n",
    "                     / 'census'\n",
    "                     / '2010_subnormal_agglomerates'\n",
    "                     / 'SetoresXAreaDivAGSN_shp.zip') \n",
    "subnormal_agg = _get_geodata(path_to_subnormal)\n",
    "\n",
    "# IBGE data provides all census tracts of Brazil and\n",
    "# specifies which are subnormal, so that we need to\n",
    "# slice the dataset.\n",
    "#\n",
    "# First we select only census tracts of BH city. To do\n",
    "# that end we take advantage of the fact the tract IDs \n",
    "# contain the city ID they belong to.\n",
    "#\n",
    "# Second, we use the appropriate column to select the\n",
    "# subnormal places.\n",
    "subnormal_agg = subnormal_agg.loc[subnormal_agg\n",
    "                                  .CD_GEOCODI\n",
    "                                  .str\n",
    "                                  .match('3106200')] # ibgeID for BH\n",
    "\n",
    "subnormal_agg = subnormal_agg.loc[subnormal_agg\n",
    "                                  .Subnormal == 'Sim']\n",
    "\n",
    "# IBGE data comes in a geographic coordinate system\n",
    "# that needd to be projected to the same CRS as\n",
    "# Belo Horizonte's data\n",
    "subnormal_agg.to_crs(epsg=31983, inplace=True)"
   ]
  },
  {
   "cell_type": "markdown",
   "id": "a837203a-0b9f-48cb-93f9-9d9321e168b5",
   "metadata": {},
   "source": [
    "data on subnormal agglomerates:\n",
    "\n",
    "- IBGE: ftp://geoftp.ibge.gov.br/recortes_para_fins_estatisticos/malha_de_aglomerados_subnormais/censo_2010/areas_de_divulgacao_da_amostra/"
   ]
  },
  {
   "cell_type": "code",
   "execution_count": null,
   "id": "377e17c9-2a8e-479c-a558-6b33b7930314",
   "metadata": {},
   "outputs": [],
   "source": [
    "def _get_slums_footprint(favelas, subnormal_agg):\n",
    "    slums = gpd.overlay(favelas,\n",
    "                        subnormal_agg,\n",
    "                        how='union',)\n",
    "    \n",
    "    \n",
    "    return (slums[['geometry']]\n",
    "                 .explode()\n",
    "                 .reset_index(drop=True))\n",
    "\n",
    "\n",
    "slums = _get_slums_footprint(favelas, subnormal_agg)"
   ]
  },
  {
   "cell_type": "markdown",
   "id": "0a7fd616-2188-4bb6-b32d-d6f600038d12",
   "metadata": {},
   "source": [
    "#### Reclassifying"
   ]
  },
  {
   "cell_type": "code",
   "execution_count": null,
   "id": "d53d5a98-77fb-4869-91d8-f540e9b08681",
   "metadata": {},
   "outputs": [],
   "source": [
    "def _get_roads():\n",
    "    bh_roads = ox.graph_from_place('Belo Horizonte, MG, Brazil')\n",
    "    bh_roads = ox.project_graph(bh_roads,\n",
    "                                to_crs='EPSG:31983')\n",
    "    \n",
    "    # This gets streets as a GeoDataFrame,\n",
    "    # instead of a networkx graph object\n",
    "    _, bh_roads = ox.graph_to_gdfs(bh_roads)\n",
    "    \n",
    "    \n",
    "    return bh_roads\n",
    "\n",
    "\n",
    "def _find_hexes_that_are_streets(hexes):\n",
    "    roads = _get_roads()\n",
    "    \n",
    "    gdf = gpd.sjoin(hexes,\n",
    "                    roads,\n",
    "                    how='inner',\n",
    "                    op='intersects',)\n",
    "    \n",
    "    \n",
    "    return gdf.index\n",
    "    \n",
    "\n",
    "\n",
    "def _reclassify_hexes_on_roads(hexes):\n",
    "    hex_labels = _find_hexes_that_are_streets(hexes)\n",
    "    hexes.loc[hex_labels, 'type'] = 'static'\n",
    "    hexes.loc[hex_labels, 'category'] = 'infrastructure'\n",
    "    "
   ]
  },
  {
   "cell_type": "code",
   "execution_count": null,
   "id": "5ee3b55e-6e6c-4863-bfac-0d497b698195",
   "metadata": {},
   "outputs": [],
   "source": [
    "def _get_greenery():\n",
    "    osm_tags = {'name': 'Parque das Mangabeiras',\n",
    "\n",
    "                'leisure': [\n",
    "                           'park',\n",
    "                           'nature_reserve',\n",
    "                           ],\n",
    "\n",
    "                'boundary': [\n",
    "                            'national_park',\n",
    "                            'protected_area',\n",
    "                            ],\n",
    "                \n",
    "                'natural': [\n",
    "                           'wood', 'tree_row', 'tree','scrub',\n",
    "                           'heath', 'moor','grassland', 'fell',\n",
    "                           'bare_rock', 'scree', 'shingle', 'sand', 'mud',\n",
    "                           ]\n",
    "               }\n",
    "    \n",
    "    # osmnx code presents the deprecation explained in the link below.\n",
    "    # It should not impact performance in any way. I filtered it though\n",
    "    # merely because I find there are too many annoying warnings\n",
    "    with warnings.catch_warnings():\n",
    "        warnings.filterwarnings('ignore',\n",
    "                                category=DeprecationWarning)\n",
    "        greenery = ox.geometries_from_place('Belo Horizonte, MG, Brazil',\n",
    "                                            tags=osm_tags,)\n",
    "        \n",
    "    mask = greenery.type.isin(['Polygon', 'MultiPolygon'])\n",
    "    greenery = greenery.loc[mask]\n",
    "        \n",
    "    \n",
    "    return greenery.to_crs(epsg=31983)\n",
    "    \n",
    "\n",
    "def _get_amenities():    \n",
    "    osm_tags = {'tourism': 'zoo',\n",
    "                    \n",
    "                'name': 'Lagoa da Pampulha',\n",
    "\n",
    "                'leisure': [\n",
    "                           'stadium',\n",
    "                           'sports_centre',\n",
    "                           ],\n",
    "               }\n",
    "    \n",
    "    with warnings.catch_warnings():\n",
    "        warnings.filterwarnings('ignore',\n",
    "                                category=DeprecationWarning)\n",
    "        amen = ox.geometries_from_place('Belo Horizonte, MG, Brazil',\n",
    "                                        tags=osm_tags,)\n",
    "        \n",
    "    mask = amen.type.isin(['Polygon', 'MultiPolygon'])\n",
    "    amen = amen.loc[mask]\n",
    "    \n",
    "    \n",
    "    return amen.to_crs(epsg=31983)\n",
    "    \n",
    "    \n",
    "def _get_infrastructures():\n",
    "    osm_tags = {'name': [\n",
    "                        'Aeroporto',\n",
    "                        'ETE Onça',\n",
    "                        ],\n",
    "            \n",
    "                'landuse': 'landfill'}\n",
    "    \n",
    "    with warnings.catch_warnings():\n",
    "        warnings.filterwarnings('ignore',\n",
    "                                category=DeprecationWarning)\n",
    "        infra = ox.geometries_from_place('Belo Horizonte, MG, Brazil',\n",
    "                                         tags=osm_tags,)\n",
    "    \n",
    "    mask = infra.type.isin(['Polygon', 'MultiPolygon'])\n",
    "    infra = infra.loc[mask]\n",
    "    \n",
    "        \n",
    "    return infra.to_crs(epsg=31983)\n",
    "    \n",
    "\n",
    "def _classify_landmarks(hexes):\n",
    "    greenery = _get_greenery()       \n",
    "    amenities = _get_amenities()\n",
    "    infra = _get_infrastructures()\n",
    "\n",
    "    for each in [greenery, amenities, infra]:\n",
    "        gdf = gpd.sjoin(hexes,\n",
    "                        each,\n",
    "                        how='inner',\n",
    "                        op='intersects',)\n",
    "        idx = gdf.index\n",
    "\n",
    "        if each is greenery:\n",
    "            hexes.loc[idx, 'type'] = 'passive'\n",
    "            hexes.loc[idx, 'category'] = 'vacant'\n",
    "\n",
    "        elif each is amenities:\n",
    "            hexes.loc[idx, 'type'] = 'static'\n",
    "            hexes.loc[idx, 'category'] = 'amenities'\n",
    "\n",
    "        elif each is infra:\n",
    "            hexes.loc[idx, 'type'] = 'static'\n",
    "            hexes.loc[idx, 'category'] = 'infrastructure'\n",
    "            "
   ]
  },
  {
   "cell_type": "code",
   "execution_count": null,
   "id": "dd9d0a0f-b7ed-4f7c-9a5e-ff502979f24d",
   "metadata": {},
   "outputs": [],
   "source": [
    "def _find_subnormal(hexes, slums):\n",
    "    \"\"\"This finds the potentially subnormal land use cells, which\n",
    "    those that both the parcels intersect with the parcels in the land\n",
    "    use data, and the polygons that appear in 'slums' but do no t show\n",
    "    up in parcels.\n",
    "    \"\"\"\n",
    "    subnormal = gpd.sjoin(hexes,\n",
    "                          slums,\n",
    "                          how='inner',\n",
    "                          op='intersects',)\n",
    "    \n",
    "    \n",
    "    return subnormal.index\n",
    "\n",
    "\n",
    "def _reclassify_subnormal(hexes, slums):\n",
    "    subnormal_land = _find_subnormal(hexes, slums)\n",
    "    \n",
    "    # The main goal is to find where subnormal residences are, by\n",
    "    # recategorizing (a) residential uses, (b) vacant land or, mostly,\n",
    "    # (c) cells with otherwise no data on them. If the categories below\n",
    "    # are not fixed, I'd loose the (possible) richness in activity\n",
    "    # diversity within the slums.\n",
    "    consolidated_categories = ['retail/services', 'mixed',\n",
    "                               'industry', 'infrastructure',\n",
    "                               'amenities', 'public services',]\n",
    "    view = hexes.loc[~hexes\n",
    "                     .category\n",
    "                     .isin(consolidated_categories)]\n",
    "    \n",
    "    mask = view.index.isin(subnormal_land)\n",
    "    view.loc[mask, 'type'] = 'active'\n",
    "    view.loc[mask, 'category'] = 'subnormal'\n",
    "    hexes.update(view)\n",
    "    "
   ]
  },
  {
   "cell_type": "code",
   "execution_count": null,
   "id": "305fe10b-b797-4f95-8e51-40726beec893",
   "metadata": {},
   "outputs": [],
   "source": [
    "def _find_vacant(hexes, footprint):\n",
    "    # The following two lines are meant to preserve\n",
    "    # road locations. Whatever else is outside the\n",
    "    # urban footprint is presumed vacant.\n",
    "    consolidated = ['static']\n",
    "    view = hexes.loc[~hexes['type'].isin(consolidated)]\n",
    "    \n",
    "    inner_hexes = gpd.sjoin(view,\n",
    "                            footprint,\n",
    "                            how='inner',\n",
    "                            op='intersects',)\n",
    "    inner_hexes = inner_hexes.index\n",
    "    \n",
    "    vacant_land = view.loc[~view\n",
    "                           .index\n",
    "                           .isin(inner_hexes)]\n",
    "    \n",
    "    \n",
    "    return vacant_land.index\n",
    "\n",
    "\n",
    "def _reclassify_vacant(hexes, footprint):\n",
    "    vacant_land = _find_vacant(hexes, footprint)\n",
    "    hexes.loc[vacant_land, 'type'] = 'passive'\n",
    "    hexes.loc[vacant_land,'category'] = 'vacant'"
   ]
  },
  {
   "cell_type": "code",
   "execution_count": null,
   "id": "87fc0427-dc3c-4004-b90b-eddd0d35799b",
   "metadata": {},
   "outputs": [],
   "source": [
    "def _reclassify_leftovers(hexes):\n",
    "    \"\"\"Recategorizes whatever cell that has not been reclassified\n",
    "    so far by assuming it is vacant, an urban functional void,\n",
    "    so to speak.\n",
    "    \n",
    "    TO DO: Classify land uses based on the preponderant use\n",
    "    in the hexagons in the closer neighborhood (maybe 50m radius)\n",
    "    \"\"\"\n",
    "    # Again, Whatever hexagon whose type is not within the\n",
    "    # list below did not pass by any classification\n",
    "    # scheme so far\n",
    "    consolidated = ['active', 'passive', 'static']\n",
    "    mask = ~hexes['type'].isin(consolidated)\n",
    "    hexes.loc[mask, 'type'] = 'active'\n",
    "    hexes.loc[mask, 'category'] = 'residential'"
   ]
  },
  {
   "cell_type": "code",
   "execution_count": null,
   "id": "dda2d575-c082-4c4d-88bc-72181934944b",
   "metadata": {},
   "outputs": [],
   "source": [
    "def reclassify_land_uses(hexes, footprint, slums):\n",
    "    _reclassify_hexes_on_roads(hexes)\n",
    "    \n",
    "    _classify_landmarks(hexes)\n",
    "    \n",
    "    _reclassify_subnormal(hexes,\n",
    "                          slums)\n",
    "    \n",
    "    _reclassify_vacant(hexes,\n",
    "                       footprint)\n",
    "    \n",
    "    _reclassify_leftovers(hexes)\n",
    "    "
   ]
  },
  {
   "cell_type": "markdown",
   "id": "77921274-f42b-4265-a43d-00af0e275a59",
   "metadata": {},
   "source": [
    "https://numpy.org/devdocs/release/1.20.0-notes.html#deprecations"
   ]
  },
  {
   "cell_type": "code",
   "execution_count": null,
   "id": "3c9f9665-b633-4691-be65-e81ddb560960",
   "metadata": {},
   "outputs": [],
   "source": [
    "reclassify_land_uses(hex_with_uses,\n",
    "                     footprint_2018,\n",
    "                     slums,)"
   ]
  },
  {
   "cell_type": "code",
   "execution_count": null,
   "id": "02a68c6a-ac89-45be-9856-9efe95f7268f",
   "metadata": {},
   "outputs": [],
   "source": [
    "number_of_parcels = len(hex_with_uses)\n",
    "hex_with_uses['type'].value_counts() / number_of_parcels * 100"
   ]
  },
  {
   "cell_type": "code",
   "execution_count": null,
   "id": "561c4962-73b3-47e9-a6db-df72589e42c3",
   "metadata": {},
   "outputs": [],
   "source": [
    "hex_with_uses.category.value_counts() / number_of_parcels * 100"
   ]
  },
  {
   "cell_type": "code",
   "execution_count": null,
   "id": "61911fed-808f-48a9-a8da-8a4ead63f4ac",
   "metadata": {},
   "outputs": [],
   "source": [
    "def plot_land_uses(parcels, attribute, palette, ax):\n",
    "    legend_elements = []\n",
    "    for cat, group in parcels.groupby(attribute):\n",
    "        color = palette[cat]\n",
    "\n",
    "        group.plot(ax=ax,\n",
    "                   color=color,)\n",
    "\n",
    "        patch_element = Patch(facecolor=color,\n",
    "                              edgecolor=color,\n",
    "                              label=cat,)\n",
    "\n",
    "        legend_elements.append(patch_element)\n",
    "\n",
    "    ax.legend(handles=legend_elements,\n",
    "              bbox_to_anchor=(1, 0.01),\n",
    "              loc='lower right',\n",
    "              prop={'size': 3},)\n",
    "    \n",
    "    ax.axis('off')\n",
    "    \n",
    "    # Web map tiles are typically provided in Web Mercator\n",
    "    # (EPSG 3857) and that's contextily default. Hence, CRS\n",
    "    # needs to be adjusted to match geodata.\n",
    "    cx.add_basemap(ax,\n",
    "                   crs=parcels.crs.to_string(),\n",
    "                   source=cx.providers.CartoDB.PositronNoLabels,\n",
    "                   attribution_size=2,)\n",
    "    "
   ]
  },
  {
   "cell_type": "code",
   "execution_count": null,
   "id": "9c9c56ae-6770-4215-9536-61078394661f",
   "metadata": {},
   "outputs": [],
   "source": [
    "fig,axes = plt.subplots(ncols=2, dpi=300, figsize=(5, 8))\n",
    "ax1,ax2 = axes\n",
    "\n",
    "\n",
    "type_palette = {'active': '#C97064',\n",
    "                'static': '#39487F',\n",
    "                'passive': '#527048',}\n",
    "plot_land_uses(hex_with_uses,\n",
    "               'type',\n",
    "               type_palette,\n",
    "               ax1,)\n",
    "\n",
    "\n",
    "category_palette = {'residential': '#FECEF1',\n",
    "                    'subnormal': '#B05F66',\n",
    "                    'retail/services': '#3B727C',\n",
    "                    'mixed': '#60E1E0',\n",
    "                    'vacant': '#82A775',\n",
    "                    'industry': '#291A10',\n",
    "                    'infrastructure': '#FFFBDB',\n",
    "                    'public services': '#A85118',\n",
    "                    'amenities': '#7D573C',}\n",
    "\n",
    "mask = hex\n",
    "plot_land_uses(hex_with_uses,\n",
    "               'category',\n",
    "               category_palette,\n",
    "               ax2,)\n",
    "\n",
    "plt.savefig(out_folder / 'land_use_map_2017.png',\n",
    "            dpi=300,)\n",
    "plt.show()"
   ]
  },
  {
   "cell_type": "code",
   "execution_count": null,
   "id": "85a343e3-de4d-4bd8-9d61-0dcd5ce8ddbd",
   "metadata": {},
   "outputs": [],
   "source": [
    "path_to_hexes = (out_folder\n",
    "                 / f'BH_hex_{hexagon_size}_with_land_uses.gpkg')\n",
    "\n",
    "hex_with_uses.to_file(path_to_hexes,\n",
    "                      layer='2017',\n",
    "                      driver='GPKG',)"
   ]
  },
  {
   "cell_type": "markdown",
   "id": "ea57e2df-e467-4fc4-bd79-f63900ef7a61",
   "metadata": {},
   "source": [
    "# Land Use Maps for 2011"
   ]
  },
  {
   "cell_type": "markdown",
   "id": "4ebb0987-d699-47e2-8aaa-abba892aa584",
   "metadata": {},
   "source": [
    "data dource: provided by Prodabel directly"
   ]
  },
  {
   "cell_type": "markdown",
   "id": "254a5343-6c1e-4215-80ff-b0b68f445c62",
   "metadata": {},
   "source": [
    "These have been made with a methodology similar to that of 2017 data"
   ]
  },
  {
   "cell_type": "code",
   "execution_count": 54,
   "id": "286223cd-2569-4495-acb5-f6f40c6c7a84",
   "metadata": {},
   "outputs": [],
   "source": [
    "lu_2011 = get_land_use_data(2011)\n",
    "\n",
    "lu_2011.rename(columns={'sigla_uso': 'type',\n",
    "                          'descr_ocup': 'category'},\n",
    "                 inplace=True,)\n",
    "\n",
    "lu_2011 = lu_2011.reindex(columns=['type',\n",
    "                                       'category',\n",
    "                                       'geometry'])\n"
   ]
  },
  {
   "cell_type": "code",
   "execution_count": 55,
   "id": "681cb260-5b1b-4f0d-8c19-adc3c3f0b909",
   "metadata": {},
   "outputs": [
    {
     "data": {
      "text/plain": [
       "RES     61.322360\n",
       "NUL     12.052835\n",
       "NRES     6.875683\n",
       "IND      6.547383\n",
       "LV       6.496853\n",
       "MIS      4.821371\n",
       "IDT      1.883514\n",
       "Name: type, dtype: float64"
      ]
     },
     "execution_count": 55,
     "metadata": {},
     "output_type": "execute_result"
    }
   ],
   "source": [
    "number_of_parcels = len(lu_2011)\n",
    "\n",
    "lu_2011['type'].value_counts() / number_of_parcels * 100"
   ]
  },
  {
   "cell_type": "code",
   "execution_count": 56,
   "id": "d57879e2-d506-44aa-b945-ead39d5bf6b3",
   "metadata": {},
   "outputs": [
    {
     "data": {
      "text/plain": [
       "casa unifamiliar                                 55.985343\n",
       "nulo                                             12.052835\n",
       "lote vago                                         6.496853\n",
       "edificações em LV                                 5.546526\n",
       "edifício                                          4.723856\n",
       "casa / sobrado                                    4.241896\n",
       "loja ou conjunto de lojas                         3.000502\n",
       "galpão                                            2.841228\n",
       "indeterminado                                     1.883514\n",
       "ZEIS-1                                            1.000857\n",
       "edifício residencial e comércio e/ou serviços     0.579475\n",
       "conjunto multifamiliar vertical                   0.481073\n",
       "edifício de uso comercial e/ou de serviços        0.450932\n",
       "instituição de ensino                             0.291363\n",
       "conjunto multifamiliar horizontal                 0.132088\n",
       "loja em edifício / galeria                        0.062646\n",
       "instituição religiosa                             0.053781\n",
       "galeria / mini-shopping de bairro                 0.042256\n",
       "indústria                                         0.034573\n",
       "equipamento de saúde                              0.031323\n",
       "clubes esportivos e sociais                       0.027481\n",
       "parques                                           0.017434\n",
       "shopping                                          0.012411\n",
       "apart hotel                                       0.003841\n",
       "cemitério                                         0.002955\n",
       "estação de transporte coletivo                    0.002955\n",
       "Name: category, dtype: float64"
      ]
     },
     "execution_count": 56,
     "metadata": {},
     "output_type": "execute_result"
    }
   ],
   "source": [
    "lu_2011.category.value_counts() / number_of_parcels * 100"
   ]
  },
  {
   "cell_type": "markdown",
   "id": "dc2ca8e2-4ad4-4dbd-b4ad-c7524f153df4",
   "metadata": {},
   "source": [
    "Again, it is self-evident where to put some of the land use categories. Contrarily, the folowwing require a somewhat in-depth analysis:\n",
    "\n",
    "- ***'nulo'*** seem to be a category akin to 2017's ***'sem informacao'***: they are close in number of parcels and are not given any specific category because there's no detailed information about them in the treasury's registry. Hence, 'nulo' is going to be classified in the same way as 'sem informacao' was previously. The difference being that I'll now use the 2010 urban footrpint. (TO DO: is it necessary to elaborate on the different methodologies for footprint creation?)\n",
    "\n",
    "- ***edificações em LV*** are land parcels that do not yet have a consolidated land use class because that only happens when the real estate receives a certificate of occupancy. These have been assumed as residential The rationale here being the same as the one used for ***'edificacao sem tipologia especificada'***, which is present in the 2017 data.\n",
    "\n",
    "- Also obviuosly uncertain is the category ***indeterminado***. These ha been assumed as vacant. Firstly because if a different category was created, which setes undetermined apart from ***edificações em LV***, it is arguable as to whether the undetermined parcels should represent residential as well. Secondly, some trial and error seemed to provide better results if these are considered vacant.\n",
    "\n",
    "- Similar to the approach with 2017 data, ***galpao*** is placed under retail/services.\n",
    "\n",
    "- ***ZEIS-1*** are those parcels that explicitly belong to subnormal agglomerates\n",
    "\n",
    "This time the function *_regroup_with_scrutiny()* is useless because type attribute provides no useful information that enables a more precise category disaggregation."
   ]
  },
  {
   "cell_type": "code",
   "execution_count": null,
   "id": "a39ac7ac-534a-4752-9344-23e2354c5d0a",
   "metadata": {},
   "outputs": [],
   "source": [
    "regrouping_2011 = {\n",
    "    'active': {\n",
    "        'residential': ['casa unifamiliar',\n",
    "                        'edificações em LV', \n",
    "                        'edifício',\n",
    "                        'conjunto multifamiliar vertical',\n",
    "                        'conjunto multifamiliar horizontal',],\n",
    "        \n",
    "        'subnormal': ['ZEIS-1',],\n",
    "        \n",
    "        'retail/services': ['loja ou conjunto de lojas',\n",
    "                            'galpão',\n",
    "                            'edifício de uso comercial e/ou de serviços',\n",
    "                            'loja em edifício / galeria',\n",
    "                            'galeria / mini-shopping de bairro',\n",
    "                            'shopping',\n",
    "                            'apart hotel',],\n",
    "        # TO DO: settle approach towards mixed uses\n",
    "        'mixed': ['casa / sobrado',\n",
    "                  'edifício residencial e comércio e/ou serviços',]\n",
    "                },\n",
    "\n",
    "     'passive': { \n",
    "         'vacant': ['lote vago',\n",
    "                    'indeterminado',]\n",
    "                 },\n",
    "\n",
    "     'static': {\n",
    "         'industry': ['indústria',],\n",
    "         \n",
    "         'public services': ['instituição de ensino',\n",
    "                             'equipamento de saúde',],\n",
    "        \n",
    "         'infrastructure' : ['estação de transporte coletivo'],\n",
    "        \n",
    "         'amenities' : ['instituição religiosa',\n",
    "                        'clubes esportivos e sociais',\n",
    "                        'parques',\n",
    "                        'cemitério',],\n",
    "               }\n",
    "}"
   ]
  },
  {
   "cell_type": "code",
   "execution_count": null,
   "id": "aabe198f-4930-4136-be33-3fcedddba8bf",
   "metadata": {},
   "outputs": [],
   "source": [
    "regroup_land_uses(lu_2011,\n",
    "                  regrouping_2011,)"
   ]
  },
  {
   "cell_type": "code",
   "execution_count": null,
   "id": "499b3e7d-416e-48b3-9c23-e79f9fe1e856",
   "metadata": {},
   "outputs": [],
   "source": [
    "# 2010 data that I found is for the whole metropolitan region\n",
    "path_to_footprint = (db_folder\n",
    "                     / 'beaga'\n",
    "                     / 'footprints'\n",
    "                     / '2010_footprint.zip')\n",
    "footprint_2010 = _get_geodata(path_to_footprint)\n",
    "\n",
    "bh_contours = read_municipality(int(ibgeID))\n",
    "bh_contours.to_crs(epsg=31983, inplace=True)\n",
    "\n",
    "footprint_2010 = gpd.clip(footprint_2010,\n",
    "                          bh_contours,) # Defined in section 2.3.2"
   ]
  },
  {
   "cell_type": "markdown",
   "id": "373e957e-4ee3-499b-950d-040823eac1b1",
   "metadata": {},
   "source": [
    "footprint source: http://www.rmbh.org.br/central-cartog.php"
   ]
  },
  {
   "cell_type": "code",
   "execution_count": null,
   "id": "b7162268-d4e2-4b05-b2f9-0ba336c394b7",
   "metadata": {},
   "outputs": [],
   "source": [
    "# It seems that land use data for 2011 has some duplicated\n",
    "# or overlapping polygons. This causes for the same hexagon\n",
    "# to match different geometries, which ultimately results in\n",
    "# duplicated instances in hex_with_uses. This issue should be\n",
    "# handled eventually, but given the small number of issues,\n",
    "# duplicates will be simply dropped, for now.\n",
    "hex_with_uses = hex_with_uses.loc[~hex_with_uses\n",
    "                                  .index\n",
    "                                  .duplicated()]\n",
    "\n",
    "reclassify_land_uses(hex_with_uses,\n",
    "                     footprint_2010,\n",
    "                     slums,)"
   ]
  },
  {
   "cell_type": "code",
   "execution_count": null,
   "id": "515ba15e-b3f4-4911-b1e7-d2797b881eb1",
   "metadata": {},
   "outputs": [],
   "source": [
    "number_of_parcels = len(hex_with_uses)\n",
    "hex_with_uses['type'].value_counts() / number_of_parcels * 100"
   ]
  },
  {
   "cell_type": "code",
   "execution_count": null,
   "id": "b5b09c70-b36b-4c84-ac86-e0203f693514",
   "metadata": {},
   "outputs": [],
   "source": [
    "hex_with_uses.category.value_counts() / number_of_parcels * 100"
   ]
  },
  {
   "cell_type": "code",
   "execution_count": null,
   "id": "8cf86677-ea8b-4a35-84a1-a1748b6a06c6",
   "metadata": {},
   "outputs": [],
   "source": [
    "fig,axes = plt.subplots(ncols=2, dpi=300, figsize=(5, 8))\n",
    "ax1,ax2 = axes\n",
    "\n",
    "plot_land_uses(hex_with_uses,\n",
    "               'type',\n",
    "               type_palette,\n",
    "               ax1,)\n",
    "\n",
    "plot_land_uses(hex_with_uses,\n",
    "               'category',\n",
    "               category_palette,\n",
    "               ax2,)\n",
    "\n",
    "plt.savefig(out_folder / 'land_use_map_2011.png',\n",
    "            dpi=300,)\n",
    "plt.show()"
   ]
  },
  {
   "cell_type": "code",
   "execution_count": null,
   "id": "d356c2cc-d5b5-442b-b794-1b1b81ecc14e",
   "metadata": {},
   "outputs": [],
   "source": [
    "hex_with_uses.to_file(path_to_hexes,\n",
    "                      layer='2011',\n",
    "                      driver='GPKG',)"
   ]
  },
  {
   "cell_type": "markdown",
   "id": "1e21c66a-d149-4aa7-be59-116141a1aaac",
   "metadata": {},
   "source": [
    "# Land Use Maps for 2018"
   ]
  },
  {
   "cell_type": "markdown",
   "id": "3298350a-29ec-43ff-b928-bc926c8e2af7",
   "metadata": {},
   "source": [
    "data dource: provided by Prodabel directly"
   ]
  },
  {
   "cell_type": "code",
   "execution_count": 53,
   "id": "51047ccf-e685-4f4d-a57e-eed8ae6eb6e0",
   "metadata": {},
   "outputs": [],
   "source": [
    "land_uses = get_land_use_data(2018)\n",
    "\n",
    "\n",
    "land_uses = land_uses.reindex(columns=['D_USO_REV', # Revised land use (broad) categories\n",
    "                                       'USO_AT_REV',  # Revised spatial transcription of land use\n",
    "                                       'ATIV', # Activity list per parcel \n",
    "                                       'geometry'])\n",
    "\n",
    "land_uses.rename(columns={'D_USO_REV': 'type',\n",
    "                          'USO_AT_REV': 'category',\n",
    "                          'ATIV': 'activities'},\n",
    "                 inplace=True,)"
   ]
  },
  {
   "cell_type": "code",
   "execution_count": 59,
   "id": "ab76d4b8-21f2-4675-b1ec-de27f7ca5ecb",
   "metadata": {},
   "outputs": [
    {
     "data": {
      "text/plain": [
       "RESIDENCIAL        217909\n",
       "SEM INFORMACAO      55820\n",
       "MISTO               28251\n",
       "LOTE VAGO           27412\n",
       "NAO RESIDENCIAL     27387\n",
       "PARQUE                397\n",
       "Name: type, dtype: int64"
      ]
     },
     "execution_count": 59,
     "metadata": {},
     "output_type": "execute_result"
    }
   ],
   "source": [
    "land_uses['type'].value_counts()"
   ]
  },
  {
   "cell_type": "code",
   "execution_count": null,
   "id": "9643b700-1315-42d4-b2f2-0adef1264671",
   "metadata": {},
   "outputs": [],
   "source": [
    "regrouping_2018 = {\n",
    "    'active': {\n",
    "        'residential': ['CASA/SOBRADO RESIDENCIAL',\n",
    "                        'EDIFICIO RESIDENCIAL',],\n",
    "        \n",
    "        'retail/services': ['EDIFICIO NAO RESIDENCIAL',\n",
    "                            'CASA DE SHOW',\n",
    "                            'INSTITUICAO FINANCEIRA',\n",
    "                            'HOTEIS, MOTEIS E SIMILARES',\n",
    "                            'ESTACIONAMENTO',\n",
    "                            'CASA/SOBRADO NAO RESIDENCIAL',\n",
    "                            'SUPERMERCADO/HIPERMERCADO',\n",
    "                            'SHOPPING CENTER',\n",
    "                            'GALPAO COMERCIAL',],\n",
    "        # TO DO: settle approach towards mixed uses\n",
    "        'mixed': ['CASA/SOBRADO DE USO MISTO',\n",
    "                  'EDIFICIO DE USO MISTO',],\n",
    "                },\n",
    "\n",
    "     'passive': { \n",
    "         'vacant': ['LOTE VAGO',]\n",
    "                 },\n",
    "\n",
    "     'static': {\n",
    "         'industry': ['GALPAO INDUSTRIAL',],\n",
    "         \n",
    "         'public services': ['INSTITUICAO DE ENSINO',\n",
    "                             'HOSPITAL/SERVICO DE SAUDE',\n",
    "                             'SERVICOS PUBLICOS',],\n",
    "         \n",
    "         'infrastructure' : ['TERMINAL RODOVIARIO/FERROVIARIO',\n",
    "                             'AEROPORTO',\n",
    "                             'CEMITERIO',\n",
    "                             'ATERRO SANITARIO',],\n",
    "         \n",
    "         'amenities' : ['CLUBE ESPORTIVO/SOCIAL',\n",
    "                        'CENTRO DE CONVENCOES/EXPOSICOES',\n",
    "                        'INSTITUICAO CULTURAL',\n",
    "                        'ESTADIO/GINASIO',\n",
    "                        'INSTITUICAO RELIGIOSA',\n",
    "                        'PARQUE',],\n",
    "               }\n",
    "}"
   ]
  },
  {
   "cell_type": "code",
   "execution_count": null,
   "id": "0c9f336e-afcb-4926-aad3-50633c54bbdc",
   "metadata": {},
   "outputs": [],
   "source": [
    "def regroup_with_scrutiny(gdf):\n",
    "    \"\"\"Deals with some perks that seem too specific for generalization.\n",
    "    Handles instances in which TIPOLOGIA0 may be more accurately placed\n",
    "    when analyzed together with TIPOLOGIA_\n",
    "    \n",
    "    NOTE: function's name is an exaggeration\n",
    "    \"\"\"\n",
    "    # 'SEM INFORMACAO'\n",
    "    # ----------------------\n",
    "    mask_a = (\n",
    "        (gdf.category=='SEM INFORMACAO') & (gdf['type']=='RESIDENCIAL'))\n",
    "    \n",
    "    mask_b = (\n",
    "        (gdf.category=='SEM INFORMACAO') & (gdf['type']=='NAO RESIDENCIAL'))\n",
    "    \n",
    "    gdf.loc[mask_a,'category'] = 'residential'\n",
    "        \n",
    "    gdf.loc[mask_b,'category'] = 'retail/services'\n",
    "    \n",
    "    \n",
    "    # Final adjustments\n",
    "    # ----------------\n",
    "    cat_list = ['residential', 'retail/services']\n",
    "    gdf.loc[gdf.category.isin(cat_list), 'type'] = 'active'"
   ]
  },
  {
   "cell_type": "code",
   "execution_count": null,
   "id": "841ec7a1-8dbe-4c5c-b864-3171a775101c",
   "metadata": {},
   "outputs": [],
   "source": [
    "regroup_with_scrutiny(land_uses)"
   ]
  },
  {
   "cell_type": "code",
   "execution_count": null,
   "id": "7e55e8bb-d660-4665-bdf4-a8425d9ac622",
   "metadata": {},
   "outputs": [],
   "source": [
    "regroup_land_uses(land_uses,\n",
    "                  regrouping_2018,)"
   ]
  },
  {
   "cell_type": "code",
   "execution_count": null,
   "id": "c3f0039b-373a-443d-9424-907c854ffefe",
   "metadata": {},
   "outputs": [],
   "source": [
    "hex_with_uses = input_uses_into_hex(land_uses,\n",
    "                                    hexagons,)\n",
    "\n",
    "reclassify_land_uses(hex_with_uses,\n",
    "                     footprint_2018,\n",
    "                     slums,)"
   ]
  },
  {
   "cell_type": "code",
   "execution_count": null,
   "id": "f65966f2-6df4-4fe1-8eb7-0ac2a74c2d99",
   "metadata": {},
   "outputs": [],
   "source": []
  },
  {
   "cell_type": "code",
   "execution_count": null,
   "id": "400731a9-9918-443b-9d82-9bcebb64d220",
   "metadata": {},
   "outputs": [],
   "source": []
  },
  {
   "cell_type": "code",
   "execution_count": null,
   "id": "0f6f4a57-fada-467f-aa56-3e7159bec6b5",
   "metadata": {},
   "outputs": [],
   "source": [
    "fig,axes = plt.subplots(ncols=2, dpi=300, figsize=(5, 8))\n",
    "ax1,ax2 = axes\n",
    "\n",
    "plot_land_uses(hex_with_uses,\n",
    "               'type',\n",
    "               type_palette,\n",
    "               ax1,)\n",
    "\n",
    "plot_land_uses(hex_with_uses,\n",
    "               'category',\n",
    "               category_palette,\n",
    "               ax2,)\n",
    "\n",
    "plt.savefig(out_folder / 'land_use_map_2018.png',\n",
    "            dpi=300,)\n",
    "plt.show()"
   ]
  },
  {
   "cell_type": "code",
   "execution_count": null,
   "id": "e5659010-603a-44a4-8622-69184a040180",
   "metadata": {},
   "outputs": [],
   "source": [
    "hex_with_uses.to_file(path_to_hexes,\n",
    "                      layer='2018',\n",
    "                      driver='GPKG',)"
   ]
  },
  {
   "cell_type": "markdown",
   "id": "5acd2d97-2150-4cf9-8e56-875a0b1bfb1c",
   "metadata": {},
   "source": [
    "# Land Use Maps for 2020"
   ]
  },
  {
   "cell_type": "markdown",
   "id": "6892f21b-456a-4a2c-bfcf-c4744c7dc385",
   "metadata": {},
   "source": [
    "data dource: provided by Prodabel directly"
   ]
  },
  {
   "cell_type": "code",
   "execution_count": null,
   "id": "e8bf21cd-5b24-4158-acbf-b141a1b03704",
   "metadata": {},
   "outputs": [],
   "source": []
  },
  {
   "cell_type": "code",
   "execution_count": null,
   "id": "c0aec6b6-6671-4b5d-a70d-96b3c493bd77",
   "metadata": {},
   "outputs": [],
   "source": []
  },
  {
   "cell_type": "code",
   "execution_count": null,
   "id": "e69f34e9-8b69-4091-a8dd-58f625426ec2",
   "metadata": {},
   "outputs": [],
   "source": [
    "regroup_with_scrutiny(land_uses)"
   ]
  },
  {
   "cell_type": "code",
   "execution_count": null,
   "id": "ea0b8c45-a783-4068-a40e-82518bf1d5db",
   "metadata": {},
   "outputs": [],
   "source": [
    "regroup_land_uses(land_uses,\n",
    "                  regrouping_2020,)"
   ]
  },
  {
   "cell_type": "code",
   "execution_count": null,
   "id": "43821b2f-c117-4b5a-b7d3-9c00f565537d",
   "metadata": {},
   "outputs": [],
   "source": [
    "hex_with_uses = input_uses_into_hex(land_uses,\n",
    "                                    hexagons,)\n",
    "\n",
    "# It seems that we have here the same issue that 2011\n",
    "# data had. This must be looked into with more care, but\n",
    "# for now, as before, I'll just drop duplicates.\n",
    "hex_with_uses = hex_with_uses.loc[~hex_with_uses\n",
    "                                  .index\n",
    "                                  .duplicated()]\n",
    "\n",
    "reclassify_land_uses(hex_with_uses,\n",
    "                     footprint_2018, # Couldn't find a closer one\n",
    "                     slums,)"
   ]
  },
  {
   "cell_type": "code",
   "execution_count": null,
   "id": "b22529c8-6012-484b-9c28-072788a887ed",
   "metadata": {},
   "outputs": [],
   "source": [
    "number_of_parcels = len(hex_with_uses)\n",
    "hex_with_uses['type'].value_counts() / number_of_parcels * 100"
   ]
  },
  {
   "cell_type": "code",
   "execution_count": null,
   "id": "dc2ede89-ba4b-4044-9050-c83e60142a72",
   "metadata": {},
   "outputs": [],
   "source": [
    "hex_with_uses.category.value_counts() / number_of_parcels * 100"
   ]
  },
  {
   "cell_type": "code",
   "execution_count": null,
   "id": "9486233d-afb7-4284-8963-f32bd29ab9f4",
   "metadata": {},
   "outputs": [],
   "source": [
    "fig,axes = plt.subplots(ncols=2, dpi=300, figsize=(5, 8))\n",
    "ax1,ax2 = axes\n",
    "\n",
    "plot_land_uses(hex_with_uses,\n",
    "               'type',\n",
    "               type_palette,\n",
    "               ax1,)\n",
    "\n",
    "plot_land_uses(hex_with_uses,\n",
    "               'category',\n",
    "               category_palette,\n",
    "               ax2,)\n",
    "\n",
    "plt.savefig(out_folder / 'land_use_map_2020.png',\n",
    "            dpi=300)\n",
    "plt.show()"
   ]
  },
  {
   "cell_type": "code",
   "execution_count": null,
   "id": "63272dc0-fbfe-4439-8eec-81bde3b7cb98",
   "metadata": {},
   "outputs": [],
   "source": [
    "hex_with_uses.to_file(path_to_hexes,\n",
    "                      layer='2020',\n",
    "                      driver='GPKG')"
   ]
  },
  {
   "cell_type": "code",
   "execution_count": null,
   "id": "6270a2b4-df66-4bae-a44a-0f493afa02a5",
   "metadata": {},
   "outputs": [],
   "source": []
  }
 ],
 "metadata": {
  "kernelspec": {
   "display_name": "Python 3 (ipykernel)",
   "language": "python",
   "name": "python3"
  },
  "language_info": {
   "codemirror_mode": {
    "name": "ipython",
    "version": 3
   },
   "file_extension": ".py",
   "mimetype": "text/x-python",
   "name": "python",
   "nbconvert_exporter": "python",
   "pygments_lexer": "ipython3",
   "version": "3.8.10"
  },
  "toc-autonumbering": true
 },
 "nbformat": 4,
 "nbformat_minor": 5
}
