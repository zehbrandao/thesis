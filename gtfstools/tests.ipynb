{
 "cells": [
  {
   "cell_type": "code",
   "execution_count": 21,
   "id": "632c3016-f808-44f6-893c-b63774b1fc92",
   "metadata": {},
   "outputs": [],
   "source": [
    "import datetime\n",
    "\n",
    "import pandas as pd"
   ]
  },
  {
   "cell_type": "code",
   "execution_count": 38,
   "id": "a7567cf0-5913-474c-9bbd-2ed80206b752",
   "metadata": {},
   "outputs": [
    {
     "data": {
      "text/plain": [
       "True"
      ]
     },
     "execution_count": 38,
     "metadata": {},
     "output_type": "execute_result"
    }
   ],
   "source": [
    "df.iloc[:5, :]._is_view"
   ]
  },
  {
   "cell_type": "code",
   "execution_count": 18,
   "id": "9651420d-63bd-4ad5-a3dd-6494e52b2f5f",
   "metadata": {},
   "outputs": [
    {
     "ename": "TypeError",
     "evalue": "integer argument expected, got float",
     "output_type": "error",
     "traceback": [
      "\u001b[1;31m---------------------------------------------------------------------------\u001b[0m",
      "\u001b[1;31mTypeError\u001b[0m                                 Traceback (most recent call last)",
      "\u001b[1;32m~\\AppData\\Local\\Temp/ipykernel_71588/4253776511.py\u001b[0m in \u001b[0;36m<module>\u001b[1;34m\u001b[0m\n\u001b[1;32m----> 1\u001b[1;33m \u001b[0mdatetime\u001b[0m\u001b[1;33m.\u001b[0m\u001b[0mtime\u001b[0m\u001b[1;33m(\u001b[0m\u001b[0mhour\u001b[0m\u001b[1;33m,\u001b[0m\u001b[0mminutes\u001b[0m\u001b[1;33m)\u001b[0m\u001b[1;33m.\u001b[0m\u001b[0mstrftime\u001b[0m\u001b[1;33m(\u001b[0m\u001b[1;34m\"%H:%M\"\u001b[0m\u001b[1;33m)\u001b[0m\u001b[1;33m\u001b[0m\u001b[1;33m\u001b[0m\u001b[0m\n\u001b[0m",
      "\u001b[1;31mTypeError\u001b[0m: integer argument expected, got float"
     ]
    }
   ],
   "source": [
    "datetime.time(hour,minutes).strftime(\"%H:%M\")"
   ]
  },
  {
   "cell_type": "code",
   "execution_count": 19,
   "id": "e26a5444-9882-42dd-b5bb-dfce35024e3d",
   "metadata": {},
   "outputs": [
    {
     "data": {
      "text/plain": [
       "'23:36'"
      ]
     },
     "execution_count": 19,
     "metadata": {},
     "output_type": "execute_result"
    }
   ],
   "source": [
    "cut = 23.6\n",
    "\n",
    "hours = int(cut // 1)\n",
    "minutes = int(cut % 1 * 60)\n",
    "\n",
    "label = (datetime\n",
    "         .time(hours, minutes)\n",
    "         .strftime(\"%H:%M\"))\n",
    "\n",
    "label"
   ]
  },
  {
   "cell_type": "code",
   "execution_count": 39,
   "id": "a7d4dd15-3012-4350-a77a-2bcf5e65ff98",
   "metadata": {},
   "outputs": [],
   "source": [
    "import pathlib"
   ]
  },
  {
   "cell_type": "code",
   "execution_count": 47,
   "id": "268662b5-a96d-45c4-937c-1a045fed2b77",
   "metadata": {},
   "outputs": [],
   "source": [
    "cu = pathlib.Path('cu.zip')"
   ]
  },
  {
   "cell_type": "code",
   "execution_count": 49,
   "id": "77cba57a-5e98-4130-9af2-d4a5b8ce2dc7",
   "metadata": {},
   "outputs": [
    {
     "data": {
      "text/plain": [
       "['cu', 'zip']"
      ]
     },
     "execution_count": 49,
     "metadata": {},
     "output_type": "execute_result"
    }
   ],
   "source": [
    "'cu.zip'.split('.')"
   ]
  },
  {
   "cell_type": "code",
   "execution_count": 50,
   "id": "328fa0b6-0691-409a-b22f-c77cfc27dfb3",
   "metadata": {},
   "outputs": [
    {
     "ename": "NameError",
     "evalue": "name 'feed' is not defined",
     "output_type": "error",
     "traceback": [
      "\u001b[1;31m---------------------------------------------------------------------------\u001b[0m",
      "\u001b[1;31mNameError\u001b[0m                                 Traceback (most recent call last)",
      "\u001b[1;32m~\\AppData\\Local\\Temp/ipykernel_71588/596265985.py\u001b[0m in \u001b[0;36m<module>\u001b[1;34m\u001b[0m\n\u001b[1;32m----> 1\u001b[1;33m \u001b[0mfeed\u001b[0m\u001b[1;33m.\u001b[0m\u001b[0mstops\u001b[0m\u001b[1;33m\u001b[0m\u001b[1;33m\u001b[0m\u001b[0m\n\u001b[0m",
      "\u001b[1;31mNameError\u001b[0m: name 'feed' is not defined"
     ]
    }
   ],
   "source": [
    "feed.stops"
   ]
  },
  {
   "cell_type": "code",
   "execution_count": null,
   "id": "e5c33c75-e2ad-4e6e-b204-aeccdf3db26d",
   "metadata": {},
   "outputs": [],
   "source": []
  }
 ],
 "metadata": {
  "kernelspec": {
   "display_name": "Python 3 (ipykernel)",
   "language": "python",
   "name": "python3"
  },
  "language_info": {
   "codemirror_mode": {
    "name": "ipython",
    "version": 3
   },
   "file_extension": ".py",
   "mimetype": "text/x-python",
   "name": "python",
   "nbconvert_exporter": "python",
   "pygments_lexer": "ipython3",
   "version": "3.8.10"
  }
 },
 "nbformat": 4,
 "nbformat_minor": 5
}
