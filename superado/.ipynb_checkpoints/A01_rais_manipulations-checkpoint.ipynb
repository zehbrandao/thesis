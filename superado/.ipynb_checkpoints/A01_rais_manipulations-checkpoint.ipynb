{
 "cells": [
  {
   "cell_type": "markdown",
   "id": "72c346ba-84ee-4d60-9046-e524197a3242",
   "metadata": {},
   "source": [
    "# Wrangling 2017 Job Data"
   ]
  },
  {
   "cell_type": "markdown",
   "id": "6db17a99-a002-4736-b8fc-0bd95626f180",
   "metadata": {},
   "source": [
    "First, this section gets a point (lon,lat) that represents each zip code location, based on data provided by the municipality of Belo Horizonte. The procedure is as follows: data is sorted by zip_code (CEP) and house number, then the geolocation of each zip code is taken to be the same as middle house number.\n",
    "\n",
    "Then, it uses that data to locate the job opportunities that are present into the _Anual Registry of Social Information_ (**RAIS**). The Registry only accounts for formal jobs, which ends up being an important limitation."
   ]
  },
  {
   "cell_type": "markdown",
   "id": "d8188350-b475-453e-bdc0-9ba5cef00229",
   "metadata": {},
   "source": [
    "zip code data source: http://bhmap.pbh.gov.br\n",
    "\n",
    "job data source: http://pdet.mte.gov.br/microdados-rais-e-caged"
   ]
  },
  {
   "cell_type": "code",
   "execution_count": 24,
   "id": "c330d0f5-6b0b-4f49-adcf-c1078103a55a",
   "metadata": {},
   "outputs": [],
   "source": [
    "import os\n",
    "import pathlib\n",
    "import re\n",
    "import warnings\n",
    "\n",
    "import numpy as np\n",
    "import pandas as pd\n",
    "import geopandas as gpd\n",
    "import matplotlib.pyplot as plt\n",
    "import seaborn as sns\n",
    "\n",
    "from shapely.geometry import mapping, Point, Polygon\n",
    "\n",
    "%matplotlib inline\n",
    "%config InlineBackend.figure_format='retina'"
   ]
  },
  {
   "cell_type": "markdown",
   "id": "50483185-c4bb-4257-840d-475852fffcc1",
   "metadata": {},
   "source": [
    "## Preliminaries"
   ]
  },
  {
   "cell_type": "markdown",
   "id": "a49e8f4e-6126-4e48-bf5c-11e1f3a47c7a",
   "metadata": {},
   "source": [
    "### Parent Folders"
   ]
  },
  {
   "cell_type": "markdown",
   "id": "63579773-4de9-433d-99df-1cfbf43c829f",
   "metadata": {},
   "source": [
    "These should of course be adjusted to reflect the appropriate locations in your disk or wherever"
   ]
  },
  {
   "cell_type": "code",
   "execution_count": 2,
   "id": "1cb91dce-f60f-454e-aa80-6790194e97e4",
   "metadata": {},
   "outputs": [],
   "source": [
    "out_folder = os.environ.get('OUT_FOLDER')\n",
    "out_folder = pathlib.Path(out_folder)\n",
    "out_folder = out_folder / 'A'\n",
    "\n",
    "db_folder = os.environ.get('DB_FOLDER')\n",
    "db_folder = pathlib.Path(db_folder)"
   ]
  },
  {
   "cell_type": "markdown",
   "id": "71e96243-5f8a-4152-a2dc-b4f62c4ed302",
   "metadata": {},
   "source": [
    "### General Purpose"
   ]
  },
  {
   "cell_type": "code",
   "execution_count": 4,
   "id": "19078fbb-66f0-49e6-b5d6-f33d0255ea0e",
   "metadata": {},
   "outputs": [],
   "source": [
    "state = 31 # MG ID as int\n",
    "ibgeID = 3106200 # Belo Horizonte ID as str\n",
    "                 # Either str or int, no matter"
   ]
  },
  {
   "cell_type": "code",
   "execution_count": 3,
   "id": "1a3b86fa-a10b-43e6-b63b-fc9588857d74",
   "metadata": {},
   "outputs": [],
   "source": [
    "def _get_zipped_path_for_gpd(path):\n",
    "    \"\"\"This gets a full path for a zipped shp file and parses it\n",
    "    into a structure that gpd.read_file() understands.\n",
    "    \"\"\"\n",
    "    prefix = r'zip://'\n",
    "    \n",
    "    try:\n",
    "        path = prefix + path.as_posix()\n",
    "    except:\n",
    "        path = pathlib.PureWindowsPath(path)\n",
    "        path = prefix + path.as_posix()\n",
    "        \n",
    "    return path"
   ]
  },
  {
   "cell_type": "markdown",
   "id": "631d0252-159e-4486-8c86-378a5768635f",
   "metadata": {},
   "source": [
    "## RAIS Data"
   ]
  },
  {
   "cell_type": "raw",
   "id": "a06841d5-6bf1-44d9-bcae-50c35cf43c4b",
   "metadata": {},
   "source": []
  },
  {
   "cell_type": "code",
   "execution_count": 33,
   "id": "1a0a06b3-2f6d-49f6-9fee-2a36f4203084",
   "metadata": {},
   "outputs": [],
   "source": [
    "def _fix_ibgeID(ibgeID):\n",
    "    \"\"\"Usually, IBGE's code with 7 digits is utilized,\n",
    "    but RAIS uses the 6-digit version in the files \n",
    "    I've dealt with so far.\n",
    "    \"\"\"\n",
    "    str_ibgeID = str(ibgeID) \n",
    "    if len(str_ibgeID) > 6:\n",
    "        str_ibgeID = str_ibgeID[:-1]\n",
    "    \n",
    "    \n",
    "    return int(str_ibgeID)\n",
    "\n",
    "\n",
    "def get_jobs(year, ibgeID, sep=';', encoding='latin-1'):\n",
    "    \"\"\"Gets slice of job opportunities data from\n",
    "    the municipalities of interest. Also performs\n",
    "    a preliminary data treatment.\n",
    "    \n",
    "    Parameters\n",
    "    ----------\n",
    "    path : str or Pathlib object\n",
    "    ibgeID : int\n",
    "        IBGE Code for the municipality of interest\n",
    "        (without the verifying digit, i.e. a 6-digit code).\n",
    "    sep : str\n",
    "        Delimiter to use\n",
    "    encoding : str\n",
    "    \n",
    "    Returns\n",
    "    -------\n",
    "    jobs : DataFrame\n",
    "    \"\"\"\n",
    "    path_to_jobs = (db_folder\n",
    "                    / 'rais'\n",
    "                    / f'ESTB{year}.zip')\n",
    "    \n",
    "    col_names = {\n",
    "        'Qtd Vínculos Ativos': 'jobs',\n",
    "        'CNAE 2.0 Subclasse': 'cnae',\n",
    "        'Município': 'ibgeID',\n",
    "            }\n",
    "    dtypes = ['int64', str, 'int64']\n",
    "    type_dict = {k: d for k,d in zip(col_names.keys(), dtypes)}\n",
    "    \n",
    "    jobs = pd.read_csv(path_to_jobs,\n",
    "                       sep=sep,\n",
    "                       encoding=encoding,\n",
    "                       usecols=col_names.keys(),\n",
    "                       dtype=type_dict)\n",
    "    jobs.rename(columns=col_names, inplace=True)\n",
    "    \n",
    "    ibgeID = _fix_ibgeID(ibgeID)\n",
    "    # TO DO: allow list of ibgeID's\n",
    "    jobs = jobs.loc[jobs.ibgeID==ibgeID]\n",
    "    \n",
    "    \n",
    "    return jobs.drop(columns='ibgeID')\n"
   ]
  },
  {
   "cell_type": "markdown",
   "id": "59c339c5-6c72-462d-9597-6da8d97e9d0d",
   "metadata": {},
   "source": [
    "Next, jobs will be selected based on their class in (IBGE's) _National Classification of Economic Activity_ (CNAE 2.0) — refer to < https://bit.ly/cnae_2-0 > for more information and documentation.\n",
    "\n",
    "The main rationale is that only jobs that are more closely related to urban labor or consumer market dynamics are modeled, as those are mostly determined from within the city. Contrarily, the industrial sector is mostly located in order to comply with larger economic circuits (see, e.g., Flavio Villaca or Milton Santos) and with instances of power far beyond the scope of the city. There are also job classes that follow a rationale that is not economic – or should not be –, such as the distribution of some public infrastructure and services – e.g., schools or high-complexity health care. \n",
    "\n",
    "With that in mind, decisions have been made ad hoc, during a quick look throughout CNAE 2.0’s class structure. In that context, it is possible that imprecisions and inconsistencies arise, specially because class definitions may be somewhat vague on occasion, thus making it harder to frame clear distinctions amongst jobs. A more thorough analysis would be one that goes through subclasses, which amount to 1301. But it does not seem at all necessary to delve into such level of detail for the time being.\n",
    "\n",
    "Once such general considerations are established, some more specific commentaries are in order. CNAE’s classes are grouped under umbrella sections and the following comments are organized accordingly:\n",
    "1.\t**A** —_Agriculture, Livestock, Forest Produces, Fishing and Aquiculture_: these are removed from job totals since that should be more in line with the literature review.\n",
    "\n",
    "2.\t**B** — _Extractive Industry_: these are removed as well, also because of the theoretical framework.\n",
    "\n",
    "3.\t**C** — _Converting industry_: those are mostly removed, the exception being some classes which _might_ also be associated with craftsmanship and manual labor developed in small facilities (even households) — see CNAE 2.0 documentation (pp. 160-161).\n",
    "\n",
    "4.\t**D** — _Electricity and Gas_: all have been excluded.\n",
    "\n",
    "5.\t**E** — Water, Sewage, Waste Management and Decontamination_: all classes have been excluded.\n",
    "\n",
    "6.\t**F** — _Construction Industry_: I retained only classes associated with administrative functions and small construction works. Large building and infrastructural works have been left out. I assumed the latter are more closely associated with construction sites, which I believe do not follow quite the same location dynamics as the uses I’m trying to model.\n",
    "\n",
    "7.\t**G** —_Commerce and Vehicle and Motorcycle Repair Shops_: all have been retained for analysis, although it is arguable as to whether is valid to consider wholesale as obeying the same locational mechanisms as the other classes — particularly for instances of wholesale of specialized products.\n",
    "\n",
    "8.\t**H** —_Transport, Storage and Postal Services_: I assumed employment to be mostly tied to administrative offices, which most likely relocate to remain close to other complementary services — law, financial etc. As for the matter of freight, cargo and the like, there may also be administrative instances, but there might personnel working I warehouses and similar facilities. Tha is, on the one hand, such places could obey a rationale that aims at optimizing logistic efficiency; but on the other, locational efficiency can mean close proximity to the city's reatil clusters, which imply co-location. Some of these might be strong assumptions, but in the absence of more detailed information, all classes in the transport section have been preliminarily maintained.\n",
    "\n",
    "All classes contained in the following sections have been retained, as the ties between their locational rationale and the need for agglomeration economies seem self-evident:\n",
    "    \n",
    "9.\t**I** — _Food and Lodgings_\n",
    "10.\t**J** — _Information and Communication Services_\n",
    "11.\t**K** — _Finance, Insurance, and Related Services_\n",
    "12.\t**L** — _Real Estate Management_\n",
    "13.\t**M** — _Professional, Scientific, and Technical Services_\n",
    "14.\t**N** — _Management and Complementary Services_\n",
    "\n",
    "The following again need commentary:\n",
    "\n",
    "15.\t**O** —_Public Administration, Defense and Social Security_: the public administration tends to register all of its employees at the head office, leading to situations such as all teachers in Minas Gerais working at the headquarters of the state department of education. Thus, job data in this section is highly unreliable. So, following Nadalin (2018), I chose to drop all classes in this section. On top of that, these consist of activities that are prerogative of the State, thus mking them non market-related.\n",
    "\n",
    "16.\t**P** —_Education_: activities concerning regular of special education will be left out, as these are assumed to locate in a way that maximizes populational coverage (see, e.g., Paiva Neto et al., 2017). I kept only classes labeled as \"other teaching activities\", which include things like sports, dance, language and music classes.\n",
    "\n",
    "17.\t**Q** —_Health_: only job classes pertaining to private physicians, clinics, laboratory services and similar activities have been maintained. Literature review suggests these tend to cluster in urban centralities and are indeed used to compose some centrality metrics. Higher complexity medical services, hospitals, SUS management and research facilities are not included.\n",
    "\n",
    "18.\t**R** —_Arts, Culture, Sports, and Recreation_: all classes under this section are maintained except for (a) Cultural and Environmental Heritage, and (b) clubs and theme parks.\n",
    "\n",
    "19.\t**S** —_Other activities and Services_: Employers's associations, Unions and other associations are not included. Service jobs, on the other hand, are retained.\n",
    "\n",
    "20.\t**T** —_Domestics Services_: these are made up of housemaids and are not assumed to behave according to mechanisms of their own. Hence, those jobs are not considered in the model.\n",
    "\n",
    "21.\t**U** —_International and Foreign Institutions_: such international bodies — e.g., UNO, IMF, embassies etc. — are not assumed to locate according to strict market dynamics. Hence, they are not considered as well.\n",
    "\n"
   ]
  },
  {
   "cell_type": "markdown",
   "id": "a38ecc9c-8a16-4e68-ab76-d15ae6bcec2e",
   "metadata": {},
   "source": [
    "\n",
    "With that in mind, the appropriate CNAE 2.0's job class ID's have been selected and gathered in a text file.\n",
    "Class IDs have the following structure: dd.dd-d, where d stands for a decimal digit. \n",
    "\n",
    "There are some instances, however, that are simply represented with dd. That corresponds to something CNAE calls a a _division_, and each of those divisions contains a number of classes that are all included for analysis.\n",
    "\n",
    "Mind that in RAIS, IDs are simply represented as ddddd."
   ]
  },
  {
   "cell_type": "code",
   "execution_count": 35,
   "id": "1cfaf5a0-0fb4-410f-bfbf-a6d55813a25b",
   "metadata": {},
   "outputs": [],
   "source": [
    "def _parse_cnae_list():\n",
    "    \"\"\"This reads a text file containing either class codes\n",
    "    in the format dd.dd-d or division ids in the format dd.\n",
    "    Text is then parsed to a pd.Series.\n",
    "    \"\"\"\n",
    "    path = (db_folder\n",
    "            / 'cnae_jobs_to_use.txt')\n",
    "    ids = pd.read_csv(path,\n",
    "                      header=None,)\n",
    "    # pd.read_csv returns a single column DataFrame,\n",
    "    # and I need a Series for the solution I thought of\n",
    "    ids = ids.iloc[:,0]\n",
    "    \n",
    "    \n",
    "    return ids\n",
    "\n",
    "\n",
    "def _get_slicing_codes():\n",
    "    \"\"\"Takes pd.Series containing either cnae classes or divisions\n",
    "    and parses them into a format that can more easily slice the\n",
    "    jobs DataFrame.\n",
    "    \"\"\"\n",
    "    ids_to_retain = _parse_cnae_list()\n",
    "    \n",
    "    # This takes a column containing dd.dd-d and expands it\n",
    "    # into three columns as per the following scheme:\n",
    "    # {col1: dd, col2: dd, col3: d}.\n",
    "    #\n",
    "    # If the column contains a division,\n",
    "    # it will be expanded thus: \n",
    "    # {col1: dd, col2: nan, col3: nan}\n",
    "    regex = r'(\\d\\d)\\.?(\\d\\d)?\\-?(\\d)?'\n",
    "    ids_to_retain = ids_to_retain.str.extract(regex)\n",
    "    \n",
    "    # This gets class ID parts extracted above and combines them\n",
    "    # into a single string dddddd. \n",
    "    classes_to_keep = [a + b + c\n",
    "                       for a,b,c \n",
    "                       in ids_to_retain.itertuples(index=False)\n",
    "                       if pd.notnull(b)]\n",
    "\n",
    "    # This creates a list of division IDs\n",
    "    divisions_to_keep = [a\n",
    "                         for a,b,c \n",
    "                         in ids_to_retain.itertuples(index=False)\n",
    "                         if pd.isnull(b)]\n",
    "    \n",
    "    \n",
    "    return divisions_to_keep, classes_to_keep\n",
    "\n",
    "\n",
    "def slice_with_cnae(jobs):\n",
    "    # CNAE classes have been parsed as int\n",
    "    #jobs = jobs.astype({'cnae': str})\n",
    "    \n",
    "    divisions_to_keep, classes_to_keep = _get_slicing_codes()\n",
    "    \n",
    "    condition_a = jobs['cnae'].isin(classes_to_keep)\n",
    "\n",
    "    # This takes column with class IDs and extracts the two\n",
    "    # heading digits, which refer to the cnae division. That is,\n",
    "    # from {col: ddddd} we get {col1: dd, col2: ddd}\n",
    "    regex = r'(\\d\\d)(\\d{3})'\n",
    "    partitioned_IDs = jobs['cnae'].str.extract(regex)\n",
    "    job_divisions = partitioned_IDs.iloc[:,0]\n",
    "\n",
    "    condition_b = job_divisions.isin(divisions_to_keep)\n",
    "\n",
    "    mask = condition_a | condition_b\n",
    "    job_slice = jobs.loc[mask]\n",
    "    \n",
    "    \n",
    "    return job_slice['jobs']\n"
   ]
  },
  {
   "cell_type": "markdown",
   "id": "472db1d5-e2ca-4969-bc58-5ae6d445ee9b",
   "metadata": {},
   "source": [
    "### Time Series"
   ]
  },
  {
   "cell_type": "markdown",
   "id": "f2be07a2-1f4b-4de3-b1c5-1e438de8324c",
   "metadata": {},
   "source": [
    "The time series goes from 2011 (first land use map) to 2020. The latter year is not available in the online RAIS database. Nevertheless, the pandemic most likely made 2020 a most atypical year, which means that even if that data was available, it would most likelybe better to extrapolate the tendency from the data."
   ]
  },
  {
   "cell_type": "code",
   "execution_count": 38,
   "id": "3021435f-d0e6-46da-ac7e-3e1889c52667",
   "metadata": {},
   "outputs": [],
   "source": [
    "def _get_jobs_time_series(ibgeID, years):\n",
    "    totals = {}\n",
    "    for year in years:\n",
    "        jobs = get_jobs(year, ibgeID)\n",
    "        slice_ = slice_with_cnae(jobs)\n",
    "        \n",
    "        totals[year] = slice_.sum()\n",
    "    \n",
    "    \n",
    "    return pd.DataFrame.from_dict(totals,\n",
    "                                  orient='index',\n",
    "                                  columns=['job_totals'],)\n",
    "\n",
    "\n",
    "def plot_jobs_time_series(time_series):\n",
    "    \n",
    "    fig,ax = plt.subplots()\n",
    "    \n",
    "    x = time_series.index\n",
    "    y = time_series.to_numpy()\n",
    "    sns.lineplot(x=x, y=y, ax=ax)\n",
    "    "
   ]
  },
  {
   "cell_type": "code",
   "execution_count": 39,
   "id": "2d6e8a95-3a98-4149-b70f-f81236f0ae3e",
   "metadata": {},
   "outputs": [],
   "source": [
    "years = list(\n",
    "    range(2011, 2020, 1)\n",
    ")\n",
    "time_series = _get_jobs_time_series(ibgeID, years)"
   ]
  },
  {
   "cell_type": "code",
   "execution_count": 44,
   "id": "114d6529-b309-4fdf-b798-12235f25d211",
   "metadata": {},
   "outputs": [
    {
     "data": {
      "text/plain": [
       "<AxesSubplot:>"
      ]
     },
     "execution_count": 44,
     "metadata": {},
     "output_type": "execute_result"
    },
    {
     "data": {
      "image/png": "[encoded data removed]",
      "text/plain": [
       "<Figure size 432x288 with 1 Axes>"
      ]
     },
     "metadata": {
      "image/png": {
       "height": 248,
       "width": 394
      },
      "needs_background": "light"
     },
     "output_type": "display_data"
    }
   ],
   "source": [
    "fig,ax = plt.subplots()\n",
    "    \n",
    "x = time_series.index\n",
    "y = time_series.to_numpy().flatten()\n",
    "sns.lineplot(x=x, y=y, ax=ax)"
   ]
  },
  {
   "cell_type": "markdown",
   "id": "f27adfb0-8f69-427d-b9ed-41704225c3ef",
   "metadata": {},
   "source": [
    "## Inputting Jobs to Hexagons"
   ]
  },
  {
   "cell_type": "markdown",
   "id": "32beb677-af51-4171-8932-0e07bf67bee6",
   "metadata": {},
   "source": [
    "The cells bellow should notbe necessary anymore. I'll keep them here for precaution's sake."
   ]
  },
  {
   "cell_type": "markdown",
   "id": "c1fc28e1-8bc9-4824-b8f8-1f0289dba716",
   "metadata": {},
   "source": [
    "### Retrieving Hexagons"
   ]
  },
  {
   "cell_type": "code",
   "execution_count": null,
   "id": "aefa4c05-fab4-4aba-94d5-b2bc7d2cf20b",
   "metadata": {},
   "outputs": [],
   "source": [
    "re_path = r'(BH_)(hex_\\d{1,2})(_with_land_uses\\.gpkg)'\n",
    "\n",
    "for file in out_folder.iterdir():\n",
    "    match = re.search(re_path, file.name)\n",
    "    # If there's no search result, match is None\n",
    "    if match:\n",
    "        path_to_hexes = file\n",
    "        index_name = match.group(2) # .group() is one-indexed\n",
    "        \n",
    "        \n",
    "def get_hexagons_with_uses(year, path, idx_col):\n",
    "    if type(year) is int:\n",
    "        year = str(year)\n",
    "    \n",
    "    # The following is just because Fiona is emmiting an annoying\n",
    "    # warning message that is most likely useless (see link for\n",
    "    # this issue below)\n",
    "    with warnings.catch_warnings():\n",
    "        warnings.filterwarnings('ignore',\n",
    "                                'Sequential read of iterator was interrupted')\n",
    "        hex_ = gpd.read_file(path, layer=year)\n",
    "    \n",
    "    hex_.rename(columns={'index': idx_col},\n",
    "                inplace=True)\n",
    "    \n",
    "    \n",
    "    \n",
    "    return hex_.set_index(idx_col)\n",
    "                   \n",
    "hex_ = gpd.read_file(path_to_hexes, layer='2017')\n",
    "hex_.rename(columns={'index': index_name}, inplace=True)\n",
    "hex_.set_index(index_name, inplace=True)"
   ]
  },
  {
   "cell_type": "markdown",
   "id": "98e63438-a6fa-4d18-822c-725738afbeef",
   "metadata": {},
   "source": [
    "https://github.com/Toblerity/Fiona/issues/986"
   ]
  },
  {
   "cell_type": "code",
   "execution_count": null,
   "id": "f329d4d2-f451-4ab8-a955-e264992f9ba0",
   "metadata": {},
   "outputs": [],
   "source": [
    "def tidy_up_job_data(data):\n",
    "    to_drop = [\n",
    "        'CNAE 2.0 Classe', 'CNAE 95 Classe', \n",
    "        'Qtd Vínculos CLT', 'Qtd Vínculos Estatutários', \n",
    "        'Ind Atividade Ano','Ind CEI Vinculado',\n",
    "        'Ind Estab Participa PAT', 'Ind Rais Negativa',\n",
    "        'Ind Simples', 'Município', 'CNAE 2.0 Subclasse',\n",
    "        'Tamanho Estabelecimento', 'Tipo Estab',\n",
    "        'Tipo Estab.1', 'UF',\n",
    "            ]\n",
    "    df = data.drop(columns=to_drop)\n",
    "    \n",
    "    new_names = {\n",
    "        'Qtd Vínculos Ativos': 'jobs',\n",
    "        'CNAE 2.0 Classe': 'cnae',\n",
    "        'CEP Estab': 'zip_code',\n",
    "            }\n",
    "    df.rename(columns=new_names, inplace=True)\n",
    "    \n",
    "    \n",
    "    return df\n",
    "\n",
    "\n",
    "job_slice = tidy_up_job_data(job_slice)"
   ]
  },
  {
   "cell_type": "code",
   "execution_count": null,
   "id": "de3ec209-5907-47ba-8b40-42d5a6c555f9",
   "metadata": {},
   "outputs": [],
   "source": [
    "job_slice = zip_code_locations.merge(job_slice,\n",
    "                                     how='inner',)\n",
    "job_slice.drop(columns='zip_code', inplace=True)\n",
    "job_slice.head(2)"
   ]
  },
  {
   "cell_type": "markdown",
   "id": "848c30c5-e083-49f0-a858-50ae395f59c3",
   "metadata": {},
   "source": [
    "### Addresses and Zip Codes"
   ]
  },
  {
   "cell_type": "code",
   "execution_count": null,
   "id": "60803e04-1d2d-4137-bc75-6e1c4b2da5c2",
   "metadata": {},
   "outputs": [],
   "source": [
    "def _drop_invalid_addresses(addresses):\n",
    "    \"\"\"Drops addresses in which zip code\n",
    "    or house number are NaN.\n",
    "    \"\"\"\n",
    "    mask = (addresses.CEP.notnull()) & (addresses.NUMERO_IMO.notnull())\n",
    "    print(\n",
    "        f'There are {np.sum(~mask)} invalid records: '\n",
    "        f'{np.sum(~mask) / np.sum(mask) * 100 :.2f} % of instances'\n",
    "    )\n",
    "    \n",
    "    \n",
    "    return addresses.loc[mask, :]\n",
    "    \n",
    "\n",
    "def get_addresses(path, is_zipped=True):\n",
    "    \"\"\"This gets the address data while discarding\n",
    "    invalid (NaN) instances.\n",
    "    \"\"\"\n",
    "    if is_zipped:\n",
    "        path = _get_zipped_path_for_gpd(path)\n",
    "\n",
    "    addresses = gpd.read_file(path)\n",
    "    addresses = _drop_invalid_addresses(addresses)\n",
    "    \n",
    "    \n",
    "    return addresses\n",
    "\n",
    "path_to_addresses = db_folder / 'beaga/ENDERECOS.zip'\n",
    "addresses = get_addresses(path_to_addresses)\n",
    "addresses.head(2)"
   ]
  },
  {
   "cell_type": "code",
   "execution_count": null,
   "id": "b071b4e7-35a8-4145-be43-75ac9014f0f9",
   "metadata": {},
   "outputs": [],
   "source": [
    "print(addresses.crs)"
   ]
  },
  {
   "cell_type": "code",
   "execution_count": null,
   "id": "26a9cc54-24be-4289-ae80-b843232cbbda",
   "metadata": {},
   "outputs": [],
   "source": [
    "def _turn_floats_to_str(df, cols):\n",
    "    \"\"\"zip codes and house numbers are read in as floats,\n",
    "    this functions turns them to strings, which I prefer\n",
    "    to handling numbers that act as ids.\n",
    "    \n",
    "    TO DO: consider if using regex or\n",
    "    some other method could be safer.\n",
    "    \n",
    "    Parameters\n",
    "    ----------\n",
    "    df : DataFrame\n",
    "    cols : array-like\n",
    "        Name of columns to turn to strings\n",
    "        \n",
    "    Returns\n",
    "    -------\n",
    "    df : DataFrame\n",
    "    \"\"\"\n",
    "    for col in cols:\n",
    "        df = df.astype({col: int})\n",
    "        df = df.astype({col: str})\n",
    "        \n",
    "        \n",
    "    return df\n",
    "    \n",
    "\n",
    "def _prune_weird_zip_codes(df, zip_code_col):\n",
    "    \"\"\"This removes nonsensical zip_codes, such as some composed\n",
    "    of way less than eight numbers. Mind that zip codes are an 8\n",
    "    digit code, BUT some places (i.e. Greater Sao Paulo) have cases\n",
    "    that start at 0, which might lead to 7 digit instances, in practice.\n",
    "    \"\"\"\n",
    "    df['zip_code_length'] = df[zip_code_col].str.len()\n",
    "    mask = (df['zip_code_length']>=7)\n",
    "    view = df.loc[mask, :]\n",
    "    \n",
    "    deleted = len(df) - len(view)\n",
    "    deleted_percentage = deleted / len(df) * 100\n",
    "    print(\n",
    "        f'{deleted} records have been deleted: {deleted_percentage:.2f}%'\n",
    "    )\n",
    "    \n",
    "    \n",
    "    return view.drop(columns=['zip_code_length'])"
   ]
  },
  {
   "cell_type": "code",
   "execution_count": null,
   "id": "2f1e0ea1-c4dc-4130-9547-98a6561554e3",
   "metadata": {},
   "outputs": [],
   "source": [
    "def get_zip_code_place(addresses):\n",
    "    \"\"\"Gets the geolocation of a zip code by assuming it is the\n",
    "    same as the building that lies by the middle of the street section.\n",
    "    \"\"\"\n",
    "    addresses.sort_values(['CEP', 'NUMERO_IMO'], inplace=True)\n",
    "    addresses = _turn_floats_to_str(addresses, ['CEP', 'NUMERO_IMO'])\n",
    "    addresses = _prune_weird_zip_codes(addresses, 'CEP')\n",
    "\n",
    "    locations = {}\n",
    "    for zip_code,group in addresses.groupby('CEP'):\n",
    "        # MEMENTO: the sorting above makes the iloc operation below to act\n",
    "        # as a median calculation, but in a way that ensures the house \n",
    "        # number exists in the list. That is, if the group's length is even,\n",
    "        # the median would be the average of the two middle values, resulting\n",
    "        # in a house number that does not exist.\n",
    "        middle_house_number = group.NUMERO_IMO.iloc[len(group)//2]\n",
    "        mask = (group.CEP==zip_code) & (group.NUMERO_IMO==middle_house_number)\n",
    "        \n",
    "        # .loc returns series when you do boolean indexing because \n",
    "        # chances are that you have multiple match cases. \n",
    "        loc = group.loc[mask,'geometry']\n",
    "        locations[zip_code] = loc.to_numpy()[0]\n",
    "    \n",
    "    locations = pd.DataFrame.from_dict(locations,\n",
    "                                       orient='index',\n",
    "                                       columns=['geometry'])\n",
    "    locations.index.name = 'zip_code'\n",
    "    locations = gpd.GeoDataFrame(locations,\n",
    "                                 crs=F'EPSG:{addresses.crs.to_epsg()}',\n",
    "                                 geometry='geometry',)\n",
    "    \n",
    "    \n",
    "    return locations.reset_index()\n",
    "\n",
    "\n",
    "zip_code_locations = get_zip_code_place(addresses)"
   ]
  },
  {
   "cell_type": "code",
   "execution_count": null,
   "id": "2d324b3e-ccb9-4d08-9376-afb040a8717f",
   "metadata": {},
   "outputs": [],
   "source": [
    "def _sjoin_jobs(hex_, job_slice):\n",
    "    left_gdf = hex_.reindex(columns=['geometry'])\n",
    "    right_gdf = job_slice.reindex(columns=['jobs', 'geometry'])\n",
    "    \n",
    "    joined_jobs = gpd.sjoin(left_gdf,\n",
    "                            right_gdf,\n",
    "                            how='left',\n",
    "                            op='contains',)\n",
    "    \n",
    "    \n",
    "    return joined_jobs.drop(columns=['index_right', 'geometry'])\n",
    "\n",
    "\n",
    "def _totalize_jobs(joined_jobs):\n",
    "    idx_name = joined_jobs.index.name\n",
    "    gdf = joined_jobs.reset_index()\n",
    "    \n",
    "    \n",
    "    return gdf.groupby(idx_name).sum()\n",
    "\n",
    "\n",
    "def input_jobs_into_hexes(hex_, job_slice):\n",
    "    \"\"\"Takes jobs selected above and performs a spatial join\n",
    "    with the base haxagonal grid. \n",
    "    \n",
    "    # TO DO: think of allowing for a spatial join based on\n",
    "    ibge subsectors of interest.\n",
    "    \"\"\"\n",
    "    joined_jobs = _sjoin_jobs(hex_, job_slice)\n",
    "    jobs_by_hex = _totalize_jobs(joined_jobs)\n",
    "    \n",
    "    \n",
    "    return hex_.merge(jobs_by_hex,\n",
    "                      how='left',\n",
    "                      left_index=True,\n",
    "                      right_index=True,)\n",
    "    "
   ]
  },
  {
   "cell_type": "code",
   "execution_count": null,
   "id": "225d5705-8bee-496f-8263-5cbccc2a68a1",
   "metadata": {},
   "outputs": [],
   "source": [
    "hexagons_with_jobs = input_jobs_into_hexes(hex_, job_slice)\n",
    "\n",
    "inputted = hexagons_with_jobs.jobs.sum()\n",
    "total = job_slice.jobs.sum()\n",
    "percentage = inputted / total * 100\n",
    "\n",
    "print(\n",
    "    f'{inputted:,.0f} jobs have been inputted',\n",
    "    f'from a total of {total:,.0f}: that amounts to {percentage:.1f} %'\n",
    "      )"
   ]
  },
  {
   "cell_type": "markdown",
   "id": "b0d3a95b-bbb3-4ff7-a5af-1bd36544557b",
   "metadata": {},
   "source": [
    "That small percentage of jobs has been \"lost\" because they were located over land uses that are not deemed active — refer to script A00. That conclusion has been reached by means of a visual inspection of the land uses layer, of the hexagonal grid, and of the zip code locations. That visual analysis was made with the aid of QGIS, as plotting it here, using folium, tended to crash my web browser. "
   ]
  },
  {
   "cell_type": "code",
   "execution_count": null,
   "id": "eff8f787-88e3-4d04-87fa-7c8439d8e034",
   "metadata": {},
   "outputs": [],
   "source": [
    "hexagons_with_jobs.to_file(path_to_hexes, layer='2017', driver='GPKG')"
   ]
  },
  {
   "cell_type": "code",
   "execution_count": null,
   "id": "054c0d82-89e8-449e-bc3e-8175455e2130",
   "metadata": {},
   "outputs": [],
   "source": []
  }
 ],
 "metadata": {
  "kernelspec": {
   "display_name": "Python 3 (ipykernel)",
   "language": "python",
   "name": "python3"
  },
  "language_info": {
   "codemirror_mode": {
    "name": "ipython",
    "version": 3
   },
   "file_extension": ".py",
   "mimetype": "text/x-python",
   "name": "python",
   "nbconvert_exporter": "python",
   "pygments_lexer": "ipython3",
   "version": "3.8.10"
  }
 },
 "nbformat": 4,
 "nbformat_minor": 5
}
